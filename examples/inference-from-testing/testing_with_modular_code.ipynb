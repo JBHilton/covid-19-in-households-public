{
 "cells": [
  {
   "cell_type": "code",
   "execution_count": 1,
   "id": "88ebcb20-e9e0-4e7a-96a7-8d5a3bdf6ffa",
   "metadata": {
    "tags": []
   },
   "outputs": [],
   "source": [
    "import numpy as np\n",
    "import matplotlib.pyplot as plt\n",
    "import scipy as sp\n",
    "from scipy.integrate import solve_ivp\n",
    "from tqdm import tqdm\n",
    "from scipy.optimize import minimize\n",
    "import scipy as sp\n",
    "from scipy.integrate import solve_ivp\n",
    "import numdifftools as nd\n",
    "\n",
    "from numpy.linalg import eig"
   ]
  },
  {
   "cell_type": "code",
   "execution_count": 2,
   "id": "5df21d92-b7b1-46f1-a7d5-adccde85073d",
   "metadata": {},
   "outputs": [
    {
     "data": {
      "text/plain": [
       "'/Users/user/Documents/GitHub/covid-19-in-households-public'"
      ]
     },
     "execution_count": 2,
     "metadata": {},
     "output_type": "execute_result"
    }
   ],
   "source": [
    "import os\n",
    "if 'inference-from-testing' in os.getcwd():\n",
    "    os.chdir(\"../..\")\n",
    "os.getcwd()"
   ]
  },
  {
   "cell_type": "code",
   "execution_count": 3,
   "id": "15213e65-0a64-4a17-8edf-0f71dd631404",
   "metadata": {},
   "outputs": [],
   "source": [
    "from copy import deepcopy\n",
    "from numpy import array, log\n",
    "from os import mkdir\n",
    "from os.path import isdir, isfile\n",
    "from pickle import load, dump\n",
    "from pandas import read_csv\n",
    "from scipy.integrate import solve_ivp\n",
    "from model.preprocessing import ( estimate_beta_ext, estimate_growth_rate,\n",
    "        SEIRInput, HouseholdPopulation, make_initial_condition_by_eigenvector)\n",
    "from model.specs import TWO_AGE_SEIR_SPEC_FOR_FITTING, TWO_AGE_UK_SPEC\n",
    "from model.common import SEIRRateEquations\n",
    "from model.imports import NoImportModel"
   ]
  },
  {
   "cell_type": "code",
   "execution_count": 20,
   "id": "2edb3bb7-6613-4a5f-80ba-770816a13be6",
   "metadata": {},
   "outputs": [
    {
     "name": "stdout",
     "output_type": "stream",
     "text": [
      "Estimated beta_int= 0.020186608268488816 , estimated density= 0.5452972070936591\n",
      "Estimated beta is [3.74338774]\n"
     ]
    },
    {
     "name": "stderr",
     "output_type": "stream",
     "text": [
      "/Users/user/Documents/GitHub/covid-19-in-households-public/model/preprocessing.py:1189: SparseEfficiencyWarning: spilu converted its input to CSC format\n",
      "  sA_iLU = spilu(discount_matrix)\n"
     ]
    },
    {
     "name": "stdout",
     "output_type": "stream",
     "text": [
      "converged in 12 iterations.\n",
      "Estimated growth rate is 0.23104906019420188 .\n",
      "Estimated doubling time is 2.9999999999019242 .\n",
      "[0.99 0.01 0.   0.  ]\n"
     ]
    }
   ],
   "source": [
    "DOUBLING_TIME = 3\n",
    "growth_rate = log(2) / DOUBLING_TIME\n",
    "\n",
    "# List of observed household compositions\n",
    "composition_list = read_csv(\n",
    "    'inputs/eng_and_wales_adult_child_composition_list.csv',\n",
    "    header=0).to_numpy()\n",
    "# Proportion of households which are in each composition\n",
    "comp_dist = read_csv(\n",
    "    'inputs/eng_and_wales_adult_child_composition_dist.csv',\n",
    "    header=0).to_numpy().squeeze()\n",
    "\n",
    "if isdir('outputs') is False:\n",
    "    mkdir('outputs')\n",
    "if isdir('outputs/uk') is False:\n",
    "    mkdir('outputs/uk')\n",
    "\n",
    "SPEC = {**TWO_AGE_SEIR_SPEC_FOR_FITTING, **TWO_AGE_UK_SPEC}\n",
    "model_input_to_fit = SEIRInput(SPEC, composition_list, comp_dist)\n",
    "household_population_to_fit = HouseholdPopulation(\n",
    "    composition_list, comp_dist, model_input_to_fit)\n",
    "rhs_to_fit = SEIRRateEquations(model_input_to_fit, household_population_to_fit, NoImportModel(4,2))\n",
    "beta_ext = estimate_beta_ext(household_population_to_fit, rhs_to_fit, growth_rate)\n",
    "model_input = deepcopy(model_input_to_fit)\n",
    "model_input.k_ext *= beta_ext\n",
    "print('Estimated beta is',beta_ext)\n",
    "with open('outputs/uk/fitted_SEIR_input.pkl', 'wb') as f:\n",
    "    dump(model_input, f)\n",
    "\n",
    "\n",
    "# With the parameters chosen, we calculate Q_int:\n",
    "household_population = HouseholdPopulation(\n",
    "    composition_list, comp_dist, model_input)\n",
    "\n",
    "rhs = SEIRRateEquations(model_input, household_population, NoImportModel(4,2))\n",
    "\n",
    "r_est = estimate_growth_rate(household_population, rhs, [0.001, 5], 1e-9)\n",
    "\n",
    "\n",
    "print('Estimated growth rate is',r_est,'.')\n",
    "print('Estimated doubling time is',log(2) / r_est,'.')\n",
    "\n",
    "H0 = make_initial_condition_by_eigenvector(growth_rate, model_input, household_population, rhs, 1e-2, 0.0,False,3)\n",
    "S0 = H0.T.dot(household_population.states[:, ::4])\n",
    "E0 = H0.T.dot(household_population.states[:, 1::4])\n",
    "I0 = H0.T.dot(household_population.states[:, 2::4])\n",
    "R0 = H0.T.dot(household_population.states[:, 3::4])\n",
    "start_state = (1/model_input.ave_hh_size) * array([S0.sum(),\n",
    "                                                   E0.sum(),\n",
    "                                                   I0.sum(),\n",
    "                                                   R0.sum()])\n",
    "tspan = (0.0, 365)\n",
    "print(start_state)"
   ]
  },
  {
   "cell_type": "code",
   "execution_count": 25,
   "id": "d0c0833e-a254-4715-be6a-b0fe88f4c5ea",
   "metadata": {
    "tags": []
   },
   "outputs": [],
   "source": [
    "# Now set up evaluation time points and solve system:\n",
    "\n",
    "# New time at which we evaluate the infection\n",
    "trange = np.arange(0,7*12,7) # Evaluate for 12 weeks\n",
    "\n",
    "# Solve:\n",
    "solution = solve_ivp(rhs, tspan, H0, first_step=0.001, atol=1e-16, t_eval=trange)\n",
    "\n",
    "time = solution.t\n",
    "H = solution.y\n",
    "S = H.T.dot(household_population.states[:, ::4])\n",
    "E = H.T.dot(household_population.states[:, 1::4])\n",
    "I = H.T.dot(household_population.states[:, 2::4])\n",
    "R = H.T.dot(household_population.states[:, 3::4])"
   ]
  },
  {
   "cell_type": "code",
   "execution_count": 26,
   "id": "775bc0f6-1125-40b3-b9a7-6717bb6d4c7d",
   "metadata": {},
   "outputs": [
    {
     "name": "stderr",
     "output_type": "stream",
     "text": [
      "/var/folders/mn/cjzm0gtn7_z4bsq7d44zp_y00000gp/T/ipykernel_66612/1082690048.py:13: MatplotlibDeprecationWarning: The get_cmap function was deprecated in Matplotlib 3.7 and will be removed two minor releases later. Use ``matplotlib.colormaps[name]`` or ``matplotlib.colormaps.get_cmap(obj)`` instead.\n",
      "  cmap = get_cmap('tab20')\n"
     ]
    },
    {
     "data": {
      "text/plain": [
       "Text(0.5, 1.0, 'Adults (20+ years old)')"
      ]
     },
     "execution_count": 26,
     "metadata": {},
     "output_type": "execute_result"
    },
    {
     "data": {
      "image/png": "[encoded data removed]",
      "text/plain": [
       "<Figure size 640x480 with 2 Axes>"
      ]
     },
     "metadata": {},
     "output_type": "display_data"
    }
   ],
   "source": [
    "from matplotlib.pyplot import subplots\n",
    "from matplotlib.cm import get_cmap\n",
    "\n",
    "data_list = [S/model_input.ave_hh_by_class,\n",
    "    E/model_input.ave_hh_by_class,\n",
    "    I/model_input.ave_hh_by_class,\n",
    "    R/model_input.ave_hh_by_class]\n",
    "\n",
    "lgd=['S','E','I','R']\n",
    "\n",
    "fig, (axis_C, axis_A) = subplots(2,1, sharex=True)\n",
    "\n",
    "cmap = get_cmap('tab20')\n",
    "alpha = 0.5\n",
    "for i in range(len(data_list)):\n",
    "    axis_C.plot(\n",
    "        time, data_list[i], label=lgd[i],\n",
    "        color=cmap(i/len(data_list)), alpha=alpha)\n",
    "axis_C.set_ylabel('Proportion of population')\n",
    "axis_C.set_title('Children (0-19 years old)')\n",
    "axis_C.legend(ncol=1, bbox_to_anchor=(1,0.50))\n",
    "\n",
    "for i in range(len(data_list)):\n",
    "    axis_A.plot(\n",
    "        time, data_list[i], label=lgd[i],\n",
    "        color=cmap(i/len(data_list)), alpha=alpha)\n",
    "axis_A.set_ylabel('Proportion of population')\n",
    "axis_A.set_title('Adults (20+ years old)')"
   ]
  },
  {
   "cell_type": "code",
   "execution_count": 55,
   "id": "54797f43-ea03-4efe-ae2b-2ff2627d9cbd",
   "metadata": {},
   "outputs": [],
   "source": [
    "H[H<0.0] = 0.0"
   ]
  },
  {
   "cell_type": "code",
   "execution_count": 56,
   "id": "58a7de2d-e9ba-4892-ad07-3407ccf498b9",
   "metadata": {
    "tags": []
   },
   "outputs": [],
   "source": [
    "n = 100                          # daily sampling size\n",
    "z = np.zeros((len(trange),np.shape(H)[0]))    # to store the values of 3 states\n",
    "\n",
    "np.random.seed(123)              # So that we always get the same random numbers\n",
    "for i, t in enumerate(trange):\n",
    "    z[i,:] = sp.stats.multinomial.rvs(n, H[:, i]/sum(H[:,i]))"
   ]
  },
  {
   "cell_type": "code",
   "execution_count": 57,
   "id": "a404403f",
   "metadata": {},
   "outputs": [
    {
     "name": "stdout",
     "output_type": "stream",
     "text": [
      "[[ 0.  0.  0. ...  0.  0.  0.]\n",
      " [ 0.  1.  0. ...  0.  0.  0.]\n",
      " [ 2.  2.  0. ...  0.  0.  0.]\n",
      " ...\n",
      " [31.  0.  0. ...  0.  0.  0.]\n",
      " [23.  0.  0. ...  0.  0.  0.]\n",
      " [32.  0.  0. ...  0.  0.  0.]]\n",
      "3002\n"
     ]
    }
   ],
   "source": [
    "print(z)\n",
    "print(len(np.where(sum(z,1)>0)[0]))"
   ]
  },
  {
   "cell_type": "code",
   "execution_count": 58,
   "id": "f11bb469-e3b7-4598-923c-9ce028751d43",
   "metadata": {},
   "outputs": [],
   "source": [
    "pp = H"
   ]
  },
  {
   "cell_type": "code",
   "execution_count": 61,
   "id": "bc2771a9-e394-4d8f-bb4d-6f2c759a8b81",
   "metadata": {},
   "outputs": [
    {
     "data": {
      "text/plain": [
       "nan"
      ]
     },
     "execution_count": 61,
     "metadata": {},
     "output_type": "execute_result"
    }
   ],
   "source": [
    "# Calculate log likelihood:\n",
    "\n",
    "np.sum(sp.stats.multinomial.logpmf(z,n,H.T))\n",
    "# np.sum(sp.stats.multinomial.logpmf(z,n,pp.T))"
   ]
  },
  {
   "cell_type": "markdown",
   "id": "5d855561-a820-4b6d-8642-6ab51e9b69ba",
   "metadata": {},
   "source": [
    "The box ab"
   ]
  },
  {
   "cell_type": "code",
   "execution_count": 63,
   "id": "3f203d65",
   "metadata": {},
   "outputs": [
    {
     "name": "stdout",
     "output_type": "stream",
     "text": [
      "-203.92293255344163\n"
     ]
    }
   ],
   "source": [
    "# Log likelihood if we can only measure infecteds\n",
    "# This is for one test result, you´ll need to adapt to multiple\n",
    "\n",
    "def llh_from_I(I, H):\n",
    "    possible_states = np.where(np.sum((rhs.states_inf_only - I),1)<1e-1)[0]\n",
    "    #print(I)\n",
    "    #print(rhs.states_inf_only[np.where(np.sum((rhs.states_inf_only - I),1)<1e-1)[0], ])\n",
    "    #print(np.sum(H[possible_states]))\n",
    "    llh = np.log(np.sum(H[possible_states]))\n",
    "    return(llh)\n",
    "\n",
    "total_llh = 0\n",
    "for i, t in enumerate(trange):\n",
    "    for j in np.where(z[i, :]>0)[0]:\n",
    "        number_infected = rhs.states_inf_only[j, :]\n",
    "        total_llh += z[i, j] * llh_from_I(number_infected, H[:, i]) # Premultiply to do joint prob\n",
    "print(total_llh)"
   ]
  },
  {
   "cell_type": "code",
   "execution_count": null,
   "id": "af8fba4e-a43f-44d7-ac85-a813ceb35ec3",
   "metadata": {
    "tags": []
   },
   "outputs": [],
   "source": [
    "def myll(lam, tau, sig, gam):\n",
    "    odefun = lambda t, x: epidemic_model(t,x,lam,tau,sig, gam)\n",
    "    sol = solve_ivp(odefun, (0, T), initial_state, t_eval=trange)\n",
    "    pp = (sol.y/total_pairs).T\n",
    "    pp[pp<0.]=0.\n",
    "    ll = np.sum(sp.stats.multinomial.logpmf(z,n,pp))\n",
    "    return(ll)"
   ]
  },
  {
   "cell_type": "code",
   "execution_count": null,
   "id": "1990f7b1-453a-4ad4-af69-e94772160764",
   "metadata": {
    "tags": []
   },
   "outputs": [],
   "source": [
    "#Calculate the negative log likelihood\n",
    "neg_log_likelihood = lambda params: -myll(params[0], params[1], params[2], params[3])"
   ]
  },
  {
   "cell_type": "code",
   "execution_count": null,
   "id": "a1d1fa24-5a30-4cfa-9ca1-f1543a137275",
   "metadata": {
    "tags": []
   },
   "outputs": [],
   "source": [
    "def mycall(x):\n",
    "    print('trying ' + str(x))\n",
    "    print(str(neg_log_likelihood(x)))"
   ]
  },
  {
   "cell_type": "code",
   "execution_count": null,
   "id": "609a92c2-9b38-4bba-a9ff-8cab5a17bb26",
   "metadata": {
    "tags": []
   },
   "outputs": [],
   "source": [
    "result = minimize(neg_log_likelihood, np.array([0.35,  0.215, 0.65,  0.55]), method='Nelder-Mead', callback=mycall)"
   ]
  },
  {
   "cell_type": "code",
   "execution_count": null,
   "id": "ab070849-31c6-4b90-b56e-f73b8595e453",
   "metadata": {
    "tags": []
   },
   "outputs": [],
   "source": [
    "result"
   ]
  },
  {
   "cell_type": "code",
   "execution_count": null,
   "id": "90d05b5a-7cfd-41dd-b338-ae61942d9cc2",
   "metadata": {},
   "outputs": [],
   "source": [
    "#Store results of the minimization\n",
    "xhat = result.x\n",
    "xhat"
   ]
  },
  {
   "cell_type": "code",
   "execution_count": null,
   "id": "1ca61b82-459b-4c9d-9208-8168ce593d82",
   "metadata": {},
   "outputs": [],
   "source": [
    "#Calculate the Hessian\n",
    "hess = nd.Hessian(neg_log_likelihood)"
   ]
  },
  {
   "cell_type": "code",
   "execution_count": null,
   "id": "a3e68908-ed9a-43e0-96fd-1969ee30e9a7",
   "metadata": {
    "tags": []
   },
   "outputs": [],
   "source": [
    "# Cholesky decomposition inversion\n",
    "cdi =  np.linalg.inv(np.linalg.cholesky(hess(xhat)))\n",
    "inverse = np.dot(cdi.T, cdi)"
   ]
  },
  {
   "cell_type": "code",
   "execution_count": null,
   "id": "1280f38f-5b2a-43dd-900a-e8d7d539c41b",
   "metadata": {
    "tags": []
   },
   "outputs": [],
   "source": [
    "#standart deviation\n",
    "stds = np.sqrt(np.diag(inverse))\n",
    "stds"
   ]
  },
  {
   "cell_type": "code",
   "execution_count": null,
   "id": "04b71a1e-5169-4940-8002-2a2a3761a52f",
   "metadata": {
    "tags": []
   },
   "outputs": [],
   "source": [
    "xhat + 1.96*stds"
   ]
  },
  {
   "cell_type": "code",
   "execution_count": null,
   "id": "cfe050a8-aba1-4e37-83a8-e5a8beda24a9",
   "metadata": {
    "tags": []
   },
   "outputs": [],
   "source": [
    "xhat - 1.96*stds"
   ]
  },
  {
   "cell_type": "code",
   "execution_count": null,
   "id": "ce3bab85-4bcc-48e9-a580-9caa0703b8ea",
   "metadata": {
    "tags": []
   },
   "outputs": [],
   "source": [
    "#Confidence interval\n",
    "\n",
    "for i, xh in enumerate(xhat):\n",
    "    print('Variable ' + str(i+1) + ' is ' + str(xh) + '(' + str(xh-1.96*stds[i]) + ',' + str(xh+1.96*stds[i]) + '). True: ' + str(initial_guess[i]))"
   ]
  },
  {
   "cell_type": "code",
   "execution_count": null,
   "id": "4c4585f1-dc1f-4a23-b662-0b91e8e64803",
   "metadata": {},
   "outputs": [],
   "source": [
    "up to significant figures . format sintax"
   ]
  },
  {
   "cell_type": "code",
   "execution_count": null,
   "id": "a4088677-4b6a-45c3-b2b7-6a57a1f36b81",
   "metadata": {},
   "outputs": [],
   "source": []
  },
  {
   "cell_type": "code",
   "execution_count": null,
   "id": "3db8248a-f28d-489a-a4e5-60731d3b9ce1",
   "metadata": {},
   "outputs": [],
   "source": []
  },
  {
   "cell_type": "code",
   "execution_count": null,
   "id": "2f377788-a2dd-42ec-9b16-c31fde9d3388",
   "metadata": {},
   "outputs": [],
   "source": []
  }
 ],
 "metadata": {
  "kernelspec": {
   "display_name": "Python 3 (ipykernel)",
   "language": "python",
   "name": "python3"
  },
  "language_info": {
   "codemirror_mode": {
    "name": "ipython",
    "version": 3
   },
   "file_extension": ".py",
   "mimetype": "text/x-python",
   "name": "python",
   "nbconvert_exporter": "python",
   "pygments_lexer": "ipython3",
   "version": "3.9.6"
  }
 },
 "nbformat": 4,
 "nbformat_minor": 5
}
