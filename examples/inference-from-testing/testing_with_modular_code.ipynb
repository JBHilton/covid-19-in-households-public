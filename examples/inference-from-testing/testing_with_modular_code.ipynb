{
 "cells": [
  {
   "cell_type": "code",
   "execution_count": 1,
   "id": "88ebcb20-e9e0-4e7a-96a7-8d5a3bdf6ffa",
   "metadata": {
    "tags": []
   },
   "outputs": [],
   "source": [
    "import numpy as np\n",
    "import matplotlib.pyplot as plt\n",
    "import scipy as sp\n",
    "from scipy.integrate import solve_ivp\n",
    "from tqdm import tqdm\n",
    "from scipy.optimize import minimize\n",
    "import scipy as sp\n",
    "from scipy.integrate import solve_ivp\n",
    "import numdifftools as nd\n",
    "\n",
    "from numpy.linalg import eig"
   ]
  },
  {
   "cell_type": "code",
   "execution_count": 2,
   "id": "5df21d92-b7b1-46f1-a7d5-adccde85073d",
   "metadata": {},
   "outputs": [
    {
     "data": {
      "text/plain": [
       "'/Users/user/Documents/GitHub/covid-19-in-households-public'"
      ]
     },
     "execution_count": 2,
     "metadata": {},
     "output_type": "execute_result"
    }
   ],
   "source": [
    "import os\n",
    "if 'inference-from-testing' in os.getcwd():\n",
    "    os.chdir(\"../..\")\n",
    "os.getcwd()"
   ]
  },
  {
   "cell_type": "code",
   "execution_count": 3,
   "id": "15213e65-0a64-4a17-8edf-0f71dd631404",
   "metadata": {},
   "outputs": [],
   "source": [
    "from copy import deepcopy\n",
    "from numpy import arange, array, atleast_2d, log\n",
    "from os import mkdir\n",
    "from os.path import isdir, isfile\n",
    "from pickle import load, dump\n",
    "from pandas import read_csv\n",
    "from scipy.integrate import solve_ivp\n",
    "from model.preprocessing import ( estimate_beta_ext, estimate_growth_rate,\n",
    "        SEIRInput, HouseholdPopulation, make_initial_condition_by_eigenvector)\n",
    "from model.specs import SINGLE_AGE_SEIR_SPEC_FOR_FITTING, SINGLE_AGE_UK_SPEC\n",
    "from model.common import SEIRRateEquations\n",
    "from model.imports import NoImportModel"
   ]
  },
  {
   "cell_type": "code",
   "execution_count": 4,
   "id": "2edb3bb7-6613-4a5f-80ba-770816a13be6",
   "metadata": {},
   "outputs": [
    {
     "name": "stdout",
     "output_type": "stream",
     "text": [
      "Estimated beta_int= 0.01849526514675815 , estimated density= 0.5452971569851536\n",
      "Estimated beta is [3.90689101]\n",
      "converged in 12 iterations.\n",
      "Estimated growth rate is 0.23104906018672192 .\n",
      "Estimated doubling time is 2.9999999999990457 .\n",
      "[0.99 0.01 0.   0.  ]\n"
     ]
    },
    {
     "name": "stderr",
     "output_type": "stream",
     "text": [
      "/Users/user/Documents/GitHub/covid-19-in-households-public/model/preprocessing.py:1190: SparseEfficiencyWarning: spilu converted its input to CSC format\n",
      "  sA_iLU = spilu(discount_matrix)\n"
     ]
    }
   ],
   "source": [
    "DOUBLING_TIME = 3\n",
    "growth_rate = log(2) / DOUBLING_TIME\n",
    "\n",
    "comp_dist = read_csv(\n",
    "    'inputs/england_hh_size_dist.csv',\n",
    "    header=0).to_numpy().squeeze()\n",
    "comp_dist = comp_dist[:3]\n",
    "comp_dist[:2] *= 0\n",
    "comp_dist = comp_dist/sum(comp_dist)\n",
    "max_hh_size = len(comp_dist)\n",
    "composition_list = np.atleast_2d(arange(1, max_hh_size+1)).T\n",
    "\n",
    "#comp_dist = array([1.])\n",
    "#composition_list = array([[1]])\n",
    "\n",
    "if isdir('outputs') is False:\n",
    "    mkdir('outputs')\n",
    "if isdir('outputs/inference-from-testing') is False:\n",
    "    mkdir('outputs/inference-from-testing')\n",
    "\n",
    "SPEC = {**SINGLE_AGE_SEIR_SPEC_FOR_FITTING, **SINGLE_AGE_UK_SPEC}\n",
    "model_input_to_fit = SEIRInput(SPEC, composition_list, comp_dist)\n",
    "household_population_to_fit = HouseholdPopulation(\n",
    "    composition_list, comp_dist, model_input_to_fit)\n",
    "rhs_to_fit = SEIRRateEquations(model_input_to_fit, household_population_to_fit, NoImportModel(4,2))\n",
    "beta_ext = estimate_beta_ext(household_population_to_fit, rhs_to_fit, growth_rate)\n",
    "model_input = deepcopy(model_input_to_fit)\n",
    "model_input.k_ext *= beta_ext\n",
    "print('Estimated beta is',beta_ext)\n",
    "\n",
    "\n",
    "# With the parameters chosen, we calculate Q_int:\n",
    "household_population = HouseholdPopulation(\n",
    "    composition_list, comp_dist, model_input)\n",
    "\n",
    "rhs = SEIRRateEquations(model_input, household_population, NoImportModel(4,1))\n",
    "\n",
    "r_est = estimate_growth_rate(household_population, rhs, [0.001, 5], 1e-9)\n",
    "\n",
    "\n",
    "print('Estimated growth rate is',r_est,'.')\n",
    "print('Estimated doubling time is',log(2) / r_est,'.')\n",
    "\n",
    "H0 = make_initial_condition_by_eigenvector(growth_rate, model_input, household_population, rhs, 1e-2, 0.0,False,3)\n",
    "S0 = H0.T.dot(household_population.states[:, ::4])\n",
    "E0 = H0.T.dot(household_population.states[:, 1::4])\n",
    "I0 = H0.T.dot(household_population.states[:, 2::4])\n",
    "R0 = H0.T.dot(household_population.states[:, 3::4])\n",
    "start_state = (1/model_input.ave_hh_size) * array([S0.sum(),\n",
    "                                                   E0.sum(),\n",
    "                                                   I0.sum(),\n",
    "                                                   R0.sum()])\n",
    "tspan = (0.0, 365)\n",
    "print(start_state)"
   ]
  },
  {
   "cell_type": "code",
   "execution_count": 5,
   "id": "75342165-ad4d-4075-80bd-4cb9cb7b2bb3",
   "metadata": {},
   "outputs": [
    {
     "data": {
      "text/plain": [
       "array([0., 0., 1.])"
      ]
     },
     "execution_count": 5,
     "metadata": {},
     "output_type": "execute_result"
    }
   ],
   "source": [
    "comp_dist"
   ]
  },
  {
   "cell_type": "code",
   "execution_count": 6,
   "id": "a4aa8360-b4ba-40de-a7f4-a2b5d4a3ef45",
   "metadata": {},
   "outputs": [
    {
     "data": {
      "text/plain": [
       "array([[1],\n",
       "       [2],\n",
       "       [3]])"
      ]
     },
     "execution_count": 6,
     "metadata": {},
     "output_type": "execute_result"
    }
   ],
   "source": [
    "composition_list"
   ]
  },
  {
   "cell_type": "code",
   "execution_count": 7,
   "id": "d0c0833e-a254-4715-be6a-b0fe88f4c5ea",
   "metadata": {
    "tags": []
   },
   "outputs": [],
   "source": [
    "# Now set up evaluation time points and solve system:\n",
    "\n",
    "# New time at which we evaluate the infection\n",
    "trange = np.arange(0,7*12,7) # Evaluate for 12 weeks\n",
    "\n",
    "# Solve:\n",
    "solution = solve_ivp(rhs, tspan, H0, first_step=0.001, atol=1e-16, t_eval=trange)\n",
    "\n",
    "time = solution.t\n",
    "H = solution.y\n",
    "S = H.T.dot(household_population.states[:, ::4])\n",
    "E = H.T.dot(household_population.states[:, 1::4])\n",
    "I = H.T.dot(household_population.states[:, 2::4])\n",
    "R = H.T.dot(household_population.states[:, 3::4])"
   ]
  },
  {
   "cell_type": "code",
   "execution_count": 8,
   "id": "775bc0f6-1125-40b3-b9a7-6717bb6d4c7d",
   "metadata": {},
   "outputs": [
    {
     "name": "stderr",
     "output_type": "stream",
     "text": [
      "/var/folders/mn/cjzm0gtn7_z4bsq7d44zp_y00000gp/T/ipykernel_35526/852802733.py:13: MatplotlibDeprecationWarning: The get_cmap function was deprecated in Matplotlib 3.7 and will be removed two minor releases later. Use ``matplotlib.colormaps[name]`` or ``matplotlib.colormaps.get_cmap(obj)`` instead.\n",
      "  cmap = get_cmap('tab20')\n"
     ]
    },
    {
     "data": {
      "text/plain": [
       "<matplotlib.legend.Legend at 0x31f592ee0>"
      ]
     },
     "execution_count": 8,
     "metadata": {},
     "output_type": "execute_result"
    },
    {
     "data": {
      "image/png": "[encoded data removed]",
      "text/plain": [
       "<Figure size 640x480 with 1 Axes>"
      ]
     },
     "metadata": {},
     "output_type": "display_data"
    }
   ],
   "source": [
    "from matplotlib.pyplot import subplots\n",
    "from matplotlib.cm import get_cmap\n",
    "\n",
    "data_list = [S/model_input.ave_hh_by_class,\n",
    "    E/model_input.ave_hh_by_class,\n",
    "    I/model_input.ave_hh_by_class,\n",
    "    R/model_input.ave_hh_by_class]\n",
    "\n",
    "lgd=['S','E','I','R']\n",
    "\n",
    "fig, (axis) = subplots(1,1, sharex=True)\n",
    "\n",
    "cmap = get_cmap('tab20')\n",
    "alpha = 0.5\n",
    "for i in range(len(data_list)):\n",
    "    axis.plot(\n",
    "        time, data_list[i], label=lgd[i],\n",
    "        color=cmap(i/len(data_list)), alpha=alpha)\n",
    "axis.set_ylabel('Proportion of population')\n",
    "axis.legend(ncol=1, bbox_to_anchor=(1,0.50))"
   ]
  },
  {
   "cell_type": "code",
   "execution_count": 9,
   "id": "54797f43-ea03-4efe-ae2b-2ff2627d9cbd",
   "metadata": {},
   "outputs": [],
   "source": [
    "H[H<0.0] = 0.0"
   ]
  },
  {
   "cell_type": "markdown",
   "id": "1d7b7b34-54cb-4db6-8e0a-a4a7b647432c",
   "metadata": {},
   "source": [
    "Make test data for single-household trajectories and calculate LLH"
   ]
  },
  {
   "cell_type": "code",
   "execution_count": 10,
   "id": "72d7ad65-34d7-40be-b69e-68bec3d159fe",
   "metadata": {},
   "outputs": [
    {
     "name": "stdout",
     "output_type": "stream",
     "text": [
      "[1. 2. 1. 0. 0. 0. 0. 0. 0. 0. 0.]\n"
     ]
    },
    {
     "name": "stderr",
     "output_type": "stream",
     "text": [
      "/var/folders/mn/cjzm0gtn7_z4bsq7d44zp_y00000gp/T/ipykernel_35526/3964832397.py:14: DeprecationWarning: Conversion of an array with ndim > 0 to a scalar is deprecated, and will error in future. Ensure you extract a single element from your array before performing this operation. (Deprecated NumPy 1.25.)\n",
      "  test_data[i] = rhs.states_inf_only[state]\n"
     ]
    }
   ],
   "source": [
    "from numpy.random import choice\n",
    "\n",
    "H0 = make_initial_condition_by_eigenvector(growth_rate, model_input, household_population, rhs, 1e-1, 0.0,False,3)\n",
    "test_times = np.arange(7,7*12,7)\n",
    "def generate_single_hh_test_data(test_times):\n",
    "    Ht = deepcopy(H0)\n",
    "    test_data = np.zeros((len(test_times),))\n",
    "    for i in range(len(test_times)-1):\n",
    "        tspan = (test_times[i], test_times[i+1])\n",
    "        solution = solve_ivp(rhs, tspan, Ht, first_step=0.001, atol=1e-16)\n",
    "        time = solution.t\n",
    "        H = solution.y\n",
    "        state = choice(range(len(H[:, -1])), 1, p=H[:, -1]/sum(H[:, -1]))\n",
    "        test_data[i] = rhs.states_inf_only[state]\n",
    "        Ht *= 0\n",
    "        Ht[state] = 1\n",
    "    return(test_data)\n",
    "sample_data = generate_single_hh_test_data(test_times)\n",
    "print(sample_data)"
   ]
  },
  {
   "cell_type": "code",
   "execution_count": 11,
   "id": "93133763-b812-414d-b6f0-472026ee8da5",
   "metadata": {},
   "outputs": [
    {
     "data": {
      "text/plain": [
       "-30.79796959524579"
      ]
     },
     "execution_count": 11,
     "metadata": {},
     "output_type": "execute_result"
    }
   ],
   "source": [
    "# Log likelihood if we can only measure infecteds\n",
    "# This is for test results from one household, you´ll need to adapt to multiple\n",
    "\n",
    "def llh_from_test_data(test_data, test_times, rhs, H0):\n",
    "    Ht = deepcopy(H0)\n",
    "    llh = 0\n",
    "    for i in range(len(test_times)-1):\n",
    "        if i==0:\n",
    "            start_time = 0\n",
    "        else:\n",
    "            start_time = test_times[i-1]\n",
    "        tspan = (start_time, test_times[i])\n",
    "        solution = solve_ivp(rhs, tspan, Ht, first_step=0.001, atol=1e-16)\n",
    "        time = solution.t\n",
    "        H = solution.y\n",
    "        I = test_data[i]\n",
    "        possible_states = np.where(np.abs(np.sum(rhs.states_inf_only,1)-I)<1e-1)[0]\n",
    "        llh += np.log(np.sum(H[possible_states, -1]))\n",
    "        Ht *= 0\n",
    "        Ht[possible_states] = H[possible_states, -1]\n",
    "    return(llh)\n",
    "\n",
    "llh_from_test_data(sample_data, test_times, rhs, H0)"
   ]
  },
  {
   "cell_type": "markdown",
   "id": "6dd0ae75-6347-4a84-a060-4d3f6fbfce50",
   "metadata": {},
   "source": [
    "Quick check to make sure the restricted trajectory locks on to the right thing:"
   ]
  },
  {
   "cell_type": "code",
   "execution_count": 12,
   "id": "c42e5b59-0916-455b-8ec9-91de08e1c685",
   "metadata": {},
   "outputs": [],
   "source": [
    "# Log likelihood calculation but return probability trajectory\n",
    "\n",
    "def llh_with_traj(test_data, test_times, rhs, H0):\n",
    "    Ht = deepcopy(H0)\n",
    "    H_all = np.atleast_2d(deepcopy(H0)).T\n",
    "    t_all = np.array(0)\n",
    "    llh = 0\n",
    "    for i in range(len(test_times)-1):\n",
    "        if i==0:\n",
    "            start_time = 0\n",
    "        else:\n",
    "            start_time = test_times[i-1]\n",
    "        tspan = (start_time, test_times[i])\n",
    "        solution = solve_ivp(rhs, tspan, Ht, first_step=0.001, atol=1e-16)\n",
    "        time = solution.t\n",
    "        H = solution.y\n",
    "        I = test_data[i]\n",
    "        possible_states = np.where(np.abs(np.sum(rhs.states_inf_only,1)-I)<1e-1)[0]\n",
    "        llh += np.log(np.sum(H[possible_states, -1]))\n",
    "        Ht *= 0\n",
    "        Ht[possible_states] = H[possible_states, -1]\n",
    "        Ht = Ht/sum(Ht)\n",
    "        H_all = np.hstack((H_all, H))\n",
    "        t_all = np.hstack((t_all, time))\n",
    "    return(llh, H_all, t_all)\n",
    "\n",
    "llh, H_all, t_all = llh_with_traj(sample_data, test_times, rhs, H0)"
   ]
  },
  {
   "cell_type": "code",
   "execution_count": 13,
   "id": "b7e6a109-faf7-4c27-abe7-a70594a44120",
   "metadata": {},
   "outputs": [
    {
     "name": "stderr",
     "output_type": "stream",
     "text": [
      "/var/folders/mn/cjzm0gtn7_z4bsq7d44zp_y00000gp/T/ipykernel_35526/32998234.py:15: MatplotlibDeprecationWarning: The get_cmap function was deprecated in Matplotlib 3.7 and will be removed two minor releases later. Use ``matplotlib.colormaps[name]`` or ``matplotlib.colormaps.get_cmap(obj)`` instead.\n",
      "  cmap = get_cmap('tab20')\n"
     ]
    },
    {
     "data": {
      "text/plain": [
       "<matplotlib.legend.Legend at 0x321926100>"
      ]
     },
     "execution_count": 13,
     "metadata": {},
     "output_type": "execute_result"
    },
    {
     "data": {
      "image/png": "[encoded data removed]",
      "text/plain": [
       "<Figure size 640x480 with 1 Axes>"
      ]
     },
     "metadata": {},
     "output_type": "display_data"
    }
   ],
   "source": [
    "S = H_all.T.dot(household_population.states[:, ::4])\n",
    "E = H_all.T.dot(household_population.states[:, 1::4])\n",
    "I = H_all.T.dot(household_population.states[:, 2::4])\n",
    "R = H_all.T.dot(household_population.states[:, 3::4])\n",
    "\n",
    "data_list = [S/model_input.ave_hh_by_class,\n",
    "    E/model_input.ave_hh_by_class,\n",
    "    I/model_input.ave_hh_by_class,\n",
    "    R/model_input.ave_hh_by_class]\n",
    "\n",
    "lgd=['S','E','I','R', \"Test data\"]\n",
    "\n",
    "fig, (axis) = subplots(1,1, sharex=True)\n",
    "\n",
    "cmap = get_cmap('tab20')\n",
    "alpha = 0.5\n",
    "for i in range(len(data_list)):\n",
    "    axis.plot(t_all,\n",
    "        3*data_list[i], label=lgd[i],\n",
    "        color=cmap(i/len(data_list)), alpha=alpha)\n",
    "axis.plot(test_times, sample_data, marker=\".\", ls=\"\", ms=20, label=lgd[-1])\n",
    "axis.set_ylabel('Proportion of population')\n",
    "axis.legend(ncol=1, bbox_to_anchor=(1,0.50))"
   ]
  },
  {
   "cell_type": "code",
   "execution_count": 14,
   "id": "cf8619ac-5f73-458d-8c34-2831bff08f8a",
   "metadata": {},
   "outputs": [
    {
     "name": "stderr",
     "output_type": "stream",
     "text": [
      "/var/folders/mn/cjzm0gtn7_z4bsq7d44zp_y00000gp/T/ipykernel_35526/3964832397.py:14: DeprecationWarning: Conversion of an array with ndim > 0 to a scalar is deprecated, and will error in future. Ensure you extract a single element from your array before performing this operation. (Deprecated NumPy 1.25.)\n",
      "  test_data[i] = rhs.states_inf_only[state]\n"
     ]
    }
   ],
   "source": [
    "# Now do multiple households\n",
    "\n",
    "# Generate test data:\n",
    "n_hh = 50\n",
    "multi_hh_data = [generate_single_hh_test_data(test_times) for i in range(n_hh)]\n",
    "\n",
    "# Option: Only include houses with at least one +ve\n",
    "# multi_hh_data = [data for data in multi_hh_data if np.sum(data)>0]"
   ]
  },
  {
   "cell_type": "code",
   "execution_count": 15,
   "id": "42bfce6a-fe9d-4fac-a5f1-9ede94319fd2",
   "metadata": {},
   "outputs": [
    {
     "data": {
      "text/plain": [
       "[array([2., 1., 0., 0., 0., 0., 0., 0., 0., 0., 0.]),\n",
       " array([1., 3., 2., 1., 1., 1., 0., 0., 0., 0., 0.]),\n",
       " array([1., 1., 0., 0., 0., 0., 0., 0., 0., 0., 0.]),\n",
       " array([1., 1., 1., 1., 1., 0., 0., 0., 0., 0., 0.]),\n",
       " array([1., 2., 0., 0., 0., 0., 0., 0., 0., 0., 0.]),\n",
       " array([0., 0., 0., 0., 0., 0., 0., 0., 0., 0., 0.]),\n",
       " array([1., 1., 0., 0., 0., 0., 0., 0., 0., 0., 0.]),\n",
       " array([0., 0., 0., 0., 0., 0., 0., 0., 0., 0., 0.]),\n",
       " array([1., 2., 0., 0., 0., 0., 0., 0., 0., 0., 0.]),\n",
       " array([0., 0., 0., 0., 0., 0., 0., 0., 0., 0., 0.]),\n",
       " array([2., 2., 2., 2., 1., 0., 0., 0., 0., 0., 0.]),\n",
       " array([0., 0., 0., 0., 0., 0., 0., 0., 0., 0., 0.]),\n",
       " array([2., 0., 0., 0., 0., 0., 0., 0., 0., 0., 0.]),\n",
       " array([1., 2., 2., 0., 0., 0., 0., 0., 0., 0., 0.]),\n",
       " array([2., 1., 0., 0., 0., 0., 0., 0., 0., 0., 0.]),\n",
       " array([0., 1., 1., 1., 1., 1., 0., 0., 0., 0., 0.]),\n",
       " array([1., 1., 0., 0., 0., 0., 0., 0., 0., 0., 0.]),\n",
       " array([1., 1., 1., 1., 1., 1., 1., 0., 0., 0., 0.]),\n",
       " array([1., 1., 0., 0., 0., 0., 0., 0., 0., 0., 0.]),\n",
       " array([2., 2., 1., 1., 1., 0., 0., 0., 0., 0., 0.]),\n",
       " array([1., 1., 1., 1., 1., 1., 0., 0., 0., 0., 0.]),\n",
       " array([0., 0., 0., 0., 0., 0., 0., 0., 0., 0., 0.]),\n",
       " array([0., 0., 0., 0., 0., 0., 0., 0., 0., 0., 0.]),\n",
       " array([0., 0., 0., 0., 0., 0., 0., 0., 0., 0., 0.]),\n",
       " array([0., 0., 0., 0., 0., 0., 0., 0., 0., 0., 0.]),\n",
       " array([0., 0., 0., 0., 0., 0., 0., 0., 0., 0., 0.]),\n",
       " array([0., 1., 1., 0., 0., 0., 0., 0., 0., 0., 0.]),\n",
       " array([0., 0., 0., 0., 0., 0., 0., 0., 0., 0., 0.]),\n",
       " array([1., 2., 1., 0., 0., 0., 0., 0., 0., 0., 0.]),\n",
       " array([1., 2., 1., 1., 0., 0., 0., 0., 0., 0., 0.]),\n",
       " array([0., 0., 0., 0., 0., 0., 0., 0., 0., 0., 0.]),\n",
       " array([1., 2., 1., 0., 0., 0., 0., 0., 0., 0., 0.]),\n",
       " array([0., 0., 0., 0., 0., 0., 0., 0., 0., 0., 0.]),\n",
       " array([1., 3., 2., 1., 0., 0., 0., 0., 0., 0., 0.]),\n",
       " array([0., 0., 0., 0., 0., 0., 0., 0., 0., 0., 0.]),\n",
       " array([1., 1., 0., 0., 0., 0., 0., 0., 0., 0., 0.]),\n",
       " array([0., 0., 0., 0., 0., 0., 0., 0., 0., 0., 0.]),\n",
       " array([1., 0., 0., 0., 0., 0., 0., 0., 0., 0., 0.]),\n",
       " array([0., 0., 0., 0., 0., 0., 0., 0., 0., 0., 0.]),\n",
       " array([1., 1., 2., 0., 0., 0., 0., 0., 0., 0., 0.]),\n",
       " array([1., 3., 1., 0., 0., 0., 0., 0., 0., 0., 0.]),\n",
       " array([0., 0., 0., 0., 0., 0., 0., 0., 0., 0., 0.]),\n",
       " array([2., 2., 2., 0., 0., 0., 0., 0., 0., 0., 0.]),\n",
       " array([1., 2., 2., 0., 0., 0., 0., 0., 0., 0., 0.]),\n",
       " array([1., 1., 0., 0., 0., 0., 0., 0., 0., 0., 0.]),\n",
       " array([0., 0., 0., 0., 0., 0., 0., 0., 0., 0., 0.]),\n",
       " array([0., 2., 1., 1., 1., 0., 0., 0., 0., 0., 0.]),\n",
       " array([1., 1., 1., 0., 0., 0., 0., 0., 0., 0., 0.]),\n",
       " array([0., 0., 0., 0., 0., 0., 0., 0., 0., 0., 0.]),\n",
       " array([1., 1., 1., 0., 0., 0., 0., 0., 0., 0., 0.])]"
      ]
     },
     "execution_count": 15,
     "metadata": {},
     "output_type": "execute_result"
    }
   ],
   "source": [
    "multi_hh_data"
   ]
  },
  {
   "cell_type": "code",
   "execution_count": 16,
   "id": "bc5ce4cf-6d78-45d6-a5f4-95f823339638",
   "metadata": {},
   "outputs": [],
   "source": [
    "# Try a single likelihood calculation\n",
    "\n",
    "multi_hh_llh = sum(array([llh_from_test_data(sample_data, test_times, rhs, H0) for sample_data in multi_hh_data]))"
   ]
  },
  {
   "cell_type": "markdown",
   "id": "29282739-869a-477f-a37e-d3f1bb18eaab",
   "metadata": {},
   "source": [
    "At this point, we should be able to write a function taking parameters as input and calculating llh for those parameters."
   ]
  },
  {
   "cell_type": "code",
   "execution_count": 17,
   "id": "59f86193-a11f-4cc9-aaab-2eb9c66ac045",
   "metadata": {},
   "outputs": [],
   "source": [
    "def llh_from_pars(data, test_times, lam, tau):\n",
    "    model_input = SEIRInput(SPEC, composition_list, comp_dist, print_ests=False)\n",
    "    model_input.k_home = lam / model_input.beta_int * model_input.k_home\n",
    "    model_input.k_ext = tau * model_input.k_ext\n",
    "    # With the parameters chosen, we calculate Q_int:\n",
    "    household_population = HouseholdPopulation(\n",
    "        composition_list, comp_dist, model_input)\n",
    "    \n",
    "    rhs = SEIRRateEquations(model_input, household_population, NoImportModel(4,1))\n",
    "    H0 = make_initial_condition_by_eigenvector(growth_rate, model_input, household_population, rhs, 1e-2, 0.0,False,3)\n",
    "    tspan = (0.0, 365)\n",
    "    return(sum(array([llh_from_test_data(data, test_times, rhs, H0) for data in multi_hh_data])))"
   ]
  },
  {
   "cell_type": "code",
   "execution_count": 18,
   "id": "83a863ef-2ad6-4b16-a8eb-715668c797cc",
   "metadata": {},
   "outputs": [
    {
     "data": {
      "text/plain": [
       "-1871.9735362493827"
      ]
     },
     "execution_count": 18,
     "metadata": {},
     "output_type": "execute_result"
    }
   ],
   "source": [
    "llh_from_pars(multi_hh_data, test_times, 0.015, 4)"
   ]
  },
  {
   "cell_type": "code",
   "execution_count": 19,
   "id": "350bc922-de94-4359-85d8-d7d12a97b748",
   "metadata": {
    "scrolled": true
   },
   "outputs": [
    {
     "name": "stdout",
     "output_type": "stream",
     "text": [
      "lam= 0.01 , tau= 2.0\n",
      "lam= 0.01 , tau= 2.5\n",
      "lam= 0.01 , tau= 3.0\n",
      "lam= 0.01 , tau= 3.5\n",
      "lam= 0.01 , tau= 4.0\n",
      "lam= 0.01 , tau= 4.5\n",
      "lam= 0.015 , tau= 2.0\n",
      "lam= 0.015 , tau= 2.5\n",
      "lam= 0.015 , tau= 3.0\n",
      "lam= 0.015 , tau= 3.5\n",
      "lam= 0.015 , tau= 4.0\n",
      "lam= 0.015 , tau= 4.5\n",
      "lam= 0.019999999999999997 , tau= 2.0\n",
      "lam= 0.019999999999999997 , tau= 2.5\n",
      "lam= 0.019999999999999997 , tau= 3.0\n",
      "lam= 0.019999999999999997 , tau= 3.5\n",
      "lam= 0.019999999999999997 , tau= 4.0\n",
      "lam= 0.019999999999999997 , tau= 4.5\n",
      "lam= 0.024999999999999998 , tau= 2.0\n",
      "lam= 0.024999999999999998 , tau= 2.5\n",
      "lam= 0.024999999999999998 , tau= 3.0\n",
      "lam= 0.024999999999999998 , tau= 3.5\n",
      "lam= 0.024999999999999998 , tau= 4.0\n",
      "lam= 0.024999999999999998 , tau= 4.5\n"
     ]
    }
   ],
   "source": [
    "lam_vals = arange(0.01, 0.03, 0.005)\n",
    "tau_vals = arange(2.0, 5.0, 0.5)\n",
    "llh_vals = np.zeros((len(lam_vals), len(tau_vals)))\n",
    "for i in range(len(lam_vals)):\n",
    "    for j in range(len(tau_vals)):\n",
    "        print(\"lam=\",lam_vals[i],\", tau=\",tau_vals[j])\n",
    "        llh_vals[i,j] = llh_from_pars(multi_hh_data, test_times, lam_vals[i], tau_vals[j])"
   ]
  },
  {
   "cell_type": "code",
   "execution_count": 20,
   "id": "2933457d-951f-4925-8aa1-3649cd611933",
   "metadata": {},
   "outputs": [
    {
     "data": {
      "text/plain": [
       "[<matplotlib.lines.Line2D at 0x321a017f0>]"
      ]
     },
     "execution_count": 20,
     "metadata": {},
     "output_type": "execute_result"
    },
    {
     "data": {
      "image/png": "[encoded data removed]",
      "text/plain": [
       "<Figure size 640x480 with 1 Axes>"
      ]
     },
     "metadata": {},
     "output_type": "display_data"
    }
   ],
   "source": [
    "fig, ax = subplots(1, 1)\n",
    "lam_range = lam_vals[-1] - lam_vals[0]\n",
    "tau_range = tau_vals[-1] - tau_vals[0]\n",
    "ax.imshow(llh_vals,\n",
    "            origin='lower',\n",
    "            extent=(lam_vals[0],lam_vals[-1],tau_vals[0],tau_vals[-1]),\n",
    "         aspect=lam_range/tau_range)\n",
    "ax.plot([model_input.beta_int],\n",
    "        [beta_ext],\n",
    "        marker=\".\",\n",
    "        ms=20)"
   ]
  },
  {
   "cell_type": "code",
   "execution_count": 21,
   "id": "54be7379-8df1-41df-877e-1a2ffdbbe199",
   "metadata": {},
   "outputs": [
    {
     "name": "stdout",
     "output_type": "stream",
     "text": [
      "lam= 0.01\n",
      "lam= 0.015\n",
      "lam= 0.019999999999999997\n",
      "lam= 0.024999999999999998\n",
      "tau= 2.0\n",
      "tau= 2.5\n",
      "tau= 3.0\n",
      "tau= 3.5\n",
      "tau= 4.0\n",
      "tau= 4.5\n"
     ]
    },
    {
     "data": {
      "text/plain": [
       "Text(0, 0.5, 'log likelihood')"
      ]
     },
     "execution_count": 21,
     "metadata": {},
     "output_type": "execute_result"
    },
    {
     "data": {
      "image/png": "[encoded data removed]",
      "text/plain": [
       "<Figure size 640x480 with 2 Axes>"
      ]
     },
     "metadata": {},
     "output_type": "display_data"
    }
   ],
   "source": [
    "llh_fixed_tau = np.zeros((len(lam_vals),))\n",
    "for i in range(len(lam_vals)):\n",
    "    print(\"lam=\",lam_vals[i])\n",
    "    llh_fixed_tau[i] = llh_from_pars(multi_hh_data, test_times, lam_vals[i], beta_ext)\n",
    "\n",
    "llh_fixed_lam = np.zeros((len(tau_vals),))\n",
    "for i in range(len(tau_vals)):\n",
    "    print(\"tau=\",tau_vals[i])\n",
    "    llh_fixed_lam[i] = llh_from_pars(multi_hh_data, test_times, model_input.beta_int, tau_vals[i])\n",
    "\n",
    "fig, (ax1, ax2) = subplots(1, 2)\n",
    "ax1.plot(lam_vals, llh_fixed_tau)\n",
    "ax1.set_xlabel(\"lambda\")\n",
    "ax1.set_ylabel(\"log likelihood\")\n",
    "ax2.plot(tau_vals, llh_fixed_lam)\n",
    "ax2.set_xlabel(\"tau\")\n",
    "ax2.set_ylabel(\"log likelihood\")"
   ]
  }
 ],
 "metadata": {
  "kernelspec": {
   "display_name": "Python 3 (ipykernel)",
   "language": "python",
   "name": "python3"
  },
  "language_info": {
   "codemirror_mode": {
    "name": "ipython",
    "version": 3
   },
   "file_extension": ".py",
   "mimetype": "text/x-python",
   "name": "python",
   "nbconvert_exporter": "python",
   "pygments_lexer": "ipython3",
   "version": "3.9.6"
  }
 },
 "nbformat": 4,
 "nbformat_minor": 5
}
