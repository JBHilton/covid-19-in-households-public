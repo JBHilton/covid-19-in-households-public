{
 "cells": [
  {
   "cell_type": "code",
   "execution_count": 1,
   "id": "88ebcb20-e9e0-4e7a-96a7-8d5a3bdf6ffa",
   "metadata": {
    "tags": []
   },
   "outputs": [],
   "source": [
    "import numpy as np\n",
    "import matplotlib.pyplot as plt\n",
    "import scipy as sp\n",
    "from scipy.integrate import solve_ivp\n",
    "from tqdm import tqdm\n",
    "from scipy.optimize import minimize\n",
    "import scipy as sp\n",
    "from scipy.integrate import solve_ivp\n",
    "import numdifftools as nd\n",
    "\n",
    "from numpy.linalg import eig"
   ]
  },
  {
   "cell_type": "code",
   "execution_count": 2,
   "id": "5df21d92-b7b1-46f1-a7d5-adccde85073d",
   "metadata": {},
   "outputs": [
    {
     "data": {
      "text/plain": [
       "'/Users/user/Documents/GitHub/covid-19-in-households-public'"
      ]
     },
     "execution_count": 2,
     "metadata": {},
     "output_type": "execute_result"
    }
   ],
   "source": [
    "import os\n",
    "if 'inference-from-testing' in os.getcwd():\n",
    "    os.chdir(\"../..\")\n",
    "os.getcwd()"
   ]
  },
  {
   "cell_type": "code",
   "execution_count": 10,
   "id": "15213e65-0a64-4a17-8edf-0f71dd631404",
   "metadata": {},
   "outputs": [],
   "source": [
    "from copy import deepcopy\n",
    "from numpy import arange, array, atleast_2d, log\n",
    "from os import mkdir\n",
    "from os.path import isdir, isfile\n",
    "from pickle import load, dump\n",
    "from pandas import read_csv\n",
    "from scipy.integrate import solve_ivp\n",
    "from model.preprocessing import ( estimate_beta_ext, estimate_growth_rate,\n",
    "        SEIRInput, HouseholdPopulation, make_initial_condition_by_eigenvector)\n",
    "from model.specs import SINGLE_AGE_SEIR_SPEC_FOR_FITTING, SINGLE_AGE_UK_SPEC\n",
    "from model.common import SEIRRateEquations\n",
    "from model.imports import NoImportModel"
   ]
  },
  {
   "cell_type": "code",
   "execution_count": 29,
   "id": "2edb3bb7-6613-4a5f-80ba-770816a13be6",
   "metadata": {},
   "outputs": [
    {
     "ename": "AttributeError",
     "evalue": "'numpy.float64' object has no attribute 'dot'",
     "output_type": "error",
     "traceback": [
      "\u001b[0;31m---------------------------------------------------------------------------\u001b[0m",
      "\u001b[0;31mAttributeError\u001b[0m                            Traceback (most recent call last)",
      "Cell \u001b[0;32mIn[29], line 22\u001b[0m\n\u001b[1;32m     19\u001b[0m     mkdir(\u001b[38;5;124m'\u001b[39m\u001b[38;5;124moutputs/inference-from-testing\u001b[39m\u001b[38;5;124m'\u001b[39m)\n\u001b[1;32m     21\u001b[0m SPEC \u001b[38;5;241m=\u001b[39m {\u001b[38;5;241m*\u001b[39m\u001b[38;5;241m*\u001b[39mSINGLE_AGE_SEIR_SPEC_FOR_FITTING, \u001b[38;5;241m*\u001b[39m\u001b[38;5;241m*\u001b[39mSINGLE_AGE_UK_SPEC}\n\u001b[0;32m---> 22\u001b[0m model_input_to_fit \u001b[38;5;241m=\u001b[39m \u001b[43mSEIRInput\u001b[49m\u001b[43m(\u001b[49m\u001b[43mSPEC\u001b[49m\u001b[43m,\u001b[49m\u001b[43m \u001b[49m\u001b[43mcomposition_list\u001b[49m\u001b[43m,\u001b[49m\u001b[43m \u001b[49m\u001b[43mcomp_dist\u001b[49m\u001b[43m)\u001b[49m\n\u001b[1;32m     23\u001b[0m household_population_to_fit \u001b[38;5;241m=\u001b[39m HouseholdPopulation(\n\u001b[1;32m     24\u001b[0m     composition_list, comp_dist, model_input_to_fit)\n\u001b[1;32m     25\u001b[0m rhs_to_fit \u001b[38;5;241m=\u001b[39m SEIRRateEquations(model_input_to_fit, household_population_to_fit, NoImportModel(\u001b[38;5;241m4\u001b[39m,\u001b[38;5;241m2\u001b[39m))\n",
      "File \u001b[0;32m~/Documents/GitHub/covid-19-in-households-public/model/preprocessing.py:718\u001b[0m, in \u001b[0;36mSEIRInput.__init__\u001b[0;34m(self, spec, composition_list, composition_distribution)\u001b[0m\n\u001b[1;32m    715\u001b[0m \u001b[38;5;28;01mdef\u001b[39;00m \u001b[38;5;21msitp_rmse\u001b[39m(x):\n\u001b[1;32m    716\u001b[0m     \u001b[38;5;28;01mreturn\u001b[39;00m calculate_sitp_rmse(x, \u001b[38;5;28mself\u001b[39m, spec[\u001b[38;5;124m'\u001b[39m\u001b[38;5;124mSITP\u001b[39m\u001b[38;5;124m'\u001b[39m])\n\u001b[0;32m--> 718\u001b[0m pars \u001b[38;5;241m=\u001b[39m \u001b[43mminimize\u001b[49m\u001b[43m(\u001b[49m\u001b[43msitp_rmse\u001b[49m\u001b[43m,\u001b[49m\u001b[43m \u001b[49m\u001b[43marray\u001b[49m\u001b[43m(\u001b[49m\u001b[43m[\u001b[49m\u001b[38;5;241;43m1e-1\u001b[39;49m\u001b[43m,\u001b[49m\u001b[38;5;241;43m1\u001b[39;49m\u001b[43m]\u001b[49m\u001b[43m)\u001b[49m\u001b[43m,\u001b[49m\u001b[43m \u001b[49m\u001b[43mbounds\u001b[49m\u001b[38;5;241;43m=\u001b[39;49m\u001b[43m(\u001b[49m\u001b[43m(\u001b[49m\u001b[38;5;241;43m0\u001b[39;49m\u001b[43m,\u001b[49m\u001b[38;5;28;43;01mNone\u001b[39;49;00m\u001b[43m)\u001b[49m\u001b[43m,\u001b[49m\u001b[43m(\u001b[49m\u001b[38;5;241;43m0\u001b[39;49m\u001b[43m,\u001b[49m\u001b[38;5;241;43m1\u001b[39;49m\u001b[43m)\u001b[49m\u001b[43m)\u001b[49m\u001b[43m)\u001b[49m\u001b[38;5;241m.\u001b[39mx\n\u001b[1;32m    719\u001b[0m \u001b[38;5;28mself\u001b[39m\u001b[38;5;241m.\u001b[39mpars \u001b[38;5;241m=\u001b[39m pars\n\u001b[1;32m    720\u001b[0m beta_int \u001b[38;5;241m=\u001b[39m pars[\u001b[38;5;241m0\u001b[39m]\n",
      "File \u001b[0;32m~/Library/Python/3.9/lib/python/site-packages/scipy/optimize/_minimize.py:713\u001b[0m, in \u001b[0;36mminimize\u001b[0;34m(fun, x0, args, method, jac, hess, hessp, bounds, constraints, tol, callback, options)\u001b[0m\n\u001b[1;32m    710\u001b[0m     res \u001b[38;5;241m=\u001b[39m _minimize_newtoncg(fun, x0, args, jac, hess, hessp, callback,\n\u001b[1;32m    711\u001b[0m                              \u001b[38;5;241m*\u001b[39m\u001b[38;5;241m*\u001b[39moptions)\n\u001b[1;32m    712\u001b[0m \u001b[38;5;28;01melif\u001b[39;00m meth \u001b[38;5;241m==\u001b[39m \u001b[38;5;124m'\u001b[39m\u001b[38;5;124ml-bfgs-b\u001b[39m\u001b[38;5;124m'\u001b[39m:\n\u001b[0;32m--> 713\u001b[0m     res \u001b[38;5;241m=\u001b[39m \u001b[43m_minimize_lbfgsb\u001b[49m\u001b[43m(\u001b[49m\u001b[43mfun\u001b[49m\u001b[43m,\u001b[49m\u001b[43m \u001b[49m\u001b[43mx0\u001b[49m\u001b[43m,\u001b[49m\u001b[43m \u001b[49m\u001b[43margs\u001b[49m\u001b[43m,\u001b[49m\u001b[43m \u001b[49m\u001b[43mjac\u001b[49m\u001b[43m,\u001b[49m\u001b[43m \u001b[49m\u001b[43mbounds\u001b[49m\u001b[43m,\u001b[49m\n\u001b[1;32m    714\u001b[0m \u001b[43m                           \u001b[49m\u001b[43mcallback\u001b[49m\u001b[38;5;241;43m=\u001b[39;49m\u001b[43mcallback\u001b[49m\u001b[43m,\u001b[49m\u001b[43m \u001b[49m\u001b[38;5;241;43m*\u001b[39;49m\u001b[38;5;241;43m*\u001b[39;49m\u001b[43moptions\u001b[49m\u001b[43m)\u001b[49m\n\u001b[1;32m    715\u001b[0m \u001b[38;5;28;01melif\u001b[39;00m meth \u001b[38;5;241m==\u001b[39m \u001b[38;5;124m'\u001b[39m\u001b[38;5;124mtnc\u001b[39m\u001b[38;5;124m'\u001b[39m:\n\u001b[1;32m    716\u001b[0m     res \u001b[38;5;241m=\u001b[39m _minimize_tnc(fun, x0, args, jac, bounds, callback\u001b[38;5;241m=\u001b[39mcallback,\n\u001b[1;32m    717\u001b[0m                         \u001b[38;5;241m*\u001b[39m\u001b[38;5;241m*\u001b[39moptions)\n",
      "File \u001b[0;32m~/Library/Python/3.9/lib/python/site-packages/scipy/optimize/_lbfgsb_py.py:347\u001b[0m, in \u001b[0;36m_minimize_lbfgsb\u001b[0;34m(fun, x0, args, jac, bounds, disp, maxcor, ftol, gtol, eps, maxfun, maxiter, iprint, callback, maxls, finite_diff_rel_step, **unknown_options)\u001b[0m\n\u001b[1;32m    344\u001b[0m         iprint \u001b[38;5;241m=\u001b[39m disp\n\u001b[1;32m    346\u001b[0m \u001b[38;5;66;03m# _prepare_scalar_function can use bounds=None to represent no bounds\u001b[39;00m\n\u001b[0;32m--> 347\u001b[0m sf \u001b[38;5;241m=\u001b[39m \u001b[43m_prepare_scalar_function\u001b[49m\u001b[43m(\u001b[49m\u001b[43mfun\u001b[49m\u001b[43m,\u001b[49m\u001b[43m \u001b[49m\u001b[43mx0\u001b[49m\u001b[43m,\u001b[49m\u001b[43m \u001b[49m\u001b[43mjac\u001b[49m\u001b[38;5;241;43m=\u001b[39;49m\u001b[43mjac\u001b[49m\u001b[43m,\u001b[49m\u001b[43m \u001b[49m\u001b[43margs\u001b[49m\u001b[38;5;241;43m=\u001b[39;49m\u001b[43margs\u001b[49m\u001b[43m,\u001b[49m\u001b[43m \u001b[49m\u001b[43mepsilon\u001b[49m\u001b[38;5;241;43m=\u001b[39;49m\u001b[43meps\u001b[49m\u001b[43m,\u001b[49m\n\u001b[1;32m    348\u001b[0m \u001b[43m                              \u001b[49m\u001b[43mbounds\u001b[49m\u001b[38;5;241;43m=\u001b[39;49m\u001b[43mbounds\u001b[49m\u001b[43m,\u001b[49m\n\u001b[1;32m    349\u001b[0m \u001b[43m                              \u001b[49m\u001b[43mfinite_diff_rel_step\u001b[49m\u001b[38;5;241;43m=\u001b[39;49m\u001b[43mfinite_diff_rel_step\u001b[49m\u001b[43m)\u001b[49m\n\u001b[1;32m    351\u001b[0m func_and_grad \u001b[38;5;241m=\u001b[39m sf\u001b[38;5;241m.\u001b[39mfun_and_grad\n\u001b[1;32m    353\u001b[0m fortran_int \u001b[38;5;241m=\u001b[39m _lbfgsb\u001b[38;5;241m.\u001b[39mtypes\u001b[38;5;241m.\u001b[39mintvar\u001b[38;5;241m.\u001b[39mdtype\n",
      "File \u001b[0;32m~/Library/Python/3.9/lib/python/site-packages/scipy/optimize/_optimize.py:288\u001b[0m, in \u001b[0;36m_prepare_scalar_function\u001b[0;34m(fun, x0, jac, args, bounds, epsilon, finite_diff_rel_step, hess)\u001b[0m\n\u001b[1;32m    284\u001b[0m     bounds \u001b[38;5;241m=\u001b[39m (\u001b[38;5;241m-\u001b[39mnp\u001b[38;5;241m.\u001b[39minf, np\u001b[38;5;241m.\u001b[39minf)\n\u001b[1;32m    286\u001b[0m \u001b[38;5;66;03m# ScalarFunction caches. Reuse of fun(x) during grad\u001b[39;00m\n\u001b[1;32m    287\u001b[0m \u001b[38;5;66;03m# calculation reduces overall function evaluations.\u001b[39;00m\n\u001b[0;32m--> 288\u001b[0m sf \u001b[38;5;241m=\u001b[39m \u001b[43mScalarFunction\u001b[49m\u001b[43m(\u001b[49m\u001b[43mfun\u001b[49m\u001b[43m,\u001b[49m\u001b[43m \u001b[49m\u001b[43mx0\u001b[49m\u001b[43m,\u001b[49m\u001b[43m \u001b[49m\u001b[43margs\u001b[49m\u001b[43m,\u001b[49m\u001b[43m \u001b[49m\u001b[43mgrad\u001b[49m\u001b[43m,\u001b[49m\u001b[43m \u001b[49m\u001b[43mhess\u001b[49m\u001b[43m,\u001b[49m\n\u001b[1;32m    289\u001b[0m \u001b[43m                    \u001b[49m\u001b[43mfinite_diff_rel_step\u001b[49m\u001b[43m,\u001b[49m\u001b[43m \u001b[49m\u001b[43mbounds\u001b[49m\u001b[43m,\u001b[49m\u001b[43m \u001b[49m\u001b[43mepsilon\u001b[49m\u001b[38;5;241;43m=\u001b[39;49m\u001b[43mepsilon\u001b[49m\u001b[43m)\u001b[49m\n\u001b[1;32m    291\u001b[0m \u001b[38;5;28;01mreturn\u001b[39;00m sf\n",
      "File \u001b[0;32m~/Library/Python/3.9/lib/python/site-packages/scipy/optimize/_differentiable_functions.py:166\u001b[0m, in \u001b[0;36mScalarFunction.__init__\u001b[0;34m(self, fun, x0, args, grad, hess, finite_diff_rel_step, finite_diff_bounds, epsilon)\u001b[0m\n\u001b[1;32m    163\u001b[0m     \u001b[38;5;28mself\u001b[39m\u001b[38;5;241m.\u001b[39mf \u001b[38;5;241m=\u001b[39m fun_wrapped(\u001b[38;5;28mself\u001b[39m\u001b[38;5;241m.\u001b[39mx)\n\u001b[1;32m    165\u001b[0m \u001b[38;5;28mself\u001b[39m\u001b[38;5;241m.\u001b[39m_update_fun_impl \u001b[38;5;241m=\u001b[39m update_fun\n\u001b[0;32m--> 166\u001b[0m \u001b[38;5;28;43mself\u001b[39;49m\u001b[38;5;241;43m.\u001b[39;49m\u001b[43m_update_fun\u001b[49m\u001b[43m(\u001b[49m\u001b[43m)\u001b[49m\n\u001b[1;32m    168\u001b[0m \u001b[38;5;66;03m# Gradient evaluation\u001b[39;00m\n\u001b[1;32m    169\u001b[0m \u001b[38;5;28;01mif\u001b[39;00m \u001b[38;5;28mcallable\u001b[39m(grad):\n",
      "File \u001b[0;32m~/Library/Python/3.9/lib/python/site-packages/scipy/optimize/_differentiable_functions.py:262\u001b[0m, in \u001b[0;36mScalarFunction._update_fun\u001b[0;34m(self)\u001b[0m\n\u001b[1;32m    260\u001b[0m \u001b[38;5;28;01mdef\u001b[39;00m \u001b[38;5;21m_update_fun\u001b[39m(\u001b[38;5;28mself\u001b[39m):\n\u001b[1;32m    261\u001b[0m     \u001b[38;5;28;01mif\u001b[39;00m \u001b[38;5;129;01mnot\u001b[39;00m \u001b[38;5;28mself\u001b[39m\u001b[38;5;241m.\u001b[39mf_updated:\n\u001b[0;32m--> 262\u001b[0m         \u001b[38;5;28;43mself\u001b[39;49m\u001b[38;5;241;43m.\u001b[39;49m\u001b[43m_update_fun_impl\u001b[49m\u001b[43m(\u001b[49m\u001b[43m)\u001b[49m\n\u001b[1;32m    263\u001b[0m         \u001b[38;5;28mself\u001b[39m\u001b[38;5;241m.\u001b[39mf_updated \u001b[38;5;241m=\u001b[39m \u001b[38;5;28;01mTrue\u001b[39;00m\n",
      "File \u001b[0;32m~/Library/Python/3.9/lib/python/site-packages/scipy/optimize/_differentiable_functions.py:163\u001b[0m, in \u001b[0;36mScalarFunction.__init__.<locals>.update_fun\u001b[0;34m()\u001b[0m\n\u001b[1;32m    162\u001b[0m \u001b[38;5;28;01mdef\u001b[39;00m \u001b[38;5;21mupdate_fun\u001b[39m():\n\u001b[0;32m--> 163\u001b[0m     \u001b[38;5;28mself\u001b[39m\u001b[38;5;241m.\u001b[39mf \u001b[38;5;241m=\u001b[39m \u001b[43mfun_wrapped\u001b[49m\u001b[43m(\u001b[49m\u001b[38;5;28;43mself\u001b[39;49m\u001b[38;5;241;43m.\u001b[39;49m\u001b[43mx\u001b[49m\u001b[43m)\u001b[49m\n",
      "File \u001b[0;32m~/Library/Python/3.9/lib/python/site-packages/scipy/optimize/_differentiable_functions.py:145\u001b[0m, in \u001b[0;36mScalarFunction.__init__.<locals>.fun_wrapped\u001b[0;34m(x)\u001b[0m\n\u001b[1;32m    141\u001b[0m \u001b[38;5;28mself\u001b[39m\u001b[38;5;241m.\u001b[39mnfev \u001b[38;5;241m+\u001b[39m\u001b[38;5;241m=\u001b[39m \u001b[38;5;241m1\u001b[39m\n\u001b[1;32m    142\u001b[0m \u001b[38;5;66;03m# Send a copy because the user may overwrite it.\u001b[39;00m\n\u001b[1;32m    143\u001b[0m \u001b[38;5;66;03m# Overwriting results in undefined behaviour because\u001b[39;00m\n\u001b[1;32m    144\u001b[0m \u001b[38;5;66;03m# fun(self.x) will change self.x, with the two no longer linked.\u001b[39;00m\n\u001b[0;32m--> 145\u001b[0m fx \u001b[38;5;241m=\u001b[39m \u001b[43mfun\u001b[49m\u001b[43m(\u001b[49m\u001b[43mnp\u001b[49m\u001b[38;5;241;43m.\u001b[39;49m\u001b[43mcopy\u001b[49m\u001b[43m(\u001b[49m\u001b[43mx\u001b[49m\u001b[43m)\u001b[49m\u001b[43m,\u001b[49m\u001b[43m \u001b[49m\u001b[38;5;241;43m*\u001b[39;49m\u001b[43margs\u001b[49m\u001b[43m)\u001b[49m\n\u001b[1;32m    146\u001b[0m \u001b[38;5;66;03m# Make sure the function returns a true scalar\u001b[39;00m\n\u001b[1;32m    147\u001b[0m \u001b[38;5;28;01mif\u001b[39;00m \u001b[38;5;129;01mnot\u001b[39;00m np\u001b[38;5;241m.\u001b[39misscalar(fx):\n",
      "File \u001b[0;32m~/Documents/GitHub/covid-19-in-households-public/model/preprocessing.py:716\u001b[0m, in \u001b[0;36mSEIRInput.__init__.<locals>.sitp_rmse\u001b[0;34m(x)\u001b[0m\n\u001b[1;32m    715\u001b[0m \u001b[38;5;28;01mdef\u001b[39;00m \u001b[38;5;21msitp_rmse\u001b[39m(x):\n\u001b[0;32m--> 716\u001b[0m     \u001b[38;5;28;01mreturn\u001b[39;00m \u001b[43mcalculate_sitp_rmse\u001b[49m\u001b[43m(\u001b[49m\u001b[43mx\u001b[49m\u001b[43m,\u001b[49m\u001b[43m \u001b[49m\u001b[38;5;28;43mself\u001b[39;49m\u001b[43m,\u001b[49m\u001b[43m \u001b[49m\u001b[43mspec\u001b[49m\u001b[43m[\u001b[49m\u001b[38;5;124;43m'\u001b[39;49m\u001b[38;5;124;43mSITP\u001b[39;49m\u001b[38;5;124;43m'\u001b[39;49m\u001b[43m]\u001b[49m\u001b[43m)\u001b[49m\n",
      "File \u001b[0;32m~/Documents/GitHub/covid-19-in-households-public/model/preprocessing.py:549\u001b[0m, in \u001b[0;36mcalculate_sitp_rmse\u001b[0;34m(x, model_input, sitp_data)\u001b[0m\n\u001b[1;32m    543\u001b[0m escape_prob \u001b[38;5;241m=\u001b[39m \u001b[38;5;241m1\u001b[39m\n\u001b[1;32m    544\u001b[0m \u001b[38;5;28;01mfor\u001b[39;00m comp \u001b[38;5;129;01min\u001b[39;00m \u001b[38;5;28mrange\u001b[39m(model_input\u001b[38;5;241m.\u001b[39mno_inf_compartments):\n\u001b[1;32m    545\u001b[0m     escape_prob \u001b[38;5;241m*\u001b[39m\u001b[38;5;241m=\u001b[39m \u001b[38;5;241m1\u001b[39m \u001b[38;5;241m/\u001b[39m (\n\u001b[1;32m    546\u001b[0m         \u001b[38;5;241m1\u001b[39m  \u001b[38;5;241m+\u001b[39m\n\u001b[1;32m    547\u001b[0m         (beta_int \u001b[38;5;241m*\u001b[39m (\u001b[38;5;241m1\u001b[39m \u001b[38;5;241m/\u001b[39m model_input\u001b[38;5;241m.\u001b[39mprog_rates[comp]) \u001b[38;5;241m*\u001b[39m\n\u001b[1;32m    548\u001b[0m         (model_input\u001b[38;5;241m.\u001b[39minf_scales[comp]\u001b[38;5;241m.\u001b[39mdot(\n\u001b[0;32m--> 549\u001b[0m         \u001b[43mmodel_input\u001b[49m\u001b[38;5;241;43m.\u001b[39;49m\u001b[43mave_hh_by_class\u001b[49m \u001b[38;5;241m/\u001b[39m model_input\u001b[38;5;241m.\u001b[39mave_hh_size\n\u001b[1;32m    550\u001b[0m         ) \u001b[38;5;241m*\u001b[39m model_input\u001b[38;5;241m.\u001b[39mave_contact_dur) \u001b[38;5;241m/\u001b[39m\n\u001b[1;32m    551\u001b[0m         (n\u001b[38;5;241m+\u001b[39m\u001b[38;5;241m1\u001b[39m)\u001b[38;5;241m*\u001b[39m\u001b[38;5;241m*\u001b[39mdensity_expo))\n\u001b[1;32m    552\u001b[0m sitp_est \u001b[38;5;241m=\u001b[39m \u001b[38;5;241m1\u001b[39m \u001b[38;5;241m-\u001b[39m escape_prob\n\u001b[1;32m    553\u001b[0m err_array[n] \u001b[38;5;241m=\u001b[39m (sitp \u001b[38;5;241m-\u001b[39m sitp_est)\u001b[38;5;241m*\u001b[39m\u001b[38;5;241m*\u001b[39m\u001b[38;5;241m2\u001b[39m\n",
      "File \u001b[0;32m~/Documents/GitHub/covid-19-in-households-public/model/preprocessing.py:653\u001b[0m, in \u001b[0;36mModelInput.ave_hh_by_class\u001b[0;34m(self)\u001b[0m\n\u001b[1;32m    651\u001b[0m \u001b[38;5;129m@property\u001b[39m\n\u001b[1;32m    652\u001b[0m \u001b[38;5;28;01mdef\u001b[39;00m \u001b[38;5;21mave_hh_by_class\u001b[39m(\u001b[38;5;28mself\u001b[39m):\n\u001b[0;32m--> 653\u001b[0m     \u001b[38;5;28;01mreturn\u001b[39;00m \u001b[38;5;28;43mself\u001b[39;49m\u001b[38;5;241;43m.\u001b[39;49m\u001b[43mcomposition_distribution\u001b[49m\u001b[38;5;241;43m.\u001b[39;49m\u001b[43mT\u001b[49m\u001b[38;5;241;43m.\u001b[39;49m\u001b[43mdot\u001b[49m(\u001b[38;5;28mself\u001b[39m\u001b[38;5;241m.\u001b[39mcomposition_list)\n",
      "\u001b[0;31mAttributeError\u001b[0m: 'numpy.float64' object has no attribute 'dot'"
     ]
    }
   ],
   "source": [
    "DOUBLING_TIME = 3\n",
    "growth_rate = log(2) / DOUBLING_TIME\n",
    "\n",
    "comp_dist = read_csv(\n",
    "    'inputs/england_hh_size_dist.csv',\n",
    "    header=0).to_numpy().squeeze()\n",
    "max_hh_size = len(comp_dist)\n",
    "composition_list = np.atleast_2d(arange(1, max_hh_size+1)).T\n",
    "\n",
    "#comp_dist = array([1.])\n",
    "#composition_list = array([[1]])\n",
    "\n",
    "if isdir('outputs') is False:\n",
    "    mkdir('outputs')\n",
    "if isdir('outputs/inference-from-testing') is False:\n",
    "    mkdir('outputs/inference-from-testing')\n",
    "\n",
    "SPEC = {**SINGLE_AGE_SEIR_SPEC_FOR_FITTING, **SINGLE_AGE_UK_SPEC}\n",
    "model_input_to_fit = SEIRInput(SPEC, composition_list, comp_dist)\n",
    "household_population_to_fit = HouseholdPopulation(\n",
    "    composition_list, comp_dist, model_input_to_fit)\n",
    "rhs_to_fit = SEIRRateEquations(model_input_to_fit, household_population_to_fit, NoImportModel(4,2))\n",
    "beta_ext = estimate_beta_ext(household_population_to_fit, rhs_to_fit, growth_rate)\n",
    "model_input = deepcopy(model_input_to_fit)\n",
    "model_input.k_ext *= beta_ext\n",
    "print('Estimated beta is',beta_ext)\n",
    "with open('outputs/inference-from-testing/fitted_SEIR_input.pkl', 'wb') as f:\n",
    "    dump(model_input, f)\n",
    "\n",
    "\n",
    "# With the parameters chosen, we calculate Q_int:\n",
    "household_population = HouseholdPopulation(\n",
    "    composition_list, comp_dist, model_input)\n",
    "\n",
    "rhs = SEIRRateEquations(model_input, household_population, NoImportModel(4,1))\n",
    "\n",
    "r_est = estimate_growth_rate(household_population, rhs, [0.001, 5], 1e-9)\n",
    "\n",
    "\n",
    "print('Estimated growth rate is',r_est,'.')\n",
    "print('Estimated doubling time is',log(2) / r_est,'.')\n",
    "\n",
    "H0 = make_initial_condition_by_eigenvector(growth_rate, model_input, household_population, rhs, 1e-2, 0.0,False,3)\n",
    "S0 = H0.T.dot(household_population.states[:, ::4])\n",
    "E0 = H0.T.dot(household_population.states[:, 1::4])\n",
    "I0 = H0.T.dot(household_population.states[:, 2::4])\n",
    "R0 = H0.T.dot(household_population.states[:, 3::4])\n",
    "start_state = (1/model_input.ave_hh_size) * array([S0.sum(),\n",
    "                                                   E0.sum(),\n",
    "                                                   I0.sum(),\n",
    "                                                   R0.sum()])\n",
    "tspan = (0.0, 365)\n",
    "print(start_state)"
   ]
  },
  {
   "cell_type": "code",
   "execution_count": 28,
   "id": "75342165-ad4d-4075-80bd-4cb9cb7b2bb3",
   "metadata": {},
   "outputs": [
    {
     "data": {
      "text/plain": [
       "array([0.30252624, 0.34236594, 0.15601308, 0.13009572, 0.04667241,\n",
       "       0.0167537 , 0.0040308 , 0.00154211])"
      ]
     },
     "execution_count": 28,
     "metadata": {},
     "output_type": "execute_result"
    }
   ],
   "source": [
    "comp_dist"
   ]
  },
  {
   "cell_type": "code",
   "execution_count": 14,
   "id": "d0c0833e-a254-4715-be6a-b0fe88f4c5ea",
   "metadata": {
    "tags": []
   },
   "outputs": [],
   "source": [
    "# Now set up evaluation time points and solve system:\n",
    "\n",
    "# New time at which we evaluate the infection\n",
    "trange = np.arange(0,7*12,7) # Evaluate for 12 weeks\n",
    "\n",
    "# Solve:\n",
    "solution = solve_ivp(rhs, tspan, H0, first_step=0.001, atol=1e-16, t_eval=trange)\n",
    "\n",
    "time = solution.t\n",
    "H = solution.y\n",
    "S = H.T.dot(household_population.states[:, ::4])\n",
    "E = H.T.dot(household_population.states[:, 1::4])\n",
    "I = H.T.dot(household_population.states[:, 2::4])\n",
    "R = H.T.dot(household_population.states[:, 3::4])"
   ]
  },
  {
   "cell_type": "code",
   "execution_count": 16,
   "id": "775bc0f6-1125-40b3-b9a7-6717bb6d4c7d",
   "metadata": {},
   "outputs": [
    {
     "name": "stderr",
     "output_type": "stream",
     "text": [
      "/var/folders/mn/cjzm0gtn7_z4bsq7d44zp_y00000gp/T/ipykernel_83168/852802733.py:13: MatplotlibDeprecationWarning: The get_cmap function was deprecated in Matplotlib 3.7 and will be removed two minor releases later. Use ``matplotlib.colormaps[name]`` or ``matplotlib.colormaps.get_cmap(obj)`` instead.\n",
      "  cmap = get_cmap('tab20')\n"
     ]
    },
    {
     "data": {
      "text/plain": [
       "<matplotlib.legend.Legend at 0x31cde4370>"
      ]
     },
     "execution_count": 16,
     "metadata": {},
     "output_type": "execute_result"
    },
    {
     "data": {
      "image/png": "[encoded data removed]",
      "text/plain": [
       "<Figure size 640x480 with 1 Axes>"
      ]
     },
     "metadata": {},
     "output_type": "display_data"
    }
   ],
   "source": [
    "from matplotlib.pyplot import subplots\n",
    "from matplotlib.cm import get_cmap\n",
    "\n",
    "data_list = [S/model_input.ave_hh_by_class,\n",
    "    E/model_input.ave_hh_by_class,\n",
    "    I/model_input.ave_hh_by_class,\n",
    "    R/model_input.ave_hh_by_class]\n",
    "\n",
    "lgd=['S','E','I','R']\n",
    "\n",
    "fig, (axis) = subplots(1,1, sharex=True)\n",
    "\n",
    "cmap = get_cmap('tab20')\n",
    "alpha = 0.5\n",
    "for i in range(len(data_list)):\n",
    "    axis.plot(\n",
    "        time, data_list[i], label=lgd[i],\n",
    "        color=cmap(i/len(data_list)), alpha=alpha)\n",
    "axis.set_ylabel('Proportion of population')\n",
    "axis.legend(ncol=1, bbox_to_anchor=(1,0.50))"
   ]
  },
  {
   "cell_type": "code",
   "execution_count": 17,
   "id": "54797f43-ea03-4efe-ae2b-2ff2627d9cbd",
   "metadata": {},
   "outputs": [],
   "source": [
    "H[H<0.0] = 0.0"
   ]
  },
  {
   "cell_type": "code",
   "execution_count": 18,
   "id": "58a7de2d-e9ba-4892-ad07-3407ccf498b9",
   "metadata": {
    "tags": []
   },
   "outputs": [],
   "source": [
    "n = 100                          # daily sampling size\n",
    "z = np.zeros((len(trange),np.shape(H)[0]))    # to store the values of 3 states\n",
    "\n",
    "np.random.seed(123)              # So that we always get the same random numbers\n",
    "for i, t in enumerate(trange):\n",
    "    z[i,:] = sp.stats.multinomial.rvs(n, H[:, i]/sum(H[:,i]))"
   ]
  },
  {
   "cell_type": "code",
   "execution_count": 19,
   "id": "a404403f",
   "metadata": {},
   "outputs": [
    {
     "name": "stdout",
     "output_type": "stream",
     "text": [
      "[[ 0.  0.  0. ...  0.  0.  0.]\n",
      " [ 0.  1.  0. ...  0.  0.  0.]\n",
      " [ 0.  3.  1. ...  0.  0.  0.]\n",
      " ...\n",
      " [33.  1.  0. ...  0.  0.  0.]\n",
      " [30.  1.  0. ...  0.  0.  0.]\n",
      " [27.  0.  0. ...  0.  0.  0.]]\n",
      "494\n"
     ]
    }
   ],
   "source": [
    "print(z)\n",
    "print(len(np.where(sum(z,1)>0)[0]))"
   ]
  },
  {
   "cell_type": "code",
   "execution_count": 20,
   "id": "f11bb469-e3b7-4598-923c-9ce028751d43",
   "metadata": {},
   "outputs": [],
   "source": [
    "pp = H"
   ]
  },
  {
   "cell_type": "code",
   "execution_count": 21,
   "id": "bc2771a9-e394-4d8f-bb4d-6f2c759a8b81",
   "metadata": {},
   "outputs": [
    {
     "data": {
      "text/plain": [
       "nan"
      ]
     },
     "execution_count": 21,
     "metadata": {},
     "output_type": "execute_result"
    }
   ],
   "source": [
    "# Calculate log likelihood:\n",
    "\n",
    "np.sum(sp.stats.multinomial.logpmf(z,n,H.T))\n",
    "# np.sum(sp.stats.multinomial.logpmf(z,n,pp.T))"
   ]
  },
  {
   "cell_type": "markdown",
   "id": "5d855561-a820-4b6d-8642-6ab51e9b69ba",
   "metadata": {},
   "source": [
    "The box above is currently returning nan. This is possibly because we're dealing with a large number of very small probabilities. The calculation below runs successfully:"
   ]
  },
  {
   "cell_type": "code",
   "execution_count": 22,
   "id": "3f203d65",
   "metadata": {},
   "outputs": [
    {
     "name": "stdout",
     "output_type": "stream",
     "text": [
      "-211.19083121708408\n"
     ]
    }
   ],
   "source": [
    "# Log likelihood if we can only measure infecteds\n",
    "# This is for one test result, you´ll need to adapt to multiple\n",
    "\n",
    "def llh_from_I(I, H):\n",
    "    possible_states = np.where(np.sum((rhs.states_inf_only - I),1)<1e-1)[0]\n",
    "    #print(I)\n",
    "    #print(rhs.states_inf_only[np.where(np.sum((rhs.states_inf_only - I),1)<1e-1)[0], ])\n",
    "    #print(np.sum(H[possible_states]))\n",
    "    llh = np.log(np.sum(H[possible_states]))\n",
    "    return(llh)\n",
    "\n",
    "total_llh = 0\n",
    "for i, t in enumerate(trange):\n",
    "    for j in np.where(z[i, :]>0)[0]:\n",
    "        number_infected = rhs.states_inf_only[j, :]\n",
    "        total_llh += z[i, j] * llh_from_I(number_infected, H[:, i]) # Premultiply to do joint prob\n",
    "print(total_llh)"
   ]
  },
  {
   "cell_type": "code",
   "execution_count": null,
   "id": "af8fba4e-a43f-44d7-ac85-a813ceb35ec3",
   "metadata": {
    "tags": []
   },
   "outputs": [],
   "source": [
    "def myll(lam, tau, sig, gam):\n",
    "    odefun = lambda t, x: epidemic_model(t,x,lam,tau,sig, gam)\n",
    "    sol = solve_ivp(odefun, (0, T), initial_state, t_eval=trange)\n",
    "    pp = (sol.y/total_pairs).T\n",
    "    pp[pp<0.]=0.\n",
    "    ll = np.sum(sp.stats.multinomial.logpmf(z,n,pp))\n",
    "    return(ll)"
   ]
  },
  {
   "cell_type": "code",
   "execution_count": null,
   "id": "1990f7b1-453a-4ad4-af69-e94772160764",
   "metadata": {
    "tags": []
   },
   "outputs": [],
   "source": [
    "#Calculate the negative log likelihood\n",
    "neg_log_likelihood = lambda params: -myll(params[0], params[1], params[2], params[3])"
   ]
  },
  {
   "cell_type": "code",
   "execution_count": null,
   "id": "a1d1fa24-5a30-4cfa-9ca1-f1543a137275",
   "metadata": {
    "tags": []
   },
   "outputs": [],
   "source": [
    "def mycall(x):\n",
    "    print('trying ' + str(x))\n",
    "    print(str(neg_log_likelihood(x)))"
   ]
  },
  {
   "cell_type": "code",
   "execution_count": null,
   "id": "609a92c2-9b38-4bba-a9ff-8cab5a17bb26",
   "metadata": {
    "tags": []
   },
   "outputs": [],
   "source": [
    "result = minimize(neg_log_likelihood, np.array([0.35,  0.215, 0.65,  0.55]), method='Nelder-Mead', callback=mycall)"
   ]
  },
  {
   "cell_type": "code",
   "execution_count": null,
   "id": "ab070849-31c6-4b90-b56e-f73b8595e453",
   "metadata": {
    "tags": []
   },
   "outputs": [],
   "source": [
    "result"
   ]
  },
  {
   "cell_type": "code",
   "execution_count": null,
   "id": "90d05b5a-7cfd-41dd-b338-ae61942d9cc2",
   "metadata": {},
   "outputs": [],
   "source": [
    "#Store results of the minimization\n",
    "xhat = result.x\n",
    "xhat"
   ]
  },
  {
   "cell_type": "code",
   "execution_count": null,
   "id": "1ca61b82-459b-4c9d-9208-8168ce593d82",
   "metadata": {},
   "outputs": [],
   "source": [
    "#Calculate the Hessian\n",
    "hess = nd.Hessian(neg_log_likelihood)"
   ]
  },
  {
   "cell_type": "code",
   "execution_count": null,
   "id": "a3e68908-ed9a-43e0-96fd-1969ee30e9a7",
   "metadata": {
    "tags": []
   },
   "outputs": [],
   "source": [
    "# Cholesky decomposition inversion\n",
    "cdi =  np.linalg.inv(np.linalg.cholesky(hess(xhat)))\n",
    "inverse = np.dot(cdi.T, cdi)"
   ]
  },
  {
   "cell_type": "code",
   "execution_count": null,
   "id": "1280f38f-5b2a-43dd-900a-e8d7d539c41b",
   "metadata": {
    "tags": []
   },
   "outputs": [],
   "source": [
    "#standart deviation\n",
    "stds = np.sqrt(np.diag(inverse))\n",
    "stds"
   ]
  },
  {
   "cell_type": "code",
   "execution_count": null,
   "id": "04b71a1e-5169-4940-8002-2a2a3761a52f",
   "metadata": {
    "tags": []
   },
   "outputs": [],
   "source": [
    "xhat + 1.96*stds"
   ]
  },
  {
   "cell_type": "code",
   "execution_count": null,
   "id": "cfe050a8-aba1-4e37-83a8-e5a8beda24a9",
   "metadata": {
    "tags": []
   },
   "outputs": [],
   "source": [
    "xhat - 1.96*stds"
   ]
  },
  {
   "cell_type": "code",
   "execution_count": null,
   "id": "ce3bab85-4bcc-48e9-a580-9caa0703b8ea",
   "metadata": {
    "tags": []
   },
   "outputs": [],
   "source": [
    "#Confidence interval\n",
    "\n",
    "for i, xh in enumerate(xhat):\n",
    "    print('Variable ' + str(i+1) + ' is ' + str(xh) + '(' + str(xh-1.96*stds[i]) + ',' + str(xh+1.96*stds[i]) + '). True: ' + str(initial_guess[i]))"
   ]
  },
  {
   "cell_type": "code",
   "execution_count": null,
   "id": "4c4585f1-dc1f-4a23-b662-0b91e8e64803",
   "metadata": {},
   "outputs": [],
   "source": [
    "up to significant figures . format sintax"
   ]
  },
  {
   "cell_type": "code",
   "execution_count": null,
   "id": "a4088677-4b6a-45c3-b2b7-6a57a1f36b81",
   "metadata": {},
   "outputs": [],
   "source": []
  },
  {
   "cell_type": "code",
   "execution_count": null,
   "id": "3db8248a-f28d-489a-a4e5-60731d3b9ce1",
   "metadata": {},
   "outputs": [],
   "source": []
  },
  {
   "cell_type": "code",
   "execution_count": null,
   "id": "2f377788-a2dd-42ec-9b16-c31fde9d3388",
   "metadata": {},
   "outputs": [],
   "source": []
  }
 ],
 "metadata": {
  "kernelspec": {
   "display_name": "Python 3 (ipykernel)",
   "language": "python",
   "name": "python3"
  },
  "language_info": {
   "codemirror_mode": {
    "name": "ipython",
    "version": 3
   },
   "file_extension": ".py",
   "mimetype": "text/x-python",
   "name": "python",
   "nbconvert_exporter": "python",
   "pygments_lexer": "ipython3",
   "version": "3.9.6"
  }
 },
 "nbformat": 4,
 "nbformat_minor": 5
}
