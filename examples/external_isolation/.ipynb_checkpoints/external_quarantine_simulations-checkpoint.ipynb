{
 "cells": [
  {
   "cell_type": "markdown",
   "metadata": {},
   "source": [
    "# Modelling external isolation\n",
    "\n",
    "In this notebook we use an age- and household-structured model to assess the impact of external quarantining as a mitigation measure against covid-19. We compare against the more typical internal quarantine approach. Under external quarantining, a single infected individual is removed from the household and has no interaction with the members of that household or any other. Under internal quarantining, the infected individual is still able to interact with the other members of their household but the entire household is completely prevented from contributing to the population-level outbreak.\n",
    "\n",
    "The following cell imports all of the dependencies required for this notebook."
   ]
  },
  {
   "cell_type": "code",
   "execution_count": 1,
   "metadata": {},
   "outputs": [],
   "source": [
    "from os import getcwd, chdir\n",
    "from os.path import isfile\n",
    "from pickle import load, dump\n",
    "from numpy import arange, array\n",
    "from numpy.random import rand\n",
    "from pandas import read_csv\n",
    "from time import time as get_time\n",
    "from scipy.integrate import solve_ivp\n",
    "from matplotlib.pyplot import subplots\n",
    "from matplotlib.cm import get_cmap\n",
    "from model.preprocessing import TwoAgeWithVulnerableInput, HouseholdPopulation\n",
    "from model.preprocessing import add_vulnerable_hh_members, make_initial_SEPIRQ_condition\n",
    "from model.common import SEPIRQRateEquations, within_household_SEPIRQ\n",
    "from model.imports import ( FixedImportModel)"
   ]
  },
  {
   "cell_type": "markdown",
   "metadata": {},
   "source": [
    "The working directory needs to be the main repo directory, `...\\GitHub\\covid-19-in-households-public`. If the kernel is clear, the following cell will set this to be the working directory. Once you have run this cell, do not run it again without clearing the kernel."
   ]
  },
  {
   "cell_type": "code",
   "execution_count": 2,
   "metadata": {},
   "outputs": [
    {
     "name": "stdout",
     "output_type": "stream",
     "text": [
      "C:\\Users\\Joe Hilton\\Documents\\GitHub\\covid-19-in-households-public\\examples\\external_isolation\n",
      "C:\\Users\\Joe Hilton\\Documents\\GitHub\\covid-19-in-households-public\n"
     ]
    }
   ],
   "source": [
    "print(getcwd())\n",
    "chdir('..\\..')\n",
    "print(getcwd())"
   ]
  },
  {
   "cell_type": "markdown",
   "metadata": {},
   "source": [
    "## Model description\n",
    "\n",
    "We use a compartmental model with six compartments, **S**usceptible, **E**xposed, **P**rodromal/presymptomatic infection, symptomatic/fully transmissible **I**nfection, **R**ecovered, and **Q**uarantined/isolated, which we will call the SEPIRQ model. The same structure is used under both external and internal quarantining, but the impact of the **Q** compartment is different depending on the quarantining method being used. The possible transitions are infection of a susceptible (**S** to **E**), progression from exposure into the prodromal phase (**E** to **P**), progression from prodrome into full infection (**P** to **I**), recovery of an infectious cases (**I** to **R**), quarantining of infected cases (**E**, **P**, and **I** to **Q**), and recovery of a quarantined case (**Q** to **R**). The population is further subdivided into three age- and vulnerability-stratified classes: children, non-vulnerable adults, and vulnerable adults. Our model works at the level of a single household, which is specified by the number of individuals of each class in the household. These numbers are static, but the members of each class may move between epidemic compartments. The instantaneous state of a household can be summarised as\n",
    "$$\n",
    "(S_C,E_C,P_C,I_C,R_C,Q_C,S_A,E_A,P_A,I_A,R_A,Q_A,S_V,E_V,P_V,I_V,R_V,Q_V).\n",
    "$$\n",
    "The dynamics within each household are captured by a Markov chain whose evolution is captured by a set of Kolmogorov equations. The equations corresponding to households in different compositions can be combined into a block-diagonal system, with the proportion of households in a given composition equal to the total probability in the corresponding block. Because infection can transmit between households, we add a nonlinear term to the Kolmogorov equations capturing household-to-household transmission which couples the otherwise independent blocks of the system.\n",
    "\n",
    "In the following cell we introduce the disease parameters for our model. The three \"progression\" events (**E** to **P**, **P** to **I**, and **I** to **R**) take place at fixed per-capita rates $\\alpha_1$, $\\alpha_2$, and $\\gamma$. Here we choose rates of 1/1, 1/5, 1/4, i.e. each case experiences on average a short incubation period of one day, four days of prodromal infection and five days of full/symptomatic infection before recovering. Infection occurs along three different routes: internal transmission between members of the same household, external transmission between members of different households, and imports of infection from outside of the population. Both prodromal and symptomatic individuals transmit, with the infectiousness of prodromal individuals scaled by an age-specific factor $\\tau$. The intensity of between-household transmission is scaled down by a factor $\\epsilon$, capturing the idea that interactions outside the household are likely to involve less intensive contact than those within the household; since this is the only interaction between households, $\\epsilon$ defines the level of coupling between the different household sub-systems. The transmission is age-structured through the use of age-structured contact matrices $\\mathbf{K}_{\\mathrm{home}}$ and $\\mathbf{K}_{\\mathrm{ext}}$ and an age-specific susceptibility vector $\\mathbf{\\sigma}$ (`sus` in the cell below). To obtain age-structured transmission matrices for within- and between-household transmission we scale the rows of the two contact matrices by the elements of $\\mathbf{\\sigma}$ and then mutliply both (with the external mixing term scaled by $\\epsilon$) by a scaling factor chosen such that the eigenvalue of the sum of the two transmission matrices is equal to a specified basic reproductive ratio.\n",
    "\n",
    "These parameters are specified in a dictionary in the next block. The contact matrices are taken from estimates generated by Prem et. al. (2017). Because we will be using different age boundaries to them, we need to aggregate their estimated matrices, which requires an estimate of the sizes of each age class in their division, which we take from the file `United Kingom-2019.csv`. We also need to then split the adults into vulnerable and nonvulnerable individuals - to do this we need the population-level proportion of individuals who are vulnerable."
   ]
  },
  {
   "cell_type": "code",
   "execution_count": 3,
   "metadata": {},
   "outputs": [],
   "source": [
    "SEPIRQ_SPEC = {\n",
    "    # Interpretable parameters:\n",
    "    'R0': 2.4,                      # Reproduction number\n",
    "    'gamma': 1/4,                   # Recovery rate\n",
    "    'alpha_1': 1/1,                   # E->P incubation rate\n",
    "    'alpha_2': 1/5,                   # P->I prodromal to symptomatic rate\n",
    "    'tau': array([0.5,0.5,0.5]),           # Prodromal transmission intensity relative to full inf transmission\n",
    "    'sus': array([1,1,1]),                 # Relative susceptibility by age/vulnerability class\n",
    "    'epsilon': 0.5,                  # Relative intensity of external compared to internal contacts\n",
    "    'vuln_prop': 2.2/60,            # Total proportion of adults who are shielding\n",
    "    'k_home': {\n",
    "        'file_name': 'inputs/MUestimates_home_2.xlsx',\n",
    "        'sheet_name':'United Kingdom of Great Britain'\n",
    "    },\n",
    "    'k_all': {\n",
    "        'file_name': 'inputs/MUestimates_all_locations_2.xlsx',\n",
    "        'sheet_name': 'United Kingdom of Great Britain'\n",
    "    },\n",
    "    'pop_pyramid_file_name': 'inputs/United Kingdom-2019.csv'\n",
    "}"
   ]
  },
  {
   "cell_type": "markdown",
   "metadata": {},
   "source": [
    "## Introducing quarantine\n",
    "\n",
    "In the cell below we convert the specifications from the dictionary into input for our model and add some extra parameters which define the quarantining strategy we wish to model. The rate at which an infected individual is quarantined depends on how far the infection has progressed; isolation should happen faster as the infection progresses because more advanced cases should be easier to identify and simply because these cases will have had more time to be found through tracing. We define a discharge rate of 14 days, which should be long enough for individuals to be recovered when they return home or cease isolating. The parameter `model_input.adult_bd` defines the boundary between children and adults in the list of age classes (using zero-indexing). In our simple two-age-class-plus-vulnerable-adults framework this is just 1, but for flexibility we keep it a user-defined parameter. Specifying this boundary is necessary because when implementing external isolation we do not allow adults to isolate if it means leaving children alone without any adults. The Boolean array `model_input.class_is_isolating` captures the answer to the question \"if a person of class $j$ is present in the household, should a case of class $i$ isolate?\". For external isolation, we are interested in isolating adults who live with vulnerable adults, so the $(2,3)$rd and $(3,3)$rd entries of the matrix is `True`, and everything else is false. The last parameter, `model_input.iso_method`, is set to 0 if we are modelling external isolation and 1 if we are modelling internal isolation.\n",
    "\n",
    "We will start by modelling external isolation. Under this control strategy, when an individual enters the quarantine compartment it makes no contribution to within- or between-household infectious pressures. Because we model within-household mixing as frequency dependent, the rate of infection within households includes a factor of $1/(S+E+P+I+R)$ which does *not* include the quarantined individuals. When externally quarantined individuals are discharged they join the recovered compartment and behave identically to the other members of this compartment.\n",
    "\n",
    "Internal isolation is slightly more complex. When an individual is quarantined, they remain in the household (in particular, the household size remains $(S+E+P+I+R+Q)$) and continue to transmit infection to other members of their household. We scale their infectiousness relative to cases in the **I** compartment by a factor $(\\frac{1}{\\alpha_2}\\tau + \\frac{1}{\\gamma})/(\\frac{1}{\\alpha_1} + \\frac{1}{\\alpha_2} + \\frac{1}{\\gamma})$. This slightly unwieldy expression averages over the possible relative infectiousness of this quarantined case - zero if exposed, $\\tau$ if prodromal, one if fully infectious. The purpose of internal isolation is to reduce household-to-household transmission, which we account for by scaling the contribution of all households containing one or more quarantined cases to population-level infectiousness by the factor `model_input.isoprob`."
   ]
  },
  {
   "cell_type": "code",
   "execution_count": 4,
   "metadata": {},
   "outputs": [],
   "source": [
    "spec = SEPIRQ_SPEC\n",
    "model_input = TwoAgeWithVulnerableInput(SEPIRQ_SPEC)\n",
    "\n",
    "model_input.E_iso_rate = 1/1\n",
    "model_input.P_iso_rate = 1/1\n",
    "model_input.I_iso_rate = 1/0.5\n",
    "model_input.discharge_rate = 1/14\n",
    "model_input.adult_bd = 1\n",
    "model_input.class_is_isolating = array([[False, False, False],[False, False, True],[False, False, True]])\n",
    "model_input.iso_method = 0\n",
    "model_input.iso_prob = 0.5"
   ]
  },
  {
   "cell_type": "markdown",
   "metadata": {},
   "source": [
    "## Building the household population\n",
    "\n",
    "Next we construct household population object which captures all the within-household events - everything except external imports of infection. We do this by reading in a preprepared list of possible compositions in terms of the number of children, non-vulnerable adults, and vulnerable adults in a household, and an accompanying list which estimates the proportion of households in each composition. We combine this information with our model input to create a household population object. The last two arguments in `HouseholdPopulation` specify the compartmental structure and number of compartments."
   ]
  },
  {
   "cell_type": "code",
   "execution_count": 5,
   "metadata": {},
   "outputs": [
    {
     "name": "stderr",
     "output_type": "stream",
     "text": [
      "Building within-household transmission matrix: 100%|███████████████████████████████████| 81/81 [00:37<00:00,  2.16it/s]\n"
     ]
    }
   ],
   "source": [
    "# List of observed household compositions\n",
    "composition_list = read_csv(\n",
    "    'inputs/eng_and_wales_adult_child_vuln_composition_list.csv',\n",
    "    header=0).to_numpy()\n",
    "# Proportion of households which are in each composition\n",
    "comp_dist = read_csv(\n",
    "    'inputs/eng_and_wales_adult_child_vuln_composition_dist.csv',\n",
    "    header=0).to_numpy().squeeze()\n",
    "# With the parameters chosen, we calculate Q_int:\n",
    "household_population = HouseholdPopulation(\n",
    "    composition_list, comp_dist, model_input, within_household_SEPIRQ,6)"
   ]
  },
  {
   "cell_type": "markdown",
   "metadata": {},
   "source": [
    "## Solving the ODE system\n",
    "\n",
    "In the next cell we solve the system of ODEs defining the evolution of our household population. We begin by specifying the model we are using for external imports of infection. In this example we choose a fixed per-capita rate of importation, but our code also allows for time-varying imports. We specify the rates of importation for prodromal and fully symptomatic infections separately, emphasising that the requisite scaling of prodromal infection by $\\tau$ takes place within the code so does not need to be applied here; we specify separate rates to account for the possibility that fully infectious cases may be less likely to travel than prodromal cases.\n",
    "\n",
    "The right-hand-side object `rhs` defines the system of ODEs. The initial condition we generate places a single infectious case into 0.1% of all households - this is the final element of `make_initital_SEPIRQ_condition`. We then solve the equations using `solve_ivp`."
   ]
  },
  {
   "cell_type": "code",
   "execution_count": 6,
   "metadata": {},
   "outputs": [
    {
     "name": "stdout",
     "output_type": "stream",
     "text": [
      "Integration completed in 75.734708070755 seconds.\n"
     ]
    }
   ],
   "source": [
    "import_model = FixedImportModel(\n",
    "    1e-5, # Import rate of prodromals\n",
    "    1e-5) # Import rate of symptomatic cases\n",
    "\n",
    "rhs = SEPIRQRateEquations(\n",
    "    model_input,\n",
    "    household_population,\n",
    "    import_model)\n",
    "\n",
    "H0 = make_initial_SEPIRQ_condition(household_population, rhs, 1e-3)\n",
    "\n",
    "no_days = 50\n",
    "tspan = (0.0, no_days)\n",
    "solver_start = get_time()\n",
    "solution = solve_ivp(rhs, tspan, H0, first_step=0.001, atol=1e-16)\n",
    "solver_end = get_time()\n",
    "\n",
    "print('Integration completed in', solver_end-solver_start,'seconds.')\n",
    "\n",
    "time = solution.t\n",
    "H = solution.y"
   ]
  },
  {
   "cell_type": "markdown",
   "metadata": {},
   "source": [
    "In the cell below we calculate the expected size of each compartment (stratified by age/vulnerability class) over time. We also calculate the average number of children, non-vulnerable adults, and vulnerable adults per household, which we use to estimate things like prevalence stratified by class."
   ]
  },
  {
   "cell_type": "code",
   "execution_count": 8,
   "metadata": {},
   "outputs": [],
   "source": [
    "S = H.T.dot(household_population.states[:, ::6])\n",
    "E = H.T.dot(household_population.states[:, 1::6])\n",
    "P = H.T.dot(household_population.states[:, 2::6])\n",
    "I = H.T.dot(household_population.states[:, 3::6])\n",
    "R = H.T.dot(household_population.states[:, 4::6])\n",
    "Q = H.T.dot(household_population.states[:, 5::6])\n",
    "\n",
    "children_per_hh = comp_dist.T.dot(composition_list[:,0])\n",
    "nonv_adults_per_hh = comp_dist.T.dot(composition_list[:,1])\n",
    "vuln_adults_per_hh = comp_dist.T.dot(composition_list[:,2])"
   ]
  },
  {
   "cell_type": "markdown",
   "metadata": {},
   "source": [
    "We now plot the expected prevalence over time in each age-vulnerability class."
   ]
  },
  {
   "cell_type": "code",
   "execution_count": 11,
   "metadata": {
    "scrolled": true
   },
   "outputs": [
    {
     "name": "stderr",
     "output_type": "stream",
     "text": [
      "C:\\Users\\Joe Hilton\\Anaconda3\\lib\\site-packages\\ipykernel_launcher.py:21: UserWarning: Matplotlib is currently using module://ipykernel.pylab.backend_inline, which is a non-GUI backend, so cannot show the figure.\n",
      "C:\\Users\\Joe Hilton\\Anaconda3\\lib\\site-packages\\ipykernel_launcher.py:22: UserWarning: Matplotlib is currently using module://ipykernel.pylab.backend_inline, which is a non-GUI backend, so cannot show the figure.\n"
     ]
    },
    {
     "data": {
      "image/png": "[encoded data removed]",
      "text/plain": [
       "<Figure size 432x288 with 1 Axes>"
      ]
     },
     "metadata": {
      "needs_background": "light"
     },
     "output_type": "display_data"
    },
    {
     "data": {
      "image/png": "[encoded data removed]",
      "text/plain": [
       "<Figure size 432x288 with 1 Axes>"
      ]
     },
     "metadata": {
      "needs_background": "light"
     },
     "output_type": "display_data"
    }
   ],
   "source": [
    "class_per_hh = [children_per_hh, nonv_adults_per_hh, vuln_adults_per_hh]\n",
    "\n",
    "lgd=['Children','Non-vulnerable adults','Vulnerable adults']\n",
    "\n",
    "fig1, axis1 = subplots()\n",
    "fig2, axis2 = subplots()\n",
    "cmap = get_cmap('tab20')\n",
    "alpha = 0.5\n",
    "for i in range(3):\n",
    "    axis1.plot(\n",
    "        time, I[:,i]/class_per_hh[i], label=lgd[i],\n",
    "        color=cmap(i*2), alpha=alpha)\n",
    "    axis2.plot(\n",
    "        time, Q[:,i]/class_per_hh[i], label=lgd[i],\n",
    "        color=cmap(i*2), alpha=alpha)\n",
    "axis1.set_ylabel('Infectious prevalence')\n",
    "axis2.set_ylabel('Proportion quarantining')\n",
    "\n",
    "axis1.legend(ncol=1, bbox_to_anchor=(1,0.50))\n",
    "\n",
    "fig1.show()\n",
    "fig2.show()\n"
   ]
  },
  {
   "cell_type": "markdown",
   "metadata": {},
   "source": [
    "## Modelling internal quarantine\n",
    "\n",
    "Under internal quarantine, a household is designated as quarantined as soon as one of the members of that household enters the **Q** compartment. The internal dynamics of the household are essentially unaffected, but when we calculate population-level force of infection we scale down the contributions of all quarantined household by a chosen factor (the variable `model_input.iso_prob`, which we earlier set to 0.5). Since the aim of internal quarantine is to prevent infection from leaving the household, rather than preventing within-household spread to vulnerable people, we set all of the Boolean isolation indicators to `True`. We reconstruct the household population and ODE system with our new model input, and solve once again."
   ]
  },
  {
   "cell_type": "code",
   "execution_count": 10,
   "metadata": {},
   "outputs": [
    {
     "name": "stderr",
     "output_type": "stream",
     "text": [
      "Building within-household transmission matrix:  52%|██████████████████▏                | 42/81 [00:11<00:32,  1.21it/s]"
     ]
    },
    {
     "ename": "KeyboardInterrupt",
     "evalue": "",
     "output_type": "error",
     "traceback": [
      "\u001b[1;31m---------------------------------------------------------------------------\u001b[0m",
      "\u001b[1;31mKeyboardInterrupt\u001b[0m                         Traceback (most recent call last)",
      "\u001b[1;32m<ipython-input-10-1dc8cca86516>\u001b[0m in \u001b[0;36m<module>\u001b[1;34m\u001b[0m\n\u001b[0;32m      3\u001b[0m \u001b[1;33m\u001b[0m\u001b[0m\n\u001b[0;32m      4\u001b[0m household_population = HouseholdPopulation(\n\u001b[1;32m----> 5\u001b[1;33m     composition_list, comp_dist, model_input, within_household_SEPIRQ,6)\n\u001b[0m\u001b[0;32m      6\u001b[0m \u001b[1;33m\u001b[0m\u001b[0m\n\u001b[0;32m      7\u001b[0m rhs = SEPIRQRateEquations(\n",
      "\u001b[1;32m~\\Documents\\GitHub\\covid-19-in-households-public\\model\\preprocessing.py\u001b[0m in \u001b[0;36m__init__\u001b[1;34m(self, composition_list, composition_distribution, model_input, build_function, no_compartments)\u001b[0m\n\u001b[0;32m    211\u001b[0m                 = build_function(\n\u001b[0;32m    212\u001b[0m                     \u001b[0mcomposition_list\u001b[0m\u001b[1;33m[\u001b[0m\u001b[0mi\u001b[0m\u001b[1;33m,\u001b[0m \u001b[1;33m:\u001b[0m\u001b[1;33m]\u001b[0m\u001b[1;33m,\u001b[0m\u001b[1;33m\u001b[0m\u001b[1;33m\u001b[0m\u001b[0m\n\u001b[1;32m--> 213\u001b[1;33m                     model_input)\n\u001b[0m\u001b[0;32m    214\u001b[0m             \u001b[0mQ_int\u001b[0m \u001b[1;33m=\u001b[0m \u001b[0mblock_diag\u001b[0m\u001b[1;33m(\u001b[0m\u001b[1;33m(\u001b[0m\u001b[0mQ_int\u001b[0m\u001b[1;33m,\u001b[0m \u001b[0mQ_temp\u001b[0m\u001b[1;33m)\u001b[0m\u001b[1;33m,\u001b[0m \u001b[0mformat\u001b[0m\u001b[1;33m=\u001b[0m\u001b[1;34m'csc'\u001b[0m\u001b[1;33m)\u001b[0m\u001b[1;33m\u001b[0m\u001b[1;33m\u001b[0m\u001b[0m\n\u001b[0;32m    215\u001b[0m             \u001b[0mQ_int\u001b[0m\u001b[1;33m.\u001b[0m\u001b[0meliminate_zeros\u001b[0m\u001b[1;33m(\u001b[0m\u001b[1;33m)\u001b[0m\u001b[1;33m\u001b[0m\u001b[1;33m\u001b[0m\u001b[0m\n",
      "\u001b[1;32m~\\Documents\\GitHub\\covid-19-in-households-public\\model\\common.py\u001b[0m in \u001b[0;36mwithin_household_SEPIRQ\u001b[1;34m(composition, model_input)\u001b[0m\n\u001b[0;32m    547\u001b[0m                                     * array(\n\u001b[0;32m    548\u001b[0m                                         \u001b[1;33m[\u001b[0m\u001b[0ms\u001b[0m\u001b[1;33m,\u001b[0m \u001b[0me\u001b[0m\u001b[1;33m,\u001b[0m \u001b[0mp\u001b[0m\u001b[1;33m,\u001b[0m \u001b[0mi\u001b[0m\u001b[1;33m,\u001b[0m \u001b[0mr\u001b[0m\u001b[1;33m,\u001b[0m \u001b[0mc\u001b[0m \u001b[1;33m-\u001b[0m \u001b[0ms\u001b[0m \u001b[1;33m-\u001b[0m \u001b[0me\u001b[0m \u001b[1;33m-\u001b[0m \u001b[0mp\u001b[0m \u001b[1;33m-\u001b[0m \u001b[0mi\u001b[0m \u001b[1;33m-\u001b[0m \u001b[0mr\u001b[0m\u001b[1;33m]\u001b[0m\u001b[1;33m,\u001b[0m\u001b[1;33m\u001b[0m\u001b[1;33m\u001b[0m\u001b[0m\n\u001b[1;32m--> 549\u001b[1;33m                                         ndmin=2, dtype=my_int)\n\u001b[0m\u001b[0;32m    550\u001b[0m                             \u001b[0mk\u001b[0m \u001b[1;33m+=\u001b[0m \u001b[1;36m1\u001b[0m\u001b[1;33m\u001b[0m\u001b[1;33m\u001b[0m\u001b[0m\n\u001b[0;32m    551\u001b[0m     \u001b[1;31m# Q_int=sparse(total_size, total_size)\u001b[0m\u001b[1;33m\u001b[0m\u001b[1;33m\u001b[0m\u001b[1;33m\u001b[0m\u001b[0m\n",
      "\u001b[1;31mKeyboardInterrupt\u001b[0m: "
     ]
    }
   ],
   "source": [
    "model_input.class_is_isolating = array([[True, True, True],[True, True, True],[True, True, True]])\n",
    "model_input.iso_method = 1\n",
    "\n",
    "household_population = HouseholdPopulation(\n",
    "    composition_list, comp_dist, model_input, within_household_SEPIRQ,6)\n",
    "\n",
    "rhs = SEPIRQRateEquations(\n",
    "    model_input,\n",
    "    household_population,\n",
    "    import_model)\n",
    "\n",
    "H0 = make_initial_SEPIRQ_condition(household_population, rhs, 1e-3)\n",
    "\n",
    "tspan = (0.0, no_days)\n",
    "solver_start = get_time()\n",
    "solution = solve_ivp(rhs, tspan, H0, first_step=0.001,atol=1e-16)\n",
    "solver_end = get_time()\n",
    "\n",
    "print('Integration completed in', solver_end-solver_start,'seconds.')\n",
    "\n",
    "time = solution.t\n",
    "H = solution.y"
   ]
  },
  {
   "cell_type": "markdown",
   "metadata": {},
   "source": [
    "In the cell below we calculate the expected number of people of each age-vulnerability class in each compartment in a single household over time. Because we are more interested in the number of people who are self-isolating rather than the number who are actually in the **Q** compartment, we define `Q`, the number of people per household quarantining over time to be the expected number of people in a household with at least one person in the **Q** compartment."
   ]
  },
  {
   "cell_type": "code",
   "execution_count": null,
   "metadata": {},
   "outputs": [],
   "source": [
    "S = H.T.dot(household_population.states[:, ::6])\n",
    "E = H.T.dot(household_population.states[:, 1::6])\n",
    "P = H.T.dot(household_population.states[:, 2::6])\n",
    "I = H.T.dot(household_population.states[:, 3::6])\n",
    "R = H.T.dot(household_population.states[:, 4::6])\n",
    "states_iso_only = household_population.states[:,5::6]\n",
    "total_iso_by_state =states_iso_only.sum(axis=1)\n",
    "iso_present = total_iso_by_state>0\n",
    "Q = H[iso_present,:].T.dot(household_population.composition_by_state[iso_present,:])"
   ]
  },
  {
   "cell_type": "markdown",
   "metadata": {},
   "source": [
    "We again plot the expected prevalence over time."
   ]
  },
  {
   "cell_type": "code",
   "execution_count": null,
   "metadata": {
    "scrolled": true
   },
   "outputs": [],
   "source": [
    "class_per_hh = [children_per_hh, nonv_adults_per_hh, vuln_adults_per_hh]\n",
    "\n",
    "lgd=['Children','Non-vulnerable adults','Vulnerable adults']\n",
    "\n",
    "fig1, axis1 = subplots()\n",
    "fig2, axis2 = subplots()\n",
    "cmap = get_cmap('tab20')\n",
    "alpha = 0.5\n",
    "for i in range(3):\n",
    "    axis1.plot(\n",
    "        time, I[:,i]/class_per_hh[i], label=lgd[i],\n",
    "        color=cmap(i*2), alpha=alpha)\n",
    "    axis2.plot(\n",
    "        time, Q[:,i]/class_per_hh[i], label=lgd[i],\n",
    "        color=cmap(i*2), alpha=alpha)\n",
    "axis1.set_ylabel('Infectious prevalence')\n",
    "axis2.set_ylabel('Proportion quarantining')\n",
    "\n",
    "axis1.legend(ncol=1, bbox_to_anchor=(1,0.50))\n",
    "\n",
    "fig1.show()\n",
    "fig2.show()\n"
   ]
  },
  {
   "cell_type": "code",
   "execution_count": null,
   "metadata": {},
   "outputs": [],
   "source": []
  }
 ],
 "metadata": {
  "kernelspec": {
   "display_name": "Python 3",
   "language": "python",
   "name": "python3"
  },
  "language_info": {
   "codemirror_mode": {
    "name": "ipython",
    "version": 3
   },
   "file_extension": ".py",
   "mimetype": "text/x-python",
   "name": "python",
   "nbconvert_exporter": "python",
   "pygments_lexer": "ipython3",
   "version": "3.7.4"
  }
 },
 "nbformat": 4,
 "nbformat_minor": 2
}
