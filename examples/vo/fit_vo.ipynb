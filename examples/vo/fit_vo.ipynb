{
 "cells": [
  {
   "cell_type": "code",
   "execution_count": 1,
   "metadata": {},
   "outputs": [],
   "source": [
    "# Process Vo data for a final size analysis by age"
   ]
  },
  {
   "cell_type": "code",
   "execution_count": 2,
   "metadata": {},
   "outputs": [],
   "source": [
    "%matplotlib inline\n",
    "import numpy as np\n",
    "import scipy.stats as st\n",
    "import scipy.optimize as op\n",
    "import pandas as pd\n",
    "from numpy import linalg as LA\n",
    "import matplotlib.pyplot as plt"
   ]
  },
  {
   "cell_type": "code",
   "execution_count": 3,
   "metadata": {},
   "outputs": [],
   "source": [
    "df = pd.read_csv('./vo_data.csv')"
   ]
  },
  {
   "cell_type": "code",
   "execution_count": 4,
   "metadata": {},
   "outputs": [],
   "source": [
    "posi = ((df['first_sampling'].values == 'Positive') | (df['second_sampling'].values == 'Positive'))"
   ]
  },
  {
   "cell_type": "code",
   "execution_count": 5,
   "metadata": {},
   "outputs": [],
   "source": [
    "# indices taken from the vo_legend file\n",
    "symptom_indices = range(3,13)\n",
    "contact_indices = range(13,104)\n",
    "testday_indices = range(104,123)"
   ]
  },
  {
   "cell_type": "code",
   "execution_count": 6,
   "metadata": {},
   "outputs": [
    {
     "data": {
      "text/plain": [
       "1299"
      ]
     },
     "execution_count": 6,
     "metadata": {},
     "output_type": "execute_result"
    }
   ],
   "source": [
    "hcol = df.household_id.values\n",
    "hhids = pd.unique(df.household_id)\n",
    "len(hhids)"
   ]
  },
  {
   "cell_type": "code",
   "execution_count": 7,
   "metadata": {},
   "outputs": [],
   "source": [
    "hh_tests = []\n",
    "ages = []\n",
    "for hid in hhids:\n",
    "    dfh = df[df.household_id == hid]\n",
    "    tests = dfh.iloc[:,testday_indices].values\n",
    "    aa = dfh.iloc[:,2].values\n",
    "    tests[tests=='Neg'] = 0\n",
    "    tests[tests=='Pos'] = 1\n",
    "    hh_tests.append(tests)\n",
    "    ages.append(aa)"
   ]
  },
  {
   "cell_type": "code",
   "execution_count": 8,
   "metadata": {},
   "outputs": [
    {
     "data": {
      "text/plain": [
       "array(['00-10', '11-20', '21-30', '31-40', '41-50', '51-60', '61-70',\n",
       "       '71-80', '81-90', '91+'], dtype=object)"
      ]
     },
     "execution_count": 8,
     "metadata": {},
     "output_type": "execute_result"
    }
   ],
   "source": [
    "age_gs = pd.unique(df.age_group)\n",
    "age_gs.sort()\n",
    "age_gs"
   ]
  },
  {
   "cell_type": "code",
   "execution_count": 9,
   "metadata": {},
   "outputs": [],
   "source": [
    "nsamp = np.zeros(len(age_gs))\n",
    "npos = np.zeros(len(age_gs))"
   ]
  },
  {
   "cell_type": "code",
   "execution_count": 10,
   "metadata": {},
   "outputs": [],
   "source": [
    "for i, ag in enumerate(age_gs):\n",
    "    dfa = df[df.age_group == ag]\n",
    "    nsamp[i] = len(dfa)\n",
    "    dfp = df[posi]\n",
    "    dfa = dfp[dfp.age_group == ag]\n",
    "    npos[i] = len(dfa)"
   ]
  },
  {
   "cell_type": "code",
   "execution_count": 11,
   "metadata": {},
   "outputs": [],
   "source": [
    "# Dictionary that puts ages in categories\n",
    "as2rg = {\n",
    "    '00-10' : 1,\n",
    "    '11-20' : 1,\n",
    "    '21-30' : 0, # 0 is reference class for adults - then kids, old\n",
    "    '31-40' : 0,\n",
    "    '41-50' : 0,\n",
    "    '51-60' : 0,\n",
    "    '61-70' : 0,\n",
    "    '71-80' : 2,\n",
    "    '81-90' : 2,\n",
    "    '91+'   : 2,\n",
    "}"
   ]
  },
  {
   "cell_type": "code",
   "execution_count": 12,
   "metadata": {},
   "outputs": [],
   "source": [
    "nages = max(as2rg.values())"
   ]
  },
  {
   "cell_type": "code",
   "execution_count": 13,
   "metadata": {},
   "outputs": [],
   "source": [
    "Y = [] # To store outcomes\n",
    "XX = [] # To store design matrices\n",
    "for i in range(0,len(hhids)):\n",
    "    mya = [as2rg[a] for a in ages[i]]\n",
    "    m = len(mya)\n",
    "    myx = np.zeros((m,nages))\n",
    "    myy = np.zeros(m)\n",
    "    for j, a in enumerate(mya):\n",
    "        if (a>0):\n",
    "            myx[j,a-1] = 1\n",
    "        if (np.any(hh_tests[i][j,:]==1)):\n",
    "            myy[j] = 1\n",
    "    Y.append(myy)\n",
    "    XX.append(myx)"
   ]
  },
  {
   "cell_type": "code",
   "execution_count": 14,
   "metadata": {},
   "outputs": [],
   "source": [
    "# The above processes the data - now add final size analysis; first do a run through"
   ]
  },
  {
   "cell_type": "code",
   "execution_count": 15,
   "metadata": {},
   "outputs": [],
   "source": [
    "def phi(s, theta=1.0):\n",
    "    return ((1.0 + theta*s)**(-1.0/theta))"
   ]
  },
  {
   "cell_type": "code",
   "execution_count": 16,
   "metadata": {},
   "outputs": [],
   "source": [
    "# Indicative parameters - to be included in a \n",
    "llaL = 0.1\n",
    "llaG = -1.6\n",
    "theta = 1.2\n",
    "beta = np.array([1.1, 2.0])\n",
    "gamma = np.array([1.3, 0.5])"
   ]
  },
  {
   "cell_type": "code",
   "execution_count": 17,
   "metadata": {},
   "outputs": [
    {
     "data": {
      "text/plain": [
       "1519.9500271330257"
      ]
     },
     "execution_count": 17,
     "metadata": {},
     "output_type": "execute_result"
    }
   ],
   "source": [
    "nlv = np.zeros(len(hhids)) # Vector of negative log likelihoods\n",
    "for i in range(0,len(hhids)):\n",
    "    y = Y[i]\n",
    "    X = XX[i]\n",
    "    if np.all(y==0.0):\n",
    "        nlv[i] = np.exp(llaG)*np.sum(np.exp(beta@(X.T)))\n",
    "    else:\n",
    "        # Sort to go zeros then ones WLOG (could do in pre-processing)\n",
    "        ii = np.argsort(y)\n",
    "        y = y[ii]\n",
    "        X = X[ii,:]\n",
    "        q = sum(y>0)\n",
    "        r = 2**q\n",
    "        m = len(y)\n",
    "        \n",
    "        # Quantities that don't vary through the sum\n",
    "        Bk = np.exp(-np.exp(llaG)*np.exp(beta@(X.T)))\n",
    "        laM = np.exp(llaL)*np.outer(np.exp(beta@(X.T)),np.exp(gamma@(X.T)))\n",
    "        \n",
    "        BB = np.zeros((r,r)) # To be the Ball matrix\n",
    "        for jd in range(0,r):\n",
    "            for omd in range(0,jd+1):\n",
    "                jstr = format(jd,'0' + str(m) + 'b')\n",
    "                omstr = format(omd,'0' + str(m) + 'b')\n",
    "                j = np.array([int(jstr[x]) for x in range(0,len(jstr))])\n",
    "                om = np.array([int(omstr[x]) for x in range(0,len(omstr))])\n",
    "                BB[jd,omd] = 1.0/np.prod((phi((1-j)@laM,theta)**om)*(Bk**(1-j)))\n",
    "        nlv[i] = -np.log(LA.solve(BB,np.ones(r))[-1])\n",
    "nll = np.sum(nlv)\n",
    "nll"
   ]
  },
  {
   "cell_type": "code",
   "execution_count": 18,
   "metadata": {},
   "outputs": [],
   "source": [
    "# Now try a loop over parameters"
   ]
  },
  {
   "cell_type": "code",
   "execution_count": 19,
   "metadata": {},
   "outputs": [],
   "source": [
    "# Indicative parameters - to be included in a\n",
    "x0 = np.array([\n",
    "    0.1,\n",
    "    -1.6,\n",
    "    1.2,\n",
    "    1.1, 2.0,\n",
    "    1.3, 0.5,\n",
    "])"
   ]
  },
  {
   "cell_type": "code",
   "execution_count": 20,
   "metadata": {},
   "outputs": [],
   "source": [
    "def mynll(x):\n",
    "    \n",
    "    try: # Ideally catch the linear algebra fail directly\n",
    "        llaL = x[0]\n",
    "        llaG = x[1]\n",
    "        theta = x[2]\n",
    "        beta = x[3:(3+nages)]\n",
    "        gamma = x[(3+nages):]\n",
    "\n",
    "        nlv = np.zeros(len(hhids)) # Vector of negative log likelihoods\n",
    "        for i in range(0,len(hhids)):\n",
    "            y = Y[i]\n",
    "            X = XX[i]\n",
    "            if np.all(y==0.0):\n",
    "                nlv[i] = np.exp(llaG)*np.sum(np.exp(beta@(X.T)))\n",
    "            else:\n",
    "                # Sort to go zeros then ones WLOG (could do in pre-processing)\n",
    "                ii = np.argsort(y)\n",
    "                y = y[ii]\n",
    "                X = X[ii,:]\n",
    "                q = sum(y>0)\n",
    "                r = 2**q\n",
    "                m = len(y)\n",
    "\n",
    "                # Quantities that don't vary through the sum\n",
    "                Bk = np.exp(-np.exp(llaG)*np.exp(beta@(X.T)))\n",
    "                laM = np.exp(llaL)*np.outer(np.exp(beta@(X.T)),np.exp(gamma@(X.T)))\n",
    "\n",
    "                BB = np.zeros((r,r)) # To be the Ball matrix\n",
    "                for jd in range(0,r):\n",
    "                    for omd in range(0,jd+1):\n",
    "                        jstr = format(jd,'0' + str(m) + 'b')\n",
    "                        omstr = format(omd,'0' + str(m) + 'b')\n",
    "                        j = np.array([int(jstr[x]) for x in range(0,len(jstr))])\n",
    "                        om = np.array([int(omstr[x]) for x in range(0,len(omstr))])\n",
    "                        BB[jd,omd] = 1.0/np.prod((phi((1-j)@laM,theta)**om)*(Bk**(1-j)))\n",
    "                nlv[i] = -np.log(LA.solve(BB,np.ones(r))[-1])\n",
    "        nll = np.sum(nlv)\n",
    "        return nll\n",
    "    except:\n",
    "        nll = np.inf\n",
    "        return nll"
   ]
  },
  {
   "cell_type": "code",
   "execution_count": 21,
   "metadata": {},
   "outputs": [],
   "source": [
    "fout = op.minimize(mynll,x0,method='Nelder-Mead')"
   ]
  },
  {
   "cell_type": "code",
   "execution_count": 22,
   "metadata": {},
   "outputs": [
    {
     "data": {
      "text/plain": [
       "array([-3.26316820e+01, -3.97697859e+00,  1.19934276e+03, -1.10752330e+00,\n",
       "        7.13956139e-01, -1.52450824e+02, -4.04363896e+02])"
      ]
     },
     "execution_count": 22,
     "metadata": {},
     "output_type": "execute_result"
    }
   ],
   "source": [
    "fout.x"
   ]
  },
  {
   "cell_type": "code",
   "execution_count": 23,
   "metadata": {},
   "outputs": [
    {
     "name": "stdout",
     "output_type": "stream",
     "text": [
      "20 yo and under estimated 33.0% as susceptible and 0.000% as infectious as 21-70yo\n",
      "71 yo and over estimated 204.2% as susceptible and 0.000% as infectious as 21-70yo\n"
     ]
    }
   ],
   "source": [
    "print('20 yo and under estimated {:.1f}% as susceptible and {:.3f}% as infectious as 21-70yo'.format(\n",
    "100*np.exp(fout.x[3]),100*np.exp(fout.x[5])))\n",
    "print('71 yo and over estimated {:.1f}% as susceptible and {:.3f}% as infectious as 21-70yo'.format(\n",
    "100*np.exp(fout.x[4]),100*np.exp(fout.x[6])))"
   ]
  },
  {
   "cell_type": "code",
   "execution_count": 24,
   "metadata": {},
   "outputs": [],
   "source": [
    "# TODO:\n",
    "# - theta ?\n",
    "# - Plots"
   ]
  },
  {
   "cell_type": "code",
   "execution_count": null,
   "metadata": {},
   "outputs": [],
   "source": []
  }
 ],
 "metadata": {
  "kernelspec": {
   "display_name": "Python 3",
   "language": "python",
   "name": "python3"
  },
  "language_info": {
   "codemirror_mode": {
    "name": "ipython",
    "version": 3
   },
   "file_extension": ".py",
   "mimetype": "text/x-python",
   "name": "python",
   "nbconvert_exporter": "python",
   "pygments_lexer": "ipython3",
   "version": "3.7.3"
  }
 },
 "nbformat": 4,
 "nbformat_minor": 2
}
