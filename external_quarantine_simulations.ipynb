{
 "cells": [
  {
   "cell_type": "markdown",
   "metadata": {},
   "source": [
    "In this notebook we use an age- and household-structured model to assess the impact of external quarantining as a mitigation measure against covid-19. We compare against the more typical internal quarantine approach. Under external quarantining, a single infected individual is removed from the household and has no interaction with the members of that household or any other. Under internal quarantining, the infected individual is still able to interact with the other members of their household but the entire household is completely prevented from contributing to the population-level outbreak."
   ]
  },
  {
   "cell_type": "code",
   "execution_count": 1,
   "metadata": {},
   "outputs": [],
   "source": [
    "from os.path import isfile\n",
    "from pickle import load, dump\n",
    "from numpy import arange, array\n",
    "from numpy.random import rand\n",
    "from pandas import read_csv\n",
    "from time import time as get_time\n",
    "from scipy.integrate import solve_ivp\n",
    "from matplotlib.pyplot import subplots\n",
    "from matplotlib.cm import get_cmap\n",
    "from model.preprocessing import TwoAgeWithVulnerableInput, HouseholdPopulation\n",
    "from model.preprocessing import add_vulnerable_hh_members, make_initial_SEPIRQ_condition\n",
    "from model.specs import SEPIRQ_SPEC\n",
    "from model.common import SEPIRQRateEquations, within_household_SEPIRQ\n",
    "from model.imports import ( FixedImportModel)"
   ]
  },
  {
   "cell_type": "markdown",
   "metadata": {},
   "source": [
    "Check we are in the correct working directory. It needs to be the main repo directory, i.e. ...\\User\\...\\GitHub\\covid-19-in-households-public."
   ]
  },
  {
   "cell_type": "code",
   "execution_count": 2,
   "metadata": {},
   "outputs": [
    {
     "name": "stdout",
     "output_type": "stream",
     "text": [
      "C:\\Users\\Joe Hilton\\Documents\\GitHub\\covid-19-in-households-public\n"
     ]
    }
   ],
   "source": [
    "from os import getcwd\n",
    "print(getcwd())"
   ]
  },
  {
   "cell_type": "markdown",
   "metadata": {},
   "source": [
    "We first define a set of parameters. The age-specific shedding rates are given by $R_0$ time $\\gamma$ time 'sus', i.e. if any class has susceptibility 1, the shedding rate is the standard $\\beta=R_0*\\gamma$. This is still multiplied through by the age-structured contact matrices to do the actual transmission rates, so to preserve the reproductive ratio at the value specified I think you need to divide sus by the eigenvalue of k_all."
   ]
  },
  {
   "cell_type": "code",
   "execution_count": 3,
   "metadata": {},
   "outputs": [],
   "source": [
    "SEPIRQ_SPEC = {\n",
    "    # Interpretable parameters:\n",
    "    'R0': 2.4,                      # Reproduction number\n",
    "    'gamma': 1/4,                   # Recovery rate\n",
    "    'alpha_1': 1/1,                   # E->P incubation rate\n",
    "    'alpha_2': 1/5,                   # P->I prodromal to symptomatic rate\n",
    "    'tau': array([0.5,0.5,0.5]),           # Prodromal transmission intensity relative to full inf transmission\n",
    "    'sus': array([1,1,1]),                 # Relative susceptibility by age/vulnerability class\n",
    "    'vuln_prop': 0.1,               #Proportion vulnerable who must be protected\n",
    "    # These represent input files for the model. We can make it more flexible\n",
    "    # in the future, but certain structure of input files must be assumed.\n",
    "    # Check ModelInput class in model/preprocessing.py to see what assumptions\n",
    "    # are used now.\n",
    "    'k_home': {\n",
    "        'file_name': 'inputs/MUestimates_home_2.xlsx',\n",
    "        'sheet_name':'United Kingdom of Great Britain'\n",
    "    },\n",
    "    'k_all': {\n",
    "        'file_name': 'inputs/MUestimates_all_locations_2.xlsx',\n",
    "        'sheet_name': 'United Kingdom of Great Britain'\n",
    "    },\n",
    "    'pop_pyramid_file_name': 'inputs/United Kingdom-2019.csv'\n",
    "}"
   ]
  },
  {
   "cell_type": "markdown",
   "metadata": {},
   "source": [
    "Using these specs, we put together some model input, including the stuff in the specs plus isolation rates for each infected compartment, the discharge rate (i.e. one over length of stay in quarantine/isolation), the \"adult boundary\", such that all age classes below are children and can't be left alone in a household and all age classes above are adults and can look after themselves, and the \"isolation method\", which is 0 if we are isolating outside the home and 1 if we are isolating inside. Entry (i,j) of class_is_isolating is the logical \"If one or more individuals of class j are present, does class i isolate?\". For external isolation, we have True at position (1,2) (i.e. if there's a vulnerable the non-vulnerable adults isolate) and False elsewhere (although maybe we also want to isolate vulnerable adults if they're living with other vulnerables?). For internal isolation we probably want True everywhere. I'm assuming that a single person being \"isolated\" internally triggers the isolation of the entire household, with perfect uptake, i.e. the whole household stops externally infecting.\n",
    "\n",
    "In the long term it would obviously be a bit tidier to put these extra inputs into the spec object's definition rather than tacking them on here.\n",
    "\n",
    "In the box below we choose external isolation inputs:"
   ]
  },
  {
   "cell_type": "code",
   "execution_count": 4,
   "metadata": {},
   "outputs": [],
   "source": [
    "spec = SEPIRQ_SPEC\n",
    "\n",
    "model_input = TwoAgeWithVulnerableInput(SEPIRQ_SPEC)\n",
    "model_input.E_iso_rate = 1/1\n",
    "model_input.P_iso_rate = 1/5\n",
    "model_input.I_iso_rate = 2\n",
    "model_input.discharge_rate = 1/14\n",
    "model_input.adult_bd = 1\n",
    "model_input.class_is_isolating = array([[False, False, False],[False, False, False],[False, False, False]])\n",
    "model_input.iso_method = 0"
   ]
  },
  {
   "cell_type": "markdown",
   "metadata": {},
   "source": [
    "Next we build the household population object which captures all the within-household events - everything except external imports of infection. We start by reading in a list of household compositions and adding vulnerable members binomially, i.e. each adult has an independent probability of being vulnerable. This moves us from the two classes in the data to a three class set of compositions which is obviously longer than the original one."
   ]
  },
  {
   "cell_type": "code",
   "execution_count": 5,
   "metadata": {},
   "outputs": [
    {
     "name": "stderr",
     "output_type": "stream",
     "text": [
      "Building within-household transmission matrix: 100%|███████████████████████████████████| 81/81 [00:22<00:00,  3.66it/s]\n"
     ]
    }
   ],
   "source": [
    "# List of observed household compositions\n",
    "composition_list = read_csv(\n",
    "    'inputs/eng_and_wales_adult_child_vuln_composition_list.csv',\n",
    "    header=0).to_numpy()\n",
    "# Proportion of households which are in each composition\n",
    "comp_dist = read_csv(\n",
    "    'inputs/eng_and_wales_adult_child_vuln_composition_dist.csv',\n",
    "    header=0).to_numpy().squeeze()\n",
    "# With the parameters chosen, we calculate Q_int:\n",
    "household_population = HouseholdPopulation(\n",
    "    composition_list, comp_dist, model_input, within_household_SEPIRQ,6)"
   ]
  },
  {
   "cell_type": "markdown",
   "metadata": {},
   "source": [
    "In the next box we solve the master equations forward in time. The parameter epsilon we choose here is the strength of between-household mixing, so the external force of infection on a household looks like the out-of-population imports from import_model plus epsilon times the amount of infection you expect to see from the household population itself. The two numbers in FixedImportModel are respectively the rate of imports of infection from prodromals and fully infectious cases."
   ]
  },
  {
   "cell_type": "code",
   "execution_count": 12,
   "metadata": {},
   "outputs": [
    {
     "name": "stdout",
     "output_type": "stream",
     "text": [
      "Integration completed in 43.83492159843445 seconds.\n"
     ]
    }
   ],
   "source": [
    "# Relative strength of between-household transmission compared to external\n",
    "# imports\n",
    "epsilon = 0\n",
    "no_days = 50\n",
    "\n",
    "import_model = FixedImportModel(\n",
    "    1e-5,\n",
    "    1e-5)\n",
    "\n",
    "rhs = SEPIRQRateEquations(\n",
    "    model_input,\n",
    "    household_population,\n",
    "    import_model,\n",
    "    epsilon,\n",
    "    6)\n",
    "\n",
    "H0 = make_initial_SEPIRQ_condition(household_population, rhs, 1e-3)\n",
    "\n",
    "tspan = (0.0, no_days)\n",
    "solver_start = get_time()\n",
    "solution = solve_ivp(rhs, tspan, H0, first_step=0.001)\n",
    "solver_end = get_time()\n",
    "\n",
    "print('Integration completed in', solver_end-solver_start,'seconds.')\n",
    "\n",
    "time = solution.t\n",
    "H = solution.y"
   ]
  },
  {
   "cell_type": "markdown",
   "metadata": {},
   "source": [
    "Now get some statistics out of the solution. We will calculate the expected number of people of each class and compartment per household. We will also calculate the mean number of people of each class in the household - dividing the expected in each compartment by this should give stuff like infectious prevalence, proportion in quarantine etc."
   ]
  },
  {
   "cell_type": "code",
   "execution_count": 13,
   "metadata": {},
   "outputs": [],
   "source": [
    "S = H.T.dot(household_population.states[:, ::6])\n",
    "E = H.T.dot(household_population.states[:, 1::6])\n",
    "P = H.T.dot(household_population.states[:, 2::6])\n",
    "I = H.T.dot(household_population.states[:, 3::6])\n",
    "R = H.T.dot(household_population.states[:, 4::6])\n",
    "Q = H.T.dot(household_population.states[:, 5::6])\n",
    "\n",
    "children_per_hh = comp_dist.T.dot(composition_list[:,0])\n",
    "nonv_adults_per_hh = comp_dist.T.dot(composition_list[:,1])\n",
    "vuln_adults_per_hh = comp_dist.T.dot(composition_list[:,2])"
   ]
  },
  {
   "cell_type": "markdown",
   "metadata": {},
   "source": [
    "Now plot, for instance, the (fully) infectious prevalence by class. In this example, there appears to be fairly high prevalence among vulnerable adults - but the total number of cases in this group should still be relatively low since the group itself is small."
   ]
  },
  {
   "cell_type": "code",
   "execution_count": 14,
   "metadata": {
    "scrolled": true
   },
   "outputs": [
    {
     "name": "stderr",
     "output_type": "stream",
     "text": [
      "C:\\Users\\Joe Hilton\\Anaconda3\\lib\\site-packages\\ipykernel_launcher.py:16: UserWarning: Matplotlib is currently using module://ipykernel.pylab.backend_inline, which is a non-GUI backend, so cannot show the figure.\n",
      "  app.launch_new_instance()\n"
     ]
    },
    {
     "data": {
      "image/png": "[encoded data removed]",
      "text/plain": [
       "<Figure size 432x288 with 1 Axes>"
      ]
     },
     "metadata": {
      "needs_background": "light"
     },
     "output_type": "display_data"
    }
   ],
   "source": [
    "class_per_hh = [children_per_hh, nonv_adults_per_hh, vuln_adults_per_hh]\n",
    "\n",
    "lgd=['Children','Non-vulnerable adults','Vulnerable adults']\n",
    "\n",
    "fig, axis = subplots()\n",
    "cmap = get_cmap('tab20')\n",
    "alpha = 0.5\n",
    "for i in range(3):\n",
    "    axis.plot(\n",
    "        time, I[:,i]/class_per_hh[i], label=lgd[i],\n",
    "        color=cmap(i/3), alpha=alpha)\n",
    "axis.set_ylabel('Infectious prevalence')\n",
    "\n",
    "axis.legend(ncol=1, bbox_to_anchor=(1,0.50))\n",
    "\n",
    "fig.show()\n"
   ]
  },
  {
   "cell_type": "markdown",
   "metadata": {},
   "source": [
    "To do internal quarantining, we change the model input accordingly, recalculate the household population, and run the model again:"
   ]
  },
  {
   "cell_type": "code",
   "execution_count": 18,
   "metadata": {},
   "outputs": [
    {
     "name": "stderr",
     "output_type": "stream",
     "text": [
      "Building within-household transmission matrix: 100%|███████████████████████████████████| 81/81 [00:22<00:00,  3.63it/s]\n"
     ]
    },
    {
     "name": "stdout",
     "output_type": "stream",
     "text": [
      "Integration completed in 43.81895446777344 seconds.\n"
     ]
    }
   ],
   "source": [
    "model_input.class_is_isolating = array([[False, False, False],[False, False, False],[False, False, False]])\n",
    "model_input.iso_method = 1\n",
    "model_input.iso_prob = 0.5\n",
    "\n",
    "household_population = HouseholdPopulation(\n",
    "    composition_list, comp_dist, model_input, within_household_SEPIRQ,6)\n",
    "\n",
    "rhs = SEPIRQRateEquations(\n",
    "    model_input,\n",
    "    household_population,\n",
    "    import_model,\n",
    "    epsilon,\n",
    "    6)\n",
    "\n",
    "H0 = make_initial_SEPIRQ_condition(household_population, rhs, 1e-3)\n",
    "\n",
    "tspan = (0.0, no_days)\n",
    "solver_start = get_time()\n",
    "solution = solve_ivp(rhs, tspan, H0, first_step=0.001)\n",
    "solver_end = get_time()\n",
    "\n",
    "print('Integration completed in', solver_end-solver_start,'seconds.')\n",
    "\n",
    "time = solution.t\n",
    "H = solution.y"
   ]
  },
  {
   "cell_type": "markdown",
   "metadata": {},
   "source": [
    "Because of the way we code internal quarantine, not everyone in a quarantined household will be in the Q compartment. The actual compartmental structure and rates work exactly as under external quarantining, but we treat any household with Q>0 as being quarantined. What this means is that to work out the total quarantined by class we just do the average number of each class per household over all states with at least one person quarantined.\n",
    "\n",
    "Note that because of the slightly hacky way we do internal quarantining, we will definitely get indviduals moving into the Q class when their household is already under quarantine. This means some households could end up being under quarantine for longer than they really need to be since successive members could all be triggering their own quarantines but I don't think this is a huge problem since you're unlikely to get more than one or two secondary generations in a household."
   ]
  },
  {
   "cell_type": "code",
   "execution_count": 19,
   "metadata": {},
   "outputs": [],
   "source": [
    "S = H.T.dot(household_population.states[:, ::6])\n",
    "E = H.T.dot(household_population.states[:, 1::6])\n",
    "P = H.T.dot(household_population.states[:, 2::6])\n",
    "I = H.T.dot(household_population.states[:, 3::6])\n",
    "R = H.T.dot(household_population.states[:, 4::6])\n",
    "\n",
    "states_iso_only = household_population.states[:,5::6]\n",
    "total_iso_by_state =states_iso_only.sum(axis=1)\n",
    "iso_present = total_iso_by_state>0\n",
    "Q = H[iso_present,:].T.dot(household_population.composition_by_state[iso_present,:])"
   ]
  },
  {
   "cell_type": "markdown",
   "metadata": {},
   "source": [
    "Now plot the new results. The spread appears to be much more controlled but the dynamics are very spiky - possibly because all the households end up very correlated and everyone ends up quarantining in sync with one another."
   ]
  },
  {
   "cell_type": "code",
   "execution_count": 20,
   "metadata": {
    "scrolled": true
   },
   "outputs": [
    {
     "name": "stderr",
     "output_type": "stream",
     "text": [
      "C:\\Users\\Joe Hilton\\Anaconda3\\lib\\site-packages\\ipykernel_launcher.py:16: UserWarning: Matplotlib is currently using module://ipykernel.pylab.backend_inline, which is a non-GUI backend, so cannot show the figure.\n",
      "  app.launch_new_instance()\n"
     ]
    },
    {
     "data": {
      "image/png": "[encoded data removed]",
      "text/plain": [
       "<Figure size 432x288 with 1 Axes>"
      ]
     },
     "metadata": {
      "needs_background": "light"
     },
     "output_type": "display_data"
    }
   ],
   "source": [
    "class_per_hh = [children_per_hh, nonv_adults_per_hh, vuln_adults_per_hh]\n",
    "\n",
    "lgd=['Children','Non-vulnerable adults','Vulnerable adults']\n",
    "\n",
    "fig, axis = subplots()\n",
    "cmap = get_cmap('tab20')\n",
    "alpha = 0.5\n",
    "for i in range(3):\n",
    "    axis.plot(\n",
    "        time, I[:,i]/class_per_hh[i], label=lgd[i],\n",
    "        color=cmap(i/3), alpha=alpha)\n",
    "axis.set_ylabel('Infectious prevalence')\n",
    "\n",
    "axis.legend(ncol=1, bbox_to_anchor=(1,0.50))\n",
    "\n",
    "fig.show()\n"
   ]
  },
  {
   "cell_type": "code",
   "execution_count": null,
   "metadata": {},
   "outputs": [],
   "source": []
  }
 ],
 "metadata": {
  "kernelspec": {
   "display_name": "Python 3",
   "language": "python",
   "name": "python3"
  },
  "language_info": {
   "codemirror_mode": {
    "name": "ipython",
    "version": 3
   },
   "file_extension": ".py",
   "mimetype": "text/x-python",
   "name": "python",
   "nbconvert_exporter": "python",
   "pygments_lexer": "ipython3",
   "version": "3.7.4"
  }
 },
 "nbformat": 4,
 "nbformat_minor": 2
}
