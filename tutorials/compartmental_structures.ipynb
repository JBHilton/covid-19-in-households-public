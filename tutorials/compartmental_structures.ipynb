{
 "cells": [
  {
   "cell_type": "markdown",
   "metadata": {},
   "source": [
    "# Implementing compartmental structures\n",
    "\n",
    "In this notebook we demonstrate how to implement different compartmental structures."
   ]
  },
  {
   "cell_type": "code",
   "execution_count": 18,
   "metadata": {},
   "outputs": [],
   "source": [
    "from numpy import array\n",
    "from model.preprocessing import ModelInput\n",
    "from model.subsystems import subsystem_key"
   ]
  },
  {
   "cell_type": "code",
   "execution_count": 19,
   "metadata": {},
   "outputs": [],
   "source": [
    "# List of observed household compositions\n",
    "composition_list = array(\n",
    "    [[0, 1], [0, 2], [1, 1], [1, 2], [2, 1], [2, 2]])\n",
    "# Proportion of households which are in each composition\n",
    "comp_dist = array([0.2, 0.2, 0.1, 0.1, 0.1,  0.1])"
   ]
  },
  {
   "cell_type": "markdown",
   "metadata": {},
   "source": [
    "## SIR model"
   ]
  },
  {
   "cell_type": "code",
   "execution_count": 20,
   "metadata": {},
   "outputs": [],
   "source": [
    "SIR_SPEC = {\n",
    "    # Interpretable parameters:\n",
    "    'AR': 0.45,                     # Secondary attack probability\n",
    "    'R*': 1.1,                      # Reproduction number\n",
    "    'recovery_rate': 1/4,           # Recovery rate\n",
    "    'sus': array([1,1]),          # Relative susceptibility by age/vulnerability class\n",
    "    'density_expo' : 0.5, # \"Cauchemez parameter\"\n",
    "    'k_home': {\n",
    "        'file_name': 'inputs/MUestimates_home_2.xlsx',\n",
    "        'sheet_name':'United Kingdom of Great Britain'\n",
    "    },\n",
    "    'k_all': {\n",
    "        'file_name': 'inputs/MUestimates_all_locations_2.xlsx',\n",
    "        'sheet_name': 'United Kingdom of Great Britain'\n",
    "    },\n",
    "    'pop_pyramid_file_name': 'inputs/United Kingdom-2019.csv'\n",
    "}"
   ]
  },
  {
   "cell_type": "code",
   "execution_count": 21,
   "metadata": {},
   "outputs": [],
   "source": [
    "class SIRInput(ModelInput):\n",
    "    def __init__(self, spec):\n",
    "        super().__init__(spec)\n",
    "\n",
    "        fine_bds = arange(0, 81, 5)\n",
    "        self.coarse_bds = array([0, 20])\n",
    "        \n",
    "        pop_pyramid = read_csv(\n",
    "            spec['pop_pyramid_file_name'], index_col=0)\n",
    "        pop_pyramid = (pop_pyramid['F'] + pop_pyramid['M']).to_numpy()\n",
    "\n",
    "        self.k_home = aggregate_contact_matrix(\n",
    "            self.k_home, fine_bds, self.coarse_bds, pop_pyramid)\n",
    "        self.k_all = aggregate_contact_matrix(\n",
    "            self.k_all, fine_bds, self.coarse_bds, pop_pyramid)\n",
    "        self.k_ext = self.k_all - self.k_home\n",
    "        self.sus = spec['sus']\n",
    "        self.inf_scales = [[1,1]] # In the SIR model there is only one infectious compartment\n",
    "        \n",
    "        self.inf_compartment_list = [1]\n",
    "        self.no_inf_compartments = len(self.inf_compartment_list)\n",
    "        \n",
    "        home_eig = max(eig(\n",
    "\n",
    "            self.sus * ((1/spec['recovery_rate']) *\n",
    "             (self.k_home))\n",
    "\n",
    "            )[0])\n",
    "        ext_eig = max(eig(\n",
    "\n",
    "            self.sus * ((1/spec['recovery_rate']) *\n",
    "             (self.k_ext))\n",
    "\n",
    "            )[0])\n",
    "\n",
    "        R_int = - log(1 - spec['AR'])\n",
    "\n",
    "        self.k_home = R_int * self.k_home / home_eig\n",
    "        external_scale = min((spec['R*']/(2.3*spec['AR'])),2-R_int)\n",
    "        self.k_ext = external_scale * self.k_ext / ext_eig\n",
    "        self.density_expo = spec['density_expo']\n",
    "        self.import_model = NoImportModel()\n",
    "\n",
    "    @property\n",
    "    def gamma(self):\n",
    "        return self.spec['recovery_rate']"
   ]
  },
  {
   "cell_type": "code",
   "execution_count": 22,
   "metadata": {},
   "outputs": [],
   "source": [
    "def initialise_SIR(\n",
    "        household_population,\n",
    "        rhs,\n",
    "        prev=1.0e-2,\n",
    "        immunity=5.6e-2,\n",
    "        AR=1.0):\n",
    "    '''TODO: docstring'''\n",
    "    fully_sus = where(\n",
    "        rhs.states_sus_only.sum(axis=1)\n",
    "        ==\n",
    "        household_population.states.sum(axis=1))[0]\n",
    "    if seroprev>0:\n",
    "        already_visited = where(\n",
    "            (rhs.states_rec_only.sum(axis=1)\n",
    "                == around(AR*household_population.states.sum(axis=1)).astype(int)\n",
    "                & ((rhs.states_sus_only + rhs.states_rec_only).sum(axis=1)\n",
    "                    == household_population.states.sum(axis=1)))\n",
    "            & ((rhs.states_rec_only).sum(axis=1) > 0))[0]\n",
    "    # This last condition is needed to make sure we don't include any fully\n",
    "    # susceptible states\n",
    "    i_is_one = where(\n",
    "        ((rhs.states_inf_only).sum(axis=1) == 1)\n",
    "        & ((\n",
    "            rhs.states_sus_only+rhs.states_inf_only).sum(axis=1)\n",
    "            ==\n",
    "            household_population.states.sum(axis=1))\n",
    "    )[0]\n",
    "    ave_hh_size = sum(\n",
    "        household_population.composition_distribution.T.dot(\n",
    "            household_population.composition_list))\n",
    "    H0 = zeros(len(household_population.which_composition))\n",
    "    inf_comps = household_population.which_composition[i_is_one]\n",
    "    x = array([])\n",
    "    for state in i_is_one:\n",
    "        x = append(\n",
    "            x,\n",
    "            (1/len(inf_comps == household_population.which_composition[state]))\n",
    "            * household_population.composition_distribution[\n",
    "                household_population.which_composition[state]])\n",
    "        # base_comp_dist[household_population.which_composition[state]]-=x[-1]\n",
    "    if immunity>0:\n",
    "        visited_comps = household_population.which_composition[already_visited]\n",
    "        y = array([])\n",
    "        for state in already_visited:\n",
    "            y = append(\n",
    "                y,\n",
    "                (1/len(\n",
    "                    visited_comps\n",
    "                    == household_population.which_composition[state]))\n",
    "                * household_population.composition_distribution[\n",
    "                    household_population.which_composition[state]])\n",
    "        # base_comp_dist[household_population.which_composition[state]]-=y[-1]\n",
    "    # y = household_population.composition_distribution[\n",
    "    #     household_population.which_composition[already_visited]]\n",
    "    H0[i_is_one] = ave_hh_size*(prev/sum(x)) * x\n",
    "    if seroprev>0:\n",
    "        H0[already_visited] = ave_hh_size*((immunity/AR)/sum(y)) * y\n",
    "    H0[fully_sus] = (1-sum(H0)) * household_population.composition_distribution\n",
    "\n",
    "    return H0"
   ]
  },
  {
   "cell_type": "markdown",
   "metadata": {},
   "source": [
    "# PLAN\n",
    "Generalise `build_external_import_matrix` so that it sweeps over infectious classes, like in the infection event function. This should mean that we can then have a single rate function for all the compartmental structures."
   ]
  },
  {
   "cell_type": "code",
   "execution_count": 17,
   "metadata": {},
   "outputs": [
    {
     "name": "stdout",
     "output_type": "stream",
     "text": [
      "[1]\n",
      "[1, 4]\n"
     ]
    }
   ],
   "source": [
    "x = []\n",
    "x.append(1)\n",
    "print(x)\n",
    "x.append(4)\n",
    "print(x)"
   ]
  },
  {
   "cell_type": "code",
   "execution_count": null,
   "metadata": {},
   "outputs": [],
   "source": []
  }
 ],
 "metadata": {
  "kernelspec": {
   "display_name": "Python 3",
   "language": "python",
   "name": "python3"
  },
  "language_info": {
   "codemirror_mode": {
    "name": "ipython",
    "version": 3
   },
   "file_extension": ".py",
   "mimetype": "text/x-python",
   "name": "python",
   "nbconvert_exporter": "python",
   "pygments_lexer": "ipython3",
   "version": "3.7.4"
  }
 },
 "nbformat": 4,
 "nbformat_minor": 2
}
