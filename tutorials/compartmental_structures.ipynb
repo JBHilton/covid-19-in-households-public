{
 "cells": [
  {
   "cell_type": "markdown",
   "metadata": {},
   "source": [
    "# Implementing compartmental structures\n",
    "\n",
    "In this notebook we demonstrate how to implement different compartmental structures."
   ]
  },
  {
   "cell_type": "code",
   "execution_count": 1,
   "metadata": {},
   "outputs": [],
   "source": [
    "from matplotlib.pyplot import subplots\n",
    "from matplotlib.cm import get_cmap\n",
    "from numpy import append, arange, around, array, log, where, zeros\n",
    "from numpy.linalg import eig\n",
    "from os import chdir, getcwd\n",
    "from pandas import read_csv\n",
    "from scipy.integrate import solve_ivp\n",
    "from time import time as get_time\n",
    "from model.common import RateEquations\n",
    "from model.imports import NoImportModel\n",
    "from model.preprocessing import aggregate_contact_matrix, HouseholdPopulation, ModelInput\n",
    "from model.subsystems import subsystem_key"
   ]
  },
  {
   "cell_type": "code",
   "execution_count": 2,
   "metadata": {},
   "outputs": [],
   "source": [
    "current_dir = getcwd()\n",
    "if current_dir[-9:] == 'tutorials':\n",
    "    chdir('..')"
   ]
  },
  {
   "cell_type": "code",
   "execution_count": 3,
   "metadata": {},
   "outputs": [
    {
     "name": "stdout",
     "output_type": "stream",
     "text": [
      "C:\\Users\\Joe Hilton\\Documents\\Github\\covid-19-in-households-public\n"
     ]
    }
   ],
   "source": [
    "print(getcwd())"
   ]
  },
  {
   "cell_type": "code",
   "execution_count": 4,
   "metadata": {},
   "outputs": [],
   "source": [
    "# List of observed household compositions\n",
    "composition_list = array(\n",
    "    [[0, 1], [0, 2], [1, 1], [1, 2], [2, 1], [2, 2]])\n",
    "# Proportion of households which are in each composition\n",
    "comp_dist = array([0.2, 0.2, 0.1, 0.1, 0.1,  0.1])"
   ]
  },
  {
   "cell_type": "markdown",
   "metadata": {},
   "source": [
    "## SIR model"
   ]
  },
  {
   "cell_type": "code",
   "execution_count": 5,
   "metadata": {},
   "outputs": [],
   "source": [
    "SIR_SPEC = {\n",
    "    # Interpretable parameters:\n",
    "    'AR': 0.45,                     # Secondary attack probability\n",
    "    'R*': 1.1,                      # Reproduction number\n",
    "    'recovery_rate': 1/4,           # Recovery rate\n",
    "    'sus': array([1,1]),          # Relative susceptibility by age/vulnerability class\n",
    "    'density_expo' : 0.5, # \"Cauchemez parameter\"\n",
    "}"
   ]
  },
  {
   "cell_type": "code",
   "execution_count": 6,
   "metadata": {},
   "outputs": [],
   "source": [
    "TWO_AGE_UK_SPEC = {\n",
    "    'k_home': {                                                 # File location for UK within-household contact matrix\n",
    "        'file_name': 'inputs/MUestimates_home_2.xlsx',\n",
    "        'sheet_name':'United Kingdom of Great Britain'\n",
    "    },\n",
    "    'k_all': {                                                  # File location for UK pop-level contact matrix\n",
    "        'file_name': 'inputs/MUestimates_all_locations_2.xlsx',\n",
    "        'sheet_name': 'United Kingdom of Great Britain'\n",
    "    },\n",
    "    'pop_pyramid_file_name': 'inputs/United Kingdom-2019.csv',   # File location for UK age pyramid\n",
    "    'fine_bds' : arange(0,81,5),                                # Boundaries used in pyramid/contact data\n",
    "    'coarse_bds' : array([0,20])                                # Desired boundaries for model population\n",
    "}"
   ]
  },
  {
   "cell_type": "code",
   "execution_count": 7,
   "metadata": {},
   "outputs": [],
   "source": [
    "MODEL_SPEC = {**SIR_SPEC, **TWO_AGE_UK_SPEC}"
   ]
  },
  {
   "cell_type": "code",
   "execution_count": 8,
   "metadata": {},
   "outputs": [],
   "source": [
    "class SIRInput(ModelInput):\n",
    "    def __init__(self, spec):\n",
    "        super().__init__(spec)\n",
    "\n",
    "        fine_bds = spec['fine_bds']\n",
    "        self.coarse_bds = spec['coarse_bds']\n",
    "        \n",
    "        pop_pyramid = read_csv(\n",
    "            spec['pop_pyramid_file_name'], index_col=0)\n",
    "        pop_pyramid = (pop_pyramid['F'] + pop_pyramid['M']).to_numpy()\n",
    "\n",
    "        self.k_home = aggregate_contact_matrix(\n",
    "            self.k_home, fine_bds, self.coarse_bds, pop_pyramid)\n",
    "        self.k_all = aggregate_contact_matrix(\n",
    "            self.k_all, fine_bds, self.coarse_bds, pop_pyramid)\n",
    "        self.k_ext = self.k_all - self.k_home\n",
    "        self.sus = spec['sus']\n",
    "        self.inf_scales = [[1,1]] # In the SIR model there is only one infectious compartment\n",
    "        \n",
    "        self.inf_compartment_list = [1]\n",
    "        self.no_inf_compartments = len(self.inf_compartment_list)\n",
    "        \n",
    "        home_eig = max(eig(\n",
    "\n",
    "            self.sus * ((1/spec['recovery_rate']) *\n",
    "             (self.k_home))\n",
    "\n",
    "            )[0])\n",
    "        ext_eig = max(eig(\n",
    "\n",
    "            self.sus * ((1/spec['recovery_rate']) *\n",
    "             (self.k_ext))\n",
    "\n",
    "            )[0])\n",
    "\n",
    "        R_int = - log(1 - spec['AR'])\n",
    "\n",
    "        self.k_home = R_int * self.k_home / home_eig\n",
    "        external_scale = min((spec['R*']/(2.3*spec['AR'])),2-R_int)\n",
    "        self.k_ext = external_scale * self.k_ext / ext_eig\n",
    "        self.density_expo = spec['density_expo']\n",
    "        self.import_model = NoImportModel()\n",
    "\n",
    "    @property\n",
    "    def gamma(self):\n",
    "        return self.spec['recovery_rate']"
   ]
  },
  {
   "cell_type": "code",
   "execution_count": 9,
   "metadata": {},
   "outputs": [],
   "source": [
    "def initialise_SIR(\n",
    "        household_population,\n",
    "        rhs,\n",
    "        prev=1.0e-2,\n",
    "        immunity=5.6e-2,\n",
    "        AR=1.0):\n",
    "    '''TODO: docstring'''\n",
    "    fully_sus = where(\n",
    "        rhs.states_sus_only.sum(axis=1)\n",
    "        ==\n",
    "        household_population.states.sum(axis=1))[0]\n",
    "    if immunity>0:\n",
    "        already_visited = where(\n",
    "            (rhs.states_rec_only.sum(axis=1)\n",
    "                == around(AR*household_population.states.sum(axis=1)).astype(int)\n",
    "                & ((rhs.states_sus_only + rhs.states_rec_only).sum(axis=1)\n",
    "                    == household_population.states.sum(axis=1)))\n",
    "            & ((rhs.states_rec_only).sum(axis=1) > 0))[0]\n",
    "    # This last condition is needed to make sure we don't include any fully\n",
    "    # susceptible states\n",
    "    i_is_one = where(\n",
    "        ((rhs.states_inf_only).sum(axis=1) == 1)\n",
    "        & ((\n",
    "            rhs.states_sus_only+rhs.states_inf_only).sum(axis=1)\n",
    "            ==\n",
    "            household_population.states.sum(axis=1))\n",
    "    )[0]\n",
    "    ave_hh_size = sum(\n",
    "        household_population.composition_distribution.T.dot(\n",
    "            household_population.composition_list))\n",
    "    H0 = zeros(len(household_population.which_composition))\n",
    "    inf_comps = household_population.which_composition[i_is_one]\n",
    "    x = array([])\n",
    "    for state in i_is_one:\n",
    "        x = append(\n",
    "            x,\n",
    "            (1/len(inf_comps == household_population.which_composition[state]))\n",
    "            * household_population.composition_distribution[\n",
    "                household_population.which_composition[state]])\n",
    "        # base_comp_dist[household_population.which_composition[state]]-=x[-1]\n",
    "    if immunity>0:\n",
    "        visited_comps = household_population.which_composition[already_visited]\n",
    "        y = array([])\n",
    "        for state in already_visited:\n",
    "            y = append(\n",
    "                y,\n",
    "                (1/len(\n",
    "                    visited_comps\n",
    "                    == household_population.which_composition[state]))\n",
    "                * household_population.composition_distribution[\n",
    "                    household_population.which_composition[state]])\n",
    "        # base_comp_dist[household_population.which_composition[state]]-=y[-1]\n",
    "    # y = household_population.composition_distribution[\n",
    "    #     household_population.which_composition[already_visited]]\n",
    "    H0[i_is_one] = ave_hh_size*(prev/sum(x)) * x\n",
    "    if immunity>0:\n",
    "        H0[already_visited] = ave_hh_size*((immunity/AR)/sum(y)) * y\n",
    "    H0[fully_sus] = (1-sum(H0)) * household_population.composition_distribution\n",
    "\n",
    "    return H0"
   ]
  },
  {
   "cell_type": "code",
   "execution_count": 10,
   "metadata": {},
   "outputs": [
    {
     "ename": "TypeError",
     "evalue": "__init__() missing 2 required positional arguments: 'composition_list' and 'composition_distribution'",
     "output_type": "error",
     "traceback": [
      "\u001b[1;31m---------------------------------------------------------------------------\u001b[0m",
      "\u001b[1;31mTypeError\u001b[0m                                 Traceback (most recent call last)",
      "\u001b[1;32m<ipython-input-10-aa190be64fcc>\u001b[0m in \u001b[0;36m<module>\u001b[1;34m\u001b[0m\n\u001b[1;32m----> 1\u001b[1;33m \u001b[0mmodel_input\u001b[0m \u001b[1;33m=\u001b[0m \u001b[0mSIRInput\u001b[0m\u001b[1;33m(\u001b[0m\u001b[0mMODEL_SPEC\u001b[0m\u001b[1;33m)\u001b[0m\u001b[1;33m\u001b[0m\u001b[1;33m\u001b[0m\u001b[0m\n\u001b[0m\u001b[0;32m      2\u001b[0m \u001b[1;33m\u001b[0m\u001b[0m\n\u001b[0;32m      3\u001b[0m \u001b[1;31m# List of observed household compositions\u001b[0m\u001b[1;33m\u001b[0m\u001b[1;33m\u001b[0m\u001b[1;33m\u001b[0m\u001b[0m\n\u001b[0;32m      4\u001b[0m composition_list = array(\n\u001b[0;32m      5\u001b[0m     [[0, 1], [0, 2], [1, 1], [1, 2], [2, 1], [2, 2]])\n",
      "\u001b[1;32m<ipython-input-8-580d1a5703a1>\u001b[0m in \u001b[0;36m__init__\u001b[1;34m(self, spec)\u001b[0m\n\u001b[0;32m      1\u001b[0m \u001b[1;32mclass\u001b[0m \u001b[0mSIRInput\u001b[0m\u001b[1;33m(\u001b[0m\u001b[0mModelInput\u001b[0m\u001b[1;33m)\u001b[0m\u001b[1;33m:\u001b[0m\u001b[1;33m\u001b[0m\u001b[1;33m\u001b[0m\u001b[0m\n\u001b[0;32m      2\u001b[0m     \u001b[1;32mdef\u001b[0m \u001b[0m__init__\u001b[0m\u001b[1;33m(\u001b[0m\u001b[0mself\u001b[0m\u001b[1;33m,\u001b[0m \u001b[0mspec\u001b[0m\u001b[1;33m)\u001b[0m\u001b[1;33m:\u001b[0m\u001b[1;33m\u001b[0m\u001b[1;33m\u001b[0m\u001b[0m\n\u001b[1;32m----> 3\u001b[1;33m         \u001b[0msuper\u001b[0m\u001b[1;33m(\u001b[0m\u001b[1;33m)\u001b[0m\u001b[1;33m.\u001b[0m\u001b[0m__init__\u001b[0m\u001b[1;33m(\u001b[0m\u001b[0mspec\u001b[0m\u001b[1;33m)\u001b[0m\u001b[1;33m\u001b[0m\u001b[1;33m\u001b[0m\u001b[0m\n\u001b[0m\u001b[0;32m      4\u001b[0m \u001b[1;33m\u001b[0m\u001b[0m\n\u001b[0;32m      5\u001b[0m         \u001b[0mfine_bds\u001b[0m \u001b[1;33m=\u001b[0m \u001b[0mspec\u001b[0m\u001b[1;33m[\u001b[0m\u001b[1;34m'fine_bds'\u001b[0m\u001b[1;33m]\u001b[0m\u001b[1;33m\u001b[0m\u001b[1;33m\u001b[0m\u001b[0m\n",
      "\u001b[1;31mTypeError\u001b[0m: __init__() missing 2 required positional arguments: 'composition_list' and 'composition_distribution'"
     ]
    }
   ],
   "source": [
    "model_input = SIRInput(MODEL_SPEC)\n",
    "\n",
    "# List of observed household compositions\n",
    "composition_list = array(\n",
    "    [[0, 1], [0, 2], [1, 1], [1, 2], [2, 1], [2, 2]])\n",
    "# Proportion of households which are in each composition\n",
    "comp_dist = array([0.2, 0.2, 0.1, 0.1, 0.1,  0.1])\n",
    "\n",
    "household_population = HouseholdPopulation(\n",
    "    composition_list, comp_dist, 'SIR', model_input)"
   ]
  },
  {
   "cell_type": "code",
   "execution_count": 19,
   "metadata": {},
   "outputs": [],
   "source": [
    "class SIRRateEquations(RateEquations):\n",
    "    pass\n",
    "    @property\n",
    "    def states_inf_only(self):\n",
    "        return household_population.states[:, 1::self.no_compartments]\n",
    "    @property\n",
    "    def states_rec_only(self):\n",
    "        return household_population.states[:, 2::self.no_compartments]"
   ]
  },
  {
   "cell_type": "code",
   "execution_count": 20,
   "metadata": {},
   "outputs": [],
   "source": [
    "rhs = SIRRateEquations(\n",
    "    'SIR',\n",
    "    model_input,\n",
    "    household_population)"
   ]
  },
  {
   "cell_type": "code",
   "execution_count": 13,
   "metadata": {
    "scrolled": true
   },
   "outputs": [],
   "source": [
    "H0 = initialise_SIR(\n",
    "    household_population, rhs)"
   ]
  },
  {
   "cell_type": "code",
   "execution_count": 14,
   "metadata": {},
   "outputs": [],
   "source": [
    "tspan = (0.0, 90)\n",
    "simple_model_start = get_time()\n",
    "solution = solve_ivp(rhs, tspan, H0, first_step=0.001)\n",
    "simple_model_end = get_time()"
   ]
  },
  {
   "cell_type": "code",
   "execution_count": 15,
   "metadata": {},
   "outputs": [],
   "source": [
    "t = solution.t\n",
    "H = solution.y\n",
    "\n",
    "S = H.T.dot(household_population.states[:,::3])\n",
    "I = H.T.dot(household_population.states[:,1::3])\n",
    "R = H.T.dot(household_population.states[:,2::3])\n",
    "N = S + I + R"
   ]
  },
  {
   "cell_type": "code",
   "execution_count": 16,
   "metadata": {},
   "outputs": [
    {
     "data": {
      "image/png": "[encoded data removed]",
      "text/plain": [
       "<Figure size 432x288 with 1 Axes>"
      ]
     },
     "metadata": {
      "needs_background": "light"
     },
     "output_type": "display_data"
    }
   ],
   "source": [
    "fig, axis = subplots(1,1, sharex=True)\n",
    "\n",
    "cmap = get_cmap('tab20')\n",
    "alpha = 0.5\n",
    "\n",
    "for age_class in range(2):\n",
    "    axis.plot(t, S[:,age_class]/N[:,age_class], label='S', alpha=alpha)\n",
    "    axis.plot(t, I[:,age_class]/N[:,age_class], label='I', alpha=alpha)\n",
    "    axis.plot(t, R[:,age_class]/N[:,age_class], label='R', alpha=alpha)\n",
    "    axis.legend(ncol=1, bbox_to_anchor=(1,0.50))"
   ]
  },
  {
   "cell_type": "code",
   "execution_count": 21,
   "metadata": {},
   "outputs": [
    {
     "name": "stdout",
     "output_type": "stream",
     "text": [
      "[[0. 1.]\n",
      " [0. 0.]\n",
      " [0. 0.]\n",
      " [0. 2.]\n",
      " [0. 1.]\n",
      " [0. 0.]\n",
      " [0. 1.]\n",
      " [0. 0.]\n",
      " [0. 0.]\n",
      " [1. 1.]\n",
      " [0. 1.]\n",
      " [0. 1.]\n",
      " [1. 0.]\n",
      " [0. 0.]\n",
      " [0. 0.]\n",
      " [1. 0.]\n",
      " [0. 0.]\n",
      " [0. 0.]\n",
      " [1. 2.]\n",
      " [0. 2.]\n",
      " [0. 2.]\n",
      " [1. 1.]\n",
      " [0. 1.]\n",
      " [0. 1.]\n",
      " [1. 0.]\n",
      " [0. 0.]\n",
      " [0. 0.]\n",
      " [1. 1.]\n",
      " [0. 1.]\n",
      " [0. 1.]\n",
      " [1. 0.]\n",
      " [0. 0.]\n",
      " [0. 0.]\n",
      " [1. 0.]\n",
      " [0. 0.]\n",
      " [0. 0.]\n",
      " [2. 1.]\n",
      " [1. 1.]\n",
      " [0. 1.]\n",
      " [1. 1.]\n",
      " [0. 1.]\n",
      " [0. 1.]\n",
      " [2. 0.]\n",
      " [1. 0.]\n",
      " [0. 0.]\n",
      " [1. 0.]\n",
      " [0. 0.]\n",
      " [0. 0.]\n",
      " [2. 0.]\n",
      " [1. 0.]\n",
      " [0. 0.]\n",
      " [1. 0.]\n",
      " [0. 0.]\n",
      " [0. 0.]\n",
      " [2. 2.]\n",
      " [1. 2.]\n",
      " [0. 2.]\n",
      " [1. 2.]\n",
      " [0. 2.]\n",
      " [0. 2.]\n",
      " [2. 1.]\n",
      " [1. 1.]\n",
      " [0. 1.]\n",
      " [1. 1.]\n",
      " [0. 1.]\n",
      " [0. 1.]\n",
      " [2. 0.]\n",
      " [1. 0.]\n",
      " [0. 0.]\n",
      " [1. 0.]\n",
      " [0. 0.]\n",
      " [0. 0.]\n",
      " [2. 1.]\n",
      " [1. 1.]\n",
      " [0. 1.]\n",
      " [1. 1.]\n",
      " [0. 1.]\n",
      " [0. 1.]\n",
      " [2. 0.]\n",
      " [1. 0.]\n",
      " [0. 0.]\n",
      " [1. 0.]\n",
      " [0. 0.]\n",
      " [0. 0.]\n",
      " [2. 0.]\n",
      " [1. 0.]\n",
      " [0. 0.]\n",
      " [1. 0.]\n",
      " [0. 0.]\n",
      " [0. 0.]]\n"
     ]
    }
   ],
   "source": [
    "print(rhs.states_rec_only)"
   ]
  },
  {
   "cell_type": "code",
   "execution_count": null,
   "metadata": {},
   "outputs": [],
   "source": []
  }
 ],
 "metadata": {
  "kernelspec": {
   "display_name": "Python 3",
   "language": "python",
   "name": "python3"
  },
  "language_info": {
   "codemirror_mode": {
    "name": "ipython",
    "version": 3
   },
   "file_extension": ".py",
   "mimetype": "text/x-python",
   "name": "python",
   "nbconvert_exporter": "python",
   "pygments_lexer": "ipython3",
   "version": "3.7.4"
  }
 },
 "nbformat": 4,
 "nbformat_minor": 2
}
