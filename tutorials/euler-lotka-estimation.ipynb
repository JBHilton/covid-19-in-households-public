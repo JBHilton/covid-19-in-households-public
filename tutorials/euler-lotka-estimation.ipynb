{
 "cells": [
  {
   "cell_type": "markdown",
   "metadata": {},
   "source": [
    "# Estimating growth rate in the households model\n",
    "\n",
    "In this notebook, we start by running the UK SEPIR households example and estimating the growth rate directly. We then look at ways we can estimate it without directly solving the equations."
   ]
  },
  {
   "cell_type": "code",
   "execution_count": 1,
   "metadata": {},
   "outputs": [],
   "source": [
    "from copy import deepcopy\n",
    "from matplotlib.pyplot import subplots, yscale\n",
    "from matplotlib.cm import get_cmap\n",
    "from numpy import arange, argmin, array, diag,  log, ones, shape, sqrt, where, zeros\n",
    "from numpy.linalg import eig\n",
    "from numpy.random import rand\n",
    "from os.path import isfile\n",
    "from pandas import read_csv\n",
    "from pickle import load, dump\n",
    "from scipy.integrate import solve_ivp\n",
    "from scipy.sparse import eye, identity\n",
    "from scipy.sparse import csc_matrix as sparse\n",
    "from scipy.sparse.linalg import inv\n",
    "from time import time as get_time\n",
    "from model.preprocessing import ( ModelInput,\n",
    "        SEPIRInput, HouseholdPopulation, make_initial_condition)\n",
    "from model.specs import TWO_AGE_SEPIR_SPEC, TWO_AGE_UK_SPEC\n",
    "from model.common import SEPIRRateEquations\n",
    "from model.imports import NoImportModel"
   ]
  },
  {
   "cell_type": "code",
   "execution_count": 2,
   "metadata": {},
   "outputs": [],
   "source": [
    "from os import chdir, getcwd\n",
    "current_dir = getcwd()\n",
    "if current_dir[-9:] == 'tutorials':\n",
    "    chdir('..')"
   ]
  },
  {
   "cell_type": "markdown",
   "metadata": {},
   "source": [
    "The following block implements and solves the SEPIR model based on UK population parameters:"
   ]
  },
  {
   "cell_type": "code",
   "execution_count": 3,
   "metadata": {},
   "outputs": [
    {
     "name": "stderr",
     "output_type": "stream",
     "text": [
      "Building within-household transmission matrix: 100%|███████████████████████████████████| 27/27 [00:01<00:00, 19.56it/s]\n"
     ]
    }
   ],
   "source": [
    "SPEC = {**TWO_AGE_SEPIR_SPEC, **TWO_AGE_UK_SPEC}\n",
    "\n",
    "# List of observed household compositions\n",
    "composition_list = read_csv(\n",
    "    'inputs/eng_and_wales_adult_child_composition_list.csv',\n",
    "    header=0).to_numpy()\n",
    "# Proportion of households which are in each composition\n",
    "comp_dist = read_csv(\n",
    "    'inputs/eng_and_wales_adult_child_composition_dist.csv',\n",
    "    header=0).to_numpy().squeeze()\n",
    "\n",
    "model_input = SEPIRInput(SPEC, composition_list, comp_dist)\n",
    "\n",
    "household_population = HouseholdPopulation(\n",
    "        composition_list, comp_dist, model_input)\n",
    "\n",
    "rhs = SEPIRRateEquations(model_input, household_population, NoImportModel(5,2))\n",
    "\n",
    "H0 = make_initial_condition(household_population, rhs)\n",
    "\n",
    "tspan = (0.0, 365)\n",
    "solution = solve_ivp(rhs, tspan, H0, first_step=0.001, atol=1e-16)\n",
    "\n",
    "time = solution.t\n",
    "H = solution.y\n",
    "S = H.T.dot(household_population.states[:, ::5])\n",
    "E = H.T.dot(household_population.states[:, 1::5])\n",
    "P = H.T.dot(household_population.states[:, 2::5])\n",
    "I = H.T.dot(household_population.states[:, 3::5])\n",
    "R = H.T.dot(household_population.states[:, 4::5])\n",
    "time_series = {\n",
    "'time':time,\n",
    "'S':S,\n",
    "'E':E,\n",
    "'P':P,\n",
    "'I':I,\n",
    "'R':R\n",
    "}\n"
   ]
  },
  {
   "cell_type": "markdown",
   "metadata": {},
   "source": [
    "In the next block, we plot the log of the mean \"active\" infections ($E+P+I$) over time, and the log of the total proportion of households containing an infection $H(\\underline{X}:(E+P+I)(\\underline{X})>0)$. Comparing the linear segment of these plots, we can see that during the exponential growth phase of the epidemic, the household growth rate is the same as the individual-level growth rate, exactly as predicted by theory."
   ]
  },
  {
   "cell_type": "code",
   "execution_count": 4,
   "metadata": {
    "scrolled": true
   },
   "outputs": [
    {
     "data": {
      "text/plain": [
       "<matplotlib.legend.Legend at 0x26e873cfd88>"
      ]
     },
     "execution_count": 4,
     "metadata": {},
     "output_type": "execute_result"
    },
    {
     "data": {
      "image/png": "[encoded data removed]",
      "text/plain": [
       "<Figure size 576x576 with 1 Axes>"
      ]
     },
     "metadata": {
      "needs_background": "light"
     },
     "output_type": "display_data"
    }
   ],
   "source": [
    "data_list = [time_series['S']/model_input.ave_hh_by_class,\n",
    "    time_series['E']/model_input.ave_hh_by_class,\n",
    "    time_series['P']/model_input.ave_hh_by_class,\n",
    "    time_series['I']/model_input.ave_hh_by_class,\n",
    "    time_series['R']/model_input.ave_hh_by_class]\n",
    "\n",
    "log_infs = log((data_list[1]+data_list[2]+data_list[3]).sum(axis=1))\n",
    "inf_states = where((rhs.states_exp_only + rhs.states_pro_only + rhs.states_inf_only).sum(axis=1)>0)[0]\n",
    "\n",
    "fig, ax = subplots(1, figsize=(8,8))\n",
    "\n",
    "ax.plot(time, log_infs,label='Infected individuals')\n",
    "ax.plot(time, log((H[inf_states]).sum(axis=0)),label='Infected households')\n",
    "ax.set_xlabel('Time in days')\n",
    "ax.set_ylabel('log value')\n",
    "ax.legend(ncol=1, bbox_to_anchor=(1,0.50))"
   ]
  },
  {
   "cell_type": "markdown",
   "metadata": {},
   "source": [
    "By inspection of the plots, we can see that around day 50 the epidemic is definitely in its exponential growth phase. In the next box we work out which increment of the solver is closest to day 50, then directly calculate the gradient of the log growth curve at this time step, giving us an estimate of the exponential growth rate."
   ]
  },
  {
   "cell_type": "code",
   "execution_count": 5,
   "metadata": {
    "scrolled": false
   },
   "outputs": [
    {
     "name": "stdout",
     "output_type": "stream",
     "text": [
      "Closest time to 50 days is at increment 49 , t[ 49 ]= 49.74861010465704 .\n",
      "Direct estimate of log gradient at increment 49 from population estimates is 0.0383904111955741 .\n",
      "Direct estimate of log gradient at increment 49 from hh estimates is 0.0386602586100241 .\n"
     ]
    }
   ],
   "source": [
    "t_50 = argmin(abs(time - 50))\n",
    "print('Closest time to 50 days is at increment',t_50,', t[',t_50,']=',time[t_50],'.')\n",
    "r_guess = (log_infs[t_50+1]-log_infs[t_50])/(time[t_50+1]-time[t_50])\n",
    "print('Direct estimate of log gradient at increment',t_50,'from population estimates is',r_guess,'.')\n",
    "r_guess_hh = (log((H[inf_states,t_50+1]).sum(axis=0))-log((H[inf_states,t_50]).sum(axis=0)))/(time[t_50+1]-time[t_50])\n",
    "print('Direct estimate of log gradient at increment',t_50,'from hh estimates is',r_guess_hh,'.')"
   ]
  },
  {
   "cell_type": "markdown",
   "metadata": {},
   "source": [
    "## Growth rate calculations\n",
    "\n",
    "We will use an Euler-Lotka approach to do growth rate calculations. Suppose we are in the exponential growth phase of our dynamics. Let $\\underline{I}$ be the profile of households typed by composition and risk class of index case, i.e. if infectious households of type $i$ have composition $\\underline{N}(i)$ and an index case in risk class $C(i)$, then $I_i$ is the proportion of infected households in this growth phase which are in composition $\\underline{N}(i)$ and had their local outbreak seeded by a case in risk class $C(i)$. In the exponential growth phase, this grows according to\n",
    "$$\n",
    "\\frac{\\mathrm{d}\\underline{I}}{\\mathrm{d}t} = e^{rt}\\underline{I}_*,\n",
    "$$\n",
    "where $\\underline{I}_*$ is the profile of infectious households by composition and index case class at time $t=0$. If $\\underline{\\underline{\\lambda}}(a)$ is the matrix with $(i,j)$th entry giving the rate at which a household of composition-seed type $i$ generates those of composition-seed type $j$ at time $a$ since its original import, then we get the following Euler-Lotka equation\n",
    "$$\n",
    "\\underline{I}_* = \\int\\limits_0^{\\infty}\\underline{I}_* e^{-r\\underline{\\underline{In}}t}\\underline{\\underline{\\lambda}}\\mathrm{d}t.\n",
    "$$\n",
    "Assuming we do not see repeat introductions of infection into a single household, we can decompose $\\underline{\\underline{\\lambda}}$ as follows:\n",
    "$$\n",
    "\\underline{\\underline{\\lambda}} = \\underline{\\underline{\\alpha}}e^{\\underline{\\underline{Q}}_{\\mathrm{int}}t}\\underline{\\underline{F}}\\underline{\\underline{P}}.\n",
    "$$\n",
    "Here $\\underline{\\underline{\\alpha}}$ is the matrix mapping composition and import class of household to an initial condition in the households model, $\\underline{\\underline{F}}$ is infection rate to each class from each composition, and $\\underline{\\underline{P}}$ is probability that the infection kicked out to a given class ends up in a given type of household. The term $e^{\\underline{\\underline{Q}}_{\\mathrm{int}}t}$ gives the evolution of the within-household system, derived from the fact that we are assuming that after an import there is no other interaction with external households, so the evolution is linear. The Euler-Lotka equation is then\n",
    "$$\n",
    "\\underline{I}_* = \\int\\limits_0^{\\infty}\\underline{I}_* \\underline{\\underline{\\alpha}} e^{(\\underline{\\underline{Q}}_{\\mathrm{int}}-r\\underline{\\underline{In}})t}\\underline{\\underline{F}}\\underline{\\underline{P}}\\mathrm{d}t,\n",
    "$$\n",
    "and integrating we get\n",
    "$$\n",
    "\\underline{I}_* = \\underline{I}_* \\underline{\\underline{\\alpha}} (r\\underline{\\underline{In}}-\\underline{\\underline{Q}}_{\\mathrm{int}})\\underline{\\underline{F}}\\underline{\\underline{P}}.\n",
    "$$\n",
    "This is an eigenvector formula with eigenvalue 1, so to find the growth rate, we need to find $r$ such that the transpose of\n",
    "$$\n",
    "\\underline{\\underline{\\alpha}} (r\\underline{\\underline{In}}-\\underline{\\underline{Q}}_{\\mathrm{int}})^{-1}\\underline{\\underline{F}}\\underline{\\underline{P}}\n",
    "$$\n",
    "has leading(?) eigenvalue 1 (cf Pellis, Ferguson and Fraser on households-workplaces models). Because $\\underline{\\underline{F}}$ scales linearly with the baseline between-household transmission, so estimate between-household transmission we just need to put in a guess, calculate the leading eigenvalue of the compound matrix, then scale the guess by the reciprocal of this eigenvalue to give us a between-household transmission rate which gives us the oberved growth rate. Alternatively, to calculate $r$ based on some parameters, we can just do something like interval bisection in 1D.\n",
    "\n",
    "In the boxes below, we calculate all the components of this matrix for our UK SEPIR model example.\n",
    "\n",
    "The following block creates a matrix `reverse_comp_dist` containing the probability that an individual in a given age class is in a household of a given composition - this is a component of our $\\underline{\\underline{P}}$ matrix."
   ]
  },
  {
   "cell_type": "code",
   "execution_count": 6,
   "metadata": {},
   "outputs": [],
   "source": [
    "no_risk_classes = composition_list.shape[1]\n",
    "\n",
    "reverse_comp_dist = diag(comp_dist).dot(composition_list)\n",
    "reverse_comp_dist = reverse_comp_dist.dot(diag(1/reverse_comp_dist.sum(0)))"
   ]
  },
  {
   "cell_type": "markdown",
   "metadata": {},
   "source": [
    "In the following block, `Q_int` is internal evolution matrix, `FOI_by_state` gives expected infection kicked out by a household in a given state (the $\\underline{\\underline{F}}$ matrix)."
   ]
  },
  {
   "cell_type": "code",
   "execution_count": 7,
   "metadata": {},
   "outputs": [],
   "source": [
    "Q_int = rhs.Q_int\n",
    "\n",
    "FOI_by_state = zeros((Q_int.shape[0],no_risk_classes))\n",
    "\n",
    "for ic in range(rhs.no_inf_compartments):\n",
    "            states_inf_only =  rhs.inf_by_state_list[ic]\n",
    "            FOI_by_state += (rhs.ext_matrix_list[ic].dot(\n",
    "                    rhs.epsilon * states_inf_only.T)).T"
   ]
  },
  {
   "cell_type": "code",
   "execution_count": 8,
   "metadata": {
    "scrolled": true
   },
   "outputs": [],
   "source": [
    "index_states = where(\n",
    "    ((rhs.states_exp_only.sum(axis=1)==1) * \n",
    "    ((rhs.states_pro_only + rhs.states_inf_only + rhs.states_rec_only).sum(axis=1)==0)))[0]\n",
    "\n",
    "no_index_states = len(index_states)\n",
    "comp_by_index_state = household_population.which_composition[index_states]"
   ]
  },
  {
   "cell_type": "markdown",
   "metadata": {},
   "source": [
    "The next box creates $\\underline{\\underline{\\alpha}}$"
   ]
  },
  {
   "cell_type": "code",
   "execution_count": 9,
   "metadata": {},
   "outputs": [],
   "source": [
    "starter_mat = sparse((ones(no_index_states),(range(no_index_states), index_states)),shape=(no_index_states,Q_int.shape[0]))"
   ]
  },
  {
   "cell_type": "markdown",
   "metadata": {},
   "source": [
    "Next matrix is \"probability that an index case in class c results in outbreak in index state i\", i.e. $\\underline{\\underline{P}}$:"
   ]
  },
  {
   "cell_type": "code",
   "execution_count": 10,
   "metadata": {},
   "outputs": [],
   "source": [
    "index_prob = zeros((no_risk_classes,no_index_states))\n",
    "for i in range(no_index_states):\n",
    "    index_class = where(rhs.states_exp_only[index_states[i],:]==1)[0]\n",
    "    index_prob[index_class,i] = reverse_comp_dist[comp_by_index_state[i], index_class]"
   ]
  },
  {
   "cell_type": "markdown",
   "metadata": {},
   "source": [
    "The next box combines all this together to give us\n",
    "$$\n",
    "\\underline{\\underline{\\alpha}} (r\\underline{\\underline{In}}-underline{\\underline{Q}}_{\\mathrm{int}})^{-1}\\underline{\\underline{F}}\\underline{\\underline{P}}.\n",
    "$$"
   ]
  },
  {
   "cell_type": "code",
   "execution_count": 11,
   "metadata": {},
   "outputs": [],
   "source": [
    "def get_multiplier(r, Q_int, FOI_by_state, index_prob, starter_mat):\n",
    "    inv_diff = inv(r * identity(Q_int.shape[0]) - Q_int)\n",
    "    step_1 = FOI_by_state.dot(index_prob)\n",
    "    step_2 = inv_diff.dot(step_1)\n",
    "    step_3 = starter_mat.dot(step_2)\n",
    "    step_4 = step_3\n",
    "    return step_4"
   ]
  },
  {
   "cell_type": "markdown",
   "metadata": {},
   "source": [
    "In the boxes below, we empirically calculate the growth rate at each time increment and plot its value over time."
   ]
  },
  {
   "cell_type": "code",
   "execution_count": 12,
   "metadata": {},
   "outputs": [],
   "source": [
    "no_tsteps = len(time)\n",
    "r_range = zeros(no_tsteps-1,)\n",
    "for tstep in range(no_tsteps-1):\n",
    "    r_range[tstep] = (log_infs[tstep+1]-log_infs[tstep])/(time[tstep+1]-time[tstep])"
   ]
  },
  {
   "cell_type": "code",
   "execution_count": 13,
   "metadata": {
    "scrolled": false
   },
   "outputs": [
    {
     "data": {
      "text/plain": [
       "Text(0, 0.5, 'Empirical growth rate')"
      ]
     },
     "execution_count": 13,
     "metadata": {},
     "output_type": "execute_result"
    },
    {
     "data": {
      "image/png": "[encoded data removed]",
      "text/plain": [
       "<Figure size 576x576 with 1 Axes>"
      ]
     },
     "metadata": {
      "needs_background": "light"
     },
     "output_type": "display_data"
    }
   ],
   "source": [
    "fig, ax = subplots(1, figsize=(8,8))\n",
    "\n",
    "ax.plot(time[:-1], r_range)\n",
    "ax.set_xlabel('Time in days')\n",
    "ax.set_ylabel('Empirical growth rate')"
   ]
  },
  {
   "cell_type": "markdown",
   "metadata": {},
   "source": [
    "Now estimate the eigenvalue of the multiplier over time based on the growth rates calculated above - note that we need to take its transpose since we did the Euler-Lotka stuff with respect to column vectors."
   ]
  },
  {
   "cell_type": "code",
   "execution_count": 14,
   "metadata": {
    "scrolled": false
   },
   "outputs": [
    {
     "name": "stderr",
     "output_type": "stream",
     "text": [
      "C:\\Users\\Joe Hilton\\Anaconda3\\lib\\site-packages\\scipy\\sparse\\linalg\\dsolve\\linsolve.py:296: SparseEfficiencyWarning: splu requires CSC matrix format\n",
      "  warn('splu requires CSC matrix format', SparseEfficiencyWarning)\n",
      "C:\\Users\\Joe Hilton\\Anaconda3\\lib\\site-packages\\scipy\\sparse\\linalg\\dsolve\\linsolve.py:203: SparseEfficiencyWarning: spsolve is more efficient when sparse b is in the CSC matrix format\n",
      "  'is in the CSC matrix format', SparseEfficiencyWarning)\n",
      "C:\\Users\\Joe Hilton\\Anaconda3\\lib\\site-packages\\ipykernel_launcher.py:10: ComplexWarning: Casting complex values to real discards the imaginary part\n",
      "  # Remove the CWD from sys.path while we load stuff.\n"
     ]
    },
    {
     "name": "stdout",
     "output_type": "stream",
     "text": [
      "0 of 25 calculations completed 9.327662944793701 seconds elapsed,estimated 223.86391067504883 seconds remaining.\n",
      "1 of 25 calculations completed 18.840291500091553 seconds elapsed,estimated 216.66335225105286 seconds remaining.\n",
      "2 of 25 calculations completed 28.232916593551636 seconds elapsed,estimated 207.041388352712 seconds remaining.\n",
      "3 of 25 calculations completed 37.67922925949097 seconds elapsed,estimated 197.81595361232758 seconds remaining.\n",
      "4 of 25 calculations completed 47.11283230781555 seconds elapsed,estimated 188.4513292312622 seconds remaining.\n",
      "5 of 25 calculations completed 56.41283583641052 seconds elapsed,estimated 178.6406468153 seconds remaining.\n",
      "6 of 25 calculations completed 65.71151375770569 seconds elapsed,estimated 168.97246394838606 seconds remaining.\n",
      "7 of 25 calculations completed 75.06299710273743 seconds elapsed,estimated 159.50886884331703 seconds remaining.\n",
      "8 of 25 calculations completed 84.31570196151733 seconds elapsed,estimated 149.8945812649197 seconds remaining.\n",
      "9 of 25 calculations completed 93.5254294872284 seconds elapsed,estimated 140.2881442308426 seconds remaining.\n",
      "10 of 25 calculations completed 102.90806198120117 seconds elapsed,estimated 130.9738970669833 seconds remaining.\n",
      "11 of 25 calculations completed 112.27869987487793 seconds elapsed,estimated 121.63525819778442 seconds remaining.\n",
      "12 of 25 calculations completed 121.80624532699585 seconds elapsed,estimated 112.43653414799617 seconds remaining.\n",
      "13 of 25 calculations completed 131.2468457221985 seconds elapsed,estimated 103.12252163887024 seconds remaining.\n",
      "14 of 25 calculations completed 140.56947445869446 seconds elapsed,estimated 93.71298297246297 seconds remaining.\n",
      "15 of 25 calculations completed 149.86215472221375 seconds elapsed,estimated 84.29746203124523 seconds remaining.\n",
      "16 of 25 calculations completed 159.81941676139832 seconds elapsed,estimated 75.20913729948155 seconds remaining.\n",
      "17 of 25 calculations completed 168.98317098617554 seconds elapsed,estimated 65.71567760573492 seconds remaining.\n",
      "18 of 25 calculations completed 178.33584713935852 seconds elapsed,estimated 56.31658330716585 seconds remaining.\n",
      "19 of 25 calculations completed 187.67651844024658 seconds elapsed,estimated 46.919129610061646 seconds remaining.\n",
      "20 of 25 calculations completed 196.99922347068787 seconds elapsed,estimated 37.523661613464355 seconds remaining.\n",
      "21 of 25 calculations completed 206.38285422325134 seconds elapsed,estimated 28.14311648498882 seconds remaining.\n",
      "22 of 25 calculations completed 216.62241864204407 seconds elapsed,estimated 18.83673205582992 seconds remaining.\n",
      "23 of 25 calculations completed 226.9974799156189 seconds elapsed,estimated 9.458228329817453 seconds remaining.\n",
      "24 of 25 calculations completed 237.18664932250977 seconds elapsed,estimated 0.0 seconds remaining.\n"
     ]
    }
   ],
   "source": [
    "short_len = int(no_tsteps/10)\n",
    "multiplier_list = []\n",
    "evals = zeros(short_len,)\n",
    "\n",
    "start_time = get_time()\n",
    "\n",
    "for i in range(short_len):\n",
    "    multiplier_now = get_multiplier(r_range[10*i], Q_int, FOI_by_state, index_prob, starter_mat)\n",
    "    multiplier_list.append(multiplier_now)\n",
    "    evals[i] = eig(multiplier_now.T)[0][0]\n",
    "    \n",
    "    time_now = get_time()\n",
    "    print(i,\n",
    "          'of',\n",
    "          short_len,\n",
    "          'calculations completed',\n",
    "          time_now-start_time,\n",
    "          'seconds elapsed,estimated',\n",
    "         (short_len-(i+1))*(time_now-start_time)/(i+1),\n",
    "         'seconds remaining.')"
   ]
  },
  {
   "cell_type": "markdown",
   "metadata": {},
   "source": [
    "We now plot the leading eigenvalue of the multiplier."
   ]
  },
  {
   "cell_type": "code",
   "execution_count": 15,
   "metadata": {},
   "outputs": [
    {
     "data": {
      "text/plain": [
       "Text(0, 0.5, 'Leading eigenvalue of multiplier')"
      ]
     },
     "execution_count": 15,
     "metadata": {},
     "output_type": "execute_result"
    },
    {
     "data": {
      "image/png": "[encoded data removed]",
      "text/plain": [
       "<Figure size 576x576 with 1 Axes>"
      ]
     },
     "metadata": {
      "needs_background": "light"
     },
     "output_type": "display_data"
    }
   ],
   "source": [
    "fig, ax = subplots(1, figsize=(8,8))\n",
    "\n",
    "ax.plot(time[10*arange(short_len)], evals)\n",
    "ax.plot([time[0],time[-1]],[1,1])\n",
    "ax.set_xlabel('Time in days')\n",
    "ax.set_ylabel('Leading eigenvalue of multiplier')"
   ]
  },
  {
   "cell_type": "markdown",
   "metadata": {},
   "source": [
    "This isn't quite equal to 1 in the exponential growth phase. Unclear currently whether this is a numerical error or an actual mistake."
   ]
  },
  {
   "cell_type": "markdown",
   "metadata": {},
   "source": [
    "## More experiments\n",
    "\n",
    "In the following box we define a function which calculates the time series of eigenvalues for a given set of specs:"
   ]
  },
  {
   "cell_type": "code",
   "execution_count": 16,
   "metadata": {},
   "outputs": [],
   "source": [
    "composition_list = array([[0,1],[0,2],[1,1],[1,2],[2,1],[2,2]])\n",
    "comp_dist = (1/len(composition_list)) * ones(len(composition_list),)\n",
    "no_risk_classes = composition_list.shape[1]\n",
    "reverse_comp_dist = diag(comp_dist).dot(composition_list)\n",
    "reverse_comp_dist = reverse_comp_dist.dot(diag(1/reverse_comp_dist.sum(0)))\n",
    "\n",
    "def get_r_time_series_and_evals(spec):\n",
    "\n",
    "    model_input = SEPIRInput(spec, composition_list, comp_dist)\n",
    "\n",
    "    household_population = HouseholdPopulation(\n",
    "            composition_list, comp_dist, model_input)\n",
    "\n",
    "    rhs = SEPIRRateEquations(model_input, household_population, NoImportModel(5,2))\n",
    "\n",
    "    H0 = make_initial_condition(household_population, rhs)\n",
    "\n",
    "    tspan = (0.0, 150)\n",
    "    solution = solve_ivp(rhs, tspan, H0, first_step=0.001, atol=1e-16)\n",
    "\n",
    "    time = solution.t\n",
    "    H = solution.y\n",
    "    S = H.T.dot(household_population.states[:, ::5])\n",
    "    E = H.T.dot(household_population.states[:, 1::5])\n",
    "    P = H.T.dot(household_population.states[:, 2::5])\n",
    "    I = H.T.dot(household_population.states[:, 3::5])\n",
    "    R = H.T.dot(household_population.states[:, 4::5])\n",
    "\n",
    "    log_infs = log((E + P + I).sum(axis=1))\n",
    "    no_tsteps = len(time)\n",
    "    r_range = zeros(no_tsteps-1,)\n",
    "    for tstep in range(no_tsteps-1):\n",
    "        r_range[tstep] = (log_infs[tstep+1]-log_infs[tstep])/(time[tstep+1]-time[tstep])\n",
    "        \n",
    "    Q_int = rhs.Q_int\n",
    "\n",
    "    FOI_by_state = zeros((Q_int.shape[0],no_risk_classes))\n",
    "\n",
    "    for ic in range(rhs.no_inf_compartments):\n",
    "                states_inf_only =  rhs.inf_by_state_list[ic]\n",
    "                FOI_by_state += (rhs.ext_matrix_list[ic].dot(\n",
    "                        rhs.epsilon * states_inf_only.T)).T\n",
    "    \n",
    "    index_states = where(\n",
    "    ((rhs.states_exp_only.sum(axis=1)==1) * \n",
    "    ((rhs.states_pro_only + rhs.states_inf_only + rhs.states_rec_only).sum(axis=1)==0)))[0]\n",
    "\n",
    "    no_index_states = len(index_states)\n",
    "    comp_by_index_state = household_population.which_composition[index_states]\n",
    "    \n",
    "    starter_mat = sparse((ones(no_index_states),(range(no_index_states), index_states)),shape=(no_index_states,Q_int.shape[0]))\n",
    "    \n",
    "    index_prob = zeros((no_risk_classes,no_index_states))\n",
    "    for i in range(no_index_states):\n",
    "        index_class = where(rhs.states_exp_only[index_states[i],:]==1)[0]\n",
    "        index_prob[index_class,i] = reverse_comp_dist[comp_by_index_state[i], index_class]\n",
    "        \n",
    "    short_len = int(no_tsteps/10)\n",
    "    multiplier_list = []\n",
    "    evals = zeros(short_len,)\n",
    "    for j in range(short_len):\n",
    "        multiplier_now = get_multiplier(r_range[10*j], Q_int, FOI_by_state, index_prob, starter_mat)\n",
    "        multiplier_list.append(multiplier_now)\n",
    "        eval_list = eig(multiplier_now.T)[0]\n",
    "#         evals[j] = eval_list[argmin(abs(eval_list - ones(eval_list.shape)))]\n",
    "        evals[j] = eval_list[0]\n",
    "    \n",
    "    return r_range, time, evals\n"
   ]
  },
  {
   "cell_type": "markdown",
   "metadata": {},
   "source": [
    "We now calculate the eigenvalue time series for this simple small-households model over a range of household-level reproductive ratio ($R_*$) values:"
   ]
  },
  {
   "cell_type": "code",
   "execution_count": 17,
   "metadata": {
    "scrolled": true
   },
   "outputs": [
    {
     "name": "stderr",
     "output_type": "stream",
     "text": [
      "Building within-household transmission matrix: 100%|█████████████████████████████████████| 6/6 [00:00<00:00, 74.09it/s]\n",
      "C:\\Users\\Joe Hilton\\Anaconda3\\lib\\site-packages\\scipy\\sparse\\linalg\\dsolve\\linsolve.py:296: SparseEfficiencyWarning: splu requires CSC matrix format\n",
      "  warn('splu requires CSC matrix format', SparseEfficiencyWarning)\n",
      "C:\\Users\\Joe Hilton\\Anaconda3\\lib\\site-packages\\scipy\\sparse\\linalg\\dsolve\\linsolve.py:203: SparseEfficiencyWarning: spsolve is more efficient when sparse b is in the CSC matrix format\n",
      "  'is in the CSC matrix format', SparseEfficiencyWarning)\n",
      "C:\\Users\\Joe Hilton\\Anaconda3\\lib\\site-packages\\ipykernel_launcher.py:66: ComplexWarning: Casting complex values to real discards the imaginary part\n"
     ]
    },
    {
     "name": "stdout",
     "output_type": "stream",
     "text": [
      "0 of 9 calculations completed 1.9029157161712646 seconds elapsed,estimated 15.223325729370117 seconds remaining.\n"
     ]
    },
    {
     "name": "stderr",
     "output_type": "stream",
     "text": [
      "Building within-household transmission matrix: 100%|█████████████████████████████████████| 6/6 [00:00<00:00, 75.97it/s]\n",
      "C:\\Users\\Joe Hilton\\Anaconda3\\lib\\site-packages\\scipy\\sparse\\linalg\\dsolve\\linsolve.py:296: SparseEfficiencyWarning: splu requires CSC matrix format\n",
      "  warn('splu requires CSC matrix format', SparseEfficiencyWarning)\n",
      "C:\\Users\\Joe Hilton\\Anaconda3\\lib\\site-packages\\scipy\\sparse\\linalg\\dsolve\\linsolve.py:203: SparseEfficiencyWarning: spsolve is more efficient when sparse b is in the CSC matrix format\n",
      "  'is in the CSC matrix format', SparseEfficiencyWarning)\n",
      "C:\\Users\\Joe Hilton\\Anaconda3\\lib\\site-packages\\ipykernel_launcher.py:66: ComplexWarning: Casting complex values to real discards the imaginary part\n"
     ]
    },
    {
     "name": "stdout",
     "output_type": "stream",
     "text": [
      "1 of 9 calculations completed 3.7828118801116943 seconds elapsed,estimated 13.23984158039093 seconds remaining.\n"
     ]
    },
    {
     "name": "stderr",
     "output_type": "stream",
     "text": [
      "Building within-household transmission matrix: 100%|█████████████████████████████████████| 6/6 [00:00<00:00, 76.96it/s]\n",
      "C:\\Users\\Joe Hilton\\Anaconda3\\lib\\site-packages\\scipy\\sparse\\linalg\\dsolve\\linsolve.py:296: SparseEfficiencyWarning: splu requires CSC matrix format\n",
      "  warn('splu requires CSC matrix format', SparseEfficiencyWarning)\n",
      "C:\\Users\\Joe Hilton\\Anaconda3\\lib\\site-packages\\scipy\\sparse\\linalg\\dsolve\\linsolve.py:203: SparseEfficiencyWarning: spsolve is more efficient when sparse b is in the CSC matrix format\n",
      "  'is in the CSC matrix format', SparseEfficiencyWarning)\n",
      "C:\\Users\\Joe Hilton\\Anaconda3\\lib\\site-packages\\ipykernel_launcher.py:66: ComplexWarning: Casting complex values to real discards the imaginary part\n"
     ]
    },
    {
     "name": "stdout",
     "output_type": "stream",
     "text": [
      "2 of 9 calculations completed 5.659742593765259 seconds elapsed,estimated 11.319485187530518 seconds remaining.\n"
     ]
    },
    {
     "name": "stderr",
     "output_type": "stream",
     "text": [
      "Building within-household transmission matrix: 100%|█████████████████████████████████████| 6/6 [00:00<00:00, 76.97it/s]\n",
      "C:\\Users\\Joe Hilton\\Anaconda3\\lib\\site-packages\\scipy\\sparse\\linalg\\dsolve\\linsolve.py:296: SparseEfficiencyWarning: splu requires CSC matrix format\n",
      "  warn('splu requires CSC matrix format', SparseEfficiencyWarning)\n",
      "C:\\Users\\Joe Hilton\\Anaconda3\\lib\\site-packages\\scipy\\sparse\\linalg\\dsolve\\linsolve.py:203: SparseEfficiencyWarning: spsolve is more efficient when sparse b is in the CSC matrix format\n",
      "  'is in the CSC matrix format', SparseEfficiencyWarning)\n",
      "C:\\Users\\Joe Hilton\\Anaconda3\\lib\\site-packages\\ipykernel_launcher.py:66: ComplexWarning: Casting complex values to real discards the imaginary part\n"
     ]
    },
    {
     "name": "stdout",
     "output_type": "stream",
     "text": [
      "3 of 9 calculations completed 7.505682706832886 seconds elapsed,estimated 9.382103383541107 seconds remaining.\n"
     ]
    },
    {
     "name": "stderr",
     "output_type": "stream",
     "text": [
      "Building within-household transmission matrix: 100%|█████████████████████████████████████| 6/6 [00:00<00:00, 73.21it/s]\n",
      "C:\\Users\\Joe Hilton\\Anaconda3\\lib\\site-packages\\scipy\\sparse\\linalg\\dsolve\\linsolve.py:296: SparseEfficiencyWarning: splu requires CSC matrix format\n",
      "  warn('splu requires CSC matrix format', SparseEfficiencyWarning)\n",
      "C:\\Users\\Joe Hilton\\Anaconda3\\lib\\site-packages\\scipy\\sparse\\linalg\\dsolve\\linsolve.py:203: SparseEfficiencyWarning: spsolve is more efficient when sparse b is in the CSC matrix format\n",
      "  'is in the CSC matrix format', SparseEfficiencyWarning)\n",
      "C:\\Users\\Joe Hilton\\Anaconda3\\lib\\site-packages\\ipykernel_launcher.py:66: ComplexWarning: Casting complex values to real discards the imaginary part\n"
     ]
    },
    {
     "name": "stdout",
     "output_type": "stream",
     "text": [
      "4 of 9 calculations completed 9.451569318771362 seconds elapsed,estimated 7.56125545501709 seconds remaining.\n"
     ]
    },
    {
     "name": "stderr",
     "output_type": "stream",
     "text": [
      "Building within-household transmission matrix: 100%|█████████████████████████████████████| 6/6 [00:00<00:00, 76.97it/s]\n",
      "C:\\Users\\Joe Hilton\\Anaconda3\\lib\\site-packages\\scipy\\sparse\\linalg\\dsolve\\linsolve.py:296: SparseEfficiencyWarning: splu requires CSC matrix format\n",
      "  warn('splu requires CSC matrix format', SparseEfficiencyWarning)\n",
      "C:\\Users\\Joe Hilton\\Anaconda3\\lib\\site-packages\\scipy\\sparse\\linalg\\dsolve\\linsolve.py:203: SparseEfficiencyWarning: spsolve is more efficient when sparse b is in the CSC matrix format\n",
      "  'is in the CSC matrix format', SparseEfficiencyWarning)\n",
      "C:\\Users\\Joe Hilton\\Anaconda3\\lib\\site-packages\\ipykernel_launcher.py:66: ComplexWarning: Casting complex values to real discards the imaginary part\n"
     ]
    },
    {
     "name": "stdout",
     "output_type": "stream",
     "text": [
      "5 of 9 calculations completed 11.339487552642822 seconds elapsed,estimated 5.669743776321411 seconds remaining.\n"
     ]
    },
    {
     "name": "stderr",
     "output_type": "stream",
     "text": [
      "Building within-household transmission matrix: 100%|█████████████████████████████████████| 6/6 [00:00<00:00, 75.02it/s]\n",
      "C:\\Users\\Joe Hilton\\Anaconda3\\lib\\site-packages\\scipy\\sparse\\linalg\\dsolve\\linsolve.py:296: SparseEfficiencyWarning: splu requires CSC matrix format\n",
      "  warn('splu requires CSC matrix format', SparseEfficiencyWarning)\n",
      "C:\\Users\\Joe Hilton\\Anaconda3\\lib\\site-packages\\scipy\\sparse\\linalg\\dsolve\\linsolve.py:203: SparseEfficiencyWarning: spsolve is more efficient when sparse b is in the CSC matrix format\n",
      "  'is in the CSC matrix format', SparseEfficiencyWarning)\n",
      "C:\\Users\\Joe Hilton\\Anaconda3\\lib\\site-packages\\ipykernel_launcher.py:66: ComplexWarning: Casting complex values to real discards the imaginary part\n"
     ]
    },
    {
     "name": "stdout",
     "output_type": "stream",
     "text": [
      "6 of 9 calculations completed 13.366355419158936 seconds elapsed,estimated 3.8189586911882674 seconds remaining.\n"
     ]
    },
    {
     "name": "stderr",
     "output_type": "stream",
     "text": [
      "Building within-household transmission matrix: 100%|█████████████████████████████████████| 6/6 [00:00<00:00, 74.10it/s]\n",
      "C:\\Users\\Joe Hilton\\Anaconda3\\lib\\site-packages\\scipy\\sparse\\linalg\\dsolve\\linsolve.py:296: SparseEfficiencyWarning: splu requires CSC matrix format\n",
      "  warn('splu requires CSC matrix format', SparseEfficiencyWarning)\n",
      "C:\\Users\\Joe Hilton\\Anaconda3\\lib\\site-packages\\scipy\\sparse\\linalg\\dsolve\\linsolve.py:203: SparseEfficiencyWarning: spsolve is more efficient when sparse b is in the CSC matrix format\n",
      "  'is in the CSC matrix format', SparseEfficiencyWarning)\n",
      "C:\\Users\\Joe Hilton\\Anaconda3\\lib\\site-packages\\ipykernel_launcher.py:66: ComplexWarning: Casting complex values to real discards the imaginary part\n"
     ]
    },
    {
     "name": "stdout",
     "output_type": "stream",
     "text": [
      "7 of 9 calculations completed 15.394196271896362 seconds elapsed,estimated 1.9242745339870453 seconds remaining.\n"
     ]
    },
    {
     "name": "stderr",
     "output_type": "stream",
     "text": [
      "Building within-household transmission matrix: 100%|█████████████████████████████████████| 6/6 [00:00<00:00, 75.97it/s]\n",
      "C:\\Users\\Joe Hilton\\Anaconda3\\lib\\site-packages\\scipy\\sparse\\linalg\\dsolve\\linsolve.py:296: SparseEfficiencyWarning: splu requires CSC matrix format\n",
      "  warn('splu requires CSC matrix format', SparseEfficiencyWarning)\n",
      "C:\\Users\\Joe Hilton\\Anaconda3\\lib\\site-packages\\scipy\\sparse\\linalg\\dsolve\\linsolve.py:203: SparseEfficiencyWarning: spsolve is more efficient when sparse b is in the CSC matrix format\n",
      "  'is in the CSC matrix format', SparseEfficiencyWarning)\n",
      "C:\\Users\\Joe Hilton\\Anaconda3\\lib\\site-packages\\ipykernel_launcher.py:66: ComplexWarning: Casting complex values to real discards the imaginary part\n"
     ]
    },
    {
     "name": "stdout",
     "output_type": "stream",
     "text": [
      "8 of 9 calculations completed 17.387853145599365 seconds elapsed,estimated 0.0 seconds remaining.\n"
     ]
    }
   ],
   "source": [
    "r_range_list = []\n",
    "time_list = []\n",
    "eval_range_list = []\n",
    "\n",
    "RG_range = arange(1.1,2,0.1)\n",
    "\n",
    "no_steps = len(RG_range)\n",
    "start_time = get_time()\n",
    "for i in range(no_steps):\n",
    "    RG_now = RG_range[i]\n",
    "    spec = deepcopy(SPEC)\n",
    "    spec['R*'] = RG_now\n",
    "    r_now, t_now, evals_now = get_r_time_series_and_evals(spec)\n",
    "    r_range_list.append(r_now)\n",
    "    time_list.append(t_now)\n",
    "    eval_range_list.append(evals_now)\n",
    "    time_now = get_time()\n",
    "    print(i,\n",
    "          'of',\n",
    "          no_steps,\n",
    "          'calculations completed',\n",
    "          time_now-start_time,\n",
    "          'seconds elapsed,estimated',\n",
    "         (no_steps-(i+1))*(time_now-start_time)/(i+1),\n",
    "         'seconds remaining.')"
   ]
  },
  {
   "cell_type": "markdown",
   "metadata": {},
   "source": [
    "Now plot the time series:"
   ]
  },
  {
   "cell_type": "code",
   "execution_count": 18,
   "metadata": {
    "scrolled": true
   },
   "outputs": [
    {
     "data": {
      "text/plain": [
       "<matplotlib.legend.Legend at 0x26e85f79908>"
      ]
     },
     "execution_count": 18,
     "metadata": {},
     "output_type": "execute_result"
    },
    {
     "data": {
      "image/png": "[encoded data removed]",
      "text/plain": [
       "<Figure size 576x576 with 1 Axes>"
      ]
     },
     "metadata": {
      "needs_background": "light"
     },
     "output_type": "display_data"
    }
   ],
   "source": [
    "fig, ax = subplots(1, figsize=(8,8))\n",
    "\n",
    "for i in range(no_steps):\n",
    "    ax.plot(10*arange(len(eval_range_list[i])), eval_range_list[i], label=('R*=',RG_range[i]))\n",
    "yscale('log')\n",
    "ax.set_ylabel('Leading eigenvalue')\n",
    "ax.set_xlabel('Time in days')\n",
    "ax.legend(ncol=1, bbox_to_anchor=(1,0.50))"
   ]
  },
  {
   "cell_type": "markdown",
   "metadata": {},
   "source": [
    "For all of the reproductive ratios, the eigenvalue settles around 1 during the exponential growth phase."
   ]
  },
  {
   "cell_type": "markdown",
   "metadata": {},
   "source": [
    "To do some more robust testing, we now define a function that generates a random set of parameters."
   ]
  },
  {
   "cell_type": "code",
   "execution_count": 19,
   "metadata": {},
   "outputs": [],
   "source": [
    "def draw_random_specs(spec):\n",
    "    \n",
    "    rand_spec = deepcopy(spec)\n",
    "    rand_spec['AR'] = 0.25 + 0.5*rand(1,) # SAR between 0.25 and 0.75\n",
    "    rand_spec['R*'] = 1 + rand(1,) # R* between 1 and 2\n",
    "    rand_spec['recovery_rate'] = 1/(1 + 7 * rand(1,)) # Fix inf period between 1 and 7 days\n",
    "    rand_spec['incubation_rate'] = 1/(1 + 9 * rand(1)) # Fix inc period between 1 and 10 days\n",
    "    rand_spec['symp_onset_rate'] = 1/(1 + 5 * rand(1)) # Fix prodromal period between 1 and 5 days\n",
    "    rand_spec['prodromal_trans_scaling'] = rand(no_risk_classes,) # Random prodrome scalings <1\n",
    "    unscaled_sus = rand(no_risk_classes,)\n",
    "    rand_spec['sus'] = unscaled_sus/unscaled_sus.max() # Set sus of most sus class to 1, all others <1\n",
    "    rand_spec['density_expo'] = rand(1,)\n",
    "    \n",
    "    return rand_spec"
   ]
  },
  {
   "cell_type": "markdown",
   "metadata": {},
   "source": [
    "Now carry out the eigenvalue calculations for 50 of these parameter sets, and plot the resulting eigenvalue time series."
   ]
  },
  {
   "cell_type": "code",
   "execution_count": 20,
   "metadata": {},
   "outputs": [
    {
     "name": "stderr",
     "output_type": "stream",
     "text": [
      "Building within-household transmission matrix: 100%|█████████████████████████████████████| 6/6 [00:00<00:00, 75.99it/s]\n",
      "C:\\Users\\Joe Hilton\\Anaconda3\\lib\\site-packages\\scipy\\sparse\\linalg\\dsolve\\linsolve.py:296: SparseEfficiencyWarning: splu requires CSC matrix format\n",
      "  warn('splu requires CSC matrix format', SparseEfficiencyWarning)\n",
      "C:\\Users\\Joe Hilton\\Anaconda3\\lib\\site-packages\\scipy\\sparse\\linalg\\dsolve\\linsolve.py:203: SparseEfficiencyWarning: spsolve is more efficient when sparse b is in the CSC matrix format\n",
      "  'is in the CSC matrix format', SparseEfficiencyWarning)\n",
      "C:\\Users\\Joe Hilton\\Anaconda3\\lib\\site-packages\\ipykernel_launcher.py:66: ComplexWarning: Casting complex values to real discards the imaginary part\n"
     ]
    },
    {
     "name": "stdout",
     "output_type": "stream",
     "text": [
      "0 of 50 calculations completed 2.1927573680877686 seconds elapsed,estimated 107.44511103630066 seconds remaining.\n"
     ]
    },
    {
     "name": "stderr",
     "output_type": "stream",
     "text": [
      "Building within-household transmission matrix: 100%|█████████████████████████████████████| 6/6 [00:00<00:00, 71.44it/s]\n",
      "C:\\Users\\Joe Hilton\\Anaconda3\\lib\\site-packages\\scipy\\sparse\\linalg\\dsolve\\linsolve.py:296: SparseEfficiencyWarning: splu requires CSC matrix format\n",
      "  warn('splu requires CSC matrix format', SparseEfficiencyWarning)\n",
      "C:\\Users\\Joe Hilton\\Anaconda3\\lib\\site-packages\\scipy\\sparse\\linalg\\dsolve\\linsolve.py:203: SparseEfficiencyWarning: spsolve is more efficient when sparse b is in the CSC matrix format\n",
      "  'is in the CSC matrix format', SparseEfficiencyWarning)\n",
      "C:\\Users\\Joe Hilton\\Anaconda3\\lib\\site-packages\\ipykernel_launcher.py:66: ComplexWarning: Casting complex values to real discards the imaginary part\n"
     ]
    },
    {
     "name": "stdout",
     "output_type": "stream",
     "text": [
      "1 of 50 calculations completed 5.080137491226196 seconds elapsed,estimated 121.92329978942871 seconds remaining.\n"
     ]
    },
    {
     "name": "stderr",
     "output_type": "stream",
     "text": [
      "Building within-household transmission matrix: 100%|█████████████████████████████████████| 6/6 [00:00<00:00, 74.09it/s]\n",
      "C:\\Users\\Joe Hilton\\Anaconda3\\lib\\site-packages\\scipy\\sparse\\linalg\\dsolve\\linsolve.py:296: SparseEfficiencyWarning: splu requires CSC matrix format\n",
      "  warn('splu requires CSC matrix format', SparseEfficiencyWarning)\n",
      "C:\\Users\\Joe Hilton\\Anaconda3\\lib\\site-packages\\scipy\\sparse\\linalg\\dsolve\\linsolve.py:203: SparseEfficiencyWarning: spsolve is more efficient when sparse b is in the CSC matrix format\n",
      "  'is in the CSC matrix format', SparseEfficiencyWarning)\n",
      "C:\\Users\\Joe Hilton\\Anaconda3\\lib\\site-packages\\ipykernel_launcher.py:66: ComplexWarning: Casting complex values to real discards the imaginary part\n"
     ]
    },
    {
     "name": "stdout",
     "output_type": "stream",
     "text": [
      "2 of 50 calculations completed 7.397811651229858 seconds elapsed,estimated 115.89904920260112 seconds remaining.\n"
     ]
    },
    {
     "name": "stderr",
     "output_type": "stream",
     "text": [
      "Building within-household transmission matrix: 100%|█████████████████████████████████████| 6/6 [00:00<00:00, 75.97it/s]\n",
      "C:\\Users\\Joe Hilton\\Anaconda3\\lib\\site-packages\\scipy\\sparse\\linalg\\dsolve\\linsolve.py:296: SparseEfficiencyWarning: splu requires CSC matrix format\n",
      "  warn('splu requires CSC matrix format', SparseEfficiencyWarning)\n",
      "C:\\Users\\Joe Hilton\\Anaconda3\\lib\\site-packages\\scipy\\sparse\\linalg\\dsolve\\linsolve.py:203: SparseEfficiencyWarning: spsolve is more efficient when sparse b is in the CSC matrix format\n",
      "  'is in the CSC matrix format', SparseEfficiencyWarning)\n",
      "C:\\Users\\Joe Hilton\\Anaconda3\\lib\\site-packages\\ipykernel_launcher.py:66: ComplexWarning: Casting complex values to real discards the imaginary part\n"
     ]
    },
    {
     "name": "stdout",
     "output_type": "stream",
     "text": [
      "3 of 50 calculations completed 10.074276447296143 seconds elapsed,estimated 115.85417914390564 seconds remaining.\n"
     ]
    },
    {
     "name": "stderr",
     "output_type": "stream",
     "text": [
      "Building within-household transmission matrix: 100%|█████████████████████████████████████| 6/6 [00:00<00:00, 75.97it/s]\n",
      "C:\\Users\\Joe Hilton\\Anaconda3\\lib\\site-packages\\scipy\\sparse\\linalg\\dsolve\\linsolve.py:296: SparseEfficiencyWarning: splu requires CSC matrix format\n",
      "  warn('splu requires CSC matrix format', SparseEfficiencyWarning)\n",
      "C:\\Users\\Joe Hilton\\Anaconda3\\lib\\site-packages\\scipy\\sparse\\linalg\\dsolve\\linsolve.py:203: SparseEfficiencyWarning: spsolve is more efficient when sparse b is in the CSC matrix format\n",
      "  'is in the CSC matrix format', SparseEfficiencyWarning)\n",
      "C:\\Users\\Joe Hilton\\Anaconda3\\lib\\site-packages\\ipykernel_launcher.py:66: ComplexWarning: Casting complex values to real discards the imaginary part\n"
     ]
    },
    {
     "name": "stdout",
     "output_type": "stream",
     "text": [
      "4 of 50 calculations completed 13.233445405960083 seconds elapsed,estimated 119.10100865364075 seconds remaining.\n"
     ]
    },
    {
     "name": "stderr",
     "output_type": "stream",
     "text": [
      "Building within-household transmission matrix: 100%|█████████████████████████████████████| 6/6 [00:00<00:00, 73.22it/s]\n",
      "C:\\Users\\Joe Hilton\\Anaconda3\\lib\\site-packages\\scipy\\sparse\\linalg\\dsolve\\linsolve.py:296: SparseEfficiencyWarning: splu requires CSC matrix format\n",
      "  warn('splu requires CSC matrix format', SparseEfficiencyWarning)\n",
      "C:\\Users\\Joe Hilton\\Anaconda3\\lib\\site-packages\\scipy\\sparse\\linalg\\dsolve\\linsolve.py:203: SparseEfficiencyWarning: spsolve is more efficient when sparse b is in the CSC matrix format\n",
      "  'is in the CSC matrix format', SparseEfficiencyWarning)\n",
      "C:\\Users\\Joe Hilton\\Anaconda3\\lib\\site-packages\\ipykernel_launcher.py:66: ComplexWarning: Casting complex values to real discards the imaginary part\n"
     ]
    },
    {
     "name": "stdout",
     "output_type": "stream",
     "text": [
      "5 of 50 calculations completed 15.59511947631836 seconds elapsed,estimated 114.3642094930013 seconds remaining.\n"
     ]
    },
    {
     "name": "stderr",
     "output_type": "stream",
     "text": [
      "Building within-household transmission matrix: 100%|█████████████████████████████████████| 6/6 [00:00<00:00, 75.96it/s]\n",
      "C:\\Users\\Joe Hilton\\Anaconda3\\lib\\site-packages\\scipy\\sparse\\linalg\\dsolve\\linsolve.py:296: SparseEfficiencyWarning: splu requires CSC matrix format\n",
      "  warn('splu requires CSC matrix format', SparseEfficiencyWarning)\n",
      "C:\\Users\\Joe Hilton\\Anaconda3\\lib\\site-packages\\scipy\\sparse\\linalg\\dsolve\\linsolve.py:203: SparseEfficiencyWarning: spsolve is more efficient when sparse b is in the CSC matrix format\n",
      "  'is in the CSC matrix format', SparseEfficiencyWarning)\n",
      "C:\\Users\\Joe Hilton\\Anaconda3\\lib\\site-packages\\ipykernel_launcher.py:66: ComplexWarning: Casting complex values to real discards the imaginary part\n"
     ]
    },
    {
     "name": "stdout",
     "output_type": "stream",
     "text": [
      "6 of 50 calculations completed 19.29676079750061 seconds elapsed,estimated 118.53724489893231 seconds remaining.\n"
     ]
    },
    {
     "name": "stderr",
     "output_type": "stream",
     "text": [
      "Building within-household transmission matrix: 100%|█████████████████████████████████████| 6/6 [00:00<00:00, 75.97it/s]\n",
      "C:\\Users\\Joe Hilton\\Anaconda3\\lib\\site-packages\\scipy\\sparse\\linalg\\dsolve\\linsolve.py:296: SparseEfficiencyWarning: splu requires CSC matrix format\n",
      "  warn('splu requires CSC matrix format', SparseEfficiencyWarning)\n",
      "C:\\Users\\Joe Hilton\\Anaconda3\\lib\\site-packages\\scipy\\sparse\\linalg\\dsolve\\linsolve.py:203: SparseEfficiencyWarning: spsolve is more efficient when sparse b is in the CSC matrix format\n",
      "  'is in the CSC matrix format', SparseEfficiencyWarning)\n",
      "C:\\Users\\Joe Hilton\\Anaconda3\\lib\\site-packages\\ipykernel_launcher.py:66: ComplexWarning: Casting complex values to real discards the imaginary part\n"
     ]
    },
    {
     "name": "stdout",
     "output_type": "stream",
     "text": [
      "7 of 50 calculations completed 22.111074447631836 seconds elapsed,estimated 116.08314085006714 seconds remaining.\n"
     ]
    },
    {
     "name": "stderr",
     "output_type": "stream",
     "text": [
      "Building within-household transmission matrix: 100%|█████████████████████████████████████| 6/6 [00:00<00:00, 73.21it/s]\n",
      "C:\\Users\\Joe Hilton\\Anaconda3\\lib\\site-packages\\scipy\\sparse\\linalg\\dsolve\\linsolve.py:296: SparseEfficiencyWarning: splu requires CSC matrix format\n",
      "  warn('splu requires CSC matrix format', SparseEfficiencyWarning)\n",
      "C:\\Users\\Joe Hilton\\Anaconda3\\lib\\site-packages\\scipy\\sparse\\linalg\\dsolve\\linsolve.py:203: SparseEfficiencyWarning: spsolve is more efficient when sparse b is in the CSC matrix format\n",
      "  'is in the CSC matrix format', SparseEfficiencyWarning)\n",
      "C:\\Users\\Joe Hilton\\Anaconda3\\lib\\site-packages\\ipykernel_launcher.py:66: ComplexWarning: Casting complex values to real discards the imaginary part\n"
     ]
    },
    {
     "name": "stdout",
     "output_type": "stream",
     "text": [
      "8 of 50 calculations completed 25.022377014160156 seconds elapsed,estimated 113.99082862006293 seconds remaining.\n"
     ]
    },
    {
     "name": "stderr",
     "output_type": "stream",
     "text": [
      "Building within-household transmission matrix: 100%|█████████████████████████████████████| 6/6 [00:00<00:00, 75.02it/s]\n",
      "C:\\Users\\Joe Hilton\\Anaconda3\\lib\\site-packages\\scipy\\sparse\\linalg\\dsolve\\linsolve.py:296: SparseEfficiencyWarning: splu requires CSC matrix format\n",
      "  warn('splu requires CSC matrix format', SparseEfficiencyWarning)\n",
      "C:\\Users\\Joe Hilton\\Anaconda3\\lib\\site-packages\\scipy\\sparse\\linalg\\dsolve\\linsolve.py:203: SparseEfficiencyWarning: spsolve is more efficient when sparse b is in the CSC matrix format\n",
      "  'is in the CSC matrix format', SparseEfficiencyWarning)\n",
      "C:\\Users\\Joe Hilton\\Anaconda3\\lib\\site-packages\\ipykernel_launcher.py:66: ComplexWarning: Casting complex values to real discards the imaginary part\n"
     ]
    },
    {
     "name": "stdout",
     "output_type": "stream",
     "text": [
      "9 of 50 calculations completed 26.566526412963867 seconds elapsed,estimated 106.26610565185547 seconds remaining.\n"
     ]
    },
    {
     "name": "stderr",
     "output_type": "stream",
     "text": [
      "Building within-household transmission matrix: 100%|█████████████████████████████████████| 6/6 [00:00<00:00, 75.97it/s]\n",
      "C:\\Users\\Joe Hilton\\Anaconda3\\lib\\site-packages\\scipy\\sparse\\linalg\\dsolve\\linsolve.py:296: SparseEfficiencyWarning: splu requires CSC matrix format\n",
      "  warn('splu requires CSC matrix format', SparseEfficiencyWarning)\n",
      "C:\\Users\\Joe Hilton\\Anaconda3\\lib\\site-packages\\scipy\\sparse\\linalg\\dsolve\\linsolve.py:203: SparseEfficiencyWarning: spsolve is more efficient when sparse b is in the CSC matrix format\n",
      "  'is in the CSC matrix format', SparseEfficiencyWarning)\n",
      "C:\\Users\\Joe Hilton\\Anaconda3\\lib\\site-packages\\ipykernel_launcher.py:66: ComplexWarning: Casting complex values to real discards the imaginary part\n"
     ]
    },
    {
     "name": "stdout",
     "output_type": "stream",
     "text": [
      "10 of 50 calculations completed 28.721288442611694 seconds elapsed,estimated 101.83002266016874 seconds remaining.\n"
     ]
    },
    {
     "name": "stderr",
     "output_type": "stream",
     "text": [
      "Building within-household transmission matrix: 100%|█████████████████████████████████████| 6/6 [00:00<00:00, 75.97it/s]\n",
      "C:\\Users\\Joe Hilton\\Anaconda3\\lib\\site-packages\\scipy\\sparse\\linalg\\dsolve\\linsolve.py:296: SparseEfficiencyWarning: splu requires CSC matrix format\n",
      "  warn('splu requires CSC matrix format', SparseEfficiencyWarning)\n",
      "C:\\Users\\Joe Hilton\\Anaconda3\\lib\\site-packages\\scipy\\sparse\\linalg\\dsolve\\linsolve.py:203: SparseEfficiencyWarning: spsolve is more efficient when sparse b is in the CSC matrix format\n",
      "  'is in the CSC matrix format', SparseEfficiencyWarning)\n",
      "C:\\Users\\Joe Hilton\\Anaconda3\\lib\\site-packages\\ipykernel_launcher.py:66: ComplexWarning: Casting complex values to real discards the imaginary part\n"
     ]
    },
    {
     "name": "stdout",
     "output_type": "stream",
     "text": [
      "11 of 50 calculations completed 31.43403458595276 seconds elapsed,estimated 99.54110952218373 seconds remaining.\n"
     ]
    },
    {
     "name": "stderr",
     "output_type": "stream",
     "text": [
      "Building within-household transmission matrix: 100%|█████████████████████████████████████| 6/6 [00:00<00:00, 78.99it/s]\n",
      "C:\\Users\\Joe Hilton\\Anaconda3\\lib\\site-packages\\scipy\\sparse\\linalg\\dsolve\\linsolve.py:296: SparseEfficiencyWarning: splu requires CSC matrix format\n",
      "  warn('splu requires CSC matrix format', SparseEfficiencyWarning)\n",
      "C:\\Users\\Joe Hilton\\Anaconda3\\lib\\site-packages\\scipy\\sparse\\linalg\\dsolve\\linsolve.py:203: SparseEfficiencyWarning: spsolve is more efficient when sparse b is in the CSC matrix format\n",
      "  'is in the CSC matrix format', SparseEfficiencyWarning)\n",
      "C:\\Users\\Joe Hilton\\Anaconda3\\lib\\site-packages\\ipykernel_launcher.py:66: ComplexWarning: Casting complex values to real discards the imaginary part\n"
     ]
    },
    {
     "name": "stdout",
     "output_type": "stream",
     "text": [
      "12 of 50 calculations completed 32.89919137954712 seconds elapsed,estimated 93.6361600802495 seconds remaining.\n"
     ]
    },
    {
     "name": "stderr",
     "output_type": "stream",
     "text": [
      "Building within-household transmission matrix: 100%|█████████████████████████████████████| 6/6 [00:00<00:00, 76.97it/s]\n",
      "C:\\Users\\Joe Hilton\\Anaconda3\\lib\\site-packages\\scipy\\sparse\\linalg\\dsolve\\linsolve.py:296: SparseEfficiencyWarning: splu requires CSC matrix format\n",
      "  warn('splu requires CSC matrix format', SparseEfficiencyWarning)\n",
      "C:\\Users\\Joe Hilton\\Anaconda3\\lib\\site-packages\\scipy\\sparse\\linalg\\dsolve\\linsolve.py:203: SparseEfficiencyWarning: spsolve is more efficient when sparse b is in the CSC matrix format\n",
      "  'is in the CSC matrix format', SparseEfficiencyWarning)\n",
      "C:\\Users\\Joe Hilton\\Anaconda3\\lib\\site-packages\\ipykernel_launcher.py:66: ComplexWarning: Casting complex values to real discards the imaginary part\n"
     ]
    },
    {
     "name": "stdout",
     "output_type": "stream",
     "text": [
      "13 of 50 calculations completed 35.29882311820984 seconds elapsed,estimated 90.76840230396816 seconds remaining.\n"
     ]
    },
    {
     "name": "stderr",
     "output_type": "stream",
     "text": [
      "Building within-household transmission matrix: 100%|█████████████████████████████████████| 6/6 [00:00<00:00, 76.97it/s]\n",
      "C:\\Users\\Joe Hilton\\Anaconda3\\lib\\site-packages\\scipy\\sparse\\linalg\\dsolve\\linsolve.py:296: SparseEfficiencyWarning: splu requires CSC matrix format\n",
      "  warn('splu requires CSC matrix format', SparseEfficiencyWarning)\n",
      "C:\\Users\\Joe Hilton\\Anaconda3\\lib\\site-packages\\scipy\\sparse\\linalg\\dsolve\\linsolve.py:203: SparseEfficiencyWarning: spsolve is more efficient when sparse b is in the CSC matrix format\n",
      "  'is in the CSC matrix format', SparseEfficiencyWarning)\n",
      "C:\\Users\\Joe Hilton\\Anaconda3\\lib\\site-packages\\ipykernel_launcher.py:66: ComplexWarning: Casting complex values to real discards the imaginary part\n"
     ]
    },
    {
     "name": "stdout",
     "output_type": "stream",
     "text": [
      "14 of 50 calculations completed 38.37605929374695 seconds elapsed,estimated 89.54413835207622 seconds remaining.\n"
     ]
    },
    {
     "name": "stderr",
     "output_type": "stream",
     "text": [
      "Building within-household transmission matrix: 100%|█████████████████████████████████████| 6/6 [00:00<00:00, 74.05it/s]\n",
      "C:\\Users\\Joe Hilton\\Anaconda3\\lib\\site-packages\\scipy\\sparse\\linalg\\dsolve\\linsolve.py:296: SparseEfficiencyWarning: splu requires CSC matrix format\n",
      "  warn('splu requires CSC matrix format', SparseEfficiencyWarning)\n",
      "C:\\Users\\Joe Hilton\\Anaconda3\\lib\\site-packages\\scipy\\sparse\\linalg\\dsolve\\linsolve.py:203: SparseEfficiencyWarning: spsolve is more efficient when sparse b is in the CSC matrix format\n",
      "  'is in the CSC matrix format', SparseEfficiencyWarning)\n",
      "C:\\Users\\Joe Hilton\\Anaconda3\\lib\\site-packages\\ipykernel_launcher.py:66: ComplexWarning: Casting complex values to real discards the imaginary part\n"
     ]
    },
    {
     "name": "stdout",
     "output_type": "stream",
     "text": [
      "15 of 50 calculations completed 41.705644607543945 seconds elapsed,estimated 88.62449479103088 seconds remaining.\n"
     ]
    },
    {
     "name": "stderr",
     "output_type": "stream",
     "text": [
      "Building within-household transmission matrix: 100%|█████████████████████████████████████| 6/6 [00:00<00:00, 75.97it/s]\n",
      "C:\\Users\\Joe Hilton\\Anaconda3\\lib\\site-packages\\scipy\\sparse\\linalg\\dsolve\\linsolve.py:296: SparseEfficiencyWarning: splu requires CSC matrix format\n",
      "  warn('splu requires CSC matrix format', SparseEfficiencyWarning)\n",
      "C:\\Users\\Joe Hilton\\Anaconda3\\lib\\site-packages\\scipy\\sparse\\linalg\\dsolve\\linsolve.py:203: SparseEfficiencyWarning: spsolve is more efficient when sparse b is in the CSC matrix format\n",
      "  'is in the CSC matrix format', SparseEfficiencyWarning)\n",
      "C:\\Users\\Joe Hilton\\Anaconda3\\lib\\site-packages\\ipykernel_launcher.py:66: ComplexWarning: Casting complex values to real discards the imaginary part\n"
     ]
    },
    {
     "name": "stdout",
     "output_type": "stream",
     "text": [
      "16 of 50 calculations completed 43.77246809005737 seconds elapsed,estimated 84.97008511599373 seconds remaining.\n"
     ]
    },
    {
     "name": "stderr",
     "output_type": "stream",
     "text": [
      "Building within-household transmission matrix: 100%|█████████████████████████████████████| 6/6 [00:00<00:00, 75.97it/s]\n",
      "C:\\Users\\Joe Hilton\\Anaconda3\\lib\\site-packages\\scipy\\sparse\\linalg\\dsolve\\linsolve.py:296: SparseEfficiencyWarning: splu requires CSC matrix format\n",
      "  warn('splu requires CSC matrix format', SparseEfficiencyWarning)\n",
      "C:\\Users\\Joe Hilton\\Anaconda3\\lib\\site-packages\\scipy\\sparse\\linalg\\dsolve\\linsolve.py:203: SparseEfficiencyWarning: spsolve is more efficient when sparse b is in the CSC matrix format\n",
      "  'is in the CSC matrix format', SparseEfficiencyWarning)\n",
      "C:\\Users\\Joe Hilton\\Anaconda3\\lib\\site-packages\\ipykernel_launcher.py:66: ComplexWarning: Casting complex values to real discards the imaginary part\n"
     ]
    },
    {
     "name": "stdout",
     "output_type": "stream",
     "text": [
      "17 of 50 calculations completed 45.80429935455322 seconds elapsed,estimated 81.42986551920573 seconds remaining.\n"
     ]
    },
    {
     "name": "stderr",
     "output_type": "stream",
     "text": [
      "Building within-household transmission matrix: 100%|█████████████████████████████████████| 6/6 [00:00<00:00, 77.97it/s]\n",
      "C:\\Users\\Joe Hilton\\Anaconda3\\lib\\site-packages\\scipy\\sparse\\linalg\\dsolve\\linsolve.py:296: SparseEfficiencyWarning: splu requires CSC matrix format\n",
      "  warn('splu requires CSC matrix format', SparseEfficiencyWarning)\n",
      "C:\\Users\\Joe Hilton\\Anaconda3\\lib\\site-packages\\scipy\\sparse\\linalg\\dsolve\\linsolve.py:203: SparseEfficiencyWarning: spsolve is more efficient when sparse b is in the CSC matrix format\n",
      "  'is in the CSC matrix format', SparseEfficiencyWarning)\n",
      "C:\\Users\\Joe Hilton\\Anaconda3\\lib\\site-packages\\ipykernel_launcher.py:66: ComplexWarning: Casting complex values to real discards the imaginary part\n"
     ]
    },
    {
     "name": "stdout",
     "output_type": "stream",
     "text": [
      "18 of 50 calculations completed 49.2983033657074 seconds elapsed,estimated 80.43407391246997 seconds remaining.\n"
     ]
    },
    {
     "name": "stderr",
     "output_type": "stream",
     "text": [
      "Building within-household transmission matrix: 100%|█████████████████████████████████████| 6/6 [00:00<00:00, 75.02it/s]\n",
      "C:\\Users\\Joe Hilton\\Anaconda3\\lib\\site-packages\\scipy\\sparse\\linalg\\dsolve\\linsolve.py:296: SparseEfficiencyWarning: splu requires CSC matrix format\n",
      "  warn('splu requires CSC matrix format', SparseEfficiencyWarning)\n",
      "C:\\Users\\Joe Hilton\\Anaconda3\\lib\\site-packages\\scipy\\sparse\\linalg\\dsolve\\linsolve.py:203: SparseEfficiencyWarning: spsolve is more efficient when sparse b is in the CSC matrix format\n",
      "  'is in the CSC matrix format', SparseEfficiencyWarning)\n",
      "C:\\Users\\Joe Hilton\\Anaconda3\\lib\\site-packages\\ipykernel_launcher.py:66: ComplexWarning: Casting complex values to real discards the imaginary part\n"
     ]
    },
    {
     "name": "stdout",
     "output_type": "stream",
     "text": [
      "19 of 50 calculations completed 50.95233464241028 seconds elapsed,estimated 76.42850196361542 seconds remaining.\n"
     ]
    },
    {
     "name": "stderr",
     "output_type": "stream",
     "text": [
      "Building within-household transmission matrix: 100%|█████████████████████████████████████| 6/6 [00:00<00:00, 76.96it/s]\n",
      "C:\\Users\\Joe Hilton\\Anaconda3\\lib\\site-packages\\scipy\\sparse\\linalg\\dsolve\\linsolve.py:296: SparseEfficiencyWarning: splu requires CSC matrix format\n",
      "  warn('splu requires CSC matrix format', SparseEfficiencyWarning)\n",
      "C:\\Users\\Joe Hilton\\Anaconda3\\lib\\site-packages\\scipy\\sparse\\linalg\\dsolve\\linsolve.py:203: SparseEfficiencyWarning: spsolve is more efficient when sparse b is in the CSC matrix format\n",
      "  'is in the CSC matrix format', SparseEfficiencyWarning)\n",
      "C:\\Users\\Joe Hilton\\Anaconda3\\lib\\site-packages\\ipykernel_launcher.py:66: ComplexWarning: Casting complex values to real discards the imaginary part\n"
     ]
    },
    {
     "name": "stdout",
     "output_type": "stream",
     "text": [
      "20 of 50 calculations completed 52.746309995651245 seconds elapsed,estimated 72.84014237494696 seconds remaining.\n"
     ]
    },
    {
     "name": "stderr",
     "output_type": "stream",
     "text": [
      "Building within-household transmission matrix: 100%|█████████████████████████████████████| 6/6 [00:00<00:00, 78.99it/s]\n",
      "C:\\Users\\Joe Hilton\\Anaconda3\\lib\\site-packages\\scipy\\sparse\\linalg\\dsolve\\linsolve.py:296: SparseEfficiencyWarning: splu requires CSC matrix format\n",
      "  warn('splu requires CSC matrix format', SparseEfficiencyWarning)\n",
      "C:\\Users\\Joe Hilton\\Anaconda3\\lib\\site-packages\\scipy\\sparse\\linalg\\dsolve\\linsolve.py:203: SparseEfficiencyWarning: spsolve is more efficient when sparse b is in the CSC matrix format\n",
      "  'is in the CSC matrix format', SparseEfficiencyWarning)\n",
      "C:\\Users\\Joe Hilton\\Anaconda3\\lib\\site-packages\\ipykernel_launcher.py:66: ComplexWarning: Casting complex values to real discards the imaginary part\n"
     ]
    },
    {
     "name": "stdout",
     "output_type": "stream",
     "text": [
      "21 of 50 calculations completed 56.720030307769775 seconds elapsed,estimated 72.18912948261608 seconds remaining.\n"
     ]
    },
    {
     "name": "stderr",
     "output_type": "stream",
     "text": [
      "Building within-household transmission matrix: 100%|█████████████████████████████████████| 6/6 [00:00<00:00, 77.96it/s]\n",
      "C:\\Users\\Joe Hilton\\Anaconda3\\lib\\site-packages\\scipy\\sparse\\linalg\\dsolve\\linsolve.py:296: SparseEfficiencyWarning: splu requires CSC matrix format\n",
      "  warn('splu requires CSC matrix format', SparseEfficiencyWarning)\n",
      "C:\\Users\\Joe Hilton\\Anaconda3\\lib\\site-packages\\scipy\\sparse\\linalg\\dsolve\\linsolve.py:203: SparseEfficiencyWarning: spsolve is more efficient when sparse b is in the CSC matrix format\n",
      "  'is in the CSC matrix format', SparseEfficiencyWarning)\n",
      "C:\\Users\\Joe Hilton\\Anaconda3\\lib\\site-packages\\ipykernel_launcher.py:66: ComplexWarning: Casting complex values to real discards the imaginary part\n"
     ]
    },
    {
     "name": "stdout",
     "output_type": "stream",
     "text": [
      "22 of 50 calculations completed 58.44806694984436 seconds elapsed,estimated 68.61294815851295 seconds remaining.\n"
     ]
    },
    {
     "name": "stderr",
     "output_type": "stream",
     "text": [
      "Building within-household transmission matrix: 100%|█████████████████████████████████████| 6/6 [00:00<00:00, 76.00it/s]\n",
      "C:\\Users\\Joe Hilton\\Anaconda3\\lib\\site-packages\\scipy\\sparse\\linalg\\dsolve\\linsolve.py:296: SparseEfficiencyWarning: splu requires CSC matrix format\n",
      "  warn('splu requires CSC matrix format', SparseEfficiencyWarning)\n",
      "C:\\Users\\Joe Hilton\\Anaconda3\\lib\\site-packages\\scipy\\sparse\\linalg\\dsolve\\linsolve.py:203: SparseEfficiencyWarning: spsolve is more efficient when sparse b is in the CSC matrix format\n",
      "  'is in the CSC matrix format', SparseEfficiencyWarning)\n",
      "C:\\Users\\Joe Hilton\\Anaconda3\\lib\\site-packages\\ipykernel_launcher.py:66: ComplexWarning: Casting complex values to real discards the imaginary part\n"
     ]
    },
    {
     "name": "stdout",
     "output_type": "stream",
     "text": [
      "23 of 50 calculations completed 61.50139379501343 seconds elapsed,estimated 66.62650994459788 seconds remaining.\n"
     ]
    },
    {
     "name": "stderr",
     "output_type": "stream",
     "text": [
      "Building within-household transmission matrix: 100%|█████████████████████████████████████| 6/6 [00:00<00:00, 75.02it/s]\n",
      "C:\\Users\\Joe Hilton\\Anaconda3\\lib\\site-packages\\scipy\\sparse\\linalg\\dsolve\\linsolve.py:296: SparseEfficiencyWarning: splu requires CSC matrix format\n",
      "  warn('splu requires CSC matrix format', SparseEfficiencyWarning)\n",
      "C:\\Users\\Joe Hilton\\Anaconda3\\lib\\site-packages\\scipy\\sparse\\linalg\\dsolve\\linsolve.py:203: SparseEfficiencyWarning: spsolve is more efficient when sparse b is in the CSC matrix format\n",
      "  'is in the CSC matrix format', SparseEfficiencyWarning)\n",
      "C:\\Users\\Joe Hilton\\Anaconda3\\lib\\site-packages\\ipykernel_launcher.py:66: ComplexWarning: Casting complex values to real discards the imaginary part\n"
     ]
    },
    {
     "name": "stdout",
     "output_type": "stream",
     "text": [
      "24 of 50 calculations completed 63.262412309646606 seconds elapsed,estimated 63.262412309646606 seconds remaining.\n"
     ]
    },
    {
     "name": "stderr",
     "output_type": "stream",
     "text": [
      "Building within-household transmission matrix: 100%|█████████████████████████████████████| 6/6 [00:00<00:00, 75.02it/s]\n",
      "C:\\Users\\Joe Hilton\\Anaconda3\\lib\\site-packages\\scipy\\sparse\\linalg\\dsolve\\linsolve.py:296: SparseEfficiencyWarning: splu requires CSC matrix format\n",
      "  warn('splu requires CSC matrix format', SparseEfficiencyWarning)\n",
      "C:\\Users\\Joe Hilton\\Anaconda3\\lib\\site-packages\\scipy\\sparse\\linalg\\dsolve\\linsolve.py:203: SparseEfficiencyWarning: spsolve is more efficient when sparse b is in the CSC matrix format\n",
      "  'is in the CSC matrix format', SparseEfficiencyWarning)\n",
      "C:\\Users\\Joe Hilton\\Anaconda3\\lib\\site-packages\\ipykernel_launcher.py:66: ComplexWarning: Casting complex values to real discards the imaginary part\n"
     ]
    },
    {
     "name": "stdout",
     "output_type": "stream",
     "text": [
      "25 of 50 calculations completed 64.98143196105957 seconds elapsed,estimated 59.9828602717473 seconds remaining.\n"
     ]
    },
    {
     "name": "stderr",
     "output_type": "stream",
     "text": [
      "Building within-household transmission matrix: 100%|█████████████████████████████████████| 6/6 [00:00<00:00, 75.97it/s]\n",
      "C:\\Users\\Joe Hilton\\Anaconda3\\lib\\site-packages\\scipy\\sparse\\linalg\\dsolve\\linsolve.py:296: SparseEfficiencyWarning: splu requires CSC matrix format\n",
      "  warn('splu requires CSC matrix format', SparseEfficiencyWarning)\n",
      "C:\\Users\\Joe Hilton\\Anaconda3\\lib\\site-packages\\scipy\\sparse\\linalg\\dsolve\\linsolve.py:203: SparseEfficiencyWarning: spsolve is more efficient when sparse b is in the CSC matrix format\n",
      "  'is in the CSC matrix format', SparseEfficiencyWarning)\n",
      "C:\\Users\\Joe Hilton\\Anaconda3\\lib\\site-packages\\ipykernel_launcher.py:66: ComplexWarning: Casting complex values to real discards the imaginary part\n"
     ]
    },
    {
     "name": "stdout",
     "output_type": "stream",
     "text": [
      "26 of 50 calculations completed 66.64647483825684 seconds elapsed,estimated 56.77292301036693 seconds remaining.\n"
     ]
    },
    {
     "name": "stderr",
     "output_type": "stream",
     "text": [
      "Building within-household transmission matrix: 100%|█████████████████████████████████████| 6/6 [00:00<00:00, 75.95it/s]\n",
      "C:\\Users\\Joe Hilton\\Anaconda3\\lib\\site-packages\\scipy\\sparse\\linalg\\dsolve\\linsolve.py:296: SparseEfficiencyWarning: splu requires CSC matrix format\n",
      "  warn('splu requires CSC matrix format', SparseEfficiencyWarning)\n",
      "C:\\Users\\Joe Hilton\\Anaconda3\\lib\\site-packages\\scipy\\sparse\\linalg\\dsolve\\linsolve.py:203: SparseEfficiencyWarning: spsolve is more efficient when sparse b is in the CSC matrix format\n",
      "  'is in the CSC matrix format', SparseEfficiencyWarning)\n",
      "C:\\Users\\Joe Hilton\\Anaconda3\\lib\\site-packages\\ipykernel_launcher.py:66: ComplexWarning: Casting complex values to real discards the imaginary part\n"
     ]
    },
    {
     "name": "stdout",
     "output_type": "stream",
     "text": [
      "27 of 50 calculations completed 69.93356919288635 seconds elapsed,estimated 54.947804365839275 seconds remaining.\n"
     ]
    },
    {
     "name": "stderr",
     "output_type": "stream",
     "text": [
      "Building within-household transmission matrix: 100%|█████████████████████████████████████| 6/6 [00:00<00:00, 76.97it/s]\n",
      "C:\\Users\\Joe Hilton\\Anaconda3\\lib\\site-packages\\scipy\\sparse\\linalg\\dsolve\\linsolve.py:296: SparseEfficiencyWarning: splu requires CSC matrix format\n",
      "  warn('splu requires CSC matrix format', SparseEfficiencyWarning)\n",
      "C:\\Users\\Joe Hilton\\Anaconda3\\lib\\site-packages\\scipy\\sparse\\linalg\\dsolve\\linsolve.py:203: SparseEfficiencyWarning: spsolve is more efficient when sparse b is in the CSC matrix format\n",
      "  'is in the CSC matrix format', SparseEfficiencyWarning)\n",
      "C:\\Users\\Joe Hilton\\Anaconda3\\lib\\site-packages\\ipykernel_launcher.py:66: ComplexWarning: Casting complex values to real discards the imaginary part\n"
     ]
    },
    {
     "name": "stdout",
     "output_type": "stream",
     "text": [
      "28 of 50 calculations completed 73.59850120544434 seconds elapsed,estimated 53.29546639014934 seconds remaining.\n"
     ]
    },
    {
     "name": "stderr",
     "output_type": "stream",
     "text": [
      "Building within-household transmission matrix: 100%|█████████████████████████████████████| 6/6 [00:00<00:00, 75.99it/s]\n",
      "C:\\Users\\Joe Hilton\\Anaconda3\\lib\\site-packages\\scipy\\sparse\\linalg\\dsolve\\linsolve.py:296: SparseEfficiencyWarning: splu requires CSC matrix format\n",
      "  warn('splu requires CSC matrix format', SparseEfficiencyWarning)\n",
      "C:\\Users\\Joe Hilton\\Anaconda3\\lib\\site-packages\\scipy\\sparse\\linalg\\dsolve\\linsolve.py:203: SparseEfficiencyWarning: spsolve is more efficient when sparse b is in the CSC matrix format\n",
      "  'is in the CSC matrix format', SparseEfficiencyWarning)\n",
      "C:\\Users\\Joe Hilton\\Anaconda3\\lib\\site-packages\\ipykernel_launcher.py:66: ComplexWarning: Casting complex values to real discards the imaginary part\n"
     ]
    },
    {
     "name": "stdout",
     "output_type": "stream",
     "text": [
      "29 of 50 calculations completed 75.51537752151489 seconds elapsed,estimated 50.34358501434326 seconds remaining.\n"
     ]
    },
    {
     "name": "stderr",
     "output_type": "stream",
     "text": [
      "Building within-household transmission matrix: 100%|█████████████████████████████████████| 6/6 [00:00<00:00, 76.96it/s]\n",
      "C:\\Users\\Joe Hilton\\Anaconda3\\lib\\site-packages\\scipy\\sparse\\linalg\\dsolve\\linsolve.py:296: SparseEfficiencyWarning: splu requires CSC matrix format\n",
      "  warn('splu requires CSC matrix format', SparseEfficiencyWarning)\n",
      "C:\\Users\\Joe Hilton\\Anaconda3\\lib\\site-packages\\scipy\\sparse\\linalg\\dsolve\\linsolve.py:203: SparseEfficiencyWarning: spsolve is more efficient when sparse b is in the CSC matrix format\n",
      "  'is in the CSC matrix format', SparseEfficiencyWarning)\n",
      "C:\\Users\\Joe Hilton\\Anaconda3\\lib\\site-packages\\ipykernel_launcher.py:66: ComplexWarning: Casting complex values to real discards the imaginary part\n"
     ]
    },
    {
     "name": "stdout",
     "output_type": "stream",
     "text": [
      "30 of 50 calculations completed 77.7631163597107 seconds elapsed,estimated 47.661264865629136 seconds remaining.\n"
     ]
    },
    {
     "name": "stderr",
     "output_type": "stream",
     "text": [
      "Building within-household transmission matrix: 100%|█████████████████████████████████████| 6/6 [00:00<00:00, 75.02it/s]\n",
      "C:\\Users\\Joe Hilton\\Anaconda3\\lib\\site-packages\\scipy\\sparse\\linalg\\dsolve\\linsolve.py:296: SparseEfficiencyWarning: splu requires CSC matrix format\n",
      "  warn('splu requires CSC matrix format', SparseEfficiencyWarning)\n",
      "C:\\Users\\Joe Hilton\\Anaconda3\\lib\\site-packages\\scipy\\sparse\\linalg\\dsolve\\linsolve.py:203: SparseEfficiencyWarning: spsolve is more efficient when sparse b is in the CSC matrix format\n",
      "  'is in the CSC matrix format', SparseEfficiencyWarning)\n",
      "C:\\Users\\Joe Hilton\\Anaconda3\\lib\\site-packages\\ipykernel_launcher.py:66: ComplexWarning: Casting complex values to real discards the imaginary part\n"
     ]
    },
    {
     "name": "stdout",
     "output_type": "stream",
     "text": [
      "31 of 50 calculations completed 79.48710536956787 seconds elapsed,estimated 44.71149677038193 seconds remaining.\n"
     ]
    },
    {
     "name": "stderr",
     "output_type": "stream",
     "text": [
      "Building within-household transmission matrix: 100%|█████████████████████████████████████| 6/6 [00:00<00:00, 75.97it/s]\n",
      "C:\\Users\\Joe Hilton\\Anaconda3\\lib\\site-packages\\scipy\\sparse\\linalg\\dsolve\\linsolve.py:296: SparseEfficiencyWarning: splu requires CSC matrix format\n",
      "  warn('splu requires CSC matrix format', SparseEfficiencyWarning)\n",
      "C:\\Users\\Joe Hilton\\Anaconda3\\lib\\site-packages\\scipy\\sparse\\linalg\\dsolve\\linsolve.py:203: SparseEfficiencyWarning: spsolve is more efficient when sparse b is in the CSC matrix format\n",
      "  'is in the CSC matrix format', SparseEfficiencyWarning)\n",
      "C:\\Users\\Joe Hilton\\Anaconda3\\lib\\site-packages\\ipykernel_launcher.py:66: ComplexWarning: Casting complex values to real discards the imaginary part\n"
     ]
    },
    {
     "name": "stdout",
     "output_type": "stream",
     "text": [
      "32 of 50 calculations completed 82.2800977230072 seconds elapsed,estimated 42.38671700882189 seconds remaining.\n"
     ]
    },
    {
     "name": "stderr",
     "output_type": "stream",
     "text": [
      "Building within-household transmission matrix: 100%|█████████████████████████████████████| 6/6 [00:00<00:00, 74.10it/s]\n",
      "C:\\Users\\Joe Hilton\\Anaconda3\\lib\\site-packages\\scipy\\sparse\\linalg\\dsolve\\linsolve.py:296: SparseEfficiencyWarning: splu requires CSC matrix format\n",
      "  warn('splu requires CSC matrix format', SparseEfficiencyWarning)\n",
      "C:\\Users\\Joe Hilton\\Anaconda3\\lib\\site-packages\\scipy\\sparse\\linalg\\dsolve\\linsolve.py:203: SparseEfficiencyWarning: spsolve is more efficient when sparse b is in the CSC matrix format\n",
      "  'is in the CSC matrix format', SparseEfficiencyWarning)\n",
      "C:\\Users\\Joe Hilton\\Anaconda3\\lib\\site-packages\\ipykernel_launcher.py:66: ComplexWarning: Casting complex values to real discards the imaginary part\n"
     ]
    },
    {
     "name": "stdout",
     "output_type": "stream",
     "text": [
      "33 of 50 calculations completed 84.42187142372131 seconds elapsed,estimated 39.72793949351591 seconds remaining.\n"
     ]
    },
    {
     "name": "stderr",
     "output_type": "stream",
     "text": [
      "Building within-household transmission matrix: 100%|█████████████████████████████████████| 6/6 [00:00<00:00, 77.97it/s]\n",
      "C:\\Users\\Joe Hilton\\Anaconda3\\lib\\site-packages\\scipy\\sparse\\linalg\\dsolve\\linsolve.py:296: SparseEfficiencyWarning: splu requires CSC matrix format\n",
      "  warn('splu requires CSC matrix format', SparseEfficiencyWarning)\n",
      "C:\\Users\\Joe Hilton\\Anaconda3\\lib\\site-packages\\scipy\\sparse\\linalg\\dsolve\\linsolve.py:203: SparseEfficiencyWarning: spsolve is more efficient when sparse b is in the CSC matrix format\n",
      "  'is in the CSC matrix format', SparseEfficiencyWarning)\n",
      "C:\\Users\\Joe Hilton\\Anaconda3\\lib\\site-packages\\ipykernel_launcher.py:66: ComplexWarning: Casting complex values to real discards the imaginary part\n"
     ]
    },
    {
     "name": "stdout",
     "output_type": "stream",
     "text": [
      "34 of 50 calculations completed 86.3177580833435 seconds elapsed,estimated 36.9933248928615 seconds remaining.\n"
     ]
    },
    {
     "name": "stderr",
     "output_type": "stream",
     "text": [
      "Building within-household transmission matrix: 100%|█████████████████████████████████████| 6/6 [00:00<00:00, 76.97it/s]\n",
      "C:\\Users\\Joe Hilton\\Anaconda3\\lib\\site-packages\\scipy\\sparse\\linalg\\dsolve\\linsolve.py:296: SparseEfficiencyWarning: splu requires CSC matrix format\n",
      "  warn('splu requires CSC matrix format', SparseEfficiencyWarning)\n",
      "C:\\Users\\Joe Hilton\\Anaconda3\\lib\\site-packages\\scipy\\sparse\\linalg\\dsolve\\linsolve.py:203: SparseEfficiencyWarning: spsolve is more efficient when sparse b is in the CSC matrix format\n",
      "  'is in the CSC matrix format', SparseEfficiencyWarning)\n",
      "C:\\Users\\Joe Hilton\\Anaconda3\\lib\\site-packages\\ipykernel_launcher.py:66: ComplexWarning: Casting complex values to real discards the imaginary part\n"
     ]
    },
    {
     "name": "stdout",
     "output_type": "stream",
     "text": [
      "35 of 50 calculations completed 88.38956999778748 seconds elapsed,estimated 34.373721665806244 seconds remaining.\n"
     ]
    },
    {
     "name": "stderr",
     "output_type": "stream",
     "text": [
      "Building within-household transmission matrix: 100%|█████████████████████████████████████| 6/6 [00:00<00:00, 75.99it/s]\n",
      "C:\\Users\\Joe Hilton\\Anaconda3\\lib\\site-packages\\scipy\\sparse\\linalg\\dsolve\\linsolve.py:296: SparseEfficiencyWarning: splu requires CSC matrix format\n",
      "  warn('splu requires CSC matrix format', SparseEfficiencyWarning)\n",
      "C:\\Users\\Joe Hilton\\Anaconda3\\lib\\site-packages\\scipy\\sparse\\linalg\\dsolve\\linsolve.py:203: SparseEfficiencyWarning: spsolve is more efficient when sparse b is in the CSC matrix format\n",
      "  'is in the CSC matrix format', SparseEfficiencyWarning)\n",
      "C:\\Users\\Joe Hilton\\Anaconda3\\lib\\site-packages\\ipykernel_launcher.py:66: ComplexWarning: Casting complex values to real discards the imaginary part\n"
     ]
    },
    {
     "name": "stdout",
     "output_type": "stream",
     "text": [
      "36 of 50 calculations completed 90.19053936004639 seconds elapsed,estimated 31.68856788325954 seconds remaining.\n"
     ]
    },
    {
     "name": "stderr",
     "output_type": "stream",
     "text": [
      "Building within-household transmission matrix: 100%|█████████████████████████████████████| 6/6 [00:00<00:00, 75.97it/s]\n",
      "C:\\Users\\Joe Hilton\\Anaconda3\\lib\\site-packages\\scipy\\sparse\\linalg\\dsolve\\linsolve.py:296: SparseEfficiencyWarning: splu requires CSC matrix format\n",
      "  warn('splu requires CSC matrix format', SparseEfficiencyWarning)\n",
      "C:\\Users\\Joe Hilton\\Anaconda3\\lib\\site-packages\\scipy\\sparse\\linalg\\dsolve\\linsolve.py:203: SparseEfficiencyWarning: spsolve is more efficient when sparse b is in the CSC matrix format\n",
      "  'is in the CSC matrix format', SparseEfficiencyWarning)\n",
      "C:\\Users\\Joe Hilton\\Anaconda3\\lib\\site-packages\\ipykernel_launcher.py:66: ComplexWarning: Casting complex values to real discards the imaginary part\n"
     ]
    },
    {
     "name": "stdout",
     "output_type": "stream",
     "text": [
      "37 of 50 calculations completed 92.55318713188171 seconds elapsed,estimated 29.227322252173174 seconds remaining.\n"
     ]
    },
    {
     "name": "stderr",
     "output_type": "stream",
     "text": [
      "Building within-household transmission matrix: 100%|█████████████████████████████████████| 6/6 [00:00<00:00, 75.99it/s]\n",
      "C:\\Users\\Joe Hilton\\Anaconda3\\lib\\site-packages\\scipy\\sparse\\linalg\\dsolve\\linsolve.py:296: SparseEfficiencyWarning: splu requires CSC matrix format\n",
      "  warn('splu requires CSC matrix format', SparseEfficiencyWarning)\n",
      "C:\\Users\\Joe Hilton\\Anaconda3\\lib\\site-packages\\scipy\\sparse\\linalg\\dsolve\\linsolve.py:203: SparseEfficiencyWarning: spsolve is more efficient when sparse b is in the CSC matrix format\n",
      "  'is in the CSC matrix format', SparseEfficiencyWarning)\n",
      "C:\\Users\\Joe Hilton\\Anaconda3\\lib\\site-packages\\ipykernel_launcher.py:66: ComplexWarning: Casting complex values to real discards the imaginary part\n"
     ]
    },
    {
     "name": "stdout",
     "output_type": "stream",
     "text": [
      "38 of 50 calculations completed 97.14559078216553 seconds elapsed,estimated 27.400038425738995 seconds remaining.\n"
     ]
    },
    {
     "name": "stderr",
     "output_type": "stream",
     "text": [
      "Building within-household transmission matrix: 100%|█████████████████████████████████████| 6/6 [00:00<00:00, 75.04it/s]\n",
      "C:\\Users\\Joe Hilton\\Anaconda3\\lib\\site-packages\\scipy\\sparse\\linalg\\dsolve\\linsolve.py:296: SparseEfficiencyWarning: splu requires CSC matrix format\n",
      "  warn('splu requires CSC matrix format', SparseEfficiencyWarning)\n",
      "C:\\Users\\Joe Hilton\\Anaconda3\\lib\\site-packages\\scipy\\sparse\\linalg\\dsolve\\linsolve.py:203: SparseEfficiencyWarning: spsolve is more efficient when sparse b is in the CSC matrix format\n",
      "  'is in the CSC matrix format', SparseEfficiencyWarning)\n",
      "C:\\Users\\Joe Hilton\\Anaconda3\\lib\\site-packages\\ipykernel_launcher.py:66: ComplexWarning: Casting complex values to real discards the imaginary part\n"
     ]
    },
    {
     "name": "stdout",
     "output_type": "stream",
     "text": [
      "39 of 50 calculations completed 99.85994291305542 seconds elapsed,estimated 24.964985728263855 seconds remaining.\n"
     ]
    },
    {
     "name": "stderr",
     "output_type": "stream",
     "text": [
      "Building within-household transmission matrix: 100%|█████████████████████████████████████| 6/6 [00:00<00:00, 75.01it/s]\n",
      "C:\\Users\\Joe Hilton\\Anaconda3\\lib\\site-packages\\scipy\\sparse\\linalg\\dsolve\\linsolve.py:296: SparseEfficiencyWarning: splu requires CSC matrix format\n",
      "  warn('splu requires CSC matrix format', SparseEfficiencyWarning)\n",
      "C:\\Users\\Joe Hilton\\Anaconda3\\lib\\site-packages\\scipy\\sparse\\linalg\\dsolve\\linsolve.py:203: SparseEfficiencyWarning: spsolve is more efficient when sparse b is in the CSC matrix format\n",
      "  'is in the CSC matrix format', SparseEfficiencyWarning)\n",
      "C:\\Users\\Joe Hilton\\Anaconda3\\lib\\site-packages\\ipykernel_launcher.py:66: ComplexWarning: Casting complex values to real discards the imaginary part\n"
     ]
    },
    {
     "name": "stdout",
     "output_type": "stream",
     "text": [
      "40 of 50 calculations completed 103.17807197570801 seconds elapsed,estimated 22.648845067838344 seconds remaining.\n"
     ]
    },
    {
     "name": "stderr",
     "output_type": "stream",
     "text": [
      "Building within-household transmission matrix: 100%|█████████████████████████████████████| 6/6 [00:00<00:00, 75.97it/s]\n",
      "C:\\Users\\Joe Hilton\\Anaconda3\\lib\\site-packages\\scipy\\sparse\\linalg\\dsolve\\linsolve.py:296: SparseEfficiencyWarning: splu requires CSC matrix format\n",
      "  warn('splu requires CSC matrix format', SparseEfficiencyWarning)\n",
      "C:\\Users\\Joe Hilton\\Anaconda3\\lib\\site-packages\\scipy\\sparse\\linalg\\dsolve\\linsolve.py:203: SparseEfficiencyWarning: spsolve is more efficient when sparse b is in the CSC matrix format\n",
      "  'is in the CSC matrix format', SparseEfficiencyWarning)\n",
      "C:\\Users\\Joe Hilton\\Anaconda3\\lib\\site-packages\\ipykernel_launcher.py:66: ComplexWarning: Casting complex values to real discards the imaginary part\n"
     ]
    },
    {
     "name": "stdout",
     "output_type": "stream",
     "text": [
      "41 of 50 calculations completed 105.13395714759827 seconds elapsed,estimated 20.025515647161576 seconds remaining.\n"
     ]
    },
    {
     "name": "stderr",
     "output_type": "stream",
     "text": [
      "Building within-household transmission matrix: 100%|█████████████████████████████████████| 6/6 [00:00<00:00, 74.09it/s]\n",
      "C:\\Users\\Joe Hilton\\Anaconda3\\lib\\site-packages\\scipy\\sparse\\linalg\\dsolve\\linsolve.py:296: SparseEfficiencyWarning: splu requires CSC matrix format\n",
      "  warn('splu requires CSC matrix format', SparseEfficiencyWarning)\n",
      "C:\\Users\\Joe Hilton\\Anaconda3\\lib\\site-packages\\scipy\\sparse\\linalg\\dsolve\\linsolve.py:203: SparseEfficiencyWarning: spsolve is more efficient when sparse b is in the CSC matrix format\n",
      "  'is in the CSC matrix format', SparseEfficiencyWarning)\n",
      "C:\\Users\\Joe Hilton\\Anaconda3\\lib\\site-packages\\ipykernel_launcher.py:66: ComplexWarning: Casting complex values to real discards the imaginary part\n"
     ]
    },
    {
     "name": "stdout",
     "output_type": "stream",
     "text": [
      "42 of 50 calculations completed 108.25514006614685 seconds elapsed,estimated 17.62292977820995 seconds remaining.\n"
     ]
    },
    {
     "name": "stderr",
     "output_type": "stream",
     "text": [
      "Building within-household transmission matrix: 100%|█████████████████████████████████████| 6/6 [00:00<00:00, 75.96it/s]\n",
      "C:\\Users\\Joe Hilton\\Anaconda3\\lib\\site-packages\\scipy\\sparse\\linalg\\dsolve\\linsolve.py:296: SparseEfficiencyWarning: splu requires CSC matrix format\n",
      "  warn('splu requires CSC matrix format', SparseEfficiencyWarning)\n",
      "C:\\Users\\Joe Hilton\\Anaconda3\\lib\\site-packages\\scipy\\sparse\\linalg\\dsolve\\linsolve.py:203: SparseEfficiencyWarning: spsolve is more efficient when sparse b is in the CSC matrix format\n",
      "  'is in the CSC matrix format', SparseEfficiencyWarning)\n",
      "C:\\Users\\Joe Hilton\\Anaconda3\\lib\\site-packages\\ipykernel_launcher.py:66: ComplexWarning: Casting complex values to real discards the imaginary part\n"
     ]
    },
    {
     "name": "stdout",
     "output_type": "stream",
     "text": [
      "43 of 50 calculations completed 111.936039686203 seconds elapsed,estimated 15.264005411754955 seconds remaining.\n"
     ]
    },
    {
     "name": "stderr",
     "output_type": "stream",
     "text": [
      "Building within-household transmission matrix: 100%|█████████████████████████████████████| 6/6 [00:00<00:00, 77.96it/s]\n",
      "C:\\Users\\Joe Hilton\\Anaconda3\\lib\\site-packages\\scipy\\sparse\\linalg\\dsolve\\linsolve.py:296: SparseEfficiencyWarning: splu requires CSC matrix format\n",
      "  warn('splu requires CSC matrix format', SparseEfficiencyWarning)\n",
      "C:\\Users\\Joe Hilton\\Anaconda3\\lib\\site-packages\\scipy\\sparse\\linalg\\dsolve\\linsolve.py:203: SparseEfficiencyWarning: spsolve is more efficient when sparse b is in the CSC matrix format\n",
      "  'is in the CSC matrix format', SparseEfficiencyWarning)\n",
      "C:\\Users\\Joe Hilton\\Anaconda3\\lib\\site-packages\\ipykernel_launcher.py:66: ComplexWarning: Casting complex values to real discards the imaginary part\n"
     ]
    },
    {
     "name": "stdout",
     "output_type": "stream",
     "text": [
      "44 of 50 calculations completed 113.76399207115173 seconds elapsed,estimated 12.640443563461304 seconds remaining.\n"
     ]
    },
    {
     "name": "stderr",
     "output_type": "stream",
     "text": [
      "Building within-household transmission matrix: 100%|█████████████████████████████████████| 6/6 [00:00<00:00, 76.97it/s]\n",
      "C:\\Users\\Joe Hilton\\Anaconda3\\lib\\site-packages\\scipy\\sparse\\linalg\\dsolve\\linsolve.py:296: SparseEfficiencyWarning: splu requires CSC matrix format\n",
      "  warn('splu requires CSC matrix format', SparseEfficiencyWarning)\n",
      "C:\\Users\\Joe Hilton\\Anaconda3\\lib\\site-packages\\scipy\\sparse\\linalg\\dsolve\\linsolve.py:203: SparseEfficiencyWarning: spsolve is more efficient when sparse b is in the CSC matrix format\n",
      "  'is in the CSC matrix format', SparseEfficiencyWarning)\n",
      "C:\\Users\\Joe Hilton\\Anaconda3\\lib\\site-packages\\ipykernel_launcher.py:66: ComplexWarning: Casting complex values to real discards the imaginary part\n"
     ]
    },
    {
     "name": "stdout",
     "output_type": "stream",
     "text": [
      "45 of 50 calculations completed 116.5833809375763 seconds elapsed,estimated 10.137685298919678 seconds remaining.\n"
     ]
    },
    {
     "name": "stderr",
     "output_type": "stream",
     "text": [
      "Building within-household transmission matrix: 100%|█████████████████████████████████████| 6/6 [00:00<00:00, 77.97it/s]\n",
      "C:\\Users\\Joe Hilton\\Anaconda3\\lib\\site-packages\\scipy\\sparse\\linalg\\dsolve\\linsolve.py:296: SparseEfficiencyWarning: splu requires CSC matrix format\n",
      "  warn('splu requires CSC matrix format', SparseEfficiencyWarning)\n",
      "C:\\Users\\Joe Hilton\\Anaconda3\\lib\\site-packages\\scipy\\sparse\\linalg\\dsolve\\linsolve.py:203: SparseEfficiencyWarning: spsolve is more efficient when sparse b is in the CSC matrix format\n",
      "  'is in the CSC matrix format', SparseEfficiencyWarning)\n",
      "C:\\Users\\Joe Hilton\\Anaconda3\\lib\\site-packages\\ipykernel_launcher.py:66: ComplexWarning: Casting complex values to real discards the imaginary part\n"
     ]
    },
    {
     "name": "stdout",
     "output_type": "stream",
     "text": [
      "46 of 50 calculations completed 118.29840040206909 seconds elapsed,estimated 7.550961727791644 seconds remaining.\n"
     ]
    },
    {
     "name": "stderr",
     "output_type": "stream",
     "text": [
      "Building within-household transmission matrix: 100%|█████████████████████████████████████| 6/6 [00:00<00:00, 73.83it/s]\n",
      "C:\\Users\\Joe Hilton\\Anaconda3\\lib\\site-packages\\scipy\\sparse\\linalg\\dsolve\\linsolve.py:296: SparseEfficiencyWarning: splu requires CSC matrix format\n",
      "  warn('splu requires CSC matrix format', SparseEfficiencyWarning)\n",
      "C:\\Users\\Joe Hilton\\Anaconda3\\lib\\site-packages\\scipy\\sparse\\linalg\\dsolve\\linsolve.py:203: SparseEfficiencyWarning: spsolve is more efficient when sparse b is in the CSC matrix format\n",
      "  'is in the CSC matrix format', SparseEfficiencyWarning)\n",
      "C:\\Users\\Joe Hilton\\Anaconda3\\lib\\site-packages\\ipykernel_launcher.py:66: ComplexWarning: Casting complex values to real discards the imaginary part\n"
     ]
    },
    {
     "name": "stdout",
     "output_type": "stream",
     "text": [
      "47 of 50 calculations completed 120.8118143081665 seconds elapsed,estimated 5.033825596173604 seconds remaining.\n"
     ]
    },
    {
     "name": "stderr",
     "output_type": "stream",
     "text": [
      "Building within-household transmission matrix: 100%|█████████████████████████████████████| 6/6 [00:00<00:00, 75.97it/s]\n",
      "C:\\Users\\Joe Hilton\\Anaconda3\\lib\\site-packages\\scipy\\sparse\\linalg\\dsolve\\linsolve.py:296: SparseEfficiencyWarning: splu requires CSC matrix format\n",
      "  warn('splu requires CSC matrix format', SparseEfficiencyWarning)\n",
      "C:\\Users\\Joe Hilton\\Anaconda3\\lib\\site-packages\\scipy\\sparse\\linalg\\dsolve\\linsolve.py:203: SparseEfficiencyWarning: spsolve is more efficient when sparse b is in the CSC matrix format\n",
      "  'is in the CSC matrix format', SparseEfficiencyWarning)\n",
      "C:\\Users\\Joe Hilton\\Anaconda3\\lib\\site-packages\\ipykernel_launcher.py:66: ComplexWarning: Casting complex values to real discards the imaginary part\n"
     ]
    },
    {
     "name": "stdout",
     "output_type": "stream",
     "text": [
      "48 of 50 calculations completed 123.16744232177734 seconds elapsed,estimated 2.513621271873007 seconds remaining.\n"
     ]
    },
    {
     "name": "stderr",
     "output_type": "stream",
     "text": [
      "Building within-household transmission matrix: 100%|█████████████████████████████████████| 6/6 [00:00<00:00, 75.05it/s]\n",
      "C:\\Users\\Joe Hilton\\Anaconda3\\lib\\site-packages\\scipy\\sparse\\linalg\\dsolve\\linsolve.py:296: SparseEfficiencyWarning: splu requires CSC matrix format\n",
      "  warn('splu requires CSC matrix format', SparseEfficiencyWarning)\n",
      "C:\\Users\\Joe Hilton\\Anaconda3\\lib\\site-packages\\scipy\\sparse\\linalg\\dsolve\\linsolve.py:203: SparseEfficiencyWarning: spsolve is more efficient when sparse b is in the CSC matrix format\n",
      "  'is in the CSC matrix format', SparseEfficiencyWarning)\n",
      "C:\\Users\\Joe Hilton\\Anaconda3\\lib\\site-packages\\ipykernel_launcher.py:66: ComplexWarning: Casting complex values to real discards the imaginary part\n"
     ]
    },
    {
     "name": "stdout",
     "output_type": "stream",
     "text": [
      "49 of 50 calculations completed 125.11335492134094 seconds elapsed,estimated 0.0 seconds remaining.\n"
     ]
    }
   ],
   "source": [
    "no_samples = 50\n",
    "\n",
    "r_range_list = []\n",
    "time_list = []\n",
    "eval_range_list = []\n",
    "\n",
    "start_time = get_time()\n",
    "for i in range(no_samples):\n",
    "    spec = draw_random_specs(SPEC)\n",
    "    r_now, t_now, evals_now = get_r_time_series_and_evals(spec)\n",
    "    r_range_list.append(r_now)\n",
    "    time_list.append(t_now)\n",
    "    eval_range_list.append(evals_now)\n",
    "    time_now = get_time()\n",
    "    print(i,\n",
    "          'of',\n",
    "          no_samples,\n",
    "          'calculations completed',\n",
    "          time_now-start_time,\n",
    "          'seconds elapsed,estimated',\n",
    "         (no_samples-(i+1))*(time_now-start_time)/(i+1),\n",
    "         'seconds remaining.')"
   ]
  },
  {
   "cell_type": "code",
   "execution_count": 21,
   "metadata": {},
   "outputs": [
    {
     "data": {
      "text/plain": [
       "Text(0.5, 0, 'Time in days')"
      ]
     },
     "execution_count": 21,
     "metadata": {},
     "output_type": "execute_result"
    },
    {
     "data": {
      "image/png": "[encoded data removed]",
      "text/plain": [
       "<Figure size 576x576 with 1 Axes>"
      ]
     },
     "metadata": {
      "needs_background": "light"
     },
     "output_type": "display_data"
    },
    {
     "data": {
      "image/png": "[encoded data removed]",
      "text/plain": [
       "<Figure size 432x288 with 1 Axes>"
      ]
     },
     "metadata": {
      "needs_background": "light"
     },
     "output_type": "display_data"
    }
   ],
   "source": [
    "fig, ax = subplots(1, figsize=(8,8))\n",
    "\n",
    "for i in range(no_samples):\n",
    "    ax.plot(time_list[i][:-1], r_range_list[i])\n",
    "ax.set_ylabel('Growth rate')\n",
    "ax.set_xlabel('Time in days')\n",
    "\n",
    "fig, ax = subplots(1)\n",
    "\n",
    "for i in range(no_samples):\n",
    "    ax.plot(10*arange(len(eval_range_list[i])), eval_range_list[i])\n",
    "ax.set_ylim([-1,10])\n",
    "ax.set_ylabel('Leading eigenvalue')\n",
    "ax.set_xlabel('Time in days')"
   ]
  },
  {
   "cell_type": "markdown",
   "metadata": {},
   "source": [
    "Because we have not directly checked all of the parameter sets, there may be \"bad\" parameter sets samples which lead to strange behaviours in the model, although in theory all of them should allow for a sustained outbreak of infection. You should find that in the plot, most of the trajectories appear to settle around one during the period in their dynamics where the growth rate is constant."
   ]
  },
  {
   "cell_type": "markdown",
   "metadata": {},
   "source": [
    "## Calculating growth rate from model parameters\n",
    "\n",
    "The tests above suggest that the eigenvector equation we have identified holds; if we measure the growth rate $r$ during the exponential growth phase, then the leading eigenvalue of the compound matrix comes out as 1."
   ]
  },
  {
   "cell_type": "code",
   "execution_count": 22,
   "metadata": {},
   "outputs": [
    {
     "name": "stderr",
     "output_type": "stream",
     "text": [
      "Building within-household transmission matrix: 100%|███████████████████████████████████| 27/27 [00:01<00:00, 18.83it/s]\n"
     ]
    }
   ],
   "source": [
    "SPEC = {**TWO_AGE_SEPIR_SPEC, **TWO_AGE_UK_SPEC}\n",
    "\n",
    "# List of observed household compositions\n",
    "composition_list = read_csv(\n",
    "    'inputs/eng_and_wales_adult_child_composition_list.csv',\n",
    "    header=0).to_numpy()\n",
    "# Proportion of households which are in each composition\n",
    "comp_dist = read_csv(\n",
    "    'inputs/eng_and_wales_adult_child_composition_dist.csv',\n",
    "    header=0).to_numpy().squeeze()\n",
    "no_risk_classes = composition_list.shape[1]\n",
    "reverse_comp_dist = diag(comp_dist).dot(composition_list)\n",
    "reverse_comp_dist = reverse_comp_dist.dot(diag(1/reverse_comp_dist.sum(0)))\n",
    "\n",
    "model_input = SEPIRInput(SPEC, composition_list, comp_dist)\n",
    "\n",
    "household_population = HouseholdPopulation(\n",
    "        composition_list, comp_dist, model_input)\n",
    "\n",
    "rhs = SEPIRRateEquations(model_input, household_population, NoImportModel(5,2))"
   ]
  },
  {
   "cell_type": "code",
   "execution_count": 23,
   "metadata": {},
   "outputs": [],
   "source": [
    "def estimate_growth_rate(household_population,rhs,interval=[0.01,0.1],tol=1e-3):\n",
    "    \n",
    "    Q_int = rhs.Q_int\n",
    "    FOI_by_state = zeros((Q_int.shape[0],no_risk_classes))\n",
    "    for ic in range(rhs.no_inf_compartments):\n",
    "                states_inf_only =  rhs.inf_by_state_list[ic]\n",
    "                FOI_by_state += (rhs.ext_matrix_list[ic].dot(\n",
    "                        rhs.epsilon * states_inf_only.T)).T\n",
    "    index_states = where(\n",
    "    ((rhs.states_exp_only.sum(axis=1)==1) * \n",
    "    ((rhs.states_pro_only + rhs.states_inf_only + rhs.states_rec_only).sum(axis=1)==0)))[0]\n",
    "\n",
    "    no_index_states = len(index_states)\n",
    "    comp_by_index_state = household_population.which_composition[index_states]\n",
    "    \n",
    "    starter_mat = sparse((ones(no_index_states),(range(no_index_states), index_states)),shape=(no_index_states,Q_int.shape[0]))\n",
    "    \n",
    "    index_prob = zeros((no_risk_classes,no_index_states))\n",
    "    for i in range(no_index_states):\n",
    "        index_class = where(rhs.states_exp_only[index_states[i],:]==1)[0]\n",
    "        index_prob[index_class,i] = reverse_comp_dist[comp_by_index_state[i], index_class]\n",
    "        \n",
    "    r_min = interval[0]\n",
    "    r_max = interval[1]\n",
    "    multiplier = get_multiplier(r_min, Q_int, FOI_by_state, index_prob, starter_mat)\n",
    "    eval_min = eig(multiplier.T)[0][0]\n",
    "    print('eval at min=',eval_min)\n",
    "    multiplier = get_multiplier(r_max, Q_int, FOI_by_state, index_prob, starter_mat)\n",
    "    eval_max = eig(multiplier.T)[0][0]\n",
    "    print('eval at max=',eval_max)\n",
    "    \n",
    "    if ((eval_min-1) * (eval_max-1) > 0):\n",
    "        print('Solution not contained within interval')\n",
    "        return None\n",
    "\n",
    "    while (r_max - r_min > tol):\n",
    "        r_now = 0.5 * (r_max + r_min)\n",
    "        multiplier = get_multiplier(r_now, Q_int, FOI_by_state, index_prob, starter_mat)\n",
    "        eval_now = eig(multiplier.T)[0][0]\n",
    "#         print('eval at r =',r_now,'is',eval_now)\n",
    "        if ((eval_now-1) * (eval_max-1) > 0):\n",
    "            r_max = r_now\n",
    "        else:\n",
    "            r_min = r_now\n",
    "    \n",
    "    return r_now"
   ]
  },
  {
   "cell_type": "code",
   "execution_count": 24,
   "metadata": {
    "scrolled": true
   },
   "outputs": [
    {
     "name": "stderr",
     "output_type": "stream",
     "text": [
      "C:\\Users\\Joe Hilton\\Anaconda3\\lib\\site-packages\\scipy\\sparse\\linalg\\dsolve\\linsolve.py:296: SparseEfficiencyWarning: splu requires CSC matrix format\n",
      "  warn('splu requires CSC matrix format', SparseEfficiencyWarning)\n",
      "C:\\Users\\Joe Hilton\\Anaconda3\\lib\\site-packages\\scipy\\sparse\\linalg\\dsolve\\linsolve.py:203: SparseEfficiencyWarning: spsolve is more efficient when sparse b is in the CSC matrix format\n",
      "  'is in the CSC matrix format', SparseEfficiencyWarning)\n"
     ]
    },
    {
     "name": "stdout",
     "output_type": "stream",
     "text": [
      "eval at min= (1.5459497483476308+0j)\n",
      "eval at max= (0.5417507825899424+0j)\n"
     ]
    }
   ],
   "source": [
    "r_est = estimate_growth_rate(household_population,rhs)"
   ]
  },
  {
   "cell_type": "code",
   "execution_count": 25,
   "metadata": {},
   "outputs": [],
   "source": [
    "H0 = make_initial_condition(household_population, rhs)\n",
    "\n",
    "tspan = (0.0, 365)\n",
    "solution = solve_ivp(rhs, tspan, H0, first_step=0.001, atol=1e-16)\n",
    "\n",
    "time = solution.t\n",
    "H = solution.y\n",
    "S = H.T.dot(household_population.states[:, ::5])\n",
    "E = H.T.dot(household_population.states[:, 1::5])\n",
    "P = H.T.dot(household_population.states[:, 2::5])\n",
    "I = H.T.dot(household_population.states[:, 3::5])\n",
    "R = H.T.dot(household_population.states[:, 4::5])\n",
    "time_series = {\n",
    "'time':time,\n",
    "'S':S,\n",
    "'E':E,\n",
    "'P':P,\n",
    "'I':I,\n",
    "'R':R\n",
    "}"
   ]
  },
  {
   "cell_type": "code",
   "execution_count": 26,
   "metadata": {
    "scrolled": true
   },
   "outputs": [
    {
     "data": {
      "text/plain": [
       "<matplotlib.legend.Legend at 0x26e8b925f88>"
      ]
     },
     "execution_count": 26,
     "metadata": {},
     "output_type": "execute_result"
    },
    {
     "data": {
      "image/png": "[encoded data removed]",
      "text/plain": [
       "<Figure size 576x576 with 1 Axes>"
      ]
     },
     "metadata": {
      "needs_background": "light"
     },
     "output_type": "display_data"
    }
   ],
   "source": [
    "data_list = [time_series['S']/model_input.ave_hh_by_class,\n",
    "    time_series['E']/model_input.ave_hh_by_class,\n",
    "    time_series['P']/model_input.ave_hh_by_class,\n",
    "    time_series['I']/model_input.ave_hh_by_class,\n",
    "    time_series['R']/model_input.ave_hh_by_class]\n",
    "\n",
    "log_infs = log((data_list[1]+data_list[2]+data_list[3]).sum(axis=1))\n",
    "inf_states = where((rhs.states_exp_only + rhs.states_pro_only + rhs.states_inf_only).sum(axis=1)>0)[0]\n",
    "\n",
    "t_50 = argmin(abs(time - 50))\n",
    "t_150 = argmin(abs(time - 150))\n",
    "log_inf_est = log_infs[t_50] + r_est * (time[t_50:t_150] - time[t_50])\n",
    "\n",
    "fig, ax = subplots(1, figsize=(8,8))\n",
    "\n",
    "ax.plot(time, log_infs,label='Infected individuals')\n",
    "ax.plot(time, log((H[inf_states]).sum(axis=0)),label='Infected households')\n",
    "ax.plot(time[t_50:t_150], log_inf_est, label='Estimated growth')\n",
    "ax.set_xlabel('Time in days')\n",
    "ax.set_ylabel('log value')\n",
    "ax.legend(ncol=1, bbox_to_anchor=(1,0.50))"
   ]
  },
  {
   "cell_type": "markdown",
   "metadata": {},
   "source": [
    "Our method slightly overestimates the growth rate."
   ]
  },
  {
   "cell_type": "markdown",
   "metadata": {},
   "source": [
    "## Estimating between-household mixing from a growth rate\n",
    "\n",
    "Given a growth rate $r$, we can estimate the compound matrix\n",
    "$$\n",
    "\\underline{\\underline{\\alpha}}(\\underline{\\underline{Q}} - r\\underline{\\underline{In}})^{-1}\\underline{\\underline{F}}\\underline{\\underline{P}}.\n",
    "$$\n",
    "Because $\\underline{\\underline{F}}$, the \"force of infection\" matrix, is linear in the baseline between-household mixing rate, we can rewrite the matrix as\n",
    "$$\n",
    "\\beta_G\\underline{\\underline{\\alpha}}(\\underline{\\underline{Q}} - r\\underline{\\underline{In}})^{-1}\\underline{\\underline{\\tilde{F}}}\\underline{\\underline{P}}.\n",
    "$$\n",
    "where $\\beta_G$ is the between-household mixing rate. Hence, to estimate this rate, we calculate\n",
    "$$\n",
    "\\underline{\\underline{\\alpha}}(\\underline{\\underline{Q}} - r\\underline{\\underline{In}})^{-1}\\underline{\\underline{\\tilde{F}(1)}}\\underline{\\underline{P}}.\n",
    "$$\n",
    "where $\\underline{\\underline{\\tilde{F}}}(1)$ is the force of infection matrix calculated with $\\beta_G$ fixed at 1, calculate its leading eigenvalue $\\lambda$, and then set\n",
    "$$\n",
    "\\beta_G = 1/\\lambda.\n",
    "$$"
   ]
  },
  {
   "cell_type": "markdown",
   "metadata": {},
   "source": [
    "In the next block we define reformatted specs and input, suitable for fitting. The external matrix, `k_ext`, is scaled to have eigenvalue 1."
   ]
  },
  {
   "cell_type": "code",
   "execution_count": 27,
   "metadata": {},
   "outputs": [],
   "source": [
    "SEPIR_SPEC_FOR_FITTING = {\n",
    "    'compartmental_structure': 'SEPIR', # This is which subsystem key to use\n",
    "    'AR': 0.45,                     # Secondary attack probability\n",
    "    'recovery_rate': 1/4,           # Recovery rate\n",
    "    'incubation_rate': 1/5,         # E->P incubation rate\n",
    "    'symp_onset_rate': 1/3,         # P->I prodromal to symptomatic rate\n",
    "    'prodromal_trans_scaling':\n",
    "     array([0.5,0.5]),          # Prodromal transmission intensity relative to full inf transmission\n",
    "    'sus': array([1,1]),          # Relative susceptibility by age/vulnerability class\n",
    "    'density_expo' : 0.5, # \"Cauchemez parameter\"\n",
    "}\n",
    "\n",
    "class SEPIRInputForFitting(ModelInput):\n",
    "    def __init__(self, spec, composition_list, composition_distribution):\n",
    "        super().__init__(spec, composition_list, composition_distribution)\n",
    "\n",
    "        self.sus = spec['sus']\n",
    "        self.inf_scales = [spec['prodromal_trans_scaling'],\n",
    "                ones(shape(spec['prodromal_trans_scaling']))]\n",
    "\n",
    "        home_eig = max(eig(\n",
    "            self.sus * ((1/spec['recovery_rate']) *\n",
    "             (self.k_home) + \\\n",
    "            (1/spec['symp_onset_rate']) *\n",
    "            (self.k_home ) * spec['prodromal_trans_scaling'])\n",
    "            )[0])\n",
    "        ext_eig = max(eig(\n",
    "            self.sus * ((1/spec['recovery_rate']) *\n",
    "             (self.k_ext) + \\\n",
    "            (1/spec['symp_onset_rate']) *\n",
    "            (self.k_ext ) * spec['prodromal_trans_scaling'])\n",
    "            )[0])\n",
    "\n",
    "        R_int = - log(1 - spec['AR']) * self.dens_adj_ave_hh_size\n",
    "\n",
    "        self.k_home = R_int * self.k_home / home_eig\n",
    "        external_scale = 1/(self.ave_hh_size*spec['AR'])\n",
    "        self.k_ext = external_scale * self.k_ext / ext_eig\n",
    "\n",
    "\n",
    "\n",
    "    @property\n",
    "    def alpha_1(self):\n",
    "        return self.spec['incubation_rate']\n",
    "\n",
    "    @property\n",
    "    def alpha_2(self):\n",
    "        return self.spec['symp_onset_rate']\n",
    "\n",
    "    @property\n",
    "    def gamma(self):\n",
    "        return self.spec['recovery_rate']"
   ]
  },
  {
   "cell_type": "code",
   "execution_count": 28,
   "metadata": {},
   "outputs": [
    {
     "name": "stderr",
     "output_type": "stream",
     "text": [
      "Building within-household transmission matrix: 100%|███████████████████████████████████| 27/27 [00:01<00:00, 18.63it/s]\n"
     ]
    }
   ],
   "source": [
    "SPEC = {**SEPIR_SPEC_FOR_FITTING, **TWO_AGE_UK_SPEC}\n",
    "\n",
    "model_input_to_fit = SEPIRInputForFitting(SPEC, composition_list, comp_dist)\n",
    "\n",
    "household_population_to_fit = HouseholdPopulation(\n",
    "        composition_list, comp_dist, model_input_to_fit)\n",
    "\n",
    "rhs_to_fit = SEPIRRateEquations(model_input_to_fit, household_population_to_fit, NoImportModel(5,2))"
   ]
  },
  {
   "cell_type": "markdown",
   "metadata": {},
   "source": [
    "The following function estimates `beta_ext`, a scaling on `k_ext`, to match an inputted growth rate `r`."
   ]
  },
  {
   "cell_type": "code",
   "execution_count": 29,
   "metadata": {},
   "outputs": [],
   "source": [
    "def estimate_beta_ext(household_population,rhs,r):\n",
    "    \n",
    "    Q_int = rhs.Q_int\n",
    "    FOI_by_state = zeros((Q_int.shape[0],no_risk_classes))\n",
    "    for ic in range(rhs.no_inf_compartments):\n",
    "                states_inf_only =  rhs.inf_by_state_list[ic]\n",
    "                FOI_by_state += (rhs.ext_matrix_list[ic].dot(\n",
    "                        rhs.epsilon * states_inf_only.T)).T\n",
    "    index_states = where(\n",
    "    ((rhs.states_exp_only.sum(axis=1)==1) * \n",
    "    ((rhs.states_pro_only + rhs.states_inf_only + rhs.states_rec_only).sum(axis=1)==0)))[0]\n",
    "\n",
    "    no_index_states = len(index_states)\n",
    "    comp_by_index_state = household_population.which_composition[index_states]\n",
    "    \n",
    "    starter_mat = sparse((ones(no_index_states),(range(no_index_states), index_states)),shape=(no_index_states,Q_int.shape[0]))\n",
    "    \n",
    "    index_prob = zeros((no_risk_classes,no_index_states))\n",
    "    for i in range(no_index_states):\n",
    "        index_class = where(rhs.states_exp_only[index_states[i],:]==1)[0]\n",
    "        index_prob[index_class,i] = reverse_comp_dist[comp_by_index_state[i], index_class]\n",
    "        \n",
    "    multiplier = get_multiplier(r, Q_int, FOI_by_state, index_prob, starter_mat)\n",
    "    evalue = eig(multiplier.T)[0][0]\n",
    "    \n",
    "    beta_ext = 1/evalue\n",
    "    \n",
    "    return beta_ext"
   ]
  },
  {
   "cell_type": "markdown",
   "metadata": {},
   "source": [
    "We now estimate `beta_ext` based on the growth rate we estimated earlier, and then estimate a growth rate from this fitted `beta_ext`."
   ]
  },
  {
   "cell_type": "code",
   "execution_count": 30,
   "metadata": {
    "scrolled": true
   },
   "outputs": [
    {
     "name": "stderr",
     "output_type": "stream",
     "text": [
      "C:\\Users\\Joe Hilton\\Anaconda3\\lib\\site-packages\\scipy\\sparse\\linalg\\dsolve\\linsolve.py:296: SparseEfficiencyWarning: splu requires CSC matrix format\n",
      "  warn('splu requires CSC matrix format', SparseEfficiencyWarning)\n",
      "C:\\Users\\Joe Hilton\\Anaconda3\\lib\\site-packages\\scipy\\sparse\\linalg\\dsolve\\linsolve.py:203: SparseEfficiencyWarning: spsolve is more efficient when sparse b is in the CSC matrix format\n",
      "  'is in the CSC matrix format', SparseEfficiencyWarning)\n"
     ]
    }
   ],
   "source": [
    "beta_ext_guess = estimate_beta_ext(household_population_to_fit, rhs_to_fit, r_est)"
   ]
  },
  {
   "cell_type": "code",
   "execution_count": 31,
   "metadata": {},
   "outputs": [
    {
     "data": {
      "text/plain": [
       "(1.0943072247492904+0j)"
      ]
     },
     "execution_count": 31,
     "metadata": {},
     "output_type": "execute_result"
    }
   ],
   "source": [
    "beta_ext_guess"
   ]
  },
  {
   "cell_type": "code",
   "execution_count": 32,
   "metadata": {},
   "outputs": [
    {
     "name": "stderr",
     "output_type": "stream",
     "text": [
      "Building within-household transmission matrix: 100%|███████████████████████████████████| 27/27 [00:01<00:00, 18.23it/s]\n"
     ]
    }
   ],
   "source": [
    "fitted_model_input = deepcopy(model_input_to_fit)\n",
    "fitted_model_input.k_ext = beta_ext_guess.real * fitted_model_input.k_ext\n",
    "fitted_household_population = HouseholdPopulation(\n",
    "        composition_list, comp_dist, fitted_model_input)\n",
    "\n",
    "fitted_rhs = SEPIRRateEquations(fitted_model_input, fitted_household_population, NoImportModel(5,2))"
   ]
  },
  {
   "cell_type": "code",
   "execution_count": 33,
   "metadata": {
    "scrolled": false
   },
   "outputs": [
    {
     "name": "stderr",
     "output_type": "stream",
     "text": [
      "C:\\Users\\Joe Hilton\\Anaconda3\\lib\\site-packages\\scipy\\sparse\\linalg\\dsolve\\linsolve.py:296: SparseEfficiencyWarning: splu requires CSC matrix format\n",
      "  warn('splu requires CSC matrix format', SparseEfficiencyWarning)\n",
      "C:\\Users\\Joe Hilton\\Anaconda3\\lib\\site-packages\\scipy\\sparse\\linalg\\dsolve\\linsolve.py:203: SparseEfficiencyWarning: spsolve is more efficient when sparse b is in the CSC matrix format\n",
      "  'is in the CSC matrix format', SparseEfficiencyWarning)\n"
     ]
    },
    {
     "name": "stdout",
     "output_type": "stream",
     "text": [
      "eval at min= (1.5379490715601454+0j)\n",
      "eval at max= (0.5389470867288688+0j)\n"
     ]
    }
   ],
   "source": [
    "r_est_new = estimate_growth_rate(fitted_household_population,fitted_rhs)"
   ]
  },
  {
   "cell_type": "code",
   "execution_count": 34,
   "metadata": {},
   "outputs": [
    {
     "name": "stdout",
     "output_type": "stream",
     "text": [
      "old r estimate is 0.041640625 , new r estimate is 0.041640625 .\n"
     ]
    }
   ],
   "source": [
    "print('old r estimate is', r_est, ', new r estimate is', r_est_new,'.')"
   ]
  },
  {
   "cell_type": "markdown",
   "metadata": {},
   "source": [
    "We appear to be able to obtain the growth rate we fitted to. We now need to test the opposite method, calculating `beta_ext` based on a growth rate estimated from an inputted value of `beta_ext`."
   ]
  },
  {
   "cell_type": "code",
   "execution_count": 35,
   "metadata": {},
   "outputs": [],
   "source": [
    "def fit_beta_from_beta(SPEC, beta_ext):\n",
    "    fitted_model_input = SEPIRInputForFitting(SPEC, composition_list, comp_dist)\n",
    "    fitted_model_input.k_ext = beta_ext * fitted_model_input.k_ext\n",
    "    fitted_household_population = HouseholdPopulation(\n",
    "        composition_list, comp_dist, fitted_model_input)\n",
    "\n",
    "    fitted_rhs = SEPIRRateEquations(fitted_model_input, fitted_household_population, NoImportModel(5,2))\n",
    "    r_est = estimate_growth_rate(fitted_household_population,fitted_rhs,[0.001,5])\n",
    "    \n",
    "    model_input_to_fit = SEPIRInputForFitting(SPEC, composition_list, comp_dist)\n",
    "\n",
    "    household_population_to_fit = HouseholdPopulation(\n",
    "        composition_list, comp_dist, model_input_to_fit)\n",
    "\n",
    "    rhs_to_fit = SEPIRRateEquations(model_input_to_fit, household_population_to_fit, NoImportModel(5,2))\n",
    "    \n",
    "    beta_ext_guess = estimate_beta_ext(household_population_to_fit, rhs_to_fit, r_est)\n",
    "    \n",
    "    return beta_ext_guess"
   ]
  },
  {
   "cell_type": "code",
   "execution_count": 36,
   "metadata": {
    "scrolled": true
   },
   "outputs": [
    {
     "name": "stderr",
     "output_type": "stream",
     "text": [
      "Building within-household transmission matrix: 100%|███████████████████████████████████| 27/27 [00:01<00:00, 19.07it/s]\n",
      "C:\\Users\\Joe Hilton\\Anaconda3\\lib\\site-packages\\scipy\\sparse\\linalg\\dsolve\\linsolve.py:296: SparseEfficiencyWarning: splu requires CSC matrix format\n",
      "  warn('splu requires CSC matrix format', SparseEfficiencyWarning)\n",
      "C:\\Users\\Joe Hilton\\Anaconda3\\lib\\site-packages\\scipy\\sparse\\linalg\\dsolve\\linsolve.py:203: SparseEfficiencyWarning: spsolve is more efficient when sparse b is in the CSC matrix format\n",
      "  'is in the CSC matrix format', SparseEfficiencyWarning)\n"
     ]
    },
    {
     "name": "stdout",
     "output_type": "stream",
     "text": [
      "eval at min= (1.9401294124377566+0j)\n",
      "eval at max= (-1.0842021724855044e-19+0j)\n"
     ]
    },
    {
     "name": "stderr",
     "output_type": "stream",
     "text": [
      "Building within-household transmission matrix: 100%|███████████████████████████████████| 27/27 [00:01<00:00, 18.02it/s]\n",
      "C:\\Users\\Joe Hilton\\Anaconda3\\lib\\site-packages\\scipy\\sparse\\linalg\\dsolve\\linsolve.py:296: SparseEfficiencyWarning: splu requires CSC matrix format\n",
      "  warn('splu requires CSC matrix format', SparseEfficiencyWarning)\n",
      "C:\\Users\\Joe Hilton\\Anaconda3\\lib\\site-packages\\scipy\\sparse\\linalg\\dsolve\\linsolve.py:203: SparseEfficiencyWarning: spsolve is more efficient when sparse b is in the CSC matrix format\n",
      "  'is in the CSC matrix format', SparseEfficiencyWarning)\n"
     ]
    },
    {
     "name": "stdout",
     "output_type": "stream",
     "text": [
      "Estimated beta_ext is (1.1987775362012667+0j)\n"
     ]
    }
   ],
   "source": [
    "new_beta_ext = fit_beta_from_beta(SPEC, 1.2)\n",
    "print('Estimated beta_ext is',new_beta_ext)"
   ]
  },
  {
   "cell_type": "markdown",
   "metadata": {},
   "source": [
    "In the box below we randomly sample values of `beta_ext` and then try to re-obtain them from the estimated growth rate."
   ]
  },
  {
   "cell_type": "code",
   "execution_count": 37,
   "metadata": {},
   "outputs": [
    {
     "name": "stderr",
     "output_type": "stream",
     "text": [
      "Building within-household transmission matrix: 100%|███████████████████████████████████| 27/27 [00:01<00:00, 19.11it/s]\n",
      "C:\\Users\\Joe Hilton\\Anaconda3\\lib\\site-packages\\scipy\\sparse\\linalg\\dsolve\\linsolve.py:296: SparseEfficiencyWarning: splu requires CSC matrix format\n",
      "  warn('splu requires CSC matrix format', SparseEfficiencyWarning)\n",
      "C:\\Users\\Joe Hilton\\Anaconda3\\lib\\site-packages\\scipy\\sparse\\linalg\\dsolve\\linsolve.py:203: SparseEfficiencyWarning: spsolve is more efficient when sparse b is in the CSC matrix format\n",
      "  'is in the CSC matrix format', SparseEfficiencyWarning)\n"
     ]
    },
    {
     "name": "stdout",
     "output_type": "stream",
     "text": [
      "eval at min= (2.825000842190088+0j)\n",
      "eval at max= (0.001236905944790716+0j)\n"
     ]
    },
    {
     "name": "stderr",
     "output_type": "stream",
     "text": [
      "Building within-household transmission matrix: 100%|███████████████████████████████████| 27/27 [00:01<00:00, 18.47it/s]\n",
      "C:\\Users\\Joe Hilton\\Anaconda3\\lib\\site-packages\\scipy\\sparse\\linalg\\dsolve\\linsolve.py:296: SparseEfficiencyWarning: splu requires CSC matrix format\n",
      "  warn('splu requires CSC matrix format', SparseEfficiencyWarning)\n",
      "C:\\Users\\Joe Hilton\\Anaconda3\\lib\\site-packages\\scipy\\sparse\\linalg\\dsolve\\linsolve.py:203: SparseEfficiencyWarning: spsolve is more efficient when sparse b is in the CSC matrix format\n",
      "  'is in the CSC matrix format', SparseEfficiencyWarning)\n"
     ]
    },
    {
     "name": "stdout",
     "output_type": "stream",
     "text": [
      "0 of 10 calculations completed 145.5985016822815 seconds elapsed,estimated 1310.3865151405334 seconds remaining.\n"
     ]
    },
    {
     "name": "stderr",
     "output_type": "stream",
     "text": [
      "Building within-household transmission matrix: 100%|███████████████████████████████████| 27/27 [00:01<00:00, 18.63it/s]\n",
      "C:\\Users\\Joe Hilton\\Anaconda3\\lib\\site-packages\\scipy\\sparse\\linalg\\dsolve\\linsolve.py:296: SparseEfficiencyWarning: splu requires CSC matrix format\n",
      "  warn('splu requires CSC matrix format', SparseEfficiencyWarning)\n",
      "C:\\Users\\Joe Hilton\\Anaconda3\\lib\\site-packages\\scipy\\sparse\\linalg\\dsolve\\linsolve.py:203: SparseEfficiencyWarning: spsolve is more efficient when sparse b is in the CSC matrix format\n",
      "  'is in the CSC matrix format', SparseEfficiencyWarning)\n"
     ]
    },
    {
     "name": "stdout",
     "output_type": "stream",
     "text": [
      "eval at min= (2.4930384051905574+0j)\n",
      "eval at max= (0.0010915586211228028+0j)\n"
     ]
    },
    {
     "name": "stderr",
     "output_type": "stream",
     "text": [
      "Building within-household transmission matrix: 100%|███████████████████████████████████| 27/27 [00:01<00:00, 19.68it/s]\n",
      "C:\\Users\\Joe Hilton\\Anaconda3\\lib\\site-packages\\scipy\\sparse\\linalg\\dsolve\\linsolve.py:296: SparseEfficiencyWarning: splu requires CSC matrix format\n",
      "  warn('splu requires CSC matrix format', SparseEfficiencyWarning)\n",
      "C:\\Users\\Joe Hilton\\Anaconda3\\lib\\site-packages\\scipy\\sparse\\linalg\\dsolve\\linsolve.py:203: SparseEfficiencyWarning: spsolve is more efficient when sparse b is in the CSC matrix format\n",
      "  'is in the CSC matrix format', SparseEfficiencyWarning)\n"
     ]
    },
    {
     "name": "stdout",
     "output_type": "stream",
     "text": [
      "1 of 10 calculations completed 286.89754343032837 seconds elapsed,estimated 1147.5901737213135 seconds remaining.\n"
     ]
    },
    {
     "name": "stderr",
     "output_type": "stream",
     "text": [
      "Building within-household transmission matrix: 100%|███████████████████████████████████| 27/27 [00:01<00:00, 19.96it/s]\n",
      "C:\\Users\\Joe Hilton\\Anaconda3\\lib\\site-packages\\scipy\\sparse\\linalg\\dsolve\\linsolve.py:296: SparseEfficiencyWarning: splu requires CSC matrix format\n",
      "  warn('splu requires CSC matrix format', SparseEfficiencyWarning)\n",
      "C:\\Users\\Joe Hilton\\Anaconda3\\lib\\site-packages\\scipy\\sparse\\linalg\\dsolve\\linsolve.py:203: SparseEfficiencyWarning: spsolve is more efficient when sparse b is in the CSC matrix format\n",
      "  'is in the CSC matrix format', SparseEfficiencyWarning)\n"
     ]
    },
    {
     "name": "stdout",
     "output_type": "stream",
     "text": [
      "eval at min= (1.7330083588132934+0j)\n",
      "eval at max= (0.0007587850273794471+0j)\n"
     ]
    },
    {
     "name": "stderr",
     "output_type": "stream",
     "text": [
      "Building within-household transmission matrix: 100%|███████████████████████████████████| 27/27 [00:01<00:00, 19.59it/s]\n",
      "C:\\Users\\Joe Hilton\\Anaconda3\\lib\\site-packages\\scipy\\sparse\\linalg\\dsolve\\linsolve.py:296: SparseEfficiencyWarning: splu requires CSC matrix format\n",
      "  warn('splu requires CSC matrix format', SparseEfficiencyWarning)\n",
      "C:\\Users\\Joe Hilton\\Anaconda3\\lib\\site-packages\\scipy\\sparse\\linalg\\dsolve\\linsolve.py:203: SparseEfficiencyWarning: spsolve is more efficient when sparse b is in the CSC matrix format\n",
      "  'is in the CSC matrix format', SparseEfficiencyWarning)\n"
     ]
    },
    {
     "name": "stdout",
     "output_type": "stream",
     "text": [
      "2 of 10 calculations completed 429.72704100608826 seconds elapsed,estimated 1002.6964290142059 seconds remaining.\n"
     ]
    },
    {
     "name": "stderr",
     "output_type": "stream",
     "text": [
      "Building within-household transmission matrix: 100%|███████████████████████████████████| 27/27 [00:01<00:00, 19.68it/s]\n",
      "C:\\Users\\Joe Hilton\\Anaconda3\\lib\\site-packages\\scipy\\sparse\\linalg\\dsolve\\linsolve.py:296: SparseEfficiencyWarning: splu requires CSC matrix format\n",
      "  warn('splu requires CSC matrix format', SparseEfficiencyWarning)\n",
      "C:\\Users\\Joe Hilton\\Anaconda3\\lib\\site-packages\\scipy\\sparse\\linalg\\dsolve\\linsolve.py:203: SparseEfficiencyWarning: spsolve is more efficient when sparse b is in the CSC matrix format\n",
      "  'is in the CSC matrix format', SparseEfficiencyWarning)\n"
     ]
    },
    {
     "name": "stdout",
     "output_type": "stream",
     "text": [
      "eval at min= (2.1052072053634077+0j)\n",
      "eval at max= (0.0009217495685104075+0j)\n"
     ]
    },
    {
     "name": "stderr",
     "output_type": "stream",
     "text": [
      "Building within-household transmission matrix: 100%|███████████████████████████████████| 27/27 [00:01<00:00, 19.70it/s]\n",
      "C:\\Users\\Joe Hilton\\Anaconda3\\lib\\site-packages\\scipy\\sparse\\linalg\\dsolve\\linsolve.py:296: SparseEfficiencyWarning: splu requires CSC matrix format\n",
      "  warn('splu requires CSC matrix format', SparseEfficiencyWarning)\n",
      "C:\\Users\\Joe Hilton\\Anaconda3\\lib\\site-packages\\scipy\\sparse\\linalg\\dsolve\\linsolve.py:203: SparseEfficiencyWarning: spsolve is more efficient when sparse b is in the CSC matrix format\n",
      "  'is in the CSC matrix format', SparseEfficiencyWarning)\n"
     ]
    },
    {
     "name": "stdout",
     "output_type": "stream",
     "text": [
      "3 of 10 calculations completed 569.0743663311005 seconds elapsed,estimated 853.6115494966507 seconds remaining.\n"
     ]
    },
    {
     "name": "stderr",
     "output_type": "stream",
     "text": [
      "Building within-household transmission matrix: 100%|███████████████████████████████████| 27/27 [00:01<00:00, 19.72it/s]\n",
      "C:\\Users\\Joe Hilton\\Anaconda3\\lib\\site-packages\\scipy\\sparse\\linalg\\dsolve\\linsolve.py:296: SparseEfficiencyWarning: splu requires CSC matrix format\n",
      "  warn('splu requires CSC matrix format', SparseEfficiencyWarning)\n",
      "C:\\Users\\Joe Hilton\\Anaconda3\\lib\\site-packages\\scipy\\sparse\\linalg\\dsolve\\linsolve.py:203: SparseEfficiencyWarning: spsolve is more efficient when sparse b is in the CSC matrix format\n",
      "  'is in the CSC matrix format', SparseEfficiencyWarning)\n"
     ]
    },
    {
     "name": "stdout",
     "output_type": "stream",
     "text": [
      "eval at min= (2.046517370488983+0j)\n",
      "eval at max= (1.0842021724855044e-19+0j)\n"
     ]
    },
    {
     "name": "stderr",
     "output_type": "stream",
     "text": [
      "Building within-household transmission matrix: 100%|███████████████████████████████████| 27/27 [00:01<00:00, 19.69it/s]\n",
      "C:\\Users\\Joe Hilton\\Anaconda3\\lib\\site-packages\\scipy\\sparse\\linalg\\dsolve\\linsolve.py:296: SparseEfficiencyWarning: splu requires CSC matrix format\n",
      "  warn('splu requires CSC matrix format', SparseEfficiencyWarning)\n",
      "C:\\Users\\Joe Hilton\\Anaconda3\\lib\\site-packages\\scipy\\sparse\\linalg\\dsolve\\linsolve.py:203: SparseEfficiencyWarning: spsolve is more efficient when sparse b is in the CSC matrix format\n",
      "  'is in the CSC matrix format', SparseEfficiencyWarning)\n"
     ]
    },
    {
     "name": "stdout",
     "output_type": "stream",
     "text": [
      "4 of 10 calculations completed 709.1946001052856 seconds elapsed,estimated 709.1946001052856 seconds remaining.\n"
     ]
    },
    {
     "name": "stderr",
     "output_type": "stream",
     "text": [
      "Building within-household transmission matrix: 100%|███████████████████████████████████| 27/27 [00:01<00:00, 19.73it/s]\n",
      "C:\\Users\\Joe Hilton\\Anaconda3\\lib\\site-packages\\scipy\\sparse\\linalg\\dsolve\\linsolve.py:296: SparseEfficiencyWarning: splu requires CSC matrix format\n",
      "  warn('splu requires CSC matrix format', SparseEfficiencyWarning)\n",
      "C:\\Users\\Joe Hilton\\Anaconda3\\lib\\site-packages\\scipy\\sparse\\linalg\\dsolve\\linsolve.py:203: SparseEfficiencyWarning: spsolve is more efficient when sparse b is in the CSC matrix format\n",
      "  'is in the CSC matrix format', SparseEfficiencyWarning)\n"
     ]
    },
    {
     "name": "stdout",
     "output_type": "stream",
     "text": [
      "eval at min= (2.848783311374577+0j)\n",
      "eval at max= (0.0012473189248779334+0j)\n"
     ]
    },
    {
     "name": "stderr",
     "output_type": "stream",
     "text": [
      "Building within-household transmission matrix: 100%|███████████████████████████████████| 27/27 [00:01<00:00, 19.66it/s]\n",
      "C:\\Users\\Joe Hilton\\Anaconda3\\lib\\site-packages\\scipy\\sparse\\linalg\\dsolve\\linsolve.py:296: SparseEfficiencyWarning: splu requires CSC matrix format\n",
      "  warn('splu requires CSC matrix format', SparseEfficiencyWarning)\n",
      "C:\\Users\\Joe Hilton\\Anaconda3\\lib\\site-packages\\scipy\\sparse\\linalg\\dsolve\\linsolve.py:203: SparseEfficiencyWarning: spsolve is more efficient when sparse b is in the CSC matrix format\n",
      "  'is in the CSC matrix format', SparseEfficiencyWarning)\n"
     ]
    },
    {
     "name": "stdout",
     "output_type": "stream",
     "text": [
      "5 of 10 calculations completed 847.1662030220032 seconds elapsed,estimated 564.7774686813354 seconds remaining.\n"
     ]
    },
    {
     "name": "stderr",
     "output_type": "stream",
     "text": [
      "Building within-household transmission matrix: 100%|███████████████████████████████████| 27/27 [00:01<00:00, 19.61it/s]\n",
      "C:\\Users\\Joe Hilton\\Anaconda3\\lib\\site-packages\\scipy\\sparse\\linalg\\dsolve\\linsolve.py:296: SparseEfficiencyWarning: splu requires CSC matrix format\n",
      "  warn('splu requires CSC matrix format', SparseEfficiencyWarning)\n",
      "C:\\Users\\Joe Hilton\\Anaconda3\\lib\\site-packages\\scipy\\sparse\\linalg\\dsolve\\linsolve.py:203: SparseEfficiencyWarning: spsolve is more efficient when sparse b is in the CSC matrix format\n",
      "  'is in the CSC matrix format', SparseEfficiencyWarning)\n"
     ]
    },
    {
     "name": "stdout",
     "output_type": "stream",
     "text": [
      "eval at min= (2.2836332807438713+0j)\n",
      "eval at max= (0.0009998721198554456+0j)\n"
     ]
    },
    {
     "name": "stderr",
     "output_type": "stream",
     "text": [
      "Building within-household transmission matrix: 100%|███████████████████████████████████| 27/27 [00:01<00:00, 20.06it/s]\n",
      "C:\\Users\\Joe Hilton\\Anaconda3\\lib\\site-packages\\scipy\\sparse\\linalg\\dsolve\\linsolve.py:296: SparseEfficiencyWarning: splu requires CSC matrix format\n",
      "  warn('splu requires CSC matrix format', SparseEfficiencyWarning)\n",
      "C:\\Users\\Joe Hilton\\Anaconda3\\lib\\site-packages\\scipy\\sparse\\linalg\\dsolve\\linsolve.py:203: SparseEfficiencyWarning: spsolve is more efficient when sparse b is in the CSC matrix format\n",
      "  'is in the CSC matrix format', SparseEfficiencyWarning)\n"
     ]
    },
    {
     "name": "stdout",
     "output_type": "stream",
     "text": [
      "6 of 10 calculations completed 985.8550429344177 seconds elapsed,estimated 422.5093041147505 seconds remaining.\n"
     ]
    },
    {
     "name": "stderr",
     "output_type": "stream",
     "text": [
      "Building within-household transmission matrix: 100%|███████████████████████████████████| 27/27 [00:01<00:00, 19.65it/s]\n",
      "C:\\Users\\Joe Hilton\\Anaconda3\\lib\\site-packages\\scipy\\sparse\\linalg\\dsolve\\linsolve.py:296: SparseEfficiencyWarning: splu requires CSC matrix format\n",
      "  warn('splu requires CSC matrix format', SparseEfficiencyWarning)\n",
      "C:\\Users\\Joe Hilton\\Anaconda3\\lib\\site-packages\\scipy\\sparse\\linalg\\dsolve\\linsolve.py:203: SparseEfficiencyWarning: spsolve is more efficient when sparse b is in the CSC matrix format\n",
      "  'is in the CSC matrix format', SparseEfficiencyWarning)\n"
     ]
    },
    {
     "name": "stdout",
     "output_type": "stream",
     "text": [
      "eval at min= (1.8251058809008347+0j)\n",
      "eval at max= 0j\n"
     ]
    },
    {
     "name": "stderr",
     "output_type": "stream",
     "text": [
      "Building within-household transmission matrix: 100%|███████████████████████████████████| 27/27 [00:01<00:00, 20.04it/s]\n",
      "C:\\Users\\Joe Hilton\\Anaconda3\\lib\\site-packages\\scipy\\sparse\\linalg\\dsolve\\linsolve.py:296: SparseEfficiencyWarning: splu requires CSC matrix format\n",
      "  warn('splu requires CSC matrix format', SparseEfficiencyWarning)\n",
      "C:\\Users\\Joe Hilton\\Anaconda3\\lib\\site-packages\\scipy\\sparse\\linalg\\dsolve\\linsolve.py:203: SparseEfficiencyWarning: spsolve is more efficient when sparse b is in the CSC matrix format\n",
      "  'is in the CSC matrix format', SparseEfficiencyWarning)\n"
     ]
    },
    {
     "name": "stdout",
     "output_type": "stream",
     "text": [
      "7 of 10 calculations completed 1127.587333202362 seconds elapsed,estimated 281.8968333005905 seconds remaining.\n"
     ]
    },
    {
     "name": "stderr",
     "output_type": "stream",
     "text": [
      "Building within-household transmission matrix: 100%|███████████████████████████████████| 27/27 [00:01<00:00, 19.08it/s]\n",
      "C:\\Users\\Joe Hilton\\Anaconda3\\lib\\site-packages\\scipy\\sparse\\linalg\\dsolve\\linsolve.py:296: SparseEfficiencyWarning: splu requires CSC matrix format\n",
      "  warn('splu requires CSC matrix format', SparseEfficiencyWarning)\n",
      "C:\\Users\\Joe Hilton\\Anaconda3\\lib\\site-packages\\scipy\\sparse\\linalg\\dsolve\\linsolve.py:203: SparseEfficiencyWarning: spsolve is more efficient when sparse b is in the CSC matrix format\n",
      "  'is in the CSC matrix format', SparseEfficiencyWarning)\n"
     ]
    },
    {
     "name": "stdout",
     "output_type": "stream",
     "text": [
      "eval at min= (1.6725934055101779+0j)\n",
      "eval at max= (0.0007323327822052661+0j)\n"
     ]
    },
    {
     "name": "stderr",
     "output_type": "stream",
     "text": [
      "Building within-household transmission matrix: 100%|███████████████████████████████████| 27/27 [00:01<00:00, 19.76it/s]\n",
      "C:\\Users\\Joe Hilton\\Anaconda3\\lib\\site-packages\\scipy\\sparse\\linalg\\dsolve\\linsolve.py:296: SparseEfficiencyWarning: splu requires CSC matrix format\n",
      "  warn('splu requires CSC matrix format', SparseEfficiencyWarning)\n",
      "C:\\Users\\Joe Hilton\\Anaconda3\\lib\\site-packages\\scipy\\sparse\\linalg\\dsolve\\linsolve.py:203: SparseEfficiencyWarning: spsolve is more efficient when sparse b is in the CSC matrix format\n",
      "  'is in the CSC matrix format', SparseEfficiencyWarning)\n"
     ]
    },
    {
     "name": "stdout",
     "output_type": "stream",
     "text": [
      "8 of 10 calculations completed 1270.6778891086578 seconds elapsed,estimated 141.1864321231842 seconds remaining.\n"
     ]
    },
    {
     "name": "stderr",
     "output_type": "stream",
     "text": [
      "Building within-household transmission matrix: 100%|███████████████████████████████████| 27/27 [00:01<00:00, 19.48it/s]\n",
      "C:\\Users\\Joe Hilton\\Anaconda3\\lib\\site-packages\\scipy\\sparse\\linalg\\dsolve\\linsolve.py:296: SparseEfficiencyWarning: splu requires CSC matrix format\n",
      "  warn('splu requires CSC matrix format', SparseEfficiencyWarning)\n",
      "C:\\Users\\Joe Hilton\\Anaconda3\\lib\\site-packages\\scipy\\sparse\\linalg\\dsolve\\linsolve.py:203: SparseEfficiencyWarning: spsolve is more efficient when sparse b is in the CSC matrix format\n",
      "  'is in the CSC matrix format', SparseEfficiencyWarning)\n"
     ]
    },
    {
     "name": "stdout",
     "output_type": "stream",
     "text": [
      "eval at min= (2.090203915277627+0j)\n",
      "eval at max= (0.0009151804877436439+0j)\n"
     ]
    },
    {
     "name": "stderr",
     "output_type": "stream",
     "text": [
      "Building within-household transmission matrix: 100%|███████████████████████████████████| 27/27 [00:01<00:00, 19.20it/s]\n",
      "C:\\Users\\Joe Hilton\\Anaconda3\\lib\\site-packages\\scipy\\sparse\\linalg\\dsolve\\linsolve.py:296: SparseEfficiencyWarning: splu requires CSC matrix format\n",
      "  warn('splu requires CSC matrix format', SparseEfficiencyWarning)\n",
      "C:\\Users\\Joe Hilton\\Anaconda3\\lib\\site-packages\\scipy\\sparse\\linalg\\dsolve\\linsolve.py:203: SparseEfficiencyWarning: spsolve is more efficient when sparse b is in the CSC matrix format\n",
      "  'is in the CSC matrix format', SparseEfficiencyWarning)\n"
     ]
    },
    {
     "name": "stdout",
     "output_type": "stream",
     "text": [
      "9 of 10 calculations completed 1410.394471168518 seconds elapsed,estimated 0.0 seconds remaining.\n"
     ]
    }
   ],
   "source": [
    "beta_in = []\n",
    "beta_out = []\n",
    "\n",
    "no_samples = 10\n",
    "\n",
    "start_time = get_time()\n",
    "for i in range(no_samples):\n",
    "    beta_rand =  0.9 + rand(1,)\n",
    "    beta_fit = fit_beta_from_beta(SPEC, beta_rand)\n",
    "    beta_in.append(beta_rand)\n",
    "    beta_out.append(beta_fit)\n",
    "    time_now = get_time()\n",
    "    print(i,\n",
    "          'of',\n",
    "          no_samples,\n",
    "          'calculations completed',\n",
    "          time_now-start_time,\n",
    "          'seconds elapsed,estimated',\n",
    "         (no_samples-(i+1))*(time_now-start_time)/(i+1),\n",
    "         'seconds remaining.')"
   ]
  },
  {
   "cell_type": "code",
   "execution_count": 38,
   "metadata": {},
   "outputs": [
    {
     "name": "stderr",
     "output_type": "stream",
     "text": [
      "C:\\Users\\Joe Hilton\\Anaconda3\\lib\\site-packages\\numpy\\core\\numeric.py:538: ComplexWarning: Casting complex values to real discards the imaginary part\n",
      "  return array(a, dtype, copy=False, order=order)\n"
     ]
    },
    {
     "data": {
      "text/plain": [
       "Text(0, 0.5, 'Fitted mixing rate')"
      ]
     },
     "execution_count": 38,
     "metadata": {},
     "output_type": "execute_result"
    },
    {
     "data": {
      "image/png": "[encoded data removed]",
      "text/plain": [
       "<Figure size 432x288 with 1 Axes>"
      ]
     },
     "metadata": {
      "needs_background": "light"
     },
     "output_type": "display_data"
    }
   ],
   "source": [
    "fig, ax = subplots(1)\n",
    "\n",
    "ax.plot(beta_in, beta_out, '.')\n",
    "ax.plot([min(beta_in), max(beta_in)],[min(beta_in), max(beta_in)])\n",
    "ax.set_xlabel('Input mixing rate')\n",
    "ax.set_ylabel('Fitted mixing rate')"
   ]
  },
  {
   "cell_type": "code",
   "execution_count": 39,
   "metadata": {},
   "outputs": [
    {
     "name": "stdout",
     "output_type": "stream",
     "text": [
      "Mean relative error is 0.004806117873926907\n",
      "Mean absolute error is 0.0034679924547820775\n",
      "RMSE is 0.005406981413235188\n"
     ]
    }
   ],
   "source": [
    "beta_abs_err = abs(array(beta_in).T - array(beta_out).real)\n",
    "beta_rel_err = abs(array(beta_in).T - array(beta_out).real)/array(beta_in).T\n",
    "print('Mean relative error is',beta_abs_err.mean())\n",
    "print('Mean absolute error is',beta_rel_err.mean())\n",
    "print('RMSE is',sqrt(((array(beta_in).T - array(beta_out).real) ** 2).mean()))"
   ]
  },
  {
   "cell_type": "code",
   "execution_count": null,
   "metadata": {},
   "outputs": [],
   "source": []
  }
 ],
 "metadata": {
  "kernelspec": {
   "display_name": "Python 3",
   "language": "python",
   "name": "python3"
  },
  "language_info": {
   "codemirror_mode": {
    "name": "ipython",
    "version": 3
   },
   "file_extension": ".py",
   "mimetype": "text/x-python",
   "name": "python",
   "nbconvert_exporter": "python",
   "pygments_lexer": "ipython3",
   "version": "3.7.4"
  }
 },
 "nbformat": 4,
 "nbformat_minor": 2
}
