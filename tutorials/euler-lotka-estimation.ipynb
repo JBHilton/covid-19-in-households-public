{
 "cells": [
  {
   "cell_type": "markdown",
   "metadata": {},
   "source": [
    "# Estimating growth rate in the households model\n",
    "\n",
    "In this notebook, we start by running the UK SEPIR households example and estimating the growth rate directly. We then look at ways we can estimate it without directly solving the equations."
   ]
  },
  {
   "cell_type": "code",
   "execution_count": 1,
   "metadata": {},
   "outputs": [],
   "source": [
    "from copy import deepcopy\n",
    "from matplotlib.pyplot import subplots\n",
    "from matplotlib.cm import get_cmap\n",
    "from numpy import arange, argmin, array, diag,  log, ones, where, zeros\n",
    "from numpy.linalg import eig\n",
    "from os.path import isfile\n",
    "from pandas import read_csv\n",
    "from pickle import load, dump\n",
    "from scipy.integrate import solve_ivp\n",
    "from scipy.sparse import eye, identity\n",
    "from scipy.sparse import csc_matrix as sparse\n",
    "from scipy.sparse.linalg import inv\n",
    "from time import time as get_time\n",
    "from model.preprocessing import (\n",
    "        SEPIRInput, HouseholdPopulation, make_initial_condition)\n",
    "from model.specs import TWO_AGE_SEPIR_SPEC, TWO_AGE_UK_SPEC\n",
    "from model.common import SEPIRRateEquations\n",
    "from model.imports import NoImportModel"
   ]
  },
  {
   "cell_type": "code",
   "execution_count": 2,
   "metadata": {},
   "outputs": [],
   "source": [
    "from os import chdir, getcwd\n",
    "current_dir = getcwd()\n",
    "if current_dir[-9:] == 'tutorials':\n",
    "    chdir('..')"
   ]
  },
  {
   "cell_type": "markdown",
   "metadata": {},
   "source": [
    "The following block implements and solves the SEPIR model based on UK population parameters:"
   ]
  },
  {
   "cell_type": "code",
   "execution_count": 3,
   "metadata": {},
   "outputs": [
    {
     "name": "stderr",
     "output_type": "stream",
     "text": [
      "Building within-household transmission matrix: 100%|████████████████████████████████████████████████████████████████████████████████████████████████████████████████████████████████████████████████████████| 27/27 [00:01<00:00, 19.37it/s]\n"
     ]
    }
   ],
   "source": [
    "SPEC = {**TWO_AGE_SEPIR_SPEC, **TWO_AGE_UK_SPEC}\n",
    "\n",
    "# List of observed household compositions\n",
    "composition_list = read_csv(\n",
    "    'inputs/eng_and_wales_adult_child_composition_list.csv',\n",
    "    header=0).to_numpy()\n",
    "# Proportion of households which are in each composition\n",
    "comp_dist = read_csv(\n",
    "    'inputs/eng_and_wales_adult_child_composition_dist.csv',\n",
    "    header=0).to_numpy().squeeze()\n",
    "\n",
    "model_input = SEPIRInput(SPEC, composition_list, comp_dist)\n",
    "\n",
    "household_population = HouseholdPopulation(\n",
    "        composition_list, comp_dist, model_input)\n",
    "\n",
    "rhs = SEPIRRateEquations(model_input, household_population, NoImportModel(5,2))\n",
    "\n",
    "H0 = make_initial_condition(household_population, rhs)\n",
    "\n",
    "tspan = (0.0, 365)\n",
    "solution = solve_ivp(rhs, tspan, H0, first_step=0.001, atol=1e-16)\n",
    "\n",
    "time = solution.t\n",
    "H = solution.y\n",
    "S = H.T.dot(household_population.states[:, ::5])\n",
    "E = H.T.dot(household_population.states[:, 1::5])\n",
    "P = H.T.dot(household_population.states[:, 2::5])\n",
    "I = H.T.dot(household_population.states[:, 3::5])\n",
    "R = H.T.dot(household_population.states[:, 4::5])\n",
    "time_series = {\n",
    "'time':time,\n",
    "'S':S,\n",
    "'E':E,\n",
    "'P':P,\n",
    "'I':I,\n",
    "'R':R\n",
    "}\n"
   ]
  },
  {
   "cell_type": "markdown",
   "metadata": {},
   "source": [
    "In the next block, we plot the log of the mean \"active\" infections ($E+P+I$) over time, and the log of the total proportion of households containing an infection $H(\\underline{X}:(E+P+I)(\\underline{X})>0)$. Comparing the linear segment of these plots, we can see that during the exponential growth phase of the epidemic, the household growth rate is the same as the individual-level growth rate, exactly as predicted by theory."
   ]
  },
  {
   "cell_type": "code",
   "execution_count": 4,
   "metadata": {
    "scrolled": true
   },
   "outputs": [
    {
     "data": {
      "text/plain": [
       "<matplotlib.legend.Legend at 0x19ce2c82f08>"
      ]
     },
     "execution_count": 4,
     "metadata": {},
     "output_type": "execute_result"
    },
    {
     "data": {
      "image/png": "[encoded data removed]",
      "text/plain": [
       "<Figure size 432x288 with 1 Axes>"
      ]
     },
     "metadata": {
      "needs_background": "light"
     },
     "output_type": "display_data"
    }
   ],
   "source": [
    "data_list = [time_series['S']/model_input.ave_hh_by_class,\n",
    "    time_series['E']/model_input.ave_hh_by_class,\n",
    "    time_series['P']/model_input.ave_hh_by_class,\n",
    "    time_series['I']/model_input.ave_hh_by_class,\n",
    "    time_series['R']/model_input.ave_hh_by_class]\n",
    "\n",
    "log_infs = log((data_list[1]+data_list[2]+data_list[3]).sum(axis=1))\n",
    "inf_states = where((rhs.states_exp_only + rhs.states_pro_only + rhs.states_inf_only).sum(axis=1)>0)[0]\n",
    "\n",
    "fig, ax = subplots(1)\n",
    "\n",
    "ax.plot(time, log_infs,label='Infected individuals')\n",
    "ax.plot(time, log((H[inf_states]).sum(axis=0)),label='Infected households')\n",
    "ax.set_xlabel('Time in days')\n",
    "ax.set_ylabel('log value')\n",
    "ax.legend(ncol=1, bbox_to_anchor=(1,0.50))"
   ]
  },
  {
   "cell_type": "markdown",
   "metadata": {},
   "source": [
    "By inspection of the plots, we can see that around day 50 the epidemic is definitely in its exponential growth phase. In the next box we work out which increment of the solver is closest to day 50, then directly calculate the gradient of the log growth curve at this time step, giving us an estimate of the exponential growth rate."
   ]
  },
  {
   "cell_type": "code",
   "execution_count": 5,
   "metadata": {
    "scrolled": false
   },
   "outputs": [
    {
     "name": "stdout",
     "output_type": "stream",
     "text": [
      "Closest time to 50 days is at increment 49 , t[ 49 ]= 49.74861010465704 .\n",
      "Direct estimate of log gradient at increment 49 from population estimates is 0.0383904111955741 .\n",
      "Direct estimate of log gradient at increment 49 from hh estimates is 0.0386602586100241 .\n"
     ]
    }
   ],
   "source": [
    "t_50 = argmin(abs(time - 50))\n",
    "print('Closest time to 50 days is at increment',t_50,', t[',t_50,']=',time[t_50],'.')\n",
    "r_guess = (log_infs[t_50+1]-log_infs[t_50])/(time[t_50+1]-time[t_50])\n",
    "print('Direct estimate of log gradient at increment',t_50,'from population estimates is',r_guess,'.')\n",
    "r_guess_hh = (log((H[inf_states,t_50+1]).sum(axis=0))-log((H[inf_states,t_50]).sum(axis=0)))/(time[t_50+1]-time[t_50])\n",
    "print('Direct estimate of log gradient at increment',t_50,'from hh estimates is',r_guess_hh,'.')"
   ]
  },
  {
   "cell_type": "markdown",
   "metadata": {},
   "source": [
    "## Growth rate calculations\n",
    "\n",
    "We will use an Euler-Lotka approach to do growth rate calculations. Suppose we are in the exponential growth phase of our dynamics. Let $\\underline{I}$ be the profile of households typed by composition and risk class of index case, i.e. if infectious households of type $i$ have composition $\\underline{N}(i)$ and an index case in risk class $C(i)$, then $I_i$ is the proportion of infected households in this growth phase which are in composition $\\underline{N}(i)$ and had their local outbreak seeded by a case in risk class $C(i)$. In the exponential growth phase, this grows according to\n",
    "$$\n",
    "\\frac{\\mathrm{d}\\underline{I}}{\\mathrm{d}t} = e^{rt}\\underline{I}_*,\n",
    "$$\n",
    "where $\\underline{I}_*$ is the profile of infectious households by composition and index case class at time $t=0$. If $\\underline{\\underline{\\lambda}}(a)$ is the matrix with $(i,j)$th entry giving the rate at which a household of composition-seed type $i$ generates those of composition-seed type $j$ at time $a$ since its original import, then we get the following Euler-Lotka equation\n",
    "$$\n",
    "\\underline{I}_* = \\int\\limits_0^{\\infty}\\underline{I}_* e^{-r\\underline{\\underline{In}}t}\\underline{\\underline{\\lambda}}\\mathrm{d}t.\n",
    "$$\n",
    "Assuming we do not see repeat introductions of infection into a single household, we can decompose $\\underline{\\underline{\\lambda}}$ as follows:\n",
    "$$\n",
    "\\underline{\\underline{\\lambda}} = \\underline{\\underline{\\alpha}}e^{\\underline{\\underline{Q}}_{\\mathrm{int}}t}\\underline{\\underline{F}}\\underline{\\underline{P}}.\n",
    "$$\n",
    "Here $\\underline{\\underline{\\alpha}}$ is the matrix mapping composition and import class of household to an initial condition in the households model, $\\underline{\\underline{F}}$ is infection rate to each class from each composition, and $\\underline{\\underline{P}}$ is probability that the infection kicked out to a given class ends up in a given type of household. The term $e^{\\underline{\\underline{Q}}_{\\mathrm{int}}t}$ gives the evolution of the within-household system, derived from the fact that we are assuming that after an import there is no other interaction with external households, so the evolution is linear. The Euler-Lotka equation is then\n",
    "$$\n",
    "\\underline{I}_* = \\int\\limits_0^{\\infty}\\underline{I}_* \\underline{\\underline{\\alpha}} e^{(underline{\\underline{Q}}_{\\mathrm{int}}-r\\underline{\\underline{In}})t}\\underline{\\underline{F}}\\underline{\\underline{P}}\\mathrm{d}t,\n",
    "$$\n",
    "and integrating we get\n",
    "$$\n",
    "\\underline{I}_* = \\underline{I}_* \\underline{\\underline{\\alpha}} (r\\underline{\\underline{In}}-underline{\\underline{Q}}_{\\mathrm{int}})\\underline{\\underline{F}}\\underline{\\underline{P}}.\n",
    "$$\n",
    "This is an eigenvector formula with eigenvalue 1, so to find the growth rate, we need to find $r$ such that the transpose of\n",
    "$$\n",
    "\\underline{\\underline{\\alpha}} (r\\underline{\\underline{In}}-underline{\\underline{Q}}_{\\mathrm{int}})\\underline{\\underline{F}}\\underline{\\underline{P}}\n",
    "$$\n",
    "has leading(?) eigenvalue 1 (cf Pellis, Ferguson and Fraser on households-workplaces models). Because $\\underline{\\underline{F}}$ scales linearly with the baseline between-household transmission, so estimate between-household transmission we just need to put in a guess, calculate the leading eigenvalue of the compound matrix, then scale the guess by the reciprocal of this eigenvalue to give us a between-household transmission rate which gives us the oberved growth rate. Alternatively, to calculate $r$ based on some parameters, we can just do something like interval bisection in 1D.\n",
    "\n",
    "In the boxes below, we calculate all the components of this matrix for our UK SEPIR model example.\n",
    "\n",
    "The following block creates a matrix `reverse_comp_dist` containing the probability that an individual in a given age class is in a household of a given composition - this is a component of our $\\underline{\\underline{P}}$ matrix."
   ]
  },
  {
   "cell_type": "code",
   "execution_count": 6,
   "metadata": {},
   "outputs": [],
   "source": [
    "no_risk_classes = composition_list.shape[1]\n",
    "\n",
    "reverse_comp_dist = diag(comp_dist).dot(composition_list)\n",
    "reverse_comp_dist = reverse_comp_dist.dot(diag(1/reverse_comp_dist.sum(0)))"
   ]
  },
  {
   "cell_type": "markdown",
   "metadata": {},
   "source": [
    "In the following block, `Q_int` is internal evolution matrix, `FOI_by_state` gives expected infection kicked out by a household in a given state (the $\\underline{\\underline{F}}$ matrix)."
   ]
  },
  {
   "cell_type": "code",
   "execution_count": 7,
   "metadata": {},
   "outputs": [],
   "source": [
    "Q_int = rhs.Q_int\n",
    "\n",
    "FOI_by_state = zeros((Q_int.shape[0],no_risk_classes))\n",
    "\n",
    "for ic in range(rhs.no_inf_compartments):\n",
    "            states_inf_only =  rhs.inf_by_state_list[ic]\n",
    "            FOI_by_state += (rhs.ext_matrix_list[ic].dot(\n",
    "                    rhs.epsilon * states_inf_only.T)).T"
   ]
  },
  {
   "cell_type": "code",
   "execution_count": 8,
   "metadata": {
    "scrolled": true
   },
   "outputs": [],
   "source": [
    "index_states = where(\n",
    "    ((rhs.states_exp_only.sum(axis=1)==1) * \n",
    "    ((rhs.states_pro_only + rhs.states_inf_only + rhs.states_rec_only).sum(axis=1)==0)))[0]\n",
    "\n",
    "no_index_states = len(index_states)\n",
    "comp_by_index_state = household_population.which_composition[index_states]"
   ]
  },
  {
   "cell_type": "markdown",
   "metadata": {},
   "source": [
    "The next box creates $\\underline{\\underline{\\alpha}}$"
   ]
  },
  {
   "cell_type": "code",
   "execution_count": 9,
   "metadata": {},
   "outputs": [],
   "source": [
    "starter_mat = sparse((ones(no_index_states),(range(no_index_states), index_states)),shape=(no_index_states,Q_int.shape[0]))"
   ]
  },
  {
   "cell_type": "markdown",
   "metadata": {},
   "source": [
    "Next matrix is \"probability that an index case in class c results in outbreak in index state i\", i.e. $\\underline{\\underline{P}}$:"
   ]
  },
  {
   "cell_type": "code",
   "execution_count": 10,
   "metadata": {},
   "outputs": [],
   "source": [
    "index_prob = zeros((no_risk_classes,no_index_states))\n",
    "for i in range(no_index_states):\n",
    "    index_class = where(rhs.states_exp_only[index_states[i],:]==1)[0]\n",
    "    index_prob[index_class,i] = reverse_comp_dist[comp_by_index_state[i], index_class]"
   ]
  },
  {
   "cell_type": "markdown",
   "metadata": {},
   "source": [
    "The next box combines all this together to give us\n",
    "$$\n",
    "\\underline{\\underline{\\alpha}} (r\\underline{\\underline{In}}-underline{\\underline{Q}}_{\\mathrm{int}})\\underline{\\underline{F}}\\underline{\\underline{P}}.\n",
    "$$"
   ]
  },
  {
   "cell_type": "code",
   "execution_count": 11,
   "metadata": {},
   "outputs": [],
   "source": [
    "def get_multiplier(r, Q_int, FOI_by_state, index_prob, starter_mat):\n",
    "    inv_diff = inv(r * identity(Q_int.shape[0]) - Q_int)\n",
    "    step_1 = FOI_by_state.dot(index_prob)\n",
    "    step_2 = inv_diff.dot(step_1)\n",
    "    step_3 = starter_mat.dot(step_2)\n",
    "    step_4 = step_3\n",
    "    return step_4"
   ]
  },
  {
   "cell_type": "markdown",
   "metadata": {},
   "source": [
    "In the boxes below, we empirically calculate the growth rate at each time increment and plot its value over time."
   ]
  },
  {
   "cell_type": "code",
   "execution_count": 12,
   "metadata": {},
   "outputs": [],
   "source": [
    "no_tsteps = len(time)\n",
    "r_range = zeros(no_tsteps-1,)\n",
    "for tstep in range(no_tsteps-1):\n",
    "    r_range[tstep] = (log_infs[tstep+1]-log_infs[tstep])/(time[tstep+1]-time[tstep])"
   ]
  },
  {
   "cell_type": "code",
   "execution_count": 13,
   "metadata": {
    "scrolled": false
   },
   "outputs": [
    {
     "data": {
      "text/plain": [
       "Text(0, 0.5, 'Empirical growth rate')"
      ]
     },
     "execution_count": 13,
     "metadata": {},
     "output_type": "execute_result"
    },
    {
     "data": {
      "image/png": "[encoded data removed]",
      "text/plain": [
       "<Figure size 432x288 with 1 Axes>"
      ]
     },
     "metadata": {
      "needs_background": "light"
     },
     "output_type": "display_data"
    }
   ],
   "source": [
    "fig, ax = subplots(1)\n",
    "\n",
    "ax.plot(time[:-1], r_range)\n",
    "ax.set_xlabel('Time in days')\n",
    "ax.set_ylabel('Empirical growth rate')"
   ]
  },
  {
   "cell_type": "markdown",
   "metadata": {},
   "source": [
    "Now estimate the eigenvalue of the multiplier over time based on the growth rates calculated above - note that we need to take its transpose since we did the Euler-Lotka stuff with respect to column vectors."
   ]
  },
  {
   "cell_type": "code",
   "execution_count": 14,
   "metadata": {
    "scrolled": false
   },
   "outputs": [
    {
     "name": "stderr",
     "output_type": "stream",
     "text": [
      "C:\\Users\\Joe Hilton\\Anaconda3\\lib\\site-packages\\scipy\\sparse\\linalg\\dsolve\\linsolve.py:296: SparseEfficiencyWarning: splu requires CSC matrix format\n",
      "  warn('splu requires CSC matrix format', SparseEfficiencyWarning)\n",
      "C:\\Users\\Joe Hilton\\Anaconda3\\lib\\site-packages\\scipy\\sparse\\linalg\\dsolve\\linsolve.py:203: SparseEfficiencyWarning: spsolve is more efficient when sparse b is in the CSC matrix format\n",
      "  'is in the CSC matrix format', SparseEfficiencyWarning)\n",
      "C:\\Users\\Joe Hilton\\Anaconda3\\lib\\site-packages\\ipykernel_launcher.py:10: ComplexWarning: Casting complex values to real discards the imaginary part\n",
      "  # Remove the CWD from sys.path while we load stuff.\n"
     ]
    },
    {
     "name": "stdout",
     "output_type": "stream",
     "text": [
      "0 of 25 calculations completed 9.824361801147461 seconds elapsed,estimated 235.78468322753906 seconds remaining.\n",
      "1 of 25 calculations completed 19.88297748565674 seconds elapsed,estimated 228.6542410850525 seconds remaining.\n",
      "2 of 25 calculations completed 29.84044361114502 seconds elapsed,estimated 218.82991981506348 seconds remaining.\n",
      "3 of 25 calculations completed 39.73230242729187 seconds elapsed,estimated 208.59458774328232 seconds remaining.\n",
      "4 of 25 calculations completed 49.764628887176514 seconds elapsed,estimated 199.05851554870605 seconds remaining.\n",
      "5 of 25 calculations completed 59.71616840362549 seconds elapsed,estimated 189.10119994481406 seconds remaining.\n",
      "6 of 25 calculations completed 69.71826100349426 seconds elapsed,estimated 179.27552829469954 seconds remaining.\n",
      "7 of 25 calculations completed 79.69372415542603 seconds elapsed,estimated 169.3491638302803 seconds remaining.\n",
      "8 of 25 calculations completed 89.64071798324585 seconds elapsed,estimated 159.3612764146593 seconds remaining.\n",
      "9 of 25 calculations completed 99.54130482673645 seconds elapsed,estimated 149.31195724010468 seconds remaining.\n",
      "10 of 25 calculations completed 109.6120536327362 seconds elapsed,estimated 139.5062500780279 seconds remaining.\n",
      "11 of 25 calculations completed 119.55822992324829 seconds elapsed,estimated 129.52141575018564 seconds remaining.\n",
      "12 of 25 calculations completed 129.58584666252136 seconds elapsed,estimated 119.61770461155818 seconds remaining.\n",
      "13 of 25 calculations completed 139.55348896980286 seconds elapsed,estimated 109.6491699048451 seconds remaining.\n",
      "14 of 25 calculations completed 149.42442893981934 seconds elapsed,estimated 99.61628595987956 seconds remaining.\n",
      "15 of 25 calculations completed 159.39672446250916 seconds elapsed,estimated 89.6606575101614 seconds remaining.\n",
      "16 of 25 calculations completed 169.4491584300995 seconds elapsed,estimated 79.74078043769387 seconds remaining.\n",
      "17 of 25 calculations completed 179.68372535705566 seconds elapsed,estimated 69.87700430552165 seconds remaining.\n",
      "18 of 25 calculations completed 189.94610738754272 seconds elapsed,estimated 59.98298128027665 seconds remaining.\n",
      "19 of 25 calculations completed 200.35818004608154 seconds elapsed,estimated 50.089545011520386 seconds remaining.\n",
      "20 of 25 calculations completed 210.62238550186157 seconds elapsed,estimated 40.1185496194022 seconds remaining.\n",
      "21 of 25 calculations completed 220.90698075294495 seconds elapsed,estimated 30.123679193583403 seconds remaining.\n",
      "22 of 25 calculations completed 231.53825569152832 seconds elapsed,estimated 20.133761364480723 seconds remaining.\n",
      "23 of 25 calculations completed 242.28089118003845 seconds elapsed,estimated 10.095037132501602 seconds remaining.\n",
      "24 of 25 calculations completed 253.32142901420593 seconds elapsed,estimated 0.0 seconds remaining.\n"
     ]
    }
   ],
   "source": [
    "short_len = int(no_tsteps/10)\n",
    "multiplier_list = []\n",
    "evals = zeros(short_len,)\n",
    "\n",
    "start_time = get_time()\n",
    "\n",
    "for i in range(short_len):\n",
    "    multiplier_now = get_multiplier(r_range[10*i], Q_int, FOI_by_state, index_prob, starter_mat)\n",
    "    multiplier_list.append(multiplier_now)\n",
    "    evals[i] = eig(multiplier_now.T)[0][0]\n",
    "    \n",
    "    time_now = get_time()\n",
    "    print(i,\n",
    "          'of',\n",
    "          short_len,\n",
    "          'calculations completed',\n",
    "          time_now-start_time,\n",
    "          'seconds elapsed,estimated',\n",
    "         (short_len-(i+1))*(time_now-start_time)/(i+1),\n",
    "         'seconds remaining.')"
   ]
  },
  {
   "cell_type": "markdown",
   "metadata": {},
   "source": [
    "We now plot the leading eigenvalue of the multiplier."
   ]
  },
  {
   "cell_type": "code",
   "execution_count": 15,
   "metadata": {},
   "outputs": [
    {
     "data": {
      "text/plain": [
       "Text(0, 0.5, 'Leading eigenvalue of multiplier')"
      ]
     },
     "execution_count": 15,
     "metadata": {},
     "output_type": "execute_result"
    },
    {
     "data": {
      "image/png": "[encoded data removed]",
      "text/plain": [
       "<Figure size 432x288 with 1 Axes>"
      ]
     },
     "metadata": {
      "needs_background": "light"
     },
     "output_type": "display_data"
    }
   ],
   "source": [
    "fig, ax = subplots(1)\n",
    "\n",
    "ax.plot(time[10*arange(short_len)], evals)\n",
    "ax.plot([time[0],time[-1]],[1,1])\n",
    "ax.set_xlabel('Time in days')\n",
    "ax.set_ylabel('Leading eigenvalue of multiplier')"
   ]
  },
  {
   "cell_type": "markdown",
   "metadata": {},
   "source": [
    "This isn't quite equal to 1 in the exponential growth phase. Unclear currently whether this is a numerical error or an actual mistake."
   ]
  },
  {
   "cell_type": "markdown",
   "metadata": {},
   "source": [
    "## More experiments\n",
    "\n",
    "In the following box we define a function which calculates the time series of eigenvalues for a given set of specs:"
   ]
  },
  {
   "cell_type": "code",
   "execution_count": 16,
   "metadata": {},
   "outputs": [],
   "source": [
    "composition_list = array([[0,1],[0,2],[1,1],[1,2],[2,1],[2,2]])\n",
    "comp_dist = (1/len(composition_list)) * ones(len(composition_list),)\n",
    "no_risk_classes = composition_list.shape[1]\n",
    "reverse_comp_dist = diag(comp_dist).dot(composition_list)\n",
    "reverse_comp_dist = reverse_comp_dist.dot(diag(1/reverse_comp_dist.sum(0)))\n",
    "\n",
    "def get_r_time_series_and_evals(spec):\n",
    "\n",
    "    model_input = SEPIRInput(spec, composition_list, comp_dist)\n",
    "\n",
    "    household_population = HouseholdPopulation(\n",
    "            composition_list, comp_dist, model_input)\n",
    "\n",
    "    rhs = SEPIRRateEquations(model_input, household_population, NoImportModel(5,2))\n",
    "\n",
    "    H0 = make_initial_condition(household_population, rhs)\n",
    "\n",
    "    tspan = (0.0, 150)\n",
    "    solution = solve_ivp(rhs, tspan, H0, first_step=0.001, atol=1e-16)\n",
    "\n",
    "    time = solution.t\n",
    "    H = solution.y\n",
    "    S = H.T.dot(household_population.states[:, ::5])\n",
    "    E = H.T.dot(household_population.states[:, 1::5])\n",
    "    P = H.T.dot(household_population.states[:, 2::5])\n",
    "    I = H.T.dot(household_population.states[:, 3::5])\n",
    "    R = H.T.dot(household_population.states[:, 4::5])\n",
    "\n",
    "    log_infs = log((E + P + I).sum(axis=1))\n",
    "    no_tsteps = len(time)\n",
    "    r_range = zeros(no_tsteps-1,)\n",
    "    for tstep in range(no_tsteps-1):\n",
    "        r_range[tstep] = (log_infs[tstep+1]-log_infs[tstep])/(time[tstep+1]-time[tstep])\n",
    "        \n",
    "    Q_int = rhs.Q_int\n",
    "\n",
    "    FOI_by_state = zeros((Q_int.shape[0],no_risk_classes))\n",
    "\n",
    "    for ic in range(rhs.no_inf_compartments):\n",
    "                states_inf_only =  rhs.inf_by_state_list[ic]\n",
    "                FOI_by_state += (rhs.ext_matrix_list[ic].dot(\n",
    "                        rhs.epsilon * states_inf_only.T)).T\n",
    "    \n",
    "    index_states = where(\n",
    "    ((rhs.states_exp_only.sum(axis=1)==1) * \n",
    "    ((rhs.states_pro_only + rhs.states_inf_only + rhs.states_rec_only).sum(axis=1)==0)))[0]\n",
    "\n",
    "    no_index_states = len(index_states)\n",
    "    comp_by_index_state = household_population.which_composition[index_states]\n",
    "    \n",
    "    starter_mat = sparse((ones(no_index_states),(range(no_index_states), index_states)),shape=(no_index_states,Q_int.shape[0]))\n",
    "    \n",
    "    index_prob = zeros((no_risk_classes,no_index_states))\n",
    "    for i in range(no_index_states):\n",
    "        index_class = where(rhs.states_exp_only[index_states[i],:]==1)[0]\n",
    "        index_prob[index_class,i] = reverse_comp_dist[comp_by_index_state[i], index_class]\n",
    "        \n",
    "    short_len = int(no_tsteps/10)\n",
    "    multiplier_list = []\n",
    "    evals = zeros(short_len,)\n",
    "    for j in range(short_len):\n",
    "        multiplier_now = get_multiplier(r_range[10*j], Q_int, FOI_by_state, index_prob, starter_mat)\n",
    "        multiplier_list.append(multiplier_now)\n",
    "        eval_list = eig(multiplier_now.T)[0]\n",
    "#         evals[j] = eval_list[argmin(abs(eval_list - ones(eval_list.shape)))]\n",
    "        evals[j] = eval_list[0]\n",
    "    \n",
    "    return r_range, time, evals\n"
   ]
  },
  {
   "cell_type": "markdown",
   "metadata": {},
   "source": [
    "We now calculate the eigenvalue time series for this simple small-households model over a range of household-level reproductive ratio ($R_*$) values:"
   ]
  },
  {
   "cell_type": "code",
   "execution_count": 17,
   "metadata": {
    "scrolled": true
   },
   "outputs": [
    {
     "name": "stderr",
     "output_type": "stream",
     "text": [
      "Building within-household transmission matrix: 100%|██████████████████████████████████████████████████████████████████████████████████████████████████████████████████████████████████████████████████████████| 6/6 [00:00<00:00, 74.12it/s]\n",
      "C:\\Users\\Joe Hilton\\Anaconda3\\lib\\site-packages\\scipy\\sparse\\linalg\\dsolve\\linsolve.py:296: SparseEfficiencyWarning: splu requires CSC matrix format\n",
      "  warn('splu requires CSC matrix format', SparseEfficiencyWarning)\n",
      "C:\\Users\\Joe Hilton\\Anaconda3\\lib\\site-packages\\scipy\\sparse\\linalg\\dsolve\\linsolve.py:203: SparseEfficiencyWarning: spsolve is more efficient when sparse b is in the CSC matrix format\n",
      "  'is in the CSC matrix format', SparseEfficiencyWarning)\n",
      "C:\\Users\\Joe Hilton\\Anaconda3\\lib\\site-packages\\ipykernel_launcher.py:66: ComplexWarning: Casting complex values to real discards the imaginary part\n"
     ]
    },
    {
     "name": "stdout",
     "output_type": "stream",
     "text": [
      "0 of 9 calculations completed 1.9402165412902832 seconds elapsed,estimated 15.521732330322266 seconds remaining.\n"
     ]
    },
    {
     "name": "stderr",
     "output_type": "stream",
     "text": [
      "Building within-household transmission matrix: 100%|██████████████████████████████████████████████████████████████████████████████████████████████████████████████████████████████████████████████████████████| 6/6 [00:00<00:00, 76.76it/s]\n",
      "C:\\Users\\Joe Hilton\\Anaconda3\\lib\\site-packages\\scipy\\sparse\\linalg\\dsolve\\linsolve.py:296: SparseEfficiencyWarning: splu requires CSC matrix format\n",
      "  warn('splu requires CSC matrix format', SparseEfficiencyWarning)\n",
      "C:\\Users\\Joe Hilton\\Anaconda3\\lib\\site-packages\\scipy\\sparse\\linalg\\dsolve\\linsolve.py:203: SparseEfficiencyWarning: spsolve is more efficient when sparse b is in the CSC matrix format\n",
      "  'is in the CSC matrix format', SparseEfficiencyWarning)\n",
      "C:\\Users\\Joe Hilton\\Anaconda3\\lib\\site-packages\\ipykernel_launcher.py:66: ComplexWarning: Casting complex values to real discards the imaginary part\n"
     ]
    },
    {
     "name": "stdout",
     "output_type": "stream",
     "text": [
      "1 of 9 calculations completed 3.894071340560913 seconds elapsed,estimated 13.629249691963196 seconds remaining.\n"
     ]
    },
    {
     "name": "stderr",
     "output_type": "stream",
     "text": [
      "Building within-household transmission matrix: 100%|██████████████████████████████████████████████████████████████████████████████████████████████████████████████████████████████████████████████████████████| 6/6 [00:00<00:00, 85.33it/s]\n",
      "C:\\Users\\Joe Hilton\\Anaconda3\\lib\\site-packages\\scipy\\sparse\\linalg\\dsolve\\linsolve.py:296: SparseEfficiencyWarning: splu requires CSC matrix format\n",
      "  warn('splu requires CSC matrix format', SparseEfficiencyWarning)\n",
      "C:\\Users\\Joe Hilton\\Anaconda3\\lib\\site-packages\\scipy\\sparse\\linalg\\dsolve\\linsolve.py:203: SparseEfficiencyWarning: spsolve is more efficient when sparse b is in the CSC matrix format\n",
      "  'is in the CSC matrix format', SparseEfficiencyWarning)\n",
      "C:\\Users\\Joe Hilton\\Anaconda3\\lib\\site-packages\\ipykernel_launcher.py:66: ComplexWarning: Casting complex values to real discards the imaginary part\n"
     ]
    },
    {
     "name": "stdout",
     "output_type": "stream",
     "text": [
      "2 of 9 calculations completed 5.817801475524902 seconds elapsed,estimated 11.635602951049805 seconds remaining.\n"
     ]
    },
    {
     "name": "stderr",
     "output_type": "stream",
     "text": [
      "Building within-household transmission matrix: 100%|██████████████████████████████████████████████████████████████████████████████████████████████████████████████████████████████████████████████████████████| 6/6 [00:00<00:00, 76.12it/s]\n",
      "C:\\Users\\Joe Hilton\\Anaconda3\\lib\\site-packages\\scipy\\sparse\\linalg\\dsolve\\linsolve.py:296: SparseEfficiencyWarning: splu requires CSC matrix format\n",
      "  warn('splu requires CSC matrix format', SparseEfficiencyWarning)\n",
      "C:\\Users\\Joe Hilton\\Anaconda3\\lib\\site-packages\\scipy\\sparse\\linalg\\dsolve\\linsolve.py:203: SparseEfficiencyWarning: spsolve is more efficient when sparse b is in the CSC matrix format\n",
      "  'is in the CSC matrix format', SparseEfficiencyWarning)\n",
      "C:\\Users\\Joe Hilton\\Anaconda3\\lib\\site-packages\\ipykernel_launcher.py:66: ComplexWarning: Casting complex values to real discards the imaginary part\n"
     ]
    },
    {
     "name": "stdout",
     "output_type": "stream",
     "text": [
      "3 of 9 calculations completed 7.76739764213562 seconds elapsed,estimated 9.709247052669525 seconds remaining.\n"
     ]
    },
    {
     "name": "stderr",
     "output_type": "stream",
     "text": [
      "Building within-household transmission matrix: 100%|██████████████████████████████████████████████████████████████████████████████████████████████████████████████████████████████████████████████████████████| 6/6 [00:00<00:00, 73.88it/s]\n",
      "C:\\Users\\Joe Hilton\\Anaconda3\\lib\\site-packages\\scipy\\sparse\\linalg\\dsolve\\linsolve.py:296: SparseEfficiencyWarning: splu requires CSC matrix format\n",
      "  warn('splu requires CSC matrix format', SparseEfficiencyWarning)\n",
      "C:\\Users\\Joe Hilton\\Anaconda3\\lib\\site-packages\\scipy\\sparse\\linalg\\dsolve\\linsolve.py:203: SparseEfficiencyWarning: spsolve is more efficient when sparse b is in the CSC matrix format\n",
      "  'is in the CSC matrix format', SparseEfficiencyWarning)\n",
      "C:\\Users\\Joe Hilton\\Anaconda3\\lib\\site-packages\\ipykernel_launcher.py:66: ComplexWarning: Casting complex values to real discards the imaginary part\n"
     ]
    },
    {
     "name": "stdout",
     "output_type": "stream",
     "text": [
      "4 of 9 calculations completed 9.721224069595337 seconds elapsed,estimated 7.776979255676269 seconds remaining.\n"
     ]
    },
    {
     "name": "stderr",
     "output_type": "stream",
     "text": [
      "Building within-household transmission matrix: 100%|██████████████████████████████████████████████████████████████████████████████████████████████████████████████████████████████████████████████████████████| 6/6 [00:00<00:00, 77.16it/s]\n",
      "C:\\Users\\Joe Hilton\\Anaconda3\\lib\\site-packages\\scipy\\sparse\\linalg\\dsolve\\linsolve.py:296: SparseEfficiencyWarning: splu requires CSC matrix format\n",
      "  warn('splu requires CSC matrix format', SparseEfficiencyWarning)\n",
      "C:\\Users\\Joe Hilton\\Anaconda3\\lib\\site-packages\\scipy\\sparse\\linalg\\dsolve\\linsolve.py:203: SparseEfficiencyWarning: spsolve is more efficient when sparse b is in the CSC matrix format\n",
      "  'is in the CSC matrix format', SparseEfficiencyWarning)\n",
      "C:\\Users\\Joe Hilton\\Anaconda3\\lib\\site-packages\\ipykernel_launcher.py:66: ComplexWarning: Casting complex values to real discards the imaginary part\n"
     ]
    },
    {
     "name": "stdout",
     "output_type": "stream",
     "text": [
      "5 of 9 calculations completed 11.609004259109497 seconds elapsed,estimated 5.8045021295547485 seconds remaining.\n"
     ]
    },
    {
     "name": "stderr",
     "output_type": "stream",
     "text": [
      "Building within-household transmission matrix: 100%|██████████████████████████████████████████████████████████████████████████████████████████████████████████████████████████████████████████████████████████| 6/6 [00:00<00:00, 74.61it/s]\n",
      "C:\\Users\\Joe Hilton\\Anaconda3\\lib\\site-packages\\scipy\\sparse\\linalg\\dsolve\\linsolve.py:296: SparseEfficiencyWarning: splu requires CSC matrix format\n",
      "  warn('splu requires CSC matrix format', SparseEfficiencyWarning)\n",
      "C:\\Users\\Joe Hilton\\Anaconda3\\lib\\site-packages\\scipy\\sparse\\linalg\\dsolve\\linsolve.py:203: SparseEfficiencyWarning: spsolve is more efficient when sparse b is in the CSC matrix format\n",
      "  'is in the CSC matrix format', SparseEfficiencyWarning)\n",
      "C:\\Users\\Joe Hilton\\Anaconda3\\lib\\site-packages\\ipykernel_launcher.py:66: ComplexWarning: Casting complex values to real discards the imaginary part\n"
     ]
    },
    {
     "name": "stdout",
     "output_type": "stream",
     "text": [
      "6 of 9 calculations completed 13.62438154220581 seconds elapsed,estimated 3.8926804406302318 seconds remaining.\n"
     ]
    },
    {
     "name": "stderr",
     "output_type": "stream",
     "text": [
      "Building within-household transmission matrix: 100%|██████████████████████████████████████████████████████████████████████████████████████████████████████████████████████████████████████████████████████████| 6/6 [00:00<00:00, 82.55it/s]\n",
      "C:\\Users\\Joe Hilton\\Anaconda3\\lib\\site-packages\\scipy\\sparse\\linalg\\dsolve\\linsolve.py:296: SparseEfficiencyWarning: splu requires CSC matrix format\n",
      "  warn('splu requires CSC matrix format', SparseEfficiencyWarning)\n",
      "C:\\Users\\Joe Hilton\\Anaconda3\\lib\\site-packages\\scipy\\sparse\\linalg\\dsolve\\linsolve.py:203: SparseEfficiencyWarning: spsolve is more efficient when sparse b is in the CSC matrix format\n",
      "  'is in the CSC matrix format', SparseEfficiencyWarning)\n",
      "C:\\Users\\Joe Hilton\\Anaconda3\\lib\\site-packages\\ipykernel_launcher.py:66: ComplexWarning: Casting complex values to real discards the imaginary part\n"
     ]
    },
    {
     "name": "stdout",
     "output_type": "stream",
     "text": [
      "7 of 9 calculations completed 15.581783056259155 seconds elapsed,estimated 1.9477228820323944 seconds remaining.\n"
     ]
    },
    {
     "name": "stderr",
     "output_type": "stream",
     "text": [
      "Building within-household transmission matrix: 100%|██████████████████████████████████████████████████████████████████████████████████████████████████████████████████████████████████████████████████████████| 6/6 [00:00<00:00, 66.79it/s]\n",
      "C:\\Users\\Joe Hilton\\Anaconda3\\lib\\site-packages\\scipy\\sparse\\linalg\\dsolve\\linsolve.py:296: SparseEfficiencyWarning: splu requires CSC matrix format\n",
      "  warn('splu requires CSC matrix format', SparseEfficiencyWarning)\n",
      "C:\\Users\\Joe Hilton\\Anaconda3\\lib\\site-packages\\scipy\\sparse\\linalg\\dsolve\\linsolve.py:203: SparseEfficiencyWarning: spsolve is more efficient when sparse b is in the CSC matrix format\n",
      "  'is in the CSC matrix format', SparseEfficiencyWarning)\n",
      "C:\\Users\\Joe Hilton\\Anaconda3\\lib\\site-packages\\ipykernel_launcher.py:66: ComplexWarning: Casting complex values to real discards the imaginary part\n"
     ]
    },
    {
     "name": "stdout",
     "output_type": "stream",
     "text": [
      "8 of 9 calculations completed 17.604572296142578 seconds elapsed,estimated 0.0 seconds remaining.\n"
     ]
    }
   ],
   "source": [
    "r_range_list = []\n",
    "time_list = []\n",
    "eval_range_list = []\n",
    "\n",
    "RG_range = arange(1.1,2,0.1)\n",
    "\n",
    "no_steps = len(RG_range)\n",
    "start_time = get_time()\n",
    "for i in range(no_steps):\n",
    "    RG_now = RG_range[i]\n",
    "    spec = deepcopy(SPEC)\n",
    "    spec['R*'] = RG_now\n",
    "    r_now, t_now, evals_now = get_r_time_series_and_evals(spec)\n",
    "    r_range_list.append(r_now)\n",
    "    time_list.append(t_now)\n",
    "    eval_range_list.append(evals_now)\n",
    "    time_now = get_time()\n",
    "    print(i,\n",
    "          'of',\n",
    "          no_steps,\n",
    "          'calculations completed',\n",
    "          time_now-start_time,\n",
    "          'seconds elapsed,estimated',\n",
    "         (no_steps-(i+1))*(time_now-start_time)/(i+1),\n",
    "         'seconds remaining.')"
   ]
  },
  {
   "cell_type": "markdown",
   "metadata": {},
   "source": [
    "Now plot the time series:"
   ]
  },
  {
   "cell_type": "code",
   "execution_count": 18,
   "metadata": {
    "scrolled": true
   },
   "outputs": [
    {
     "data": {
      "text/plain": [
       "<matplotlib.legend.Legend at 0x19cdd9825c8>"
      ]
     },
     "execution_count": 18,
     "metadata": {},
     "output_type": "execute_result"
    },
    {
     "data": {
      "image/png": "[encoded data removed]",
      "text/plain": [
       "<Figure size 432x288 with 1 Axes>"
      ]
     },
     "metadata": {
      "needs_background": "light"
     },
     "output_type": "display_data"
    }
   ],
   "source": [
    "from matplotlib.pyplot import yscale\n",
    "\n",
    "fig, ax = subplots(1)\n",
    "\n",
    "for i in range(no_steps):\n",
    "    ax.plot(10*arange(len(eval_range_list[i])), eval_range_list[i], label=('R*=',RG_range[i]))\n",
    "yscale('log')\n",
    "ax.set_ylabel('Leading eigenvalue')\n",
    "ax.set_xlabel('Time in days')\n",
    "ax.legend(ncol=1, bbox_to_anchor=(1,0.50))"
   ]
  },
  {
   "cell_type": "markdown",
   "metadata": {},
   "source": [
    "For all of the reproductive ratios, the eigenvalue settles around 1 during the exponential growth phase."
   ]
  },
  {
   "cell_type": "markdown",
   "metadata": {},
   "source": [
    "To do some more robust testing, we now define a function that generates a random set of parameters."
   ]
  },
  {
   "cell_type": "code",
   "execution_count": 19,
   "metadata": {},
   "outputs": [],
   "source": [
    "from numpy.random import rand\n",
    "\n",
    "def draw_random_specs(spec):\n",
    "    \n",
    "    rand_spec = deepcopy(spec)\n",
    "    rand_spec['AR'] = 0.25 + 0.5*rand(1,) # SAR between 0.25 and 0.75\n",
    "    rand_spec['R*'] = 1 + rand(1,) # R* between 1 and 2\n",
    "    rand_spec['recovery_rate'] = 1/(1 + 7 * rand(1,)) # Fix inf period between 1 and 7 days\n",
    "    rand_spec['incubation_rate'] = 1/(1 + 9 * rand(1)) # Fix inc period between 1 and 10 days\n",
    "    rand_spec['symp_onset_rate'] = 1/(1 + 5 * rand(1)) # Fix prodromal period between 1 and 5 days\n",
    "    rand_spec['prodromal_trans_scaling'] = rand(no_risk_classes,) # Random prodrome scalings <1\n",
    "    unscaled_sus = rand(no_risk_classes,)\n",
    "    rand_spec['sus'] = unscaled_sus/unscaled_sus.max() # Set sus of most sus class to 1, all others <1\n",
    "    rand_spec['density_expo'] = rand(1,)\n",
    "    \n",
    "    return rand_spec"
   ]
  },
  {
   "cell_type": "markdown",
   "metadata": {},
   "source": [
    "Now carry out the eigenvalue calculations for 50 of these parameter sets, and plot the resulting eigenvalue time series."
   ]
  },
  {
   "cell_type": "code",
   "execution_count": 20,
   "metadata": {},
   "outputs": [
    {
     "name": "stderr",
     "output_type": "stream",
     "text": [
      "Building within-household transmission matrix: 100%|██████████████████████████████████████████████████████████████████████████████████████████████████████████████████████████████████████████████████████████| 6/6 [00:00<00:00, 77.38it/s]\n",
      "C:\\Users\\Joe Hilton\\Anaconda3\\lib\\site-packages\\scipy\\sparse\\linalg\\dsolve\\linsolve.py:296: SparseEfficiencyWarning: splu requires CSC matrix format\n",
      "  warn('splu requires CSC matrix format', SparseEfficiencyWarning)\n",
      "C:\\Users\\Joe Hilton\\Anaconda3\\lib\\site-packages\\scipy\\sparse\\linalg\\dsolve\\linsolve.py:203: SparseEfficiencyWarning: spsolve is more efficient when sparse b is in the CSC matrix format\n",
      "  'is in the CSC matrix format', SparseEfficiencyWarning)\n",
      "C:\\Users\\Joe Hilton\\Anaconda3\\lib\\site-packages\\ipykernel_launcher.py:66: ComplexWarning: Casting complex values to real discards the imaginary part\n"
     ]
    },
    {
     "name": "stdout",
     "output_type": "stream",
     "text": [
      "0 of 50 calculations completed 2.3756165504455566 seconds elapsed,estimated 116.40521097183228 seconds remaining.\n"
     ]
    },
    {
     "name": "stderr",
     "output_type": "stream",
     "text": [
      "Building within-household transmission matrix: 100%|██████████████████████████████████████████████████████████████████████████████████████████████████████████████████████████████████████████████████████████| 6/6 [00:00<00:00, 76.78it/s]\n",
      "C:\\Users\\Joe Hilton\\Anaconda3\\lib\\site-packages\\scipy\\sparse\\linalg\\dsolve\\linsolve.py:296: SparseEfficiencyWarning: splu requires CSC matrix format\n",
      "  warn('splu requires CSC matrix format', SparseEfficiencyWarning)\n",
      "C:\\Users\\Joe Hilton\\Anaconda3\\lib\\site-packages\\scipy\\sparse\\linalg\\dsolve\\linsolve.py:203: SparseEfficiencyWarning: spsolve is more efficient when sparse b is in the CSC matrix format\n",
      "  'is in the CSC matrix format', SparseEfficiencyWarning)\n",
      "C:\\Users\\Joe Hilton\\Anaconda3\\lib\\site-packages\\ipykernel_launcher.py:66: ComplexWarning: Casting complex values to real discards the imaginary part\n"
     ]
    },
    {
     "name": "stdout",
     "output_type": "stream",
     "text": [
      "1 of 50 calculations completed 5.68193507194519 seconds elapsed,estimated 136.36644172668457 seconds remaining.\n"
     ]
    },
    {
     "name": "stderr",
     "output_type": "stream",
     "text": [
      "Building within-household transmission matrix: 100%|██████████████████████████████████████████████████████████████████████████████████████████████████████████████████████████████████████████████████████████| 6/6 [00:00<00:00, 74.78it/s]\n",
      "C:\\Users\\Joe Hilton\\Anaconda3\\lib\\site-packages\\scipy\\sparse\\linalg\\dsolve\\linsolve.py:296: SparseEfficiencyWarning: splu requires CSC matrix format\n",
      "  warn('splu requires CSC matrix format', SparseEfficiencyWarning)\n",
      "C:\\Users\\Joe Hilton\\Anaconda3\\lib\\site-packages\\scipy\\sparse\\linalg\\dsolve\\linsolve.py:203: SparseEfficiencyWarning: spsolve is more efficient when sparse b is in the CSC matrix format\n",
      "  'is in the CSC matrix format', SparseEfficiencyWarning)\n",
      "C:\\Users\\Joe Hilton\\Anaconda3\\lib\\site-packages\\ipykernel_launcher.py:66: ComplexWarning: Casting complex values to real discards the imaginary part\n"
     ]
    },
    {
     "name": "stdout",
     "output_type": "stream",
     "text": [
      "2 of 50 calculations completed 7.631943941116333 seconds elapsed,estimated 119.56712174415588 seconds remaining.\n"
     ]
    },
    {
     "name": "stderr",
     "output_type": "stream",
     "text": [
      "Building within-household transmission matrix: 100%|██████████████████████████████████████████████████████████████████████████████████████████████████████████████████████████████████████████████████████████| 6/6 [00:00<00:00, 71.97it/s]\n",
      "C:\\Users\\Joe Hilton\\Anaconda3\\lib\\site-packages\\scipy\\sparse\\linalg\\dsolve\\linsolve.py:296: SparseEfficiencyWarning: splu requires CSC matrix format\n",
      "  warn('splu requires CSC matrix format', SparseEfficiencyWarning)\n",
      "C:\\Users\\Joe Hilton\\Anaconda3\\lib\\site-packages\\scipy\\sparse\\linalg\\dsolve\\linsolve.py:203: SparseEfficiencyWarning: spsolve is more efficient when sparse b is in the CSC matrix format\n",
      "  'is in the CSC matrix format', SparseEfficiencyWarning)\n",
      "C:\\Users\\Joe Hilton\\Anaconda3\\lib\\site-packages\\ipykernel_launcher.py:66: ComplexWarning: Casting complex values to real discards the imaginary part\n"
     ]
    },
    {
     "name": "stdout",
     "output_type": "stream",
     "text": [
      "3 of 50 calculations completed 11.028604507446289 seconds elapsed,estimated 126.82895183563232 seconds remaining.\n"
     ]
    },
    {
     "name": "stderr",
     "output_type": "stream",
     "text": [
      "Building within-household transmission matrix: 100%|██████████████████████████████████████████████████████████████████████████████████████████████████████████████████████████████████████████████████████████| 6/6 [00:00<00:00, 67.45it/s]\n",
      "C:\\Users\\Joe Hilton\\Anaconda3\\lib\\site-packages\\scipy\\sparse\\linalg\\dsolve\\linsolve.py:296: SparseEfficiencyWarning: splu requires CSC matrix format\n",
      "  warn('splu requires CSC matrix format', SparseEfficiencyWarning)\n",
      "C:\\Users\\Joe Hilton\\Anaconda3\\lib\\site-packages\\scipy\\sparse\\linalg\\dsolve\\linsolve.py:203: SparseEfficiencyWarning: spsolve is more efficient when sparse b is in the CSC matrix format\n",
      "  'is in the CSC matrix format', SparseEfficiencyWarning)\n",
      "C:\\Users\\Joe Hilton\\Anaconda3\\lib\\site-packages\\ipykernel_launcher.py:66: ComplexWarning: Casting complex values to real discards the imaginary part\n"
     ]
    },
    {
     "name": "stdout",
     "output_type": "stream",
     "text": [
      "4 of 50 calculations completed 14.231778144836426 seconds elapsed,estimated 128.08600330352783 seconds remaining.\n"
     ]
    },
    {
     "name": "stderr",
     "output_type": "stream",
     "text": [
      "Building within-household transmission matrix: 100%|██████████████████████████████████████████████████████████████████████████████████████████████████████████████████████████████████████████████████████████| 6/6 [00:00<00:00, 73.19it/s]\n",
      "C:\\Users\\Joe Hilton\\Anaconda3\\lib\\site-packages\\scipy\\sparse\\linalg\\dsolve\\linsolve.py:296: SparseEfficiencyWarning: splu requires CSC matrix format\n",
      "  warn('splu requires CSC matrix format', SparseEfficiencyWarning)\n",
      "C:\\Users\\Joe Hilton\\Anaconda3\\lib\\site-packages\\scipy\\sparse\\linalg\\dsolve\\linsolve.py:203: SparseEfficiencyWarning: spsolve is more efficient when sparse b is in the CSC matrix format\n",
      "  'is in the CSC matrix format', SparseEfficiencyWarning)\n",
      "C:\\Users\\Joe Hilton\\Anaconda3\\lib\\site-packages\\ipykernel_launcher.py:66: ComplexWarning: Casting complex values to real discards the imaginary part\n"
     ]
    },
    {
     "name": "stdout",
     "output_type": "stream",
     "text": [
      "5 of 50 calculations completed 18.420418739318848 seconds elapsed,estimated 135.08307075500488 seconds remaining.\n"
     ]
    },
    {
     "name": "stderr",
     "output_type": "stream",
     "text": [
      "Building within-household transmission matrix: 100%|██████████████████████████████████████████████████████████████████████████████████████████████████████████████████████████████████████████████████████████| 6/6 [00:00<00:00, 77.94it/s]\n",
      "C:\\Users\\Joe Hilton\\Anaconda3\\lib\\site-packages\\scipy\\sparse\\linalg\\dsolve\\linsolve.py:296: SparseEfficiencyWarning: splu requires CSC matrix format\n",
      "  warn('splu requires CSC matrix format', SparseEfficiencyWarning)\n",
      "C:\\Users\\Joe Hilton\\Anaconda3\\lib\\site-packages\\scipy\\sparse\\linalg\\dsolve\\linsolve.py:203: SparseEfficiencyWarning: spsolve is more efficient when sparse b is in the CSC matrix format\n",
      "  'is in the CSC matrix format', SparseEfficiencyWarning)\n",
      "C:\\Users\\Joe Hilton\\Anaconda3\\lib\\site-packages\\ipykernel_launcher.py:66: ComplexWarning: Casting complex values to real discards the imaginary part\n"
     ]
    },
    {
     "name": "stdout",
     "output_type": "stream",
     "text": [
      "6 of 50 calculations completed 20.026498317718506 seconds elapsed,estimated 123.01991823741368 seconds remaining.\n"
     ]
    },
    {
     "name": "stderr",
     "output_type": "stream",
     "text": [
      "Building within-household transmission matrix: 100%|██████████████████████████████████████████████████████████████████████████████████████████████████████████████████████████████████████████████████████████| 6/6 [00:00<00:00, 74.11it/s]\n",
      "C:\\Users\\Joe Hilton\\Anaconda3\\lib\\site-packages\\scipy\\sparse\\linalg\\dsolve\\linsolve.py:296: SparseEfficiencyWarning: splu requires CSC matrix format\n",
      "  warn('splu requires CSC matrix format', SparseEfficiencyWarning)\n",
      "C:\\Users\\Joe Hilton\\Anaconda3\\lib\\site-packages\\scipy\\sparse\\linalg\\dsolve\\linsolve.py:203: SparseEfficiencyWarning: spsolve is more efficient when sparse b is in the CSC matrix format\n",
      "  'is in the CSC matrix format', SparseEfficiencyWarning)\n",
      "C:\\Users\\Joe Hilton\\Anaconda3\\lib\\site-packages\\ipykernel_launcher.py:66: ComplexWarning: Casting complex values to real discards the imaginary part\n"
     ]
    },
    {
     "name": "stdout",
     "output_type": "stream",
     "text": [
      "7 of 50 calculations completed 23.66322898864746 seconds elapsed,estimated 124.23195219039917 seconds remaining.\n"
     ]
    },
    {
     "name": "stderr",
     "output_type": "stream",
     "text": [
      "Building within-household transmission matrix: 100%|██████████████████████████████████████████████████████████████████████████████████████████████████████████████████████████████████████████████████████████| 6/6 [00:00<00:00, 81.49it/s]\n",
      "C:\\Users\\Joe Hilton\\Anaconda3\\lib\\site-packages\\scipy\\sparse\\linalg\\dsolve\\linsolve.py:296: SparseEfficiencyWarning: splu requires CSC matrix format\n",
      "  warn('splu requires CSC matrix format', SparseEfficiencyWarning)\n",
      "C:\\Users\\Joe Hilton\\Anaconda3\\lib\\site-packages\\scipy\\sparse\\linalg\\dsolve\\linsolve.py:203: SparseEfficiencyWarning: spsolve is more efficient when sparse b is in the CSC matrix format\n",
      "  'is in the CSC matrix format', SparseEfficiencyWarning)\n",
      "C:\\Users\\Joe Hilton\\Anaconda3\\lib\\site-packages\\ipykernel_launcher.py:66: ComplexWarning: Casting complex values to real discards the imaginary part\n"
     ]
    },
    {
     "name": "stdout",
     "output_type": "stream",
     "text": [
      "8 of 50 calculations completed 26.76157855987549 seconds elapsed,estimated 121.91385788387723 seconds remaining.\n"
     ]
    },
    {
     "name": "stderr",
     "output_type": "stream",
     "text": [
      "Building within-household transmission matrix: 100%|██████████████████████████████████████████████████████████████████████████████████████████████████████████████████████████████████████████████████████████| 6/6 [00:00<00:00, 80.37it/s]\n",
      "C:\\Users\\Joe Hilton\\Anaconda3\\lib\\site-packages\\scipy\\sparse\\linalg\\dsolve\\linsolve.py:296: SparseEfficiencyWarning: splu requires CSC matrix format\n",
      "  warn('splu requires CSC matrix format', SparseEfficiencyWarning)\n",
      "C:\\Users\\Joe Hilton\\Anaconda3\\lib\\site-packages\\scipy\\sparse\\linalg\\dsolve\\linsolve.py:203: SparseEfficiencyWarning: spsolve is more efficient when sparse b is in the CSC matrix format\n",
      "  'is in the CSC matrix format', SparseEfficiencyWarning)\n",
      "C:\\Users\\Joe Hilton\\Anaconda3\\lib\\site-packages\\ipykernel_launcher.py:66: ComplexWarning: Casting complex values to real discards the imaginary part\n"
     ]
    },
    {
     "name": "stdout",
     "output_type": "stream",
     "text": [
      "9 of 50 calculations completed 28.320791721343994 seconds elapsed,estimated 113.28316688537598 seconds remaining.\n"
     ]
    },
    {
     "name": "stderr",
     "output_type": "stream",
     "text": [
      "Building within-household transmission matrix: 100%|██████████████████████████████████████████████████████████████████████████████████████████████████████████████████████████████████████████████████████████| 6/6 [00:00<00:00, 87.41it/s]\n",
      "C:\\Users\\Joe Hilton\\Anaconda3\\lib\\site-packages\\scipy\\sparse\\linalg\\dsolve\\linsolve.py:296: SparseEfficiencyWarning: splu requires CSC matrix format\n",
      "  warn('splu requires CSC matrix format', SparseEfficiencyWarning)\n",
      "C:\\Users\\Joe Hilton\\Anaconda3\\lib\\site-packages\\scipy\\sparse\\linalg\\dsolve\\linsolve.py:203: SparseEfficiencyWarning: spsolve is more efficient when sparse b is in the CSC matrix format\n",
      "  'is in the CSC matrix format', SparseEfficiencyWarning)\n",
      "C:\\Users\\Joe Hilton\\Anaconda3\\lib\\site-packages\\ipykernel_launcher.py:66: ComplexWarning: Casting complex values to real discards the imaginary part\n"
     ]
    },
    {
     "name": "stdout",
     "output_type": "stream",
     "text": [
      "10 of 50 calculations completed 29.79857349395752 seconds elapsed,estimated 105.64948784221302 seconds remaining.\n"
     ]
    },
    {
     "name": "stderr",
     "output_type": "stream",
     "text": [
      "Building within-household transmission matrix: 100%|██████████████████████████████████████████████████████████████████████████████████████████████████████████████████████████████████████████████████████████| 6/6 [00:00<00:00, 75.56it/s]\n",
      "C:\\Users\\Joe Hilton\\Anaconda3\\lib\\site-packages\\scipy\\sparse\\linalg\\dsolve\\linsolve.py:296: SparseEfficiencyWarning: splu requires CSC matrix format\n",
      "  warn('splu requires CSC matrix format', SparseEfficiencyWarning)\n",
      "C:\\Users\\Joe Hilton\\Anaconda3\\lib\\site-packages\\scipy\\sparse\\linalg\\dsolve\\linsolve.py:203: SparseEfficiencyWarning: spsolve is more efficient when sparse b is in the CSC matrix format\n",
      "  'is in the CSC matrix format', SparseEfficiencyWarning)\n",
      "C:\\Users\\Joe Hilton\\Anaconda3\\lib\\site-packages\\ipykernel_launcher.py:66: ComplexWarning: Casting complex values to real discards the imaginary part\n"
     ]
    },
    {
     "name": "stdout",
     "output_type": "stream",
     "text": [
      "11 of 50 calculations completed 32.21377372741699 seconds elapsed,estimated 102.01028347015381 seconds remaining.\n"
     ]
    },
    {
     "name": "stderr",
     "output_type": "stream",
     "text": [
      "Building within-household transmission matrix: 100%|██████████████████████████████████████████████████████████████████████████████████████████████████████████████████████████████████████████████████████████| 6/6 [00:00<00:00, 70.33it/s]\n",
      "C:\\Users\\Joe Hilton\\Anaconda3\\lib\\site-packages\\scipy\\sparse\\linalg\\dsolve\\linsolve.py:296: SparseEfficiencyWarning: splu requires CSC matrix format\n",
      "  warn('splu requires CSC matrix format', SparseEfficiencyWarning)\n",
      "C:\\Users\\Joe Hilton\\Anaconda3\\lib\\site-packages\\scipy\\sparse\\linalg\\dsolve\\linsolve.py:203: SparseEfficiencyWarning: spsolve is more efficient when sparse b is in the CSC matrix format\n",
      "  'is in the CSC matrix format', SparseEfficiencyWarning)\n",
      "C:\\Users\\Joe Hilton\\Anaconda3\\lib\\site-packages\\ipykernel_launcher.py:66: ComplexWarning: Casting complex values to real discards the imaginary part\n"
     ]
    },
    {
     "name": "stdout",
     "output_type": "stream",
     "text": [
      "12 of 50 calculations completed 34.62083625793457 seconds elapsed,estimated 98.53622627258301 seconds remaining.\n"
     ]
    },
    {
     "name": "stderr",
     "output_type": "stream",
     "text": [
      "Building within-household transmission matrix: 100%|██████████████████████████████████████████████████████████████████████████████████████████████████████████████████████████████████████████████████████████| 6/6 [00:00<00:00, 87.00it/s]\n",
      "C:\\Users\\Joe Hilton\\Anaconda3\\lib\\site-packages\\scipy\\sparse\\linalg\\dsolve\\linsolve.py:296: SparseEfficiencyWarning: splu requires CSC matrix format\n",
      "  warn('splu requires CSC matrix format', SparseEfficiencyWarning)\n",
      "C:\\Users\\Joe Hilton\\Anaconda3\\lib\\site-packages\\scipy\\sparse\\linalg\\dsolve\\linsolve.py:203: SparseEfficiencyWarning: spsolve is more efficient when sparse b is in the CSC matrix format\n",
      "  'is in the CSC matrix format', SparseEfficiencyWarning)\n",
      "C:\\Users\\Joe Hilton\\Anaconda3\\lib\\site-packages\\ipykernel_launcher.py:66: ComplexWarning: Casting complex values to real discards the imaginary part\n"
     ]
    },
    {
     "name": "stdout",
     "output_type": "stream",
     "text": [
      "13 of 50 calculations completed 37.989967346191406 seconds elapsed,estimated 97.68848746163505 seconds remaining.\n"
     ]
    },
    {
     "name": "stderr",
     "output_type": "stream",
     "text": [
      "Building within-household transmission matrix: 100%|██████████████████████████████████████████████████████████████████████████████████████████████████████████████████████████████████████████████████████████| 6/6 [00:00<00:00, 81.03it/s]\n",
      "C:\\Users\\Joe Hilton\\Anaconda3\\lib\\site-packages\\scipy\\sparse\\linalg\\dsolve\\linsolve.py:296: SparseEfficiencyWarning: splu requires CSC matrix format\n",
      "  warn('splu requires CSC matrix format', SparseEfficiencyWarning)\n",
      "C:\\Users\\Joe Hilton\\Anaconda3\\lib\\site-packages\\scipy\\sparse\\linalg\\dsolve\\linsolve.py:203: SparseEfficiencyWarning: spsolve is more efficient when sparse b is in the CSC matrix format\n",
      "  'is in the CSC matrix format', SparseEfficiencyWarning)\n",
      "C:\\Users\\Joe Hilton\\Anaconda3\\lib\\site-packages\\ipykernel_launcher.py:66: ComplexWarning: Casting complex values to real discards the imaginary part\n"
     ]
    },
    {
     "name": "stdout",
     "output_type": "stream",
     "text": [
      "14 of 50 calculations completed 39.729963302612305 seconds elapsed,estimated 92.70324770609538 seconds remaining.\n"
     ]
    },
    {
     "name": "stderr",
     "output_type": "stream",
     "text": [
      "Building within-household transmission matrix: 100%|██████████████████████████████████████████████████████████████████████████████████████████████████████████████████████████████████████████████████████████| 6/6 [00:00<00:00, 80.79it/s]\n",
      "C:\\Users\\Joe Hilton\\Anaconda3\\lib\\site-packages\\scipy\\sparse\\linalg\\dsolve\\linsolve.py:296: SparseEfficiencyWarning: splu requires CSC matrix format\n",
      "  warn('splu requires CSC matrix format', SparseEfficiencyWarning)\n",
      "C:\\Users\\Joe Hilton\\Anaconda3\\lib\\site-packages\\scipy\\sparse\\linalg\\dsolve\\linsolve.py:203: SparseEfficiencyWarning: spsolve is more efficient when sparse b is in the CSC matrix format\n",
      "  'is in the CSC matrix format', SparseEfficiencyWarning)\n",
      "C:\\Users\\Joe Hilton\\Anaconda3\\lib\\site-packages\\ipykernel_launcher.py:66: ComplexWarning: Casting complex values to real discards the imaginary part\n"
     ]
    },
    {
     "name": "stdout",
     "output_type": "stream",
     "text": [
      "15 of 50 calculations completed 43.393986225128174 seconds elapsed,estimated 92.21222072839737 seconds remaining.\n"
     ]
    },
    {
     "name": "stderr",
     "output_type": "stream",
     "text": [
      "Building within-household transmission matrix: 100%|██████████████████████████████████████████████████████████████████████████████████████████████████████████████████████████████████████████████████████████| 6/6 [00:00<00:00, 79.97it/s]\n",
      "C:\\Users\\Joe Hilton\\Anaconda3\\lib\\site-packages\\scipy\\sparse\\linalg\\dsolve\\linsolve.py:296: SparseEfficiencyWarning: splu requires CSC matrix format\n",
      "  warn('splu requires CSC matrix format', SparseEfficiencyWarning)\n",
      "C:\\Users\\Joe Hilton\\Anaconda3\\lib\\site-packages\\scipy\\sparse\\linalg\\dsolve\\linsolve.py:203: SparseEfficiencyWarning: spsolve is more efficient when sparse b is in the CSC matrix format\n",
      "  'is in the CSC matrix format', SparseEfficiencyWarning)\n",
      "C:\\Users\\Joe Hilton\\Anaconda3\\lib\\site-packages\\ipykernel_launcher.py:66: ComplexWarning: Casting complex values to real discards the imaginary part\n"
     ]
    },
    {
     "name": "stdout",
     "output_type": "stream",
     "text": [
      "16 of 50 calculations completed 45.58405804634094 seconds elapsed,estimated 88.48670091348536 seconds remaining.\n"
     ]
    },
    {
     "name": "stderr",
     "output_type": "stream",
     "text": [
      "Building within-household transmission matrix: 100%|██████████████████████████████████████████████████████████████████████████████████████████████████████████████████████████████████████████████████████████| 6/6 [00:00<00:00, 81.71it/s]\n",
      "C:\\Users\\Joe Hilton\\Anaconda3\\lib\\site-packages\\scipy\\sparse\\linalg\\dsolve\\linsolve.py:296: SparseEfficiencyWarning: splu requires CSC matrix format\n",
      "  warn('splu requires CSC matrix format', SparseEfficiencyWarning)\n",
      "C:\\Users\\Joe Hilton\\Anaconda3\\lib\\site-packages\\scipy\\sparse\\linalg\\dsolve\\linsolve.py:203: SparseEfficiencyWarning: spsolve is more efficient when sparse b is in the CSC matrix format\n",
      "  'is in the CSC matrix format', SparseEfficiencyWarning)\n",
      "C:\\Users\\Joe Hilton\\Anaconda3\\lib\\site-packages\\ipykernel_launcher.py:66: ComplexWarning: Casting complex values to real discards the imaginary part\n"
     ]
    },
    {
     "name": "stdout",
     "output_type": "stream",
     "text": [
      "17 of 50 calculations completed 47.93739199638367 seconds elapsed,estimated 85.22203021579318 seconds remaining.\n"
     ]
    },
    {
     "name": "stderr",
     "output_type": "stream",
     "text": [
      "Building within-household transmission matrix: 100%|██████████████████████████████████████████████████████████████████████████████████████████████████████████████████████████████████████████████████████████| 6/6 [00:00<00:00, 65.94it/s]\n",
      "C:\\Users\\Joe Hilton\\Anaconda3\\lib\\site-packages\\scipy\\sparse\\linalg\\dsolve\\linsolve.py:296: SparseEfficiencyWarning: splu requires CSC matrix format\n",
      "  warn('splu requires CSC matrix format', SparseEfficiencyWarning)\n",
      "C:\\Users\\Joe Hilton\\Anaconda3\\lib\\site-packages\\scipy\\sparse\\linalg\\dsolve\\linsolve.py:203: SparseEfficiencyWarning: spsolve is more efficient when sparse b is in the CSC matrix format\n",
      "  'is in the CSC matrix format', SparseEfficiencyWarning)\n",
      "C:\\Users\\Joe Hilton\\Anaconda3\\lib\\site-packages\\ipykernel_launcher.py:66: ComplexWarning: Casting complex values to real discards the imaginary part\n"
     ]
    },
    {
     "name": "stdout",
     "output_type": "stream",
     "text": [
      "18 of 50 calculations completed 49.72591543197632 seconds elapsed,estimated 81.13175675743504 seconds remaining.\n"
     ]
    },
    {
     "name": "stderr",
     "output_type": "stream",
     "text": [
      "Building within-household transmission matrix: 100%|██████████████████████████████████████████████████████████████████████████████████████████████████████████████████████████████████████████████████████████| 6/6 [00:00<00:00, 64.28it/s]\n",
      "C:\\Users\\Joe Hilton\\Anaconda3\\lib\\site-packages\\scipy\\sparse\\linalg\\dsolve\\linsolve.py:296: SparseEfficiencyWarning: splu requires CSC matrix format\n",
      "  warn('splu requires CSC matrix format', SparseEfficiencyWarning)\n",
      "C:\\Users\\Joe Hilton\\Anaconda3\\lib\\site-packages\\scipy\\sparse\\linalg\\dsolve\\linsolve.py:203: SparseEfficiencyWarning: spsolve is more efficient when sparse b is in the CSC matrix format\n",
      "  'is in the CSC matrix format', SparseEfficiencyWarning)\n",
      "C:\\Users\\Joe Hilton\\Anaconda3\\lib\\site-packages\\ipykernel_launcher.py:66: ComplexWarning: Casting complex values to real discards the imaginary part\n"
     ]
    },
    {
     "name": "stdout",
     "output_type": "stream",
     "text": [
      "19 of 50 calculations completed 53.85653495788574 seconds elapsed,estimated 80.78480243682861 seconds remaining.\n"
     ]
    },
    {
     "name": "stderr",
     "output_type": "stream",
     "text": [
      "Building within-household transmission matrix: 100%|██████████████████████████████████████████████████████████████████████████████████████████████████████████████████████████████████████████████████████████| 6/6 [00:00<00:00, 83.81it/s]\n",
      "C:\\Users\\Joe Hilton\\Anaconda3\\lib\\site-packages\\scipy\\sparse\\linalg\\dsolve\\linsolve.py:296: SparseEfficiencyWarning: splu requires CSC matrix format\n",
      "  warn('splu requires CSC matrix format', SparseEfficiencyWarning)\n",
      "C:\\Users\\Joe Hilton\\Anaconda3\\lib\\site-packages\\scipy\\sparse\\linalg\\dsolve\\linsolve.py:203: SparseEfficiencyWarning: spsolve is more efficient when sparse b is in the CSC matrix format\n",
      "  'is in the CSC matrix format', SparseEfficiencyWarning)\n",
      "C:\\Users\\Joe Hilton\\Anaconda3\\lib\\site-packages\\ipykernel_launcher.py:66: ComplexWarning: Casting complex values to real discards the imaginary part\n"
     ]
    },
    {
     "name": "stdout",
     "output_type": "stream",
     "text": [
      "20 of 50 calculations completed 56.82150602340698 seconds elapsed,estimated 78.46779403232392 seconds remaining.\n"
     ]
    },
    {
     "name": "stderr",
     "output_type": "stream",
     "text": [
      "Building within-household transmission matrix: 100%|██████████████████████████████████████████████████████████████████████████████████████████████████████████████████████████████████████████████████████████| 6/6 [00:00<00:00, 74.38it/s]\n",
      "C:\\Users\\Joe Hilton\\Anaconda3\\lib\\site-packages\\scipy\\sparse\\linalg\\dsolve\\linsolve.py:296: SparseEfficiencyWarning: splu requires CSC matrix format\n",
      "  warn('splu requires CSC matrix format', SparseEfficiencyWarning)\n",
      "C:\\Users\\Joe Hilton\\Anaconda3\\lib\\site-packages\\scipy\\sparse\\linalg\\dsolve\\linsolve.py:203: SparseEfficiencyWarning: spsolve is more efficient when sparse b is in the CSC matrix format\n",
      "  'is in the CSC matrix format', SparseEfficiencyWarning)\n",
      "C:\\Users\\Joe Hilton\\Anaconda3\\lib\\site-packages\\ipykernel_launcher.py:66: ComplexWarning: Casting complex values to real discards the imaginary part\n"
     ]
    },
    {
     "name": "stdout",
     "output_type": "stream",
     "text": [
      "21 of 50 calculations completed 59.045204639434814 seconds elapsed,estimated 75.14844226837158 seconds remaining.\n"
     ]
    },
    {
     "name": "stderr",
     "output_type": "stream",
     "text": [
      "Building within-household transmission matrix: 100%|██████████████████████████████████████████████████████████████████████████████████████████████████████████████████████████████████████████████████████████| 6/6 [00:00<00:00, 86.28it/s]\n",
      "C:\\Users\\Joe Hilton\\Anaconda3\\lib\\site-packages\\scipy\\sparse\\linalg\\dsolve\\linsolve.py:296: SparseEfficiencyWarning: splu requires CSC matrix format\n",
      "  warn('splu requires CSC matrix format', SparseEfficiencyWarning)\n",
      "C:\\Users\\Joe Hilton\\Anaconda3\\lib\\site-packages\\scipy\\sparse\\linalg\\dsolve\\linsolve.py:203: SparseEfficiencyWarning: spsolve is more efficient when sparse b is in the CSC matrix format\n",
      "  'is in the CSC matrix format', SparseEfficiencyWarning)\n",
      "C:\\Users\\Joe Hilton\\Anaconda3\\lib\\site-packages\\ipykernel_launcher.py:66: ComplexWarning: Casting complex values to real discards the imaginary part\n"
     ]
    },
    {
     "name": "stdout",
     "output_type": "stream",
     "text": [
      "22 of 50 calculations completed 60.43252754211426 seconds elapsed,estimated 70.94253233204718 seconds remaining.\n"
     ]
    },
    {
     "name": "stderr",
     "output_type": "stream",
     "text": [
      "Building within-household transmission matrix: 100%|██████████████████████████████████████████████████████████████████████████████████████████████████████████████████████████████████████████████████████████| 6/6 [00:00<00:00, 76.97it/s]\n",
      "C:\\Users\\Joe Hilton\\Anaconda3\\lib\\site-packages\\scipy\\sparse\\linalg\\dsolve\\linsolve.py:296: SparseEfficiencyWarning: splu requires CSC matrix format\n",
      "  warn('splu requires CSC matrix format', SparseEfficiencyWarning)\n",
      "C:\\Users\\Joe Hilton\\Anaconda3\\lib\\site-packages\\scipy\\sparse\\linalg\\dsolve\\linsolve.py:203: SparseEfficiencyWarning: spsolve is more efficient when sparse b is in the CSC matrix format\n",
      "  'is in the CSC matrix format', SparseEfficiencyWarning)\n",
      "C:\\Users\\Joe Hilton\\Anaconda3\\lib\\site-packages\\ipykernel_launcher.py:66: ComplexWarning: Casting complex values to real discards the imaginary part\n"
     ]
    },
    {
     "name": "stdout",
     "output_type": "stream",
     "text": [
      "23 of 50 calculations completed 63.676300287246704 seconds elapsed,estimated 68.98265864451726 seconds remaining.\n"
     ]
    },
    {
     "name": "stderr",
     "output_type": "stream",
     "text": [
      "Building within-household transmission matrix: 100%|██████████████████████████████████████████████████████████████████████████████████████████████████████████████████████████████████████████████████████████| 6/6 [00:00<00:00, 80.27it/s]\n",
      "C:\\Users\\Joe Hilton\\Anaconda3\\lib\\site-packages\\scipy\\sparse\\linalg\\dsolve\\linsolve.py:296: SparseEfficiencyWarning: splu requires CSC matrix format\n",
      "  warn('splu requires CSC matrix format', SparseEfficiencyWarning)\n",
      "C:\\Users\\Joe Hilton\\Anaconda3\\lib\\site-packages\\scipy\\sparse\\linalg\\dsolve\\linsolve.py:203: SparseEfficiencyWarning: spsolve is more efficient when sparse b is in the CSC matrix format\n",
      "  'is in the CSC matrix format', SparseEfficiencyWarning)\n",
      "C:\\Users\\Joe Hilton\\Anaconda3\\lib\\site-packages\\ipykernel_launcher.py:66: ComplexWarning: Casting complex values to real discards the imaginary part\n"
     ]
    },
    {
     "name": "stdout",
     "output_type": "stream",
     "text": [
      "24 of 50 calculations completed 65.51793837547302 seconds elapsed,estimated 65.51793837547302 seconds remaining.\n"
     ]
    },
    {
     "name": "stderr",
     "output_type": "stream",
     "text": [
      "Building within-household transmission matrix: 100%|██████████████████████████████████████████████████████████████████████████████████████████████████████████████████████████████████████████████████████████| 6/6 [00:00<00:00, 82.66it/s]\n",
      "C:\\Users\\Joe Hilton\\Anaconda3\\lib\\site-packages\\scipy\\sparse\\linalg\\dsolve\\linsolve.py:296: SparseEfficiencyWarning: splu requires CSC matrix format\n",
      "  warn('splu requires CSC matrix format', SparseEfficiencyWarning)\n",
      "C:\\Users\\Joe Hilton\\Anaconda3\\lib\\site-packages\\scipy\\sparse\\linalg\\dsolve\\linsolve.py:203: SparseEfficiencyWarning: spsolve is more efficient when sparse b is in the CSC matrix format\n",
      "  'is in the CSC matrix format', SparseEfficiencyWarning)\n",
      "C:\\Users\\Joe Hilton\\Anaconda3\\lib\\site-packages\\ipykernel_launcher.py:66: ComplexWarning: Casting complex values to real discards the imaginary part\n"
     ]
    },
    {
     "name": "stdout",
     "output_type": "stream",
     "text": [
      "25 of 50 calculations completed 67.81963086128235 seconds elapsed,estimated 62.60273617964525 seconds remaining.\n"
     ]
    },
    {
     "name": "stderr",
     "output_type": "stream",
     "text": [
      "Building within-household transmission matrix: 100%|██████████████████████████████████████████████████████████████████████████████████████████████████████████████████████████████████████████████████████████| 6/6 [00:00<00:00, 86.88it/s]\n",
      "C:\\Users\\Joe Hilton\\Anaconda3\\lib\\site-packages\\scipy\\sparse\\linalg\\dsolve\\linsolve.py:296: SparseEfficiencyWarning: splu requires CSC matrix format\n",
      "  warn('splu requires CSC matrix format', SparseEfficiencyWarning)\n",
      "C:\\Users\\Joe Hilton\\Anaconda3\\lib\\site-packages\\scipy\\sparse\\linalg\\dsolve\\linsolve.py:203: SparseEfficiencyWarning: spsolve is more efficient when sparse b is in the CSC matrix format\n",
      "  'is in the CSC matrix format', SparseEfficiencyWarning)\n",
      "C:\\Users\\Joe Hilton\\Anaconda3\\lib\\site-packages\\ipykernel_launcher.py:66: ComplexWarning: Casting complex values to real discards the imaginary part\n"
     ]
    },
    {
     "name": "stdout",
     "output_type": "stream",
     "text": [
      "26 of 50 calculations completed 71.73826909065247 seconds elapsed,estimated 61.110377373518766 seconds remaining.\n"
     ]
    },
    {
     "name": "stderr",
     "output_type": "stream",
     "text": [
      "Building within-household transmission matrix: 100%|██████████████████████████████████████████████████████████████████████████████████████████████████████████████████████████████████████████████████████████| 6/6 [00:00<00:00, 76.97it/s]\n",
      "C:\\Users\\Joe Hilton\\Anaconda3\\lib\\site-packages\\scipy\\sparse\\linalg\\dsolve\\linsolve.py:296: SparseEfficiencyWarning: splu requires CSC matrix format\n",
      "  warn('splu requires CSC matrix format', SparseEfficiencyWarning)\n",
      "C:\\Users\\Joe Hilton\\Anaconda3\\lib\\site-packages\\scipy\\sparse\\linalg\\dsolve\\linsolve.py:203: SparseEfficiencyWarning: spsolve is more efficient when sparse b is in the CSC matrix format\n",
      "  'is in the CSC matrix format', SparseEfficiencyWarning)\n",
      "C:\\Users\\Joe Hilton\\Anaconda3\\lib\\site-packages\\ipykernel_launcher.py:66: ComplexWarning: Casting complex values to real discards the imaginary part\n"
     ]
    },
    {
     "name": "stdout",
     "output_type": "stream",
     "text": [
      "27 of 50 calculations completed 74.1689121723175 seconds elapsed,estimated 58.27557384967804 seconds remaining.\n"
     ]
    },
    {
     "name": "stderr",
     "output_type": "stream",
     "text": [
      "Building within-household transmission matrix: 100%|██████████████████████████████████████████████████████████████████████████████████████████████████████████████████████████████████████████████████████████| 6/6 [00:00<00:00, 72.30it/s]\n",
      "C:\\Users\\Joe Hilton\\Anaconda3\\lib\\site-packages\\scipy\\sparse\\linalg\\dsolve\\linsolve.py:296: SparseEfficiencyWarning: splu requires CSC matrix format\n",
      "  warn('splu requires CSC matrix format', SparseEfficiencyWarning)\n",
      "C:\\Users\\Joe Hilton\\Anaconda3\\lib\\site-packages\\scipy\\sparse\\linalg\\dsolve\\linsolve.py:203: SparseEfficiencyWarning: spsolve is more efficient when sparse b is in the CSC matrix format\n",
      "  'is in the CSC matrix format', SparseEfficiencyWarning)\n",
      "C:\\Users\\Joe Hilton\\Anaconda3\\lib\\site-packages\\ipykernel_launcher.py:66: ComplexWarning: Casting complex values to real discards the imaginary part\n"
     ]
    },
    {
     "name": "stdout",
     "output_type": "stream",
     "text": [
      "28 of 50 calculations completed 76.23972487449646 seconds elapsed,estimated 55.208076633256056 seconds remaining.\n"
     ]
    },
    {
     "name": "stderr",
     "output_type": "stream",
     "text": [
      "Building within-household transmission matrix: 100%|██████████████████████████████████████████████████████████████████████████████████████████████████████████████████████████████████████████████████████████| 6/6 [00:00<00:00, 80.05it/s]\n",
      "C:\\Users\\Joe Hilton\\Anaconda3\\lib\\site-packages\\scipy\\sparse\\linalg\\dsolve\\linsolve.py:296: SparseEfficiencyWarning: splu requires CSC matrix format\n",
      "  warn('splu requires CSC matrix format', SparseEfficiencyWarning)\n",
      "C:\\Users\\Joe Hilton\\Anaconda3\\lib\\site-packages\\scipy\\sparse\\linalg\\dsolve\\linsolve.py:203: SparseEfficiencyWarning: spsolve is more efficient when sparse b is in the CSC matrix format\n",
      "  'is in the CSC matrix format', SparseEfficiencyWarning)\n",
      "C:\\Users\\Joe Hilton\\Anaconda3\\lib\\site-packages\\ipykernel_launcher.py:66: ComplexWarning: Casting complex values to real discards the imaginary part\n"
     ]
    },
    {
     "name": "stdout",
     "output_type": "stream",
     "text": [
      "29 of 50 calculations completed 79.05312514305115 seconds elapsed,estimated 52.70208342870077 seconds remaining.\n"
     ]
    },
    {
     "name": "stderr",
     "output_type": "stream",
     "text": [
      "Building within-household transmission matrix: 100%|██████████████████████████████████████████████████████████████████████████████████████████████████████████████████████████████████████████████████████████| 6/6 [00:00<00:00, 77.00it/s]\n",
      "C:\\Users\\Joe Hilton\\Anaconda3\\lib\\site-packages\\scipy\\sparse\\linalg\\dsolve\\linsolve.py:296: SparseEfficiencyWarning: splu requires CSC matrix format\n",
      "  warn('splu requires CSC matrix format', SparseEfficiencyWarning)\n",
      "C:\\Users\\Joe Hilton\\Anaconda3\\lib\\site-packages\\scipy\\sparse\\linalg\\dsolve\\linsolve.py:203: SparseEfficiencyWarning: spsolve is more efficient when sparse b is in the CSC matrix format\n",
      "  'is in the CSC matrix format', SparseEfficiencyWarning)\n",
      "C:\\Users\\Joe Hilton\\Anaconda3\\lib\\site-packages\\ipykernel_launcher.py:66: ComplexWarning: Casting complex values to real discards the imaginary part\n"
     ]
    },
    {
     "name": "stdout",
     "output_type": "stream",
     "text": [
      "30 of 50 calculations completed 81.67260265350342 seconds elapsed,estimated 50.057401626340805 seconds remaining.\n"
     ]
    },
    {
     "name": "stderr",
     "output_type": "stream",
     "text": [
      "Building within-household transmission matrix: 100%|██████████████████████████████████████████████████████████████████████████████████████████████████████████████████████████████████████████████████████████| 6/6 [00:00<00:00, 81.13it/s]\n",
      "C:\\Users\\Joe Hilton\\Anaconda3\\lib\\site-packages\\scipy\\sparse\\linalg\\dsolve\\linsolve.py:296: SparseEfficiencyWarning: splu requires CSC matrix format\n",
      "  warn('splu requires CSC matrix format', SparseEfficiencyWarning)\n",
      "C:\\Users\\Joe Hilton\\Anaconda3\\lib\\site-packages\\scipy\\sparse\\linalg\\dsolve\\linsolve.py:203: SparseEfficiencyWarning: spsolve is more efficient when sparse b is in the CSC matrix format\n",
      "  'is in the CSC matrix format', SparseEfficiencyWarning)\n",
      "C:\\Users\\Joe Hilton\\Anaconda3\\lib\\site-packages\\ipykernel_launcher.py:66: ComplexWarning: Casting complex values to real discards the imaginary part\n"
     ]
    },
    {
     "name": "stdout",
     "output_type": "stream",
     "text": [
      "31 of 50 calculations completed 84.05576086044312 seconds elapsed,estimated 47.28136548399925 seconds remaining.\n"
     ]
    },
    {
     "name": "stderr",
     "output_type": "stream",
     "text": [
      "Building within-household transmission matrix: 100%|██████████████████████████████████████████████████████████████████████████████████████████████████████████████████████████████████████████████████████████| 6/6 [00:00<00:00, 75.94it/s]\n",
      "C:\\Users\\Joe Hilton\\Anaconda3\\lib\\site-packages\\scipy\\sparse\\linalg\\dsolve\\linsolve.py:296: SparseEfficiencyWarning: splu requires CSC matrix format\n",
      "  warn('splu requires CSC matrix format', SparseEfficiencyWarning)\n",
      "C:\\Users\\Joe Hilton\\Anaconda3\\lib\\site-packages\\scipy\\sparse\\linalg\\dsolve\\linsolve.py:203: SparseEfficiencyWarning: spsolve is more efficient when sparse b is in the CSC matrix format\n",
      "  'is in the CSC matrix format', SparseEfficiencyWarning)\n",
      "C:\\Users\\Joe Hilton\\Anaconda3\\lib\\site-packages\\ipykernel_launcher.py:66: ComplexWarning: Casting complex values to real discards the imaginary part\n"
     ]
    },
    {
     "name": "stdout",
     "output_type": "stream",
     "text": [
      "32 of 50 calculations completed 85.6537778377533 seconds elapsed,estimated 44.12467343156988 seconds remaining.\n"
     ]
    },
    {
     "name": "stderr",
     "output_type": "stream",
     "text": [
      "Building within-household transmission matrix: 100%|██████████████████████████████████████████████████████████████████████████████████████████████████████████████████████████████████████████████████████████| 6/6 [00:00<00:00, 77.12it/s]\n",
      "C:\\Users\\Joe Hilton\\Anaconda3\\lib\\site-packages\\scipy\\sparse\\linalg\\dsolve\\linsolve.py:296: SparseEfficiencyWarning: splu requires CSC matrix format\n",
      "  warn('splu requires CSC matrix format', SparseEfficiencyWarning)\n",
      "C:\\Users\\Joe Hilton\\Anaconda3\\lib\\site-packages\\scipy\\sparse\\linalg\\dsolve\\linsolve.py:203: SparseEfficiencyWarning: spsolve is more efficient when sparse b is in the CSC matrix format\n",
      "  'is in the CSC matrix format', SparseEfficiencyWarning)\n",
      "C:\\Users\\Joe Hilton\\Anaconda3\\lib\\site-packages\\ipykernel_launcher.py:66: ComplexWarning: Casting complex values to real discards the imaginary part\n"
     ]
    },
    {
     "name": "stdout",
     "output_type": "stream",
     "text": [
      "33 of 50 calculations completed 88.74992942810059 seconds elapsed,estimated 41.76467267204733 seconds remaining.\n"
     ]
    },
    {
     "name": "stderr",
     "output_type": "stream",
     "text": [
      "Building within-household transmission matrix: 100%|██████████████████████████████████████████████████████████████████████████████████████████████████████████████████████████████████████████████████████████| 6/6 [00:00<00:00, 78.32it/s]\n",
      "C:\\Users\\Joe Hilton\\Anaconda3\\lib\\site-packages\\scipy\\sparse\\linalg\\dsolve\\linsolve.py:296: SparseEfficiencyWarning: splu requires CSC matrix format\n",
      "  warn('splu requires CSC matrix format', SparseEfficiencyWarning)\n",
      "C:\\Users\\Joe Hilton\\Anaconda3\\lib\\site-packages\\scipy\\sparse\\linalg\\dsolve\\linsolve.py:203: SparseEfficiencyWarning: spsolve is more efficient when sparse b is in the CSC matrix format\n",
      "  'is in the CSC matrix format', SparseEfficiencyWarning)\n",
      "C:\\Users\\Joe Hilton\\Anaconda3\\lib\\site-packages\\ipykernel_launcher.py:66: ComplexWarning: Casting complex values to real discards the imaginary part\n"
     ]
    },
    {
     "name": "stdout",
     "output_type": "stream",
     "text": [
      "34 of 50 calculations completed 90.59107184410095 seconds elapsed,estimated 38.824745076043264 seconds remaining.\n"
     ]
    },
    {
     "name": "stderr",
     "output_type": "stream",
     "text": [
      "Building within-household transmission matrix: 100%|██████████████████████████████████████████████████████████████████████████████████████████████████████████████████████████████████████████████████████████| 6/6 [00:00<00:00, 83.77it/s]\n",
      "C:\\Users\\Joe Hilton\\Anaconda3\\lib\\site-packages\\scipy\\sparse\\linalg\\dsolve\\linsolve.py:296: SparseEfficiencyWarning: splu requires CSC matrix format\n",
      "  warn('splu requires CSC matrix format', SparseEfficiencyWarning)\n",
      "C:\\Users\\Joe Hilton\\Anaconda3\\lib\\site-packages\\scipy\\sparse\\linalg\\dsolve\\linsolve.py:203: SparseEfficiencyWarning: spsolve is more efficient when sparse b is in the CSC matrix format\n",
      "  'is in the CSC matrix format', SparseEfficiencyWarning)\n",
      "C:\\Users\\Joe Hilton\\Anaconda3\\lib\\site-packages\\ipykernel_launcher.py:66: ComplexWarning: Casting complex values to real discards the imaginary part\n"
     ]
    },
    {
     "name": "stdout",
     "output_type": "stream",
     "text": [
      "35 of 50 calculations completed 93.47761487960815 seconds elapsed,estimated 36.35240578651428 seconds remaining.\n"
     ]
    },
    {
     "name": "stderr",
     "output_type": "stream",
     "text": [
      "Building within-household transmission matrix: 100%|██████████████████████████████████████████████████████████████████████████████████████████████████████████████████████████████████████████████████████████| 6/6 [00:00<00:00, 82.61it/s]\n",
      "C:\\Users\\Joe Hilton\\Anaconda3\\lib\\site-packages\\scipy\\sparse\\linalg\\dsolve\\linsolve.py:296: SparseEfficiencyWarning: splu requires CSC matrix format\n",
      "  warn('splu requires CSC matrix format', SparseEfficiencyWarning)\n",
      "C:\\Users\\Joe Hilton\\Anaconda3\\lib\\site-packages\\scipy\\sparse\\linalg\\dsolve\\linsolve.py:203: SparseEfficiencyWarning: spsolve is more efficient when sparse b is in the CSC matrix format\n",
      "  'is in the CSC matrix format', SparseEfficiencyWarning)\n",
      "C:\\Users\\Joe Hilton\\Anaconda3\\lib\\site-packages\\ipykernel_launcher.py:66: ComplexWarning: Casting complex values to real discards the imaginary part\n"
     ]
    },
    {
     "name": "stdout",
     "output_type": "stream",
     "text": [
      "36 of 50 calculations completed 97.21376276016235 seconds elapsed,estimated 34.15618691573272 seconds remaining.\n"
     ]
    },
    {
     "name": "stderr",
     "output_type": "stream",
     "text": [
      "Building within-household transmission matrix: 100%|██████████████████████████████████████████████████████████████████████████████████████████████████████████████████████████████████████████████████████████| 6/6 [00:00<00:00, 78.27it/s]\n",
      "C:\\Users\\Joe Hilton\\Anaconda3\\lib\\site-packages\\scipy\\sparse\\linalg\\dsolve\\linsolve.py:296: SparseEfficiencyWarning: splu requires CSC matrix format\n",
      "  warn('splu requires CSC matrix format', SparseEfficiencyWarning)\n",
      "C:\\Users\\Joe Hilton\\Anaconda3\\lib\\site-packages\\scipy\\sparse\\linalg\\dsolve\\linsolve.py:203: SparseEfficiencyWarning: spsolve is more efficient when sparse b is in the CSC matrix format\n",
      "  'is in the CSC matrix format', SparseEfficiencyWarning)\n",
      "C:\\Users\\Joe Hilton\\Anaconda3\\lib\\site-packages\\ipykernel_launcher.py:66: ComplexWarning: Casting complex values to real discards the imaginary part\n"
     ]
    },
    {
     "name": "stdout",
     "output_type": "stream",
     "text": [
      "37 of 50 calculations completed 100.48683452606201 seconds elapsed,estimated 31.732684587177477 seconds remaining.\n"
     ]
    },
    {
     "name": "stderr",
     "output_type": "stream",
     "text": [
      "Building within-household transmission matrix: 100%|██████████████████████████████████████████████████████████████████████████████████████████████████████████████████████████████████████████████████████████| 6/6 [00:00<00:00, 79.36it/s]\n",
      "C:\\Users\\Joe Hilton\\Anaconda3\\lib\\site-packages\\scipy\\sparse\\linalg\\dsolve\\linsolve.py:296: SparseEfficiencyWarning: splu requires CSC matrix format\n",
      "  warn('splu requires CSC matrix format', SparseEfficiencyWarning)\n",
      "C:\\Users\\Joe Hilton\\Anaconda3\\lib\\site-packages\\scipy\\sparse\\linalg\\dsolve\\linsolve.py:203: SparseEfficiencyWarning: spsolve is more efficient when sparse b is in the CSC matrix format\n",
      "  'is in the CSC matrix format', SparseEfficiencyWarning)\n",
      "C:\\Users\\Joe Hilton\\Anaconda3\\lib\\site-packages\\ipykernel_launcher.py:66: ComplexWarning: Casting complex values to real discards the imaginary part\n"
     ]
    },
    {
     "name": "stdout",
     "output_type": "stream",
     "text": [
      "38 of 50 calculations completed 102.80189299583435 seconds elapsed,estimated 28.995405716773792 seconds remaining.\n"
     ]
    },
    {
     "name": "stderr",
     "output_type": "stream",
     "text": [
      "Building within-household transmission matrix: 100%|██████████████████████████████████████████████████████████████████████████████████████████████████████████████████████████████████████████████████████████| 6/6 [00:00<00:00, 76.75it/s]\n",
      "C:\\Users\\Joe Hilton\\Anaconda3\\lib\\site-packages\\scipy\\sparse\\linalg\\dsolve\\linsolve.py:296: SparseEfficiencyWarning: splu requires CSC matrix format\n",
      "  warn('splu requires CSC matrix format', SparseEfficiencyWarning)\n",
      "C:\\Users\\Joe Hilton\\Anaconda3\\lib\\site-packages\\scipy\\sparse\\linalg\\dsolve\\linsolve.py:203: SparseEfficiencyWarning: spsolve is more efficient when sparse b is in the CSC matrix format\n",
      "  'is in the CSC matrix format', SparseEfficiencyWarning)\n",
      "C:\\Users\\Joe Hilton\\Anaconda3\\lib\\site-packages\\ipykernel_launcher.py:66: ComplexWarning: Casting complex values to real discards the imaginary part\n"
     ]
    },
    {
     "name": "stdout",
     "output_type": "stream",
     "text": [
      "39 of 50 calculations completed 105.03493022918701 seconds elapsed,estimated 26.258732557296753 seconds remaining.\n"
     ]
    },
    {
     "name": "stderr",
     "output_type": "stream",
     "text": [
      "Building within-household transmission matrix: 100%|██████████████████████████████████████████████████████████████████████████████████████████████████████████████████████████████████████████████████████████| 6/6 [00:00<00:00, 80.80it/s]\n",
      "C:\\Users\\Joe Hilton\\Anaconda3\\lib\\site-packages\\scipy\\sparse\\linalg\\dsolve\\linsolve.py:296: SparseEfficiencyWarning: splu requires CSC matrix format\n",
      "  warn('splu requires CSC matrix format', SparseEfficiencyWarning)\n",
      "C:\\Users\\Joe Hilton\\Anaconda3\\lib\\site-packages\\scipy\\sparse\\linalg\\dsolve\\linsolve.py:203: SparseEfficiencyWarning: spsolve is more efficient when sparse b is in the CSC matrix format\n",
      "  'is in the CSC matrix format', SparseEfficiencyWarning)\n",
      "C:\\Users\\Joe Hilton\\Anaconda3\\lib\\site-packages\\ipykernel_launcher.py:66: ComplexWarning: Casting complex values to real discards the imaginary part\n"
     ]
    },
    {
     "name": "stdout",
     "output_type": "stream",
     "text": [
      "40 of 50 calculations completed 106.85068416595459 seconds elapsed,estimated 23.455028231551008 seconds remaining.\n"
     ]
    },
    {
     "name": "stderr",
     "output_type": "stream",
     "text": [
      "Building within-household transmission matrix: 100%|██████████████████████████████████████████████████████████████████████████████████████████████████████████████████████████████████████████████████████████| 6/6 [00:00<00:00, 75.61it/s]\n",
      "C:\\Users\\Joe Hilton\\Anaconda3\\lib\\site-packages\\scipy\\sparse\\linalg\\dsolve\\linsolve.py:296: SparseEfficiencyWarning: splu requires CSC matrix format\n",
      "  warn('splu requires CSC matrix format', SparseEfficiencyWarning)\n",
      "C:\\Users\\Joe Hilton\\Anaconda3\\lib\\site-packages\\scipy\\sparse\\linalg\\dsolve\\linsolve.py:203: SparseEfficiencyWarning: spsolve is more efficient when sparse b is in the CSC matrix format\n",
      "  'is in the CSC matrix format', SparseEfficiencyWarning)\n",
      "C:\\Users\\Joe Hilton\\Anaconda3\\lib\\site-packages\\ipykernel_launcher.py:66: ComplexWarning: Casting complex values to real discards the imaginary part\n"
     ]
    },
    {
     "name": "stdout",
     "output_type": "stream",
     "text": [
      "41 of 50 calculations completed 109.29804039001465 seconds elapsed,estimated 20.81867436000279 seconds remaining.\n"
     ]
    },
    {
     "name": "stderr",
     "output_type": "stream",
     "text": [
      "Building within-household transmission matrix: 100%|██████████████████████████████████████████████████████████████████████████████████████████████████████████████████████████████████████████████████████████| 6/6 [00:00<00:00, 68.88it/s]\n",
      "C:\\Users\\Joe Hilton\\Anaconda3\\lib\\site-packages\\scipy\\sparse\\linalg\\dsolve\\linsolve.py:296: SparseEfficiencyWarning: splu requires CSC matrix format\n",
      "  warn('splu requires CSC matrix format', SparseEfficiencyWarning)\n",
      "C:\\Users\\Joe Hilton\\Anaconda3\\lib\\site-packages\\scipy\\sparse\\linalg\\dsolve\\linsolve.py:203: SparseEfficiencyWarning: spsolve is more efficient when sparse b is in the CSC matrix format\n",
      "  'is in the CSC matrix format', SparseEfficiencyWarning)\n",
      "C:\\Users\\Joe Hilton\\Anaconda3\\lib\\site-packages\\ipykernel_launcher.py:66: ComplexWarning: Casting complex values to real discards the imaginary part\n"
     ]
    },
    {
     "name": "stdout",
     "output_type": "stream",
     "text": [
      "42 of 50 calculations completed 112.25486707687378 seconds elapsed,estimated 18.274048128793407 seconds remaining.\n"
     ]
    },
    {
     "name": "stderr",
     "output_type": "stream",
     "text": [
      "Building within-household transmission matrix: 100%|██████████████████████████████████████████████████████████████████████████████████████████████████████████████████████████████████████████████████████████| 6/6 [00:00<00:00, 80.98it/s]\n",
      "C:\\Users\\Joe Hilton\\Anaconda3\\lib\\site-packages\\scipy\\sparse\\linalg\\dsolve\\linsolve.py:296: SparseEfficiencyWarning: splu requires CSC matrix format\n",
      "  warn('splu requires CSC matrix format', SparseEfficiencyWarning)\n",
      "C:\\Users\\Joe Hilton\\Anaconda3\\lib\\site-packages\\scipy\\sparse\\linalg\\dsolve\\linsolve.py:203: SparseEfficiencyWarning: spsolve is more efficient when sparse b is in the CSC matrix format\n",
      "  'is in the CSC matrix format', SparseEfficiencyWarning)\n",
      "C:\\Users\\Joe Hilton\\Anaconda3\\lib\\site-packages\\ipykernel_launcher.py:66: ComplexWarning: Casting complex values to real discards the imaginary part\n"
     ]
    },
    {
     "name": "stdout",
     "output_type": "stream",
     "text": [
      "43 of 50 calculations completed 114.4889087677002 seconds elapsed,estimated 15.612123922868209 seconds remaining.\n"
     ]
    },
    {
     "name": "stderr",
     "output_type": "stream",
     "text": [
      "Building within-household transmission matrix: 100%|██████████████████████████████████████████████████████████████████████████████████████████████████████████████████████████████████████████████████████████| 6/6 [00:00<00:00, 76.18it/s]\n",
      "C:\\Users\\Joe Hilton\\Anaconda3\\lib\\site-packages\\scipy\\sparse\\linalg\\dsolve\\linsolve.py:296: SparseEfficiencyWarning: splu requires CSC matrix format\n",
      "  warn('splu requires CSC matrix format', SparseEfficiencyWarning)\n",
      "C:\\Users\\Joe Hilton\\Anaconda3\\lib\\site-packages\\scipy\\sparse\\linalg\\dsolve\\linsolve.py:203: SparseEfficiencyWarning: spsolve is more efficient when sparse b is in the CSC matrix format\n",
      "  'is in the CSC matrix format', SparseEfficiencyWarning)\n",
      "C:\\Users\\Joe Hilton\\Anaconda3\\lib\\site-packages\\ipykernel_launcher.py:66: ComplexWarning: Casting complex values to real discards the imaginary part\n"
     ]
    },
    {
     "name": "stdout",
     "output_type": "stream",
     "text": [
      "44 of 50 calculations completed 117.00466132164001 seconds elapsed,estimated 13.000517924626669 seconds remaining.\n"
     ]
    },
    {
     "name": "stderr",
     "output_type": "stream",
     "text": [
      "Building within-household transmission matrix: 100%|██████████████████████████████████████████████████████████████████████████████████████████████████████████████████████████████████████████████████████████| 6/6 [00:00<00:00, 73.82it/s]\n",
      "C:\\Users\\Joe Hilton\\Anaconda3\\lib\\site-packages\\scipy\\sparse\\linalg\\dsolve\\linsolve.py:296: SparseEfficiencyWarning: splu requires CSC matrix format\n",
      "  warn('splu requires CSC matrix format', SparseEfficiencyWarning)\n",
      "C:\\Users\\Joe Hilton\\Anaconda3\\lib\\site-packages\\scipy\\sparse\\linalg\\dsolve\\linsolve.py:203: SparseEfficiencyWarning: spsolve is more efficient when sparse b is in the CSC matrix format\n",
      "  'is in the CSC matrix format', SparseEfficiencyWarning)\n",
      "C:\\Users\\Joe Hilton\\Anaconda3\\lib\\site-packages\\ipykernel_launcher.py:66: ComplexWarning: Casting complex values to real discards the imaginary part\n"
     ]
    },
    {
     "name": "stdout",
     "output_type": "stream",
     "text": [
      "45 of 50 calculations completed 119.30348467826843 seconds elapsed,estimated 10.374216058979863 seconds remaining.\n"
     ]
    },
    {
     "name": "stderr",
     "output_type": "stream",
     "text": [
      "Building within-household transmission matrix: 100%|██████████████████████████████████████████████████████████████████████████████████████████████████████████████████████████████████████████████████████████| 6/6 [00:00<00:00, 82.47it/s]\n",
      "C:\\Users\\Joe Hilton\\Anaconda3\\lib\\site-packages\\scipy\\sparse\\linalg\\dsolve\\linsolve.py:296: SparseEfficiencyWarning: splu requires CSC matrix format\n",
      "  warn('splu requires CSC matrix format', SparseEfficiencyWarning)\n",
      "C:\\Users\\Joe Hilton\\Anaconda3\\lib\\site-packages\\scipy\\sparse\\linalg\\dsolve\\linsolve.py:203: SparseEfficiencyWarning: spsolve is more efficient when sparse b is in the CSC matrix format\n",
      "  'is in the CSC matrix format', SparseEfficiencyWarning)\n",
      "C:\\Users\\Joe Hilton\\Anaconda3\\lib\\site-packages\\ipykernel_launcher.py:66: ComplexWarning: Casting complex values to real discards the imaginary part\n"
     ]
    },
    {
     "name": "stdout",
     "output_type": "stream",
     "text": [
      "46 of 50 calculations completed 122.76985192298889 seconds elapsed,estimated 7.836373526999291 seconds remaining.\n"
     ]
    },
    {
     "name": "stderr",
     "output_type": "stream",
     "text": [
      "Building within-household transmission matrix: 100%|██████████████████████████████████████████████████████████████████████████████████████████████████████████████████████████████████████████████████████████| 6/6 [00:00<00:00, 78.99it/s]\n",
      "C:\\Users\\Joe Hilton\\Anaconda3\\lib\\site-packages\\scipy\\sparse\\linalg\\dsolve\\linsolve.py:296: SparseEfficiencyWarning: splu requires CSC matrix format\n",
      "  warn('splu requires CSC matrix format', SparseEfficiencyWarning)\n",
      "C:\\Users\\Joe Hilton\\Anaconda3\\lib\\site-packages\\scipy\\sparse\\linalg\\dsolve\\linsolve.py:203: SparseEfficiencyWarning: spsolve is more efficient when sparse b is in the CSC matrix format\n",
      "  'is in the CSC matrix format', SparseEfficiencyWarning)\n",
      "C:\\Users\\Joe Hilton\\Anaconda3\\lib\\site-packages\\ipykernel_launcher.py:66: ComplexWarning: Casting complex values to real discards the imaginary part\n"
     ]
    },
    {
     "name": "stdout",
     "output_type": "stream",
     "text": [
      "47 of 50 calculations completed 124.49478125572205 seconds elapsed,estimated 5.187282552321752 seconds remaining.\n"
     ]
    },
    {
     "name": "stderr",
     "output_type": "stream",
     "text": [
      "Building within-household transmission matrix: 100%|██████████████████████████████████████████████████████████████████████████████████████████████████████████████████████████████████████████████████████████| 6/6 [00:00<00:00, 78.22it/s]\n",
      "C:\\Users\\Joe Hilton\\Anaconda3\\lib\\site-packages\\scipy\\sparse\\linalg\\dsolve\\linsolve.py:296: SparseEfficiencyWarning: splu requires CSC matrix format\n",
      "  warn('splu requires CSC matrix format', SparseEfficiencyWarning)\n",
      "C:\\Users\\Joe Hilton\\Anaconda3\\lib\\site-packages\\scipy\\sparse\\linalg\\dsolve\\linsolve.py:203: SparseEfficiencyWarning: spsolve is more efficient when sparse b is in the CSC matrix format\n",
      "  'is in the CSC matrix format', SparseEfficiencyWarning)\n",
      "C:\\Users\\Joe Hilton\\Anaconda3\\lib\\site-packages\\ipykernel_launcher.py:66: ComplexWarning: Casting complex values to real discards the imaginary part\n"
     ]
    },
    {
     "name": "stdout",
     "output_type": "stream",
     "text": [
      "48 of 50 calculations completed 126.05151271820068 seconds elapsed,estimated 2.5724798513918508 seconds remaining.\n"
     ]
    },
    {
     "name": "stderr",
     "output_type": "stream",
     "text": [
      "Building within-household transmission matrix: 100%|██████████████████████████████████████████████████████████████████████████████████████████████████████████████████████████████████████████████████████████| 6/6 [00:00<00:00, 82.42it/s]\n",
      "C:\\Users\\Joe Hilton\\Anaconda3\\lib\\site-packages\\scipy\\sparse\\linalg\\dsolve\\linsolve.py:296: SparseEfficiencyWarning: splu requires CSC matrix format\n",
      "  warn('splu requires CSC matrix format', SparseEfficiencyWarning)\n",
      "C:\\Users\\Joe Hilton\\Anaconda3\\lib\\site-packages\\scipy\\sparse\\linalg\\dsolve\\linsolve.py:203: SparseEfficiencyWarning: spsolve is more efficient when sparse b is in the CSC matrix format\n",
      "  'is in the CSC matrix format', SparseEfficiencyWarning)\n",
      "C:\\Users\\Joe Hilton\\Anaconda3\\lib\\site-packages\\ipykernel_launcher.py:66: ComplexWarning: Casting complex values to real discards the imaginary part\n"
     ]
    },
    {
     "name": "stdout",
     "output_type": "stream",
     "text": [
      "49 of 50 calculations completed 129.50047659873962 seconds elapsed,estimated 0.0 seconds remaining.\n"
     ]
    }
   ],
   "source": [
    "no_samples = 50\n",
    "\n",
    "r_range_list = []\n",
    "time_list = []\n",
    "eval_range_list = []\n",
    "\n",
    "start_time = get_time()\n",
    "for i in range(no_samples):\n",
    "    spec = draw_random_specs(SPEC)\n",
    "    r_now, t_now, evals_now = get_r_time_series_and_evals(spec)\n",
    "    r_range_list.append(r_now)\n",
    "    time_list.append(t_now)\n",
    "    eval_range_list.append(evals_now)\n",
    "    time_now = get_time()\n",
    "    print(i,\n",
    "          'of',\n",
    "          no_samples,\n",
    "          'calculations completed',\n",
    "          time_now-start_time,\n",
    "          'seconds elapsed,estimated',\n",
    "         (no_samples-(i+1))*(time_now-start_time)/(i+1),\n",
    "         'seconds remaining.')"
   ]
  },
  {
   "cell_type": "code",
   "execution_count": 21,
   "metadata": {},
   "outputs": [
    {
     "data": {
      "text/plain": [
       "Text(0.5, 0, 'Time in days')"
      ]
     },
     "execution_count": 21,
     "metadata": {},
     "output_type": "execute_result"
    },
    {
     "data": {
      "image/png": "[encoded data removed]",
      "text/plain": [
       "<Figure size 432x288 with 1 Axes>"
      ]
     },
     "metadata": {
      "needs_background": "light"
     },
     "output_type": "display_data"
    },
    {
     "data": {
      "image/png": "[encoded data removed]",
      "text/plain": [
       "<Figure size 432x288 with 1 Axes>"
      ]
     },
     "metadata": {
      "needs_background": "light"
     },
     "output_type": "display_data"
    }
   ],
   "source": [
    "fig, ax = subplots(1)\n",
    "\n",
    "for i in range(no_samples):\n",
    "    ax.plot(time_list[i][:-1], r_range_list[i])\n",
    "ax.set_ylabel('Growth rate')\n",
    "ax.set_xlabel('Time in days')\n",
    "\n",
    "fig, ax = subplots(1)\n",
    "\n",
    "for i in range(no_samples):\n",
    "    ax.plot(10*arange(len(eval_range_list[i])), eval_range_list[i])\n",
    "ax.set_ylim([-1,10])\n",
    "ax.set_ylabel('Leading eigenvalue')\n",
    "ax.set_xlabel('Time in days')"
   ]
  },
  {
   "cell_type": "markdown",
   "metadata": {},
   "source": [
    "Because we have not directly checked all of the parameter sets, there may be \"bad\" parameter sets samples which lead to strange behaviours in the model, although in theory all of them should allow for a sustained outbreak of infection. You should find that in the plot, most of the trajectories appear to settle around one during the period in their dynamics where the growth rate is constant."
   ]
  },
  {
   "cell_type": "markdown",
   "metadata": {},
   "source": [
    "## Calculating growth rate from model parameters\n",
    "\n",
    "The tests above suggest that the eigenvector equation we have identified holds; if we measure the growth rate $r$ during the exponential growth phase, then the leading eigenvalue of the compound matrix comes out as 1."
   ]
  },
  {
   "cell_type": "code",
   "execution_count": 22,
   "metadata": {},
   "outputs": [
    {
     "name": "stderr",
     "output_type": "stream",
     "text": [
      "Building within-household transmission matrix: 100%|████████████████████████████████████████████████████████████████████████████████████████████████████████████████████████████████████████████████████████| 27/27 [00:01<00:00, 19.16it/s]\n"
     ]
    }
   ],
   "source": [
    "SPEC = {**TWO_AGE_SEPIR_SPEC, **TWO_AGE_UK_SPEC}\n",
    "\n",
    "# List of observed household compositions\n",
    "composition_list = read_csv(\n",
    "    'inputs/eng_and_wales_adult_child_composition_list.csv',\n",
    "    header=0).to_numpy()\n",
    "# Proportion of households which are in each composition\n",
    "comp_dist = read_csv(\n",
    "    'inputs/eng_and_wales_adult_child_composition_dist.csv',\n",
    "    header=0).to_numpy().squeeze()\n",
    "no_risk_classes = composition_list.shape[1]\n",
    "reverse_comp_dist = diag(comp_dist).dot(composition_list)\n",
    "reverse_comp_dist = reverse_comp_dist.dot(diag(1/reverse_comp_dist.sum(0)))\n",
    "\n",
    "model_input = SEPIRInput(SPEC, composition_list, comp_dist)\n",
    "\n",
    "household_population = HouseholdPopulation(\n",
    "        composition_list, comp_dist, model_input)\n",
    "\n",
    "rhs = SEPIRRateEquations(model_input, household_population, NoImportModel(5,2))"
   ]
  },
  {
   "cell_type": "code",
   "execution_count": 23,
   "metadata": {},
   "outputs": [],
   "source": [
    "def estimate_growth_rate(household_population,rhs,interval=[0.01,0.1],tol=1e-3):\n",
    "    \n",
    "    Q_int = rhs.Q_int\n",
    "    FOI_by_state = zeros((Q_int.shape[0],no_risk_classes))\n",
    "    for ic in range(rhs.no_inf_compartments):\n",
    "                states_inf_only =  rhs.inf_by_state_list[ic]\n",
    "                FOI_by_state += (rhs.ext_matrix_list[ic].dot(\n",
    "                        rhs.epsilon * states_inf_only.T)).T\n",
    "    index_states = where(\n",
    "    ((rhs.states_exp_only.sum(axis=1)==1) * \n",
    "    ((rhs.states_pro_only + rhs.states_inf_only + rhs.states_rec_only).sum(axis=1)==0)))[0]\n",
    "\n",
    "    no_index_states = len(index_states)\n",
    "    comp_by_index_state = household_population.which_composition[index_states]\n",
    "    \n",
    "    starter_mat = sparse((ones(no_index_states),(range(no_index_states), index_states)),shape=(no_index_states,Q_int.shape[0]))\n",
    "    \n",
    "    index_prob = zeros((no_risk_classes,no_index_states))\n",
    "    for i in range(no_index_states):\n",
    "        index_class = where(rhs.states_exp_only[index_states[i],:]==1)[0]\n",
    "        index_prob[index_class,i] = reverse_comp_dist[comp_by_index_state[i], index_class]\n",
    "        \n",
    "    r_min = interval[0]\n",
    "    r_max = interval[1]\n",
    "    multiplier = get_multiplier(r_min, Q_int, FOI_by_state, index_prob, starter_mat)\n",
    "    eval_min = eig(multiplier.T)[0][0]\n",
    "    print('eval at min=',eval_min)\n",
    "    multiplier = get_multiplier(r_max, Q_int, FOI_by_state, index_prob, starter_mat)\n",
    "    eval_max = eig(multiplier.T)[0][0]\n",
    "    print('eval at max=',eval_max)\n",
    "    \n",
    "    if ((eval_min-1) * (eval_max-1) > 0):\n",
    "        print('Solution not contained within interval')\n",
    "        return None\n",
    "\n",
    "    while (r_max - r_min > tol):\n",
    "        r_now = 0.5 * (r_max + r_min)\n",
    "        multiplier = get_multiplier(r_now, Q_int, FOI_by_state, index_prob, starter_mat)\n",
    "        eval_now = eig(multiplier.T)[0][0]\n",
    "        print('eval at r =',r_now,'is',eval_now)\n",
    "        if ((eval_now-1) * (eval_max-1) > 0):\n",
    "            r_max = r_now\n",
    "        else:\n",
    "            r_min = r_now\n",
    "    \n",
    "    return r_now"
   ]
  },
  {
   "cell_type": "code",
   "execution_count": 24,
   "metadata": {
    "scrolled": true
   },
   "outputs": [
    {
     "name": "stderr",
     "output_type": "stream",
     "text": [
      "C:\\Users\\Joe Hilton\\Anaconda3\\lib\\site-packages\\scipy\\sparse\\linalg\\dsolve\\linsolve.py:296: SparseEfficiencyWarning: splu requires CSC matrix format\n",
      "  warn('splu requires CSC matrix format', SparseEfficiencyWarning)\n",
      "C:\\Users\\Joe Hilton\\Anaconda3\\lib\\site-packages\\scipy\\sparse\\linalg\\dsolve\\linsolve.py:203: SparseEfficiencyWarning: spsolve is more efficient when sparse b is in the CSC matrix format\n",
      "  'is in the CSC matrix format', SparseEfficiencyWarning)\n"
     ]
    },
    {
     "name": "stdout",
     "output_type": "stream",
     "text": [
      "eval at min= (1.5459497483476308+0j)\n",
      "eval at max= (0.5417507825899424+0j)\n",
      "eval at r = 0.055 is (0.8579530748862363+0j)\n",
      "eval at r = 0.0325 is (1.128451793155857+0j)\n",
      "eval at r = 0.04375 is (0.9795852917096448+0j)\n",
      "eval at r = 0.038125 is (1.0501437840626455+0j)\n",
      "eval at r = 0.0409375 is (1.0139607658437342+0j)\n",
      "eval at r = 0.04234375 is (0.9965546192292232+0j)\n",
      "eval at r = 0.041640625 is (1.0052021727737501+0j)\n"
     ]
    }
   ],
   "source": [
    "r_est = estimate_growth_rate(household_population,rhs)"
   ]
  },
  {
   "cell_type": "code",
   "execution_count": 25,
   "metadata": {},
   "outputs": [],
   "source": [
    "H0 = make_initial_condition(household_population, rhs)\n",
    "\n",
    "tspan = (0.0, 365)\n",
    "solution = solve_ivp(rhs, tspan, H0, first_step=0.001, atol=1e-16)\n",
    "\n",
    "time = solution.t\n",
    "H = solution.y\n",
    "S = H.T.dot(household_population.states[:, ::5])\n",
    "E = H.T.dot(household_population.states[:, 1::5])\n",
    "P = H.T.dot(household_population.states[:, 2::5])\n",
    "I = H.T.dot(household_population.states[:, 3::5])\n",
    "R = H.T.dot(household_population.states[:, 4::5])\n",
    "time_series = {\n",
    "'time':time,\n",
    "'S':S,\n",
    "'E':E,\n",
    "'P':P,\n",
    "'I':I,\n",
    "'R':R\n",
    "}"
   ]
  },
  {
   "cell_type": "code",
   "execution_count": 26,
   "metadata": {
    "scrolled": true
   },
   "outputs": [
    {
     "data": {
      "text/plain": [
       "<matplotlib.legend.Legend at 0x19ce309ae08>"
      ]
     },
     "execution_count": 26,
     "metadata": {},
     "output_type": "execute_result"
    },
    {
     "data": {
      "image/png": "[encoded data removed]",
      "text/plain": [
       "<Figure size 432x288 with 1 Axes>"
      ]
     },
     "metadata": {
      "needs_background": "light"
     },
     "output_type": "display_data"
    }
   ],
   "source": [
    "data_list = [time_series['S']/model_input.ave_hh_by_class,\n",
    "    time_series['E']/model_input.ave_hh_by_class,\n",
    "    time_series['P']/model_input.ave_hh_by_class,\n",
    "    time_series['I']/model_input.ave_hh_by_class,\n",
    "    time_series['R']/model_input.ave_hh_by_class]\n",
    "\n",
    "log_infs = log((data_list[1]+data_list[2]+data_list[3]).sum(axis=1))\n",
    "inf_states = where((rhs.states_exp_only + rhs.states_pro_only + rhs.states_inf_only).sum(axis=1)>0)[0]\n",
    "\n",
    "t_50 = argmin(abs(time - 50))\n",
    "t_150 = argmin(abs(time - 150))\n",
    "log_inf_est = log_infs[t_50] + r_est * (time[t_50:t_150] - time[t_50])\n",
    "\n",
    "fig, ax = subplots(1)\n",
    "\n",
    "ax.plot(time, log_infs,label='Infected individuals')\n",
    "ax.plot(time, log((H[inf_states]).sum(axis=0)),label='Infected households')\n",
    "ax.plot(time[t_50:t_150], log_inf_est, label='Estimated growth')\n",
    "ax.set_xlabel('Time in days')\n",
    "ax.set_ylabel('log value')\n",
    "ax.legend(ncol=1, bbox_to_anchor=(1,0.50))"
   ]
  },
  {
   "cell_type": "markdown",
   "metadata": {},
   "source": [
    "Our method slightly overestimates the growth rate."
   ]
  },
  {
   "cell_type": "markdown",
   "metadata": {},
   "source": [
    "## Estimating between-household mixing from a growth rate\n",
    "\n",
    "Given a growth rate $r$, we can estimate the compound matrix\n",
    "$$\n",
    "\\underline{\\underline{\\alpha}}(\\underline{\\underline{Q}} - r\\underline{\\underline{In}})^{-1}\\underline{\\underline{F}}\\underline{\\underline{P}}.\n",
    "$$\n",
    "Because $\\underline{\\underline{F}}$, the \"force of infection\" matrix, is linear in the baseline between-household mixing rate, we can rewrite the matrix as\n",
    "$$\n",
    "\\beta_G\\underline{\\underline{\\alpha}}(\\underline{\\underline{Q}} - r\\underline{\\underline{In}})^{-1}\\underline{\\underline{\\tilde{F}}}\\underline{\\underline{P}}.\n",
    "$$\n",
    "where $\\beta_G$ is the between-household mixing rate. Hence, to estimate this rate, we calculate\n",
    "$$\n",
    "\\underline{\\underline{\\alpha}}(\\underline{\\underline{Q}} - r\\underline{\\underline{In}})^{-1}\\underline{\\underline{\\tilde{F}(1)}}\\underline{\\underline{P}}.\n",
    "$$\n",
    "where $\\underline{\\underline{\\tilde{F}}}(1)$ is the force of infection matrix calculated with $\\beta_G$ fixed at 1, calculate its leading eigenvalue $\\lambda$, and then set\n",
    "$$\n",
    "\\beta_G = 1/\\lambda.\n",
    "$$"
   ]
  },
  {
   "cell_type": "code",
   "execution_count": null,
   "metadata": {},
   "outputs": [],
   "source": []
  }
 ],
 "metadata": {
  "kernelspec": {
   "display_name": "Python 3",
   "language": "python",
   "name": "python3"
  },
  "language_info": {
   "codemirror_mode": {
    "name": "ipython",
    "version": 3
   },
   "file_extension": ".py",
   "mimetype": "text/x-python",
   "name": "python",
   "nbconvert_exporter": "python",
   "pygments_lexer": "ipython3",
   "version": "3.7.4"
  }
 },
 "nbformat": 4,
 "nbformat_minor": 2
}
