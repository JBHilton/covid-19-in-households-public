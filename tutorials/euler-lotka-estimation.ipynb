{
 "cells": [
  {
   "cell_type": "markdown",
   "metadata": {},
   "source": [
    "# Estimating growth rate in the households model\n",
    "\n",
    "In this notebook, we start by running the UK SEPIR households example and estimating the growth rate directly. We then look at ways we can estimate it without directly solving the equations."
   ]
  },
  {
   "cell_type": "code",
   "execution_count": 1,
   "metadata": {},
   "outputs": [],
   "source": [
    "from matplotlib.pyplot import subplots\n",
    "from matplotlib.cm import get_cmap\n",
    "from numpy import arange, argmin, array, diag,  log, ones, where, zeros\n",
    "from numpy.linalg import eig\n",
    "from scipy.sparse import eye, identity\n",
    "from scipy.sparse import csc_matrix as sparse\n",
    "from scipy.sparse.linalg import inv\n",
    "from time import time as get_time"
   ]
  },
  {
   "cell_type": "code",
   "execution_count": 2,
   "metadata": {},
   "outputs": [],
   "source": [
    "from os import chdir, getcwd\n",
    "current_dir = getcwd()\n",
    "if current_dir[-9:] == 'tutorials':\n",
    "    chdir('..')"
   ]
  },
  {
   "cell_type": "markdown",
   "metadata": {},
   "source": [
    "The following block is just copy-pasted from the examples folder:"
   ]
  },
  {
   "cell_type": "code",
   "execution_count": 3,
   "metadata": {},
   "outputs": [
    {
     "name": "stderr",
     "output_type": "stream",
     "text": [
      "Building within-household transmission matrix: 100%|██████████████████████████████████████████████████████████████████████████████████████████████████████████████████████████████████████████████████████████| 5/5 [00:00<00:00, 70.31it/s]\n"
     ]
    }
   ],
   "source": [
    "from os.path import isfile\n",
    "from pickle import load, dump\n",
    "from pandas import read_csv\n",
    "from scipy.integrate import solve_ivp\n",
    "from model.preprocessing import (\n",
    "        SEPIRInput, HouseholdPopulation, make_initial_condition)\n",
    "from model.specs import TWO_AGE_SEPIR_SPEC, TWO_AGE_UK_SPEC\n",
    "from model.common import SEPIRRateEquations\n",
    "from model.imports import NoImportModel\n",
    "# pylint: disable=invalid-name\n",
    "\n",
    "SPEC = {**TWO_AGE_SEPIR_SPEC, **TWO_AGE_UK_SPEC}\n",
    "\n",
    "# List of observed household compositions\n",
    "composition_list = read_csv(\n",
    "    'inputs/eng_and_wales_adult_child_composition_list.csv',\n",
    "    header=0).to_numpy()\n",
    "# Proportion of households which are in each composition\n",
    "comp_dist = read_csv(\n",
    "    'inputs/eng_and_wales_adult_child_composition_dist.csv',\n",
    "    header=0).to_numpy().squeeze()\n",
    "\n",
    "model_input = SEPIRInput(SPEC, composition_list, comp_dist)\n",
    "\n",
    "household_population = HouseholdPopulation(\n",
    "        composition_list, comp_dist, model_input)\n",
    "\n",
    "rhs = SEPIRRateEquations(model_input, household_population, NoImportModel(5,2))\n",
    "\n",
    "H0 = make_initial_condition(household_population, rhs)\n",
    "\n",
    "tspan = (0.0, 365)\n",
    "solution = solve_ivp(rhs, tspan, H0, first_step=0.001, atol=1e-16)\n",
    "\n",
    "time = solution.t\n",
    "H = solution.y\n",
    "S = H.T.dot(household_population.states[:, ::5])\n",
    "E = H.T.dot(household_population.states[:, 1::5])\n",
    "P = H.T.dot(household_population.states[:, 2::5])\n",
    "I = H.T.dot(household_population.states[:, 3::5])\n",
    "R = H.T.dot(household_population.states[:, 4::5])\n",
    "time_series = {\n",
    "'time':time,\n",
    "'S':S,\n",
    "'E':E,\n",
    "'P':P,\n",
    "'I':I,\n",
    "'R':R\n",
    "}\n"
   ]
  },
  {
   "cell_type": "markdown",
   "metadata": {},
   "source": [
    "In the next block, we plot the log of the mean \"active\" infections ($E+P+I$) over time, and the log of the total proportion of households containing an infection $H(\\vec{X}:(E+P+I)(\\vec{X})>0)$. Comparing the linear segment of these plots, we can see that during the exponential growth phase of the epidemic, the household growth rate is the same as the individual-level growth rate, exactly as predicted by theory."
   ]
  },
  {
   "cell_type": "code",
   "execution_count": 4,
   "metadata": {
    "scrolled": true
   },
   "outputs": [
    {
     "data": {
      "text/plain": [
       "<matplotlib.legend.Legend at 0x15473916f08>"
      ]
     },
     "execution_count": 4,
     "metadata": {},
     "output_type": "execute_result"
    },
    {
     "data": {
      "image/png": "[encoded data removed]",
      "text/plain": [
       "<Figure size 432x288 with 1 Axes>"
      ]
     },
     "metadata": {
      "needs_background": "light"
     },
     "output_type": "display_data"
    }
   ],
   "source": [
    "data_list = [time_series['S']/model_input.ave_hh_by_class,\n",
    "    time_series['E']/model_input.ave_hh_by_class,\n",
    "    time_series['P']/model_input.ave_hh_by_class,\n",
    "    time_series['I']/model_input.ave_hh_by_class,\n",
    "    time_series['R']/model_input.ave_hh_by_class]\n",
    "\n",
    "log_infs = log((data_list[1]+data_list[2]+data_list[3]).sum(axis=1))\n",
    "inf_states = where((rhs.states_exp_only + rhs.states_pro_only + rhs.states_inf_only).sum(axis=1)>0)[0]\n",
    "\n",
    "fig, ax = subplots(1)\n",
    "\n",
    "ax.plot(time, log_infs,label='Infected individuals')\n",
    "ax.plot(time, log((H[inf_states]).sum(axis=0)),label='Infected households')\n",
    "ax.set_xlabel('Time in days')\n",
    "ax.set_ylabel('log value')\n",
    "ax.legend(ncol=1, bbox_to_anchor=(1,0.50))"
   ]
  },
  {
   "cell_type": "markdown",
   "metadata": {},
   "source": [
    "By inspection of the plots, we can see that around day 50 the epidemic is definitely in its exponential growth phase. In the next box we work out which increment of the solver is closest to day 50, then directly calculate the gradient of the log growth curve at this time step, giving us an estimate of the exponential growth rate."
   ]
  },
  {
   "cell_type": "code",
   "execution_count": 5,
   "metadata": {
    "scrolled": false
   },
   "outputs": [
    {
     "name": "stdout",
     "output_type": "stream",
     "text": [
      "Closest time to 50 days is at increment 32 , t[ 32 ]= 50.37318700806596 .\n",
      "Direct estimate of log gradient at increment 32 is 0.033352589041851476 .\n"
     ]
    }
   ],
   "source": [
    "t_50 = argmin(abs(time - 50))\n",
    "print('Closest time to 50 days is at increment',t_50,', t[',t_50,']=',time[t_50],'.')\n",
    "r_guess = (log_infs[51]-log_infs[50])/(time[51]-time[50])\n",
    "print('Direct estimate of log gradient at increment',t_50,'is',r_guess,'.')"
   ]
  },
  {
   "cell_type": "markdown",
   "metadata": {},
   "source": [
    "## Growth rate calculations\n",
    "\n",
    "We will use an Euler-Lotka approach to do growth rate calculations. Suppose we are in the exponential growth phase of our dynamics. Let $\\underline{I}$ be the profile of households typed by composition and risk class of index case, i.e. if infectious households of type $i$ have composition $\\underline{N}(i)$ and an index case in risk class $C(i)$, then $I_i$ is the proportion of infected households in this growth phase which are in composition $\\underline{N}(i)$ and had their local outbreak seeded by a case in risk class $C(i)$. In the exponential growth phase, this grows according to\n",
    "$$\n",
    "\\frac{\\mathrm{d}\\underline{I}}{\\mathrm{d}t} = e^{rt}\\underline{I}_*,\n",
    "$$\n",
    "where $\\underline{I}_*$ is the unit eigenvector. If $\\underline{\\underline{\\lambda}}(a)$ is the matrix with $(i,j)$th entry giving the rate at which a household of composition-seed type $i$ generates those of composition-seed type $j$ at time $a$ since its original import, then we get the following Euler-Lotka equation\n",
    "$$\n",
    "\\underline{I}_* = \\int\\limits_0^{\\infty}\\underline{I}_* e^{-r\\underline{\\underline{In}}t}\\underline{\\underline{\\lambda}}\\mathrm{d}t.\n",
    "$$\n",
    "Assuming we do not see repeat introductions of infection into a single household, we can decompose $\\underline{\\underline{\\lambda}}$ as follows:\n",
    "$$\n",
    "\\underline{\\underline{\\lambda}} = \\underline{\\underline{\\alpha}}e^{\\underline{\\underline{Q}}_{\\mathrm{int}}t}\\underline{\\underline{F}}\\underline{\\underline{P}}.\n",
    "$$\n",
    "Here $\\underline{\\underline{\\alpha}}$ is the matrix mapping composition and import class of household to an initial condition in the households model, $\\underline{\\underline{F}}$ is infection rate to each class from each composition, and $\\underline{\\underline{P}}$ is probability that the infection kicked out to a given class ends up in a given type of household. The term $e^{\\underline{\\underline{Q}}_{\\mathrm{int}}t}$ gives the evolution of the within-household system, derived from the fact that we are assuming that after an import there is no other interaction with external households, so the evolution is linear. The Euler-Lotka equation is then\n",
    "$$\n",
    "\\underline{I}_* = \\int\\limits_0^{\\infty}\\underline{I}_* \\underline{\\underline{\\alpha}} e^{(underline{\\underline{Q}}_{\\mathrm{int}}-r\\underline{\\underline{In}})t}\\underline{\\underline{F}}\\underline{\\underline{P}}\\mathrm{d}t,\n",
    "$$\n",
    "and integrating we get\n",
    "$$\n",
    "\\underline{I}_* = \\underline{I}_* \\underline{\\underline{\\alpha}} (r\\underline{\\underline{In}}-underline{\\underline{Q}}_{\\mathrm{int}})\\underline{\\underline{F}}\\underline{\\underline{P}}.\n",
    "$$\n",
    "This is an eigenvector formula with eigenvalue 1, so to find the growth rate, we need to find $r$ such that the transpose of\n",
    "$$\n",
    "\\underline{\\underline{\\alpha}} (r\\underline{\\underline{In}}-underline{\\underline{Q}}_{\\mathrm{int}})\\underline{\\underline{F}}\\underline{\\underline{P}}\n",
    "$$\n",
    "has leading(?) eigenvalue 1 (cf Pellis, Ferguson and Fraser on households-workplaces models). Because $\\underline{\\underline{F}}$ scales linearly with the baseline between-household transmission, so estimate between-household transmission we just need to put in a guess, calculate the leading eigenvalue of the compound matrix, then scale the guess by the reciprocal of this eigenvalue to give us a between-household transmission rate which gives us the oberved growth rate. Alternatively, to calculate $r$ based on some parameters, we can just do something like interval bisection in 1D.\n",
    "\n",
    "In the boxes below, we calculate all the components of this matrix for our UK SEPIR model example.\n",
    "\n",
    "The following block creates a matrix `reverse_comp_dist` containing the probability that an individual in a given age class is in a household of a given composition - this is a component of our $\\underline{\\underline{P}}$ matrix."
   ]
  },
  {
   "cell_type": "code",
   "execution_count": 6,
   "metadata": {},
   "outputs": [],
   "source": [
    "no_risk_classes = composition_list.shape[1]\n",
    "\n",
    "reverse_comp_dist = diag(comp_dist).dot(composition_list)\n",
    "reverse_comp_dist = reverse_comp_dist.dot(diag(1/reverse_comp_dist.sum(0)))"
   ]
  },
  {
   "cell_type": "markdown",
   "metadata": {},
   "source": [
    "In the following block, `Q_int` is internal evolution matrix, `FOI_by_state` gives expected infection kicked out by a household in a given state (the $\\underline{\\underline{F}}$ matrix)."
   ]
  },
  {
   "cell_type": "code",
   "execution_count": 7,
   "metadata": {},
   "outputs": [],
   "source": [
    "Q_int = rhs.Q_int\n",
    "\n",
    "FOI_by_state = zeros((Q_int.shape[0],no_risk_classes))\n",
    "\n",
    "for ic in range(rhs.no_inf_compartments):\n",
    "            states_inf_only =  rhs.inf_by_state_list[ic]\n",
    "            FOI_by_state += (rhs.ext_matrix_list[ic].dot(\n",
    "                    rhs.epsilon * states_inf_only.T)).T"
   ]
  },
  {
   "cell_type": "code",
   "execution_count": 8,
   "metadata": {
    "scrolled": true
   },
   "outputs": [],
   "source": [
    "index_states = where(\n",
    "    ((rhs.states_exp_only.sum(axis=1)==1) * \n",
    "    ((rhs.states_pro_only + rhs.states_inf_only + rhs.states_rec_only).sum(axis=1)==0)))[0]\n",
    "\n",
    "no_index_states = len(index_states)\n",
    "comp_by_index_state = household_population.which_composition[index_states]"
   ]
  },
  {
   "cell_type": "markdown",
   "metadata": {},
   "source": [
    "The next box creates $\\underline{\\underline{\\alpha}}$"
   ]
  },
  {
   "cell_type": "code",
   "execution_count": 9,
   "metadata": {},
   "outputs": [],
   "source": [
    "starter_mat = sparse((ones(no_index_states),(range(no_index_states), index_states)),shape=(no_index_states,Q_int.shape[0]))"
   ]
  },
  {
   "cell_type": "markdown",
   "metadata": {},
   "source": [
    "Next matrix is \"probability that an index case in class c results in outbreak in index state i\", i.e. $\\underline{\\underline{P}}$:"
   ]
  },
  {
   "cell_type": "code",
   "execution_count": 10,
   "metadata": {},
   "outputs": [],
   "source": [
    "index_prob = zeros((no_risk_classes,no_index_states))\n",
    "for i in range(no_index_states):\n",
    "    index_class = where(rhs.states_exp_only[index_states[i],:]==1)[0]\n",
    "    index_prob[index_class,i] = reverse_comp_dist[comp_by_index_state[i], index_class]"
   ]
  },
  {
   "cell_type": "markdown",
   "metadata": {},
   "source": [
    "The next box combines all this together to give us\n",
    "$$\n",
    "\\underline{\\underline{\\alpha}} (r\\underline{\\underline{In}}-underline{\\underline{Q}}_{\\mathrm{int}})\\underline{\\underline{F}}\\underline{\\underline{P}}.\n",
    "$$"
   ]
  },
  {
   "cell_type": "code",
   "execution_count": 11,
   "metadata": {},
   "outputs": [],
   "source": [
    "def get_multiplier(r):\n",
    "    inv_diff = inv(r * identity(Q_int.shape[0]) - Q_int)\n",
    "    step_1 = FOI_by_state.dot(index_prob)\n",
    "    step_2 = inv_diff.dot(step_1)\n",
    "    step_3 = starter_mat.dot(step_2)\n",
    "    step_4 = step_3\n",
    "    return step_4"
   ]
  },
  {
   "cell_type": "markdown",
   "metadata": {},
   "source": [
    "In the boxes below, we empirically calculate the growth rate at each time increment and plot its value over time."
   ]
  },
  {
   "cell_type": "code",
   "execution_count": 12,
   "metadata": {},
   "outputs": [],
   "source": [
    "no_tsteps = len(time)\n",
    "r_range = zeros(no_tsteps-1,)\n",
    "for tstep in range(no_tsteps-1):\n",
    "    r_range[tstep] = (log_infs[tstep+1]-log_infs[tstep])/(time[tstep+1]-time[tstep])"
   ]
  },
  {
   "cell_type": "code",
   "execution_count": 13,
   "metadata": {
    "scrolled": false
   },
   "outputs": [
    {
     "data": {
      "text/plain": [
       "Text(0, 0.5, 'Empirical growth rate')"
      ]
     },
     "execution_count": 13,
     "metadata": {},
     "output_type": "execute_result"
    },
    {
     "data": {
      "image/png": "[encoded data removed]",
      "text/plain": [
       "<Figure size 432x288 with 1 Axes>"
      ]
     },
     "metadata": {
      "needs_background": "light"
     },
     "output_type": "display_data"
    }
   ],
   "source": [
    "fig, ax = subplots(1)\n",
    "\n",
    "ax.plot(time[:-1], r_range)\n",
    "ax.set_xlabel('Time in days')\n",
    "ax.set_ylabel('Empirical growth rate')"
   ]
  },
  {
   "cell_type": "markdown",
   "metadata": {},
   "source": [
    "Now estimate the eigenvalue of the multiplier over time based on the growth rates calculated above - note that we need to take its transpose since we did the Euler-Lotka stuff with respect to column vectors."
   ]
  },
  {
   "cell_type": "code",
   "execution_count": 14,
   "metadata": {
    "scrolled": false
   },
   "outputs": [
    {
     "name": "stderr",
     "output_type": "stream",
     "text": [
      "C:\\Users\\Joe Hilton\\Anaconda3\\lib\\site-packages\\scipy\\sparse\\linalg\\dsolve\\linsolve.py:296: SparseEfficiencyWarning: splu requires CSC matrix format\n",
      "  warn('splu requires CSC matrix format', SparseEfficiencyWarning)\n",
      "C:\\Users\\Joe Hilton\\Anaconda3\\lib\\site-packages\\scipy\\sparse\\linalg\\dsolve\\linsolve.py:203: SparseEfficiencyWarning: spsolve is more efficient when sparse b is in the CSC matrix format\n",
      "  'is in the CSC matrix format', SparseEfficiencyWarning)\n"
     ]
    },
    {
     "name": "stdout",
     "output_type": "stream",
     "text": [
      "0 of 16 calculations completed 0.07951474189758301 seconds elapsed,estimated 1.1927211284637451 seconds remaining.\n",
      "1 of 16 calculations completed 0.18014121055603027 seconds elapsed,estimated 1.260988473892212 seconds remaining.\n"
     ]
    },
    {
     "name": "stderr",
     "output_type": "stream",
     "text": [
      "C:\\Users\\Joe Hilton\\Anaconda3\\lib\\site-packages\\ipykernel_launcher.py:10: ComplexWarning: Casting complex values to real discards the imaginary part\n",
      "  # Remove the CWD from sys.path while we load stuff.\n"
     ]
    },
    {
     "name": "stdout",
     "output_type": "stream",
     "text": [
      "2 of 16 calculations completed 0.2773258686065674 seconds elapsed,estimated 1.2017454306284587 seconds remaining.\n",
      "3 of 16 calculations completed 0.3692493438720703 seconds elapsed,estimated 1.107748031616211 seconds remaining.\n",
      "4 of 16 calculations completed 0.46419620513916016 seconds elapsed,estimated 1.0212316513061523 seconds remaining.\n",
      "5 of 16 calculations completed 0.5671613216400146 seconds elapsed,estimated 0.9452688694000244 seconds remaining.\n",
      "6 of 16 calculations completed 0.6690785884857178 seconds elapsed,estimated 0.8602438994816372 seconds remaining.\n",
      "7 of 16 calculations completed 0.7670450210571289 seconds elapsed,estimated 0.7670450210571289 seconds remaining.\n",
      "8 of 16 calculations completed 0.8619930744171143 seconds elapsed,estimated 0.6704390578799777 seconds remaining.\n",
      "9 of 16 calculations completed 0.9579377174377441 seconds elapsed,estimated 0.5747626304626465 seconds remaining.\n",
      "10 of 16 calculations completed 1.0546979904174805 seconds elapsed,estimated 0.47940817746249115 seconds remaining.\n",
      "11 of 16 calculations completed 1.1596229076385498 seconds elapsed,estimated 0.3865409692128499 seconds remaining.\n",
      "12 of 16 calculations completed 1.2554633617401123 seconds elapsed,estimated 0.2897223142477182 seconds remaining.\n",
      "13 of 16 calculations completed 1.3514025211334229 seconds elapsed,estimated 0.1930575030190604 seconds remaining.\n",
      "14 of 16 calculations completed 1.452348232269287 seconds elapsed,estimated 0.09682321548461914 seconds remaining.\n",
      "15 of 16 calculations completed 1.5473010540008545 seconds elapsed,estimated 0.0 seconds remaining.\n"
     ]
    }
   ],
   "source": [
    "short_len = int(no_tsteps/10)\n",
    "multiplier_list = []\n",
    "evals = zeros(short_len,)\n",
    "\n",
    "start_time = get_time()\n",
    "\n",
    "for i in range(short_len):\n",
    "    multiplier_now = get_multiplier(r_range[10*i])\n",
    "    multiplier_list.append(multiplier_now)\n",
    "    evals[i] = eig(multiplier_now.T)[0][0]\n",
    "    \n",
    "    time_now = get_time()\n",
    "    print(i,\n",
    "          'of',\n",
    "          short_len,\n",
    "          'calculations completed',\n",
    "          time_now-start_time,\n",
    "          'seconds elapsed,estimated',\n",
    "         (short_len-(i+1))*(time_now-start_time)/(i+1),\n",
    "         'seconds remaining.')"
   ]
  },
  {
   "cell_type": "markdown",
   "metadata": {},
   "source": [
    "We now plot the leading eigenvalue of the multiplier."
   ]
  },
  {
   "cell_type": "code",
   "execution_count": 15,
   "metadata": {},
   "outputs": [
    {
     "data": {
      "text/plain": [
       "Text(0, 0.5, 'Leading eigenvalue of multiplier')"
      ]
     },
     "execution_count": 15,
     "metadata": {},
     "output_type": "execute_result"
    },
    {
     "data": {
      "image/png": "[encoded data removed]",
      "text/plain": [
       "<Figure size 432x288 with 1 Axes>"
      ]
     },
     "metadata": {
      "needs_background": "light"
     },
     "output_type": "display_data"
    }
   ],
   "source": [
    "fig, ax = subplots(1)\n",
    "\n",
    "ax.plot(time[10*arange(short_len)], evals)\n",
    "ax.plot([time[0],time[-1]],[1,1])\n",
    "ax.set_xlabel('Time in days')\n",
    "ax.set_ylabel('Leading eigenvalue of multiplier')"
   ]
  },
  {
   "cell_type": "markdown",
   "metadata": {},
   "source": [
    "This isn't quite equal to 1 in the exponential growth phase. Unclear currently whether this is a numerical error or an actual mistake."
   ]
  },
  {
   "cell_type": "code",
   "execution_count": null,
   "metadata": {},
   "outputs": [],
   "source": []
  }
 ],
 "metadata": {
  "kernelspec": {
   "display_name": "Python 3",
   "language": "python",
   "name": "python3"
  },
  "language_info": {
   "codemirror_mode": {
    "name": "ipython",
    "version": 3
   },
   "file_extension": ".py",
   "mimetype": "text/x-python",
   "name": "python",
   "nbconvert_exporter": "python",
   "pygments_lexer": "ipython3",
   "version": "3.7.4"
  }
 },
 "nbformat": 4,
 "nbformat_minor": 2
}
